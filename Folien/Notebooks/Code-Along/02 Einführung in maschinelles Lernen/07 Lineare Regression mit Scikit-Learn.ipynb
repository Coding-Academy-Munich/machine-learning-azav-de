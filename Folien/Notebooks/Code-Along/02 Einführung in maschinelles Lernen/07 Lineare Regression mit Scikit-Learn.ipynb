{
 "cells": [
  {
   "cell_type": "markdown",
   "id": "8706e168a72bf934",
   "metadata": {
    "lang": "de",
    "slideshow": {
     "slide_type": "slide"
    },
    "tags": [
     "slide"
    ]
   },
   "source": [
    "\n",
    "<img src=\"data:image/svg+xml;base64,PHN2ZyB4bWxucz0iaHR0cDovL3d3dy53My5vcmcvMjAwMC9zdmciIHhtbG5zOnhsaW5rPSJodHRw\n",
    "Oi8vd3d3LnczLm9yZy8xOTk5L3hsaW5rIiB3aWR0aD0iMTExLjE2MSIgaGVpZ2h0PSIxMzQuNjY4\n",
    "IiB2ZXJzaW9uPSIxLjAiPjxkZWZzPjxsaW5lYXJHcmFkaWVudCBpZD0iYyI+PHN0b3Agb2Zmc2V0\n",
    "PSIwIiBzdHlsZT0ic3RvcC1jb2xvcjojYjhiOGI4O3N0b3Atb3BhY2l0eTouNDk4MDM5MjIiLz48\n",
    "c3RvcCBvZmZzZXQ9IjEiIHN0eWxlPSJzdG9wLWNvbG9yOiM3ZjdmN2Y7c3RvcC1vcGFjaXR5OjAi\n",
    "Lz48L2xpbmVhckdyYWRpZW50PjxsaW5lYXJHcmFkaWVudCBpZD0iYSI+PHN0b3Agb2Zmc2V0PSIw\n",
    "IiBzdHlsZT0ic3RvcC1jb2xvcjojZmZkNDNiO3N0b3Atb3BhY2l0eToxIi8+PHN0b3Agb2Zmc2V0\n",
    "PSIxIiBzdHlsZT0ic3RvcC1jb2xvcjojZmZlODczO3N0b3Atb3BhY2l0eToxIi8+PC9saW5lYXJH\n",
    "cmFkaWVudD48bGluZWFyR3JhZGllbnQgaWQ9ImIiPjxzdG9wIG9mZnNldD0iMCIgc3R5bGU9InN0\n",
    "b3AtY29sb3I6IzVhOWZkNDtzdG9wLW9wYWNpdHk6MSIvPjxzdG9wIG9mZnNldD0iMSIgc3R5bGU9\n",
    "InN0b3AtY29sb3I6IzMwNjk5ODtzdG9wLW9wYWNpdHk6MSIvPjwvbGluZWFyR3JhZGllbnQ+PGxp\n",
    "bmVhckdyYWRpZW50IHhsaW5rOmhyZWY9IiNhIiBpZD0iZSIgeDE9IjE1MC45NjEiIHgyPSIxMTIu\n",
    "MDMxIiB5MT0iMTkyLjM1MiIgeTI9IjEzNy4yNzMiIGdyYWRpZW50VHJhbnNmb3JtPSJtYXRyaXgo\n",
    "LjU2MjU0IDAgMCAuNTY3OTcgLTE0Ljk5MSAtMTEuNzAyKSIgZ3JhZGllbnRVbml0cz0idXNlclNw\n",
    "YWNlT25Vc2UiLz48bGluZWFyR3JhZGllbnQgeGxpbms6aHJlZj0iI2IiIGlkPSJkIiB4MT0iMjYu\n",
    "NjQ5IiB4Mj0iMTM1LjY2NSIgeTE9IjIwLjYwNCIgeTI9IjExNC4zOTgiIGdyYWRpZW50VHJhbnNm\n",
    "b3JtPSJtYXRyaXgoLjU2MjU0IDAgMCAuNTY3OTcgLTE0Ljk5MSAtMTEuNzAyKSIgZ3JhZGllbnRV\n",
    "bml0cz0idXNlclNwYWNlT25Vc2UiLz48cmFkaWFsR3JhZGllbnQgeGxpbms6aHJlZj0iI2MiIGlk\n",
    "PSJmIiBjeD0iNjEuNTE5IiBjeT0iMTMyLjI4NiIgcj0iMjkuMDM3IiBmeD0iNjEuNTE5IiBmeT0i\n",
    "MTMyLjI4NiIgZ3JhZGllbnRUcmFuc2Zvcm09Im1hdHJpeCgwIC0uMjM5OTUgMS4wNTQ2NyAwIC04\n",
    "My43IDE0Mi40NjIpIiBncmFkaWVudFVuaXRzPSJ1c2VyU3BhY2VPblVzZSIvPjwvZGVmcz48cGF0\n",
    "aCBkPSJNNTQuOTE5IDBjLTQuNTg0LjAyMi04Ljk2MS40MTMtMTIuODEzIDEuMDk1QzMwLjc2IDMu\n",
    "MDk5IDI4LjcgNy4yOTUgMjguNyAxNS4wMzJ2MTAuMjE5aDI2LjgxM3YzLjQwNkgxOC42MzhjLTcu\n",
    "NzkzIDAtMTQuNjE2IDQuNjg0LTE2Ljc1IDEzLjU5NC0yLjQ2MiAxMC4yMTMtMi41NzEgMTYuNTg2\n",
    "IDAgMjcuMjUgMS45MDUgNy45MzggNi40NTcgMTMuNTk0IDE0LjI1IDEzLjU5NGg5LjIxOHYtMTIu\n",
    "MjVjMC04Ljg1IDcuNjU3LTE2LjY1NyAxNi43NS0xNi42NTdoMjYuNzgyYzcuNDU0IDAgMTMuNDA2\n",
    "LTYuMTM4IDEzLjQwNi0xMy42MjV2LTI1LjUzYzAtNy4yNjctNi4xMy0xMi43MjYtMTMuNDA2LTEz\n",
    "LjkzOEM2NC4yODIuMzI4IDU5LjUwMi0uMDIgNTQuOTE4IDBtLTE0LjUgOC4yMmMyLjc3IDAgNS4w\n",
    "MzEgMi4yOTggNS4wMzEgNS4xMjUgMCAyLjgxNi0yLjI2MiA1LjA5My01LjAzMSA1LjA5My0yLjc4\n",
    "IDAtNS4wMzEtMi4yNzctNS4wMzEtNS4wOTMgMC0yLjgyNyAyLjI1MS01LjEyNSA1LjAzLTUuMTI1\n",
    "IiBzdHlsZT0iZmlsbDp1cmwoI2QpO2ZpbGwtb3BhY2l0eToxIi8+PHBhdGggZD0iTTg1LjYzOCAy\n",
    "OC42NTd2MTEuOTA2YzAgOS4yMzEtNy44MjYgMTctMTYuNzUgMTdINDIuMTA2Yy03LjMzNiAwLTEz\n",
    "LjQwNiA2LjI3OS0xMy40MDYgMTMuNjI1Vjk2LjcyYzAgNy4yNjYgNi4zMTkgMTEuNTQgMTMuNDA2\n",
    "IDEzLjYyNSA4LjQ4OCAyLjQ5NSAxNi42MjcgMi45NDYgMjYuNzgyIDAgNi43NS0xLjk1NSAxMy40\n",
    "MDYtNS44ODggMTMuNDA2LTEzLjYyNVY4Ni41SDU1LjUxM3YtMy40MDVIOTUuN2M3Ljc5MyAwIDEw\n",
    "LjY5Ni01LjQzNiAxMy40MDYtMTMuNTk0IDIuOC04LjM5OSAyLjY4LTE2LjQ3NiAwLTI3LjI1LTEu\n",
    "OTI1LTcuNzU4LTUuNjA0LTEzLjU5NC0xMy40MDYtMTMuNTk0ek03MC41NzUgOTMuMzEzYzIuNzgg\n",
    "MCA1LjAzMSAyLjI3OCA1LjAzMSA1LjA5NCAwIDIuODI3LTIuMjUxIDUuMTI1LTUuMDMxIDUuMTI1\n",
    "LTIuNzcgMC01LjAzMS0yLjI5OC01LjAzMS01LjEyNSAwLTIuODE2IDIuMjYxLTUuMDk0IDUuMDMx\n",
    "LTUuMDk0IiBzdHlsZT0iZmlsbDp1cmwoI2UpO2ZpbGwtb3BhY2l0eToxIi8+PGVsbGlwc2UgY3g9\n",
    "IjU1LjgxNyIgY3k9IjEyNy43MDEiIHJ4PSIzNS45MzEiIHJ5PSI2Ljk2NyIgc3R5bGU9Im9wYWNp\n",
    "dHk6LjQ0MzgyO2ZpbGw6dXJsKCNmKTtmaWxsLW9wYWNpdHk6MTtmaWxsLXJ1bGU6bm9uemVybztz\n",
    "dHJva2U6bm9uZTtzdHJva2Utd2lkdGg6MTUuNDE3NDtzdHJva2UtbWl0ZXJsaW1pdDo0O3N0cm9r\n",
    "ZS1kYXNoYXJyYXk6bm9uZTtzdHJva2Utb3BhY2l0eToxIi8+PC9zdmc+\n",
    "\"\n",
    "     style=\"display:block;margin:auto;width:10%\" alt=\"Python Logo\"/>\n",
    "<br>\n",
    "\n",
    "<div style=\"text-align:center; font-size:200%;\">\n",
    " <b>Lineare Regression mit Scikit-Learn</b>\n",
    "</div>\n",
    "<br/>\n",
    "<div style=\"text-align:center;\">Dr. Matthias Hölzl</div>\n",
    "<br/>"
   ]
  },
  {
   "cell_type": "markdown",
   "id": "8c2c14fa22ff4a55",
   "metadata": {
    "lang": "de",
    "slideshow": {
     "slide_type": "slide"
    },
    "tags": [
     "slide"
    ]
   },
   "source": [
    "\n",
    "## Beispiel: Lineare Regression mit Scikit-Learn\n",
    "\n",
    "Wir verwenden das gleiche Beispiel wie vorher:"
   ]
  },
  {
   "cell_type": "code",
   "execution_count": null,
   "id": "7f5efb07287e5a09",
   "metadata": {
    "tags": [
     "keep"
    ]
   },
   "outputs": [],
   "source": [
    "data_x = [0.5, 1.4, 2.1, 3.5, 4.2, 5.1, 6.3, 7.6, 8.2, 9.0]\n",
    "data_y = [2.1, 3.5, 5.8, 7.1, 9.3, 11.5, 13.2, 16.0, 17.1, 19.2]"
   ]
  },
  {
   "cell_type": "markdown",
   "id": "dc20a7fa03230350",
   "metadata": {
    "lang": "de",
    "slideshow": {
     "slide_type": "slide"
    },
    "tags": [
     "slide"
    ]
   },
   "source": [
    "\n",
    "## Train-Test Split\n",
    "\n",
    "### Warum brauchen wir einen Train-Test Split?\n",
    "\n",
    "- Nach dem Training muss das Modell bewertet werden\n",
    "- **Die Bewertung muss auf anderen Daten basieren als das Training**\n",
    "- Andernfalls könnte das Modell die Trainingsdaten \"auswendig lernen\" (Overfitting)\n",
    "- Uns interessiert, wie gut das Modell auf **neuen, ungesehenen** Daten funktioniert"
   ]
  },
  {
   "cell_type": "markdown",
   "id": "988c1ec2597cfd4a",
   "metadata": {
    "lang": "de",
    "slideshow": {
     "slide_type": "subslide"
    },
    "tags": [
     "subslide"
    ]
   },
   "source": [
    "\n",
    "## Warum die Daten randomisieren?\n",
    "\n",
    "- Daten sind oft in einer bestimmten Reihenfolge gesammelt\n",
    "  - Zeitliche Reihenfolge\n",
    "  - Sortiert nach bestimmten Eigenschaften\n",
    "  - Gruppiert nach Kategorien\n",
    "- Wenn wir die Daten nicht randomisieren, könnten Train- und Testdaten\n",
    "  systematisch unterschiedlich sein\n",
    "- Beispiel: Erste 80% = Sommer, letzte 20% = Winter\n",
    "- Randomisierung stellt sicher, dass beide Datensätze repräsentativ sind"
   ]
  },
  {
   "cell_type": "markdown",
   "id": "d130b0bb54a24dea",
   "metadata": {
    "lang": "de",
    "slideshow": {
     "slide_type": "subslide"
    },
    "tags": [
     "subslide"
    ]
   },
   "source": [
    "\n",
    "## Wie viel Prozent für Training und Test?\n",
    "\n",
    "**Typische Aufteilungen:**\n",
    "- 80/20 (80% Training, 20% Test): Standard für mittelgroße Datensätze\n",
    "- 70/30: Wenn mehr Testdaten gewünscht sind\n",
    "- 90/10: Wenn wenig Daten vorhanden sind\n",
    "\n",
    "**Faktoren bei der Entscheidung:**\n",
    "- Größe des Datensatzes: Je weniger Daten, desto mehr für Training\n",
    "- Komplexität des Modells: Komplexe Modelle brauchen mehr Trainingsdaten\n",
    "- Variabilität der Daten: Hohe Variabilität erfordert mehr Testdaten"
   ]
  },
  {
   "cell_type": "markdown",
   "id": "5ee4c452fc532838",
   "metadata": {
    "lang": "de",
    "slideshow": {
     "slide_type": "subslide"
    },
    "tags": [
     "subslide"
    ]
   },
   "source": [
    "\n",
    "## Train-Test Split mit `train_test_split()`\n",
    "\n",
    "Scikit-Learn bietet die Funktion `train_test_split()` an:\n",
    "\n",
    "- Teilt die Daten automatisch auf\n",
    "- Randomisiert die Daten standardmäßig\n",
    "- Kann mit `random_state` für reproduzierbare Ergebnisse fixiert werden\n",
    "- Parameter `test_size`: Anteil der Testdaten (0.0 bis 1.0)"
   ]
  },
  {
   "cell_type": "code",
   "execution_count": null,
   "id": "e0f144a11723a107",
   "metadata": {},
   "outputs": [],
   "source": []
  },
  {
   "cell_type": "markdown",
   "id": "9e43a69ff9ccd260",
   "metadata": {
    "lang": "de",
    "slideshow": {
     "slide_type": "subslide"
    },
    "tags": [
     "subslide"
    ]
   },
   "source": [
    "\n",
    "## Vorbereitung der Daten\n",
    "\n",
    "- `train_test_split()` erwartet X als 2D-Array (Liste von Listen)\n",
    "- Jede Zeile ist ein Datenpunkt, jede Spalte ein Feature"
   ]
  },
  {
   "cell_type": "code",
   "execution_count": null,
   "id": "23ecbadb65460a37",
   "metadata": {},
   "outputs": [],
   "source": []
  },
  {
   "cell_type": "code",
   "execution_count": null,
   "id": "78c3ffe2eff047a9",
   "metadata": {},
   "outputs": [],
   "source": []
  },
  {
   "cell_type": "markdown",
   "id": "7c975a9cf56d1f27",
   "metadata": {
    "lang": "de",
    "slideshow": {
     "slide_type": "subslide"
    },
    "tags": [
     "subslide"
    ]
   },
   "source": [
    "\n",
    "## Durchführung des Train-Test Split"
   ]
  },
  {
   "cell_type": "code",
   "execution_count": null,
   "id": "13cdded6d688f990",
   "metadata": {},
   "outputs": [],
   "source": []
  },
  {
   "cell_type": "markdown",
   "id": "6f2333b88dfd9f3a",
   "metadata": {
    "lang": "de",
    "slideshow": {
     "slide_type": "subslide"
    },
    "tags": [
     "subslide"
    ]
   },
   "source": [
    "\n",
    "## Was bedeutet `random_state=42`?\n",
    "\n",
    "- Die Randomisierung ist eigentlich pseudozufällig\n",
    "- `random_state` setzt den \"Seed\" für den Zufallsgenerator\n",
    "- Mit dem gleichen `random_state` bekommen wir immer die gleiche Aufteilung\n",
    "- Wichtig für:\n",
    "  - Reproduzierbarkeit von Ergebnissen\n",
    "  - Debugging\n",
    "  - Vergleich verschiedener Modelle"
   ]
  },
  {
   "cell_type": "code",
   "execution_count": null,
   "id": "15d8e1c8dbe8b0c9",
   "metadata": {
    "slideshow": {
     "slide_type": "subslide"
    },
    "tags": [
     "subslide",
     "keep"
    ]
   },
   "outputs": [],
   "source": [
    "print(f\"Total samples: {len(X)}\")\n",
    "print(f\"Training samples: {len(X_train)}\")\n",
    "print(f\"Test samples: {len(X_test)}\")\n",
    "print(f\"Training percentage: {len(X_train) / len(X) * 100:.1f}%\")"
   ]
  },
  {
   "cell_type": "code",
   "execution_count": null,
   "id": "f8e85df7e4a45557",
   "metadata": {
    "slideshow": {
     "slide_type": "subslide"
    },
    "tags": [
     "subslide",
     "keep"
    ]
   },
   "outputs": [],
   "source": [
    "print(\"Training data:\")\n",
    "print(\"X_train:\", X_train)\n",
    "print(\"y_train:\", y_train)"
   ]
  },
  {
   "cell_type": "code",
   "execution_count": null,
   "id": "c27d010a5beef233",
   "metadata": {
    "tags": [
     "keep"
    ]
   },
   "outputs": [],
   "source": [
    "print(\"Test data:\")\n",
    "print(\"X_test:\", X_test)\n",
    "print(\"y_test:\", y_test)"
   ]
  },
  {
   "cell_type": "markdown",
   "id": "39ee09fb76a8ebec",
   "metadata": {
    "lang": "de",
    "slideshow": {
     "slide_type": "slide"
    },
    "tags": [
     "slide"
    ]
   },
   "source": [
    "\n",
    "## Training des Modells mit Scikit-Learn"
   ]
  },
  {
   "cell_type": "code",
   "execution_count": null,
   "id": "7d20a6d42e11ce7a",
   "metadata": {},
   "outputs": [],
   "source": []
  },
  {
   "cell_type": "code",
   "execution_count": null,
   "id": "0c5528491b2b62cb",
   "metadata": {},
   "outputs": [],
   "source": []
  },
  {
   "cell_type": "markdown",
   "id": "91790beb9a40926d",
   "metadata": {
    "lang": "de",
    "slideshow": {
     "slide_type": "subslide"
    },
    "tags": [
     "subslide"
    ]
   },
   "source": [
    "\n",
    "## Vor dem Training\n",
    "\n",
    "Das Modell ist noch nicht trainiert:"
   ]
  },
  {
   "cell_type": "code",
   "execution_count": null,
   "id": "b951002579a73317",
   "metadata": {},
   "outputs": [],
   "source": []
  },
  {
   "cell_type": "markdown",
   "id": "379a585c233c77a7",
   "metadata": {
    "lang": "de",
    "slideshow": {
     "slide_type": "subslide"
    },
    "tags": [
     "subslide"
    ]
   },
   "source": [
    "\n",
    "## Training mit `fit()`"
   ]
  },
  {
   "cell_type": "code",
   "execution_count": null,
   "id": "79ee122b608bc3d3",
   "metadata": {},
   "outputs": [],
   "source": []
  },
  {
   "cell_type": "markdown",
   "id": "41adbef7194917f7",
   "metadata": {
    "lang": "de",
    "slideshow": {
     "slide_type": "subslide"
    },
    "tags": [
     "subslide"
    ]
   },
   "source": [
    "\n",
    "## Nach dem Training\n",
    "\n",
    "Jetzt sind die Parameter gesetzt:"
   ]
  },
  {
   "cell_type": "code",
   "execution_count": null,
   "id": "dd12b2ed570e0417",
   "metadata": {
    "tags": [
     "keep"
    ]
   },
   "outputs": [],
   "source": [
    "print(f\"Coefficient: {model.coef_[0]:.4f}\")\n",
    "print(f\"Intercept: {model.intercept_:.4f}\")"
   ]
  },
  {
   "cell_type": "markdown",
   "id": "ea1617949e0d44f8",
   "metadata": {
    "lang": "de",
    "slideshow": {
     "slide_type": "subslide"
    },
    "tags": [
     "subslide"
    ]
   },
   "source": [
    "\n",
    "## Interpretation\n",
    "\n",
    "- Das Modell hat die Gleichung: y = 2x + 0.9 (ungefähr)\n",
    "- Für jede Erhöhung von x um 1 steigt y um etwa 2\n",
    "- Der y-Achsenabschnitt ist etwa 0.9"
   ]
  },
  {
   "cell_type": "markdown",
   "id": "48e6057f8c393b58",
   "metadata": {
    "lang": "de",
    "slideshow": {
     "slide_type": "slide"
    },
    "tags": [
     "slide"
    ]
   },
   "source": [
    "\n",
    "## Evaluation mit Scikit-Learn\n",
    "\n",
    "Scikit-Learn bietet viele Metriken zur Modellbewertung:\n",
    "\n",
    "### Für Regression:\n",
    "- **Mean Absolute Error (MAE)**: Durchschnittlicher absoluter Fehler\n",
    "- **Mean Squared Error (MSE)**: Durchschnittlicher quadratischer Fehler\n",
    "- **Root Mean Squared Error (RMSE)**: Wurzel des MSE\n",
    "- **R² Score**: Bestimmtheitsmaß (0 bis 1, höher ist besser)"
   ]
  },
  {
   "cell_type": "markdown",
   "id": "11980c6f46f29c89",
   "metadata": {
    "lang": "de",
    "slideshow": {
     "slide_type": "subslide"
    },
    "tags": [
     "subslide"
    ]
   },
   "source": [
    "\n",
    "## Mean Absolute Error (MAE)\n",
    "\n",
    "- Durchschnitt der absoluten Differenzen zwischen Vorhersage und tatsächlichem Wert\n",
    "- **Einheit**: Gleiche Einheit wie die Zielvariable\n",
    "- **Interpretation**: Durchschnittliche Abweichung der Vorhersagen\n",
    "- **Vorteil**: Einfach zu interpretieren, nicht anfällig für Ausreißer\n",
    "- **Formel**: $\\text{MAE} = \\frac{1}{n}\\sum_{i=1}^{n}|y_i - \\hat{y}_i|$"
   ]
  },
  {
   "cell_type": "markdown",
   "id": "10de10e9402832a8",
   "metadata": {
    "lang": "de",
    "slideshow": {
     "slide_type": "subslide"
    },
    "tags": [
     "subslide"
    ]
   },
   "source": [
    "\n",
    "## Mean Squared Error (MSE)\n",
    "\n",
    "- Durchschnitt der quadrierten Differenzen\n",
    "- **Einheit**: Quadrat der Einheit der Zielvariable\n",
    "- **Interpretation**: Bestraft große Fehler stärker\n",
    "- **Vorteil**: Mathematisch besser zu handhaben (differenzierbar)\n",
    "- **Nachteil**: Schwerer zu interpretieren durch Quadrierung\n",
    "- **Formel**: $\\text{MSE} = \\frac{1}{n}\\sum_{i=1}^{n}(y_i - \\hat{y}_i)^2$"
   ]
  },
  {
   "cell_type": "markdown",
   "id": "9ca6f5d9855c969a",
   "metadata": {
    "lang": "de",
    "slideshow": {
     "slide_type": "subslide"
    },
    "tags": [
     "subslide"
    ]
   },
   "source": [
    "\n",
    "## Root Mean Squared Error (RMSE)\n",
    "\n",
    "- Wurzel des MSE\n",
    "- **Einheit**: Gleiche Einheit wie die Zielvariable\n",
    "- **Interpretation**: Ähnlich wie MAE, aber bestraft große Fehler stärker\n",
    "- **Vorteil**: Kombiniert Vorteile von MAE (Einheit) und MSE (Gewichtung)\n",
    "- **Formel**: $\\text{RMSE} = \\sqrt{\\text{MSE}} = \\sqrt{\\frac{1}{n}\\sum_{i=1}^{n}(y_i - \\hat{y}_i)^2}$"
   ]
  },
  {
   "cell_type": "markdown",
   "id": "04e7ea7b1709340a",
   "metadata": {
    "lang": "de",
    "slideshow": {
     "slide_type": "subslide"
    },
    "tags": [
     "subslide"
    ]
   },
   "source": [
    "\n",
    "## R² Score (Bestimmtheitsmaß)\n",
    "\n",
    "- Misst, wie gut das Modell die Varianz in den Daten erklärt\n",
    "- **Bereich**: -∞ bis 1 (normalerweise 0 bis 1)\n",
    "  - 1: Perfekte Vorhersage\n",
    "  - 0: Modell ist nicht besser als der Durchschnitt\n",
    "  - < 0: Modell ist schlechter als der Durchschnitt\n",
    "- **Vorteil**: Unabhängig von der Einheit, leicht zu interpretieren\n",
    "- **Formel**: $R^2 = 1 - \\frac{\\sum_{i=1}^{n}(y_i - \\hat{y}_i)^2}{\\sum_{i=1}^{n}(y_i - \\bar{y})^2}$"
   ]
  },
  {
   "cell_type": "markdown",
   "id": "787113d65a8a8744",
   "metadata": {
    "lang": "de",
    "slideshow": {
     "slide_type": "subslide"
    },
    "tags": [
     "subslide"
    ]
   },
   "source": [
    "\n",
    "## Vorhersagen machen"
   ]
  },
  {
   "cell_type": "code",
   "execution_count": null,
   "id": "d5ae3936c64478d1",
   "metadata": {},
   "outputs": [],
   "source": []
  },
  {
   "cell_type": "code",
   "execution_count": null,
   "id": "e02a900b917953a2",
   "metadata": {},
   "outputs": [],
   "source": []
  },
  {
   "cell_type": "markdown",
   "id": "7d37abd5c2d6a58b",
   "metadata": {
    "lang": "de",
    "slideshow": {
     "slide_type": "subslide"
    },
    "tags": [
     "subslide"
    ]
   },
   "source": [
    "\n",
    "## Evaluation auf Trainingsdaten"
   ]
  },
  {
   "cell_type": "code",
   "execution_count": null,
   "id": "101dca44a94fecc6",
   "metadata": {},
   "outputs": [],
   "source": []
  },
  {
   "cell_type": "code",
   "execution_count": null,
   "id": "a13047a7ae53da55",
   "metadata": {},
   "outputs": [],
   "source": []
  },
  {
   "cell_type": "code",
   "execution_count": null,
   "id": "7a936c0e9f8190a8",
   "metadata": {},
   "outputs": [],
   "source": []
  },
  {
   "cell_type": "markdown",
   "id": "13a8102d885fe7a4",
   "metadata": {
    "lang": "de",
    "slideshow": {
     "slide_type": "subslide"
    },
    "tags": [
     "subslide"
    ]
   },
   "source": [
    "\n",
    "## Evaluation auf Testdaten\n",
    "\n",
    "**Wichtig**: Die Performance auf den Testdaten ist die aussagekräftigere\n",
    "Metrik!"
   ]
  },
  {
   "cell_type": "code",
   "execution_count": null,
   "id": "3be2b0357ee37cf3",
   "metadata": {},
   "outputs": [],
   "source": []
  },
  {
   "cell_type": "code",
   "execution_count": null,
   "id": "e8708d9e34f00300",
   "metadata": {},
   "outputs": [],
   "source": []
  },
  {
   "cell_type": "markdown",
   "id": "849953d818e25478",
   "metadata": {
    "lang": "de",
    "slideshow": {
     "slide_type": "subslide"
    },
    "tags": [
     "subslide"
    ]
   },
   "source": [
    "\n",
    "## Vergleich: Training vs. Test\n",
    "\n",
    "Ein gutes Modell sollte ähnliche Performance auf beiden Datensätzen zeigen:"
   ]
  },
  {
   "cell_type": "code",
   "execution_count": null,
   "id": "58757b9ef65eba06",
   "metadata": {},
   "outputs": [],
   "source": []
  },
  {
   "cell_type": "markdown",
   "id": "d3c82de6a4e2b137",
   "metadata": {
    "lang": "de",
    "slideshow": {
     "slide_type": "subslide"
    },
    "tags": [
     "subslide"
    ]
   },
   "source": [
    "\n",
    "## Interpretation der Ergebnisse\n",
    "\n",
    "- **R² nahe 1**: Das Modell erklärt die Daten sehr gut\n",
    "- **Kleine MAE/RMSE**: Die Vorhersagen sind im Durchschnitt nah an den wahren Werten\n",
    "- **Training ≈ Test**: Kein Overfitting, das Modell generalisiert gut\n",
    "- **Training ≫ Test**: Mögliches Overfitting, Modell ist zu komplex"
   ]
  },
  {
   "cell_type": "markdown",
   "id": "fc4c0146cf1df533",
   "metadata": {
    "lang": "de",
    "slideshow": {
     "slide_type": "subslide"
    },
    "tags": [
     "subslide"
    ]
   },
   "source": [
    "\n",
    "## Visualisierung der Ergebnisse"
   ]
  },
  {
   "cell_type": "code",
   "execution_count": null,
   "id": "258204a8ec41f8e2",
   "metadata": {
    "tags": [
     "keep"
    ]
   },
   "outputs": [],
   "source": [
    "X_pred = [x[0] for x in X_train + X_test]\n",
    "y_pred = model.predict(X_train + X_test)"
   ]
  },
  {
   "cell_type": "code",
   "execution_count": null,
   "id": "3b32eefb6fca5260",
   "metadata": {
    "tags": [
     "keep"
    ]
   },
   "outputs": [],
   "source": [
    "from matplotlib import pyplot as plt"
   ]
  },
  {
   "cell_type": "code",
   "execution_count": null,
   "id": "0ce0d2c900e81978",
   "metadata": {
    "slideshow": {
     "slide_type": "subslide"
    },
    "tags": [
     "keep",
     "subslide"
    ]
   },
   "outputs": [],
   "source": [
    "def plot_data_and_model():\n",
    "    plt.figure(figsize=(10, 6))\n",
    "    plt.scatter(X_train, y_train, alpha=0.6, label=\"Training data\")\n",
    "    plt.scatter(X_test, y_test, alpha=0.6, label=\"Test data\")\n",
    "    plt.plot(X_pred, y_pred, \"r-\", label=\"Model predictions\", linewidth=2)\n",
    "    plt.xlabel(\"X\")\n",
    "    plt.ylabel(\"Y\")\n",
    "    plt.legend()\n",
    "    plt.title(\"Linear Regression: Model Fit\")\n",
    "    plt.show()"
   ]
  },
  {
   "cell_type": "code",
   "execution_count": null,
   "id": "9571fccb29b6670f",
   "metadata": {
    "slideshow": {
     "slide_type": "subslide"
    },
    "tags": [
     "subslide"
    ]
   },
   "outputs": [],
   "source": []
  },
  {
   "cell_type": "markdown",
   "id": "b744604dcca21ab0",
   "metadata": {
    "lang": "de",
    "slideshow": {
     "slide_type": "subslide"
    },
    "tags": [
     "subslide"
    ]
   },
   "source": [
    "\n",
    "## Evaluierung mit `.score()`\n",
    "\n",
    "- Die Methode `.score()` bietet eine schnelle Möglichkeit, die Leistung des\n",
    "  Modells zu bewerten.\n",
    "- Hier gibt sie das Bestimmtheitsmaß R² der Vorhersage zurück."
   ]
  },
  {
   "cell_type": "code",
   "execution_count": null,
   "id": "4a47bca2e5739da0",
   "metadata": {},
   "outputs": [],
   "source": []
  },
  {
   "cell_type": "code",
   "execution_count": null,
   "id": "f93ba309247fbdf2",
   "metadata": {},
   "outputs": [],
   "source": []
  },
  {
   "cell_type": "code",
   "execution_count": null,
   "id": "bed2ebc59298d33d",
   "metadata": {},
   "outputs": [],
   "source": []
  },
  {
   "cell_type": "code",
   "execution_count": null,
   "id": "acf563a9c3c582e3",
   "metadata": {},
   "outputs": [],
   "source": []
  },
  {
   "cell_type": "markdown",
   "id": "acc833bc3ae4720a",
   "metadata": {
    "lang": "de",
    "slideshow": {
     "slide_type": "subslide"
    },
    "tags": [
     "subslide"
    ]
   },
   "source": [
    "\n",
    "## Residuen-Plot\n",
    "\n",
    "- Zeigt die Fehler (Residuen) für jede Vorhersage\n",
    "- Ideale Residuen sind zufällig um 0 verteilt\n",
    "- Muster in den Residuen deuten auf Probleme hin"
   ]
  },
  {
   "cell_type": "code",
   "execution_count": null,
   "id": "7cbc73eb5a2641a9",
   "metadata": {
    "slideshow": {
     "slide_type": "subslide"
    },
    "tags": [
     "subslide"
    ]
   },
   "outputs": [],
   "source": []
  },
  {
   "cell_type": "code",
   "execution_count": null,
   "id": "93be12ef8f252998",
   "metadata": {
    "tags": [
     "keep"
    ]
   },
   "outputs": [],
   "source": [
    "def plot_residuals():\n",
    "    plt.figure(figsize=(10, 6))\n",
    "    plt.scatter(train_predictions, train_residuals, alpha=0.6, label=\"Training\")\n",
    "    plt.scatter(test_predictions, test_residuals, alpha=0.6, label=\"Test\")\n",
    "    plt.axhline(y=0, color=\"r\", linestyle=\"--\", linewidth=2)\n",
    "    plt.xlabel(\"Predicted values\")\n",
    "    plt.ylabel(\"Residuals\")\n",
    "    plt.legend()\n",
    "    plt.title(\"Residual Plot\")\n",
    "    plt.show()"
   ]
  },
  {
   "cell_type": "code",
   "execution_count": null,
   "id": "a265e32589aa90af",
   "metadata": {
    "slideshow": {
     "slide_type": "subslide"
    },
    "tags": [
     "subslide"
    ]
   },
   "outputs": [],
   "source": []
  },
  {
   "cell_type": "markdown",
   "id": "6f73978cdb060dd8",
   "metadata": {
    "lang": "de",
    "slideshow": {
     "slide_type": "subslide"
    },
    "tags": [
     "subslide"
    ]
   },
   "source": [
    "\n",
    "## Weitere nützliche Scikit-Learn Tools\n",
    "\n",
    "### Cross-Validation\n",
    "- Teilt Daten in mehrere Folds auf\n",
    "- Trainiert und testet Modell mehrfach\n",
    "- Robustere Schätzung der Modell-Performance\n",
    "\n",
    "```python\n",
    "from sklearn.model_selection import cross_val_score\n",
    "scores = cross_val_score(model, X, y, cv=5)\n",
    "```"
   ]
  },
  {
   "cell_type": "markdown",
   "id": "ba5a2c1f1dc2ef81",
   "metadata": {
    "lang": "de",
    "slideshow": {
     "slide_type": "subslide"
    },
    "tags": [
     "subslide"
    ]
   },
   "source": [
    "\n",
    "### Grid Search\n",
    "- Systematische Suche nach besten Hyperparametern\n",
    "- Testet verschiedene Kombinationen von Parametern\n",
    "\n",
    "```python\n",
    "from sklearn.model_selection import GridSearchCV\n",
    "param_grid = {'fit_intercept': [True, False]}\n",
    "grid_search = GridSearchCV(LinearRegression(), param_grid, cv=5)\n",
    "grid_search.fit(X, y)\n",
    "```"
   ]
  },
  {
   "cell_type": "markdown",
   "id": "eb2dc89dd886e1ba",
   "metadata": {
    "lang": "de",
    "slideshow": {
     "slide_type": "subslide"
    },
    "tags": [
     "subslide"
    ]
   },
   "source": [
    "\n",
    "### Pipelines\n",
    "- Verketten mehrere Verarbeitungsschritte\n",
    "- Preprocessing + Training in einem Schritt\n",
    "\n",
    "```python\n",
    "from sklearn.pipeline import Pipeline\n",
    "from sklearn.preprocessing import StandardScaler\n",
    "\n",
    "pipeline = Pipeline([\n",
    "    ('scaler', StandardScaler()),\n",
    "    ('model', LinearRegression())\n",
    "])\n",
    "pipeline.fit(X_train, y_train)\n",
    "```"
   ]
  },
  {
   "cell_type": "markdown",
   "id": "a978c13618d960c7",
   "metadata": {
    "lang": "de",
    "slideshow": {
     "slide_type": "slide"
    },
    "tags": [
     "slide"
    ]
   },
   "source": [
    "\n",
    "## Zusammenfassung\n",
    "\n",
    "- **Scikit-Learn** ist eine mächtige und einfach zu benutzende ML-Bibliothek\n",
    "- **Train-Test Split** ist essentiell zur Bewertung von Modellen\n",
    "  - Randomisierung verhindert systematische Verzerrungen\n",
    "  - Typische Aufteilung: 80/20 oder 70/30\n",
    "- **Evaluation** sollte immer auf den Testdaten erfolgen\n",
    "  - MAE, MSE, RMSE für absolute Fehler\n",
    "  - R² für relative Modellgüte\n",
    "- Scikit-Learn bietet viele weitere Tools (Cross-Validation, Grid Search, Pipelines)"
   ]
  },
  {
   "cell_type": "markdown",
   "id": "4762adce4e3005e6",
   "metadata": {
    "lang": "de",
    "slideshow": {
     "slide_type": "slide"
    },
    "tags": [
     "slide"
    ]
   },
   "source": [
    "\n",
    "## Workshop: Pizza-Lieferzeit mit Scikit-Learn\n",
    "\n",
    "In diesem Workshop werden wir nochmal ein Machine Learning Modell trainieren,\n",
    "um die Lieferzeit einer Pizza basierend auf der Entfernung vom Restaurant\n",
    "vorherzusagen. Dabei werden wir die Funktionalität von Scikit-Learn nutzen.\n",
    "\n",
    "**Ziel**: Anwendung aller gelernten Konzepte:\n",
    "- Train-Test Split mit `train_test_split()`\n",
    "- Training mit `LinearRegression`\n",
    "- Evaluation mit MAE, MSE, RMSE und R²\n",
    "- Visualisierung der Ergebnisse"
   ]
  },
  {
   "cell_type": "markdown",
   "id": "76f3efe383667d1b",
   "metadata": {
    "lang": "de",
    "slideshow": {
     "slide_type": "subslide"
    },
    "tags": [
     "subslide"
    ]
   },
   "source": [
    "\n",
    "Die Daten sind bereits vorbereitet:\n",
    "\n",
    "- `pizza_distance`: Entfernung vom Restaurant in km\n",
    "- `pizza_time`: Lieferzeit in Minuten"
   ]
  },
  {
   "cell_type": "code",
   "execution_count": null,
   "id": "050193ce04ea1c41",
   "metadata": {
    "slideshow": {
     "slide_type": "subslide"
    },
    "tags": [
     "subslide",
     "keep"
    ]
   },
   "outputs": [],
   "source": [
    "pizza_distance = [\n",
    "    1.0,\n",
    "    1.5,\n",
    "    2.0,\n",
    "    2.5,\n",
    "    3.0,\n",
    "    3.5,\n",
    "    4.0,\n",
    "    4.5,\n",
    "    5.0,\n",
    "    5.5,\n",
    "    6.0,\n",
    "    6.5,\n",
    "    7.0,\n",
    "    7.5,\n",
    "    8.0,\n",
    "]"
   ]
  },
  {
   "cell_type": "code",
   "execution_count": null,
   "id": "5204c7d6cad5a14f",
   "metadata": {
    "tags": [
     "keep"
    ]
   },
   "outputs": [],
   "source": [
    "pizza_time = [15, 18, 20, 23, 25, 28, 30, 33, 35, 38, 40, 43, 45, 48, 50]"
   ]
  },
  {
   "cell_type": "code",
   "execution_count": null,
   "id": "ea8eadc39a185fe3",
   "metadata": {},
   "outputs": [],
   "source": []
  },
  {
   "cell_type": "markdown",
   "id": "954720842b3f9e20",
   "metadata": {
    "lang": "de",
    "slideshow": {
     "slide_type": "subslide"
    },
    "tags": [
     "subslide"
    ]
   },
   "source": [
    "\n",
    "### Aufgabe 1: Daten vorbereiten\n",
    "\n",
    "Bereiten Sie die Daten für Scikit-Learn vor:\n",
    "\n",
    "- Konvertieren Sie `pizza_distance` in eine 2D-Liste (Liste von Listen)\n",
    "- Speichern Sie das Ergebnis in `X`\n",
    "- Speichern Sie `pizza_time` in `y`"
   ]
  },
  {
   "cell_type": "code",
   "execution_count": null,
   "id": "b614a4f4693c7d31",
   "metadata": {
    "slideshow": {
     "slide_type": "subslide"
    },
    "tags": [
     "subslide"
    ]
   },
   "outputs": [],
   "source": []
  },
  {
   "cell_type": "markdown",
   "id": "afbbff829d806474",
   "metadata": {
    "lang": "de",
    "slideshow": {
     "slide_type": "subslide"
    },
    "tags": [
     "subslide"
    ]
   },
   "source": [
    "\n",
    "### Aufgabe 2: Train-Test Split\n",
    "\n",
    "Teilen Sie die Daten mit `train_test_split()` auf:\n",
    "\n",
    "- Verwenden Sie ca. 60% der Daten für das Training (40% für Test)\n",
    "- Setzen Sie `random_state=42` für Reproduzierbarkeit\n",
    "- Speichern Sie die Ergebnisse in `X_train`, `X_test`, `y_train`, `y_test`"
   ]
  },
  {
   "cell_type": "code",
   "execution_count": null,
   "id": "b4b947607c293140",
   "metadata": {
    "slideshow": {
     "slide_type": "subslide"
    },
    "tags": [
     "subslide"
    ]
   },
   "outputs": [],
   "source": []
  },
  {
   "cell_type": "markdown",
   "id": "8832db8395427923",
   "metadata": {
    "lang": "de",
    "slideshow": {
     "slide_type": "subslide"
    },
    "tags": [
     "subslide"
    ]
   },
   "source": [
    "\n",
    "### Aufgabe 3: Modell trainieren\n",
    "\n",
    "Trainieren Sie ein lineares Regressionsmodell:\n",
    "\n",
    "- Erstellen Sie ein `LinearRegression` Modell\n",
    "- Trainieren Sie es mit den Trainingsdaten\n",
    "- Geben Sie die gelernten Parameter (Koeffizient und Intercept) aus"
   ]
  },
  {
   "cell_type": "code",
   "execution_count": null,
   "id": "3113f6d307740151",
   "metadata": {
    "slideshow": {
     "slide_type": "subslide"
    },
    "tags": [
     "subslide"
    ]
   },
   "outputs": [],
   "source": []
  },
  {
   "cell_type": "markdown",
   "id": "71dc914ea20ef49d",
   "metadata": {
    "lang": "de",
    "slideshow": {
     "slide_type": "subslide"
    },
    "tags": [
     "subslide"
    ]
   },
   "source": [
    "\n",
    "### Aufgabe 4: Vorhersagen machen\n",
    "\n",
    "Erstellen Sie Vorhersagen für Trainings- und Testdaten:\n",
    "\n",
    "- Verwenden Sie `model.predict()` für beide Datensätze\n",
    "- Speichern Sie die Ergebnisse in `train_predictions` und `test_predictions`"
   ]
  },
  {
   "cell_type": "code",
   "execution_count": null,
   "id": "65de17d15c45a508",
   "metadata": {
    "slideshow": {
     "slide_type": "subslide"
    },
    "tags": [
     "subslide"
    ]
   },
   "outputs": [],
   "source": []
  },
  {
   "cell_type": "markdown",
   "id": "298d738a8ae1bc2d",
   "metadata": {
    "lang": "de",
    "slideshow": {
     "slide_type": "subslide"
    },
    "tags": [
     "subslide"
    ]
   },
   "source": [
    "\n",
    "### Aufgabe 5: Modell evaluieren\n",
    "\n",
    "Berechnen Sie die folgenden Metriken für Trainings- und Testdaten:\n",
    "\n",
    "- MAE (Mean Absolute Error)\n",
    "- MSE (Mean Squared Error)\n",
    "- RMSE (Root Mean Squared Error)\n",
    "- R² Score\n",
    "\n",
    "Verwenden Sie die entsprechenden Funktionen aus `sklearn.metrics`."
   ]
  },
  {
   "cell_type": "code",
   "execution_count": null,
   "id": "66a5fc242b89c858",
   "metadata": {
    "slideshow": {
     "slide_type": "subslide"
    },
    "tags": [
     "subslide"
    ]
   },
   "outputs": [],
   "source": []
  },
  {
   "cell_type": "markdown",
   "id": "adea9e8edf7ac273",
   "metadata": {
    "lang": "de",
    "slideshow": {
     "slide_type": "subslide"
    },
    "tags": [
     "subslide"
    ]
   },
   "source": [
    "\n",
    "### Aufgabe 6: Metriken vergleichen\n",
    "\n",
    "Erstellen Sie eine übersichtliche Vergleichstabelle der Metriken für\n",
    "Trainings- und Testdaten.\n",
    "\n",
    "**Analysieren Sie die Ergebnisse:**\n",
    "- Sind die Metriken ähnlich für Training und Test?\n",
    "- Was sagt der R² Score über die Modellqualität aus?\n",
    "- Wie groß ist die durchschnittliche Abweichung (MAE)?"
   ]
  },
  {
   "cell_type": "code",
   "execution_count": null,
   "id": "a83deac350e4ba0f",
   "metadata": {
    "slideshow": {
     "slide_type": "subslide"
    },
    "tags": [
     "subslide"
    ]
   },
   "outputs": [],
   "source": []
  },
  {
   "cell_type": "markdown",
   "id": "9f8d5a3688d80538",
   "metadata": {
    "lang": "de",
    "slideshow": {
     "slide_type": "subslide"
    },
    "tags": [
     "subslide"
    ]
   },
   "source": [
    "\n",
    "### Aufgabe 7: Ergebnisse visualisieren\n",
    "\n",
    "Erstellen Sie einen Plot, der zeigt:\n",
    "\n",
    "- Die Trainingsdaten als Scatter-Plot (blau)\n",
    "- Die Testdaten als Scatter-Plot (orange)\n",
    "- Die Modellvorhersagen als rote Linie\n",
    "\n",
    "Beschriften Sie die Achsen und fügen Sie eine Legende hinzu."
   ]
  },
  {
   "cell_type": "code",
   "execution_count": null,
   "id": "b2169c37a252a357",
   "metadata": {
    "slideshow": {
     "slide_type": "subslide"
    },
    "tags": [
     "subslide"
    ]
   },
   "outputs": [],
   "source": []
  },
  {
   "cell_type": "markdown",
   "id": "fb2b00b238649d21",
   "metadata": {
    "lang": "de",
    "slideshow": {
     "slide_type": "subslide"
    },
    "tags": [
     "subslide"
    ]
   },
   "source": [
    "\n",
    "### Aufgabe 8: Residuen-Plot\n",
    "\n",
    "Erstellen Sie einen Residuen-Plot:\n",
    "\n",
    "- X-Achse: Vorhergesagte Werte\n",
    "- Y-Achse: Residuen (Fehler = tatsächlicher Wert - vorhergesagter Wert)\n",
    "- Plotten Sie Trainings- und Testdaten\n",
    "- Fügen Sie eine horizontale Linie bei y=0 hinzu\n",
    "\n",
    "**Analysieren Sie:** Sind die Residuen zufällig um 0 verteilt?"
   ]
  },
  {
   "cell_type": "code",
   "execution_count": null,
   "id": "8c782fb5a2f90251",
   "metadata": {
    "slideshow": {
     "slide_type": "subslide"
    },
    "tags": [
     "subslide"
    ]
   },
   "outputs": [],
   "source": []
  },
  {
   "cell_type": "markdown",
   "id": "2e0c8ca3065d72ae",
   "metadata": {
    "lang": "de",
    "slideshow": {
     "slide_type": "subslide"
    },
    "tags": [
     "subslide"
    ]
   },
   "source": [
    "\n",
    "### Aufgabe 9: Neue Vorhersagen\n",
    "\n",
    "Verwenden Sie das trainierte Modell, um die Lieferzeit für folgende\n",
    "Entfernungen vorherzusagen:\n",
    "\n",
    "- 2.8 km\n",
    "- 5.2 km\n",
    "- 9.0 km\n",
    "- 10.5 km"
   ]
  },
  {
   "cell_type": "code",
   "execution_count": null,
   "id": "d5cdde418a705172",
   "metadata": {
    "slideshow": {
     "slide_type": "subslide"
    },
    "tags": [
     "subslide"
    ]
   },
   "outputs": [],
   "source": []
  },
  {
   "cell_type": "markdown",
   "id": "85c8197766a65811",
   "metadata": {
    "lang": "de",
    "slideshow": {
     "slide_type": "subslide"
    },
    "tags": [
     "subslide"
    ]
   },
   "source": [
    "\n",
    "### Aufgabe 10: Modellqualität einschätzen\n",
    "\n",
    "**Diskussionsfragen:**\n",
    "\n",
    "1. Ist das Modell gut für die Vorhersage geeignet? (Betrachten Sie R²)\n",
    "2. Wie groß ist der durchschnittliche Fehler in Minuten? (Betrachten Sie MAE)\n",
    "3. Sind die Residuen zufällig verteilt oder zeigen sie ein Muster?\n",
    "4. Würden Sie dem Modell für die 10.5 km Vorhersage vertrauen? Warum (nicht)?\n",
    "5. Was bedeutet es, dass Training und Test Metriken sehr ähnlich sind?"
   ]
  },
  {
   "cell_type": "markdown",
   "id": "ac57bdc46a45d14b",
   "metadata": {
    "lang": "de",
    "slideshow": {
     "slide_type": "subslide"
    },
    "tags": [
     "subslide"
    ]
   },
   "source": [
    "\n",
    "**Mögliche Antworten:**\n",
    "\n",
    "1. **Modellqualität**: R² nahe 1 (z.B. > 0.95) zeigt, dass das Modell die\n",
    "   Daten sehr gut erklärt\n",
    "2. **Durchschnittlicher Fehler**: MAE gibt an, wie viele Minuten die\n",
    "   Vorhersage im Durchschnitt abweicht (z.B. ±2 Minuten)\n",
    "3. **Residuen**: Idealerweise zufällig verteilt ohne erkennbares Muster. Hier\n",
    "   haben wir aber einen deutlich erkennbaren systematischen Fehler\n",
    "4. **10.5 km Vorhersage**: Vorsicht bei Extrapolation! Das Modell wurde nur\n",
    "   bis 8 km trainiert\n",
    "5. **Training ≈ Test**: Das Modell generalisiert gut, kein Overfitting"
   ]
  }
 ],
 "metadata": {
  "jupytext": {
   "cell_metadata_filter": "lang,tags,-all",
   "main_language": "python",
   "notebook_metadata_filter": "-all"
  },
  "kernelspec": {
   "display_name": "Python 3 (ipykernel)",
   "language": "python",
   "name": "python3"
  },
  "language_info": {
   "codemirror_mode": {
    "name": "ipython",
    "version": 3
   },
   "file_extension": ".py",
   "mimetype": "text/x-python",
   "name": "python",
   "nbconvert_exporter": "python",
   "pygments_lexer": "ipython3"
  }
 },
 "nbformat": 4,
 "nbformat_minor": 5
}
