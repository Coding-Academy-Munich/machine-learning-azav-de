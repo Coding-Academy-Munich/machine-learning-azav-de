{
 "cells": [
  {
   "cell_type": "markdown",
   "id": "df3d7c02b915e14e",
   "metadata": {
    "lang": "de",
    "slideshow": {
     "slide_type": "slide"
    },
    "tags": [
     "slide"
    ]
   },
   "source": [
    "\n",
    "<img src=\"data:image/svg+xml;base64,PHN2ZyB4bWxucz0iaHR0cDovL3d3dy53My5vcmcvMjAwMC9zdmciIHhtbG5zOnhsaW5rPSJodHRw\n",
    "Oi8vd3d3LnczLm9yZy8xOTk5L3hsaW5rIiB3aWR0aD0iMTExLjE2MSIgaGVpZ2h0PSIxMzQuNjY4\n",
    "IiB2ZXJzaW9uPSIxLjAiPjxkZWZzPjxsaW5lYXJHcmFkaWVudCBpZD0iYyI+PHN0b3Agb2Zmc2V0\n",
    "PSIwIiBzdHlsZT0ic3RvcC1jb2xvcjojYjhiOGI4O3N0b3Atb3BhY2l0eTouNDk4MDM5MjIiLz48\n",
    "c3RvcCBvZmZzZXQ9IjEiIHN0eWxlPSJzdG9wLWNvbG9yOiM3ZjdmN2Y7c3RvcC1vcGFjaXR5OjAi\n",
    "Lz48L2xpbmVhckdyYWRpZW50PjxsaW5lYXJHcmFkaWVudCBpZD0iYSI+PHN0b3Agb2Zmc2V0PSIw\n",
    "IiBzdHlsZT0ic3RvcC1jb2xvcjojZmZkNDNiO3N0b3Atb3BhY2l0eToxIi8+PHN0b3Agb2Zmc2V0\n",
    "PSIxIiBzdHlsZT0ic3RvcC1jb2xvcjojZmZlODczO3N0b3Atb3BhY2l0eToxIi8+PC9saW5lYXJH\n",
    "cmFkaWVudD48bGluZWFyR3JhZGllbnQgaWQ9ImIiPjxzdG9wIG9mZnNldD0iMCIgc3R5bGU9InN0\n",
    "b3AtY29sb3I6IzVhOWZkNDtzdG9wLW9wYWNpdHk6MSIvPjxzdG9wIG9mZnNldD0iMSIgc3R5bGU9\n",
    "InN0b3AtY29sb3I6IzMwNjk5ODtzdG9wLW9wYWNpdHk6MSIvPjwvbGluZWFyR3JhZGllbnQ+PGxp\n",
    "bmVhckdyYWRpZW50IHhsaW5rOmhyZWY9IiNhIiBpZD0iZSIgeDE9IjE1MC45NjEiIHgyPSIxMTIu\n",
    "MDMxIiB5MT0iMTkyLjM1MiIgeTI9IjEzNy4yNzMiIGdyYWRpZW50VHJhbnNmb3JtPSJtYXRyaXgo\n",
    "LjU2MjU0IDAgMCAuNTY3OTcgLTE0Ljk5MSAtMTEuNzAyKSIgZ3JhZGllbnRVbml0cz0idXNlclNw\n",
    "YWNlT25Vc2UiLz48bGluZWFyR3JhZGllbnQgeGxpbms6aHJlZj0iI2IiIGlkPSJkIiB4MT0iMjYu\n",
    "NjQ5IiB4Mj0iMTM1LjY2NSIgeTE9IjIwLjYwNCIgeTI9IjExNC4zOTgiIGdyYWRpZW50VHJhbnNm\n",
    "b3JtPSJtYXRyaXgoLjU2MjU0IDAgMCAuNTY3OTcgLTE0Ljk5MSAtMTEuNzAyKSIgZ3JhZGllbnRV\n",
    "bml0cz0idXNlclNwYWNlT25Vc2UiLz48cmFkaWFsR3JhZGllbnQgeGxpbms6aHJlZj0iI2MiIGlk\n",
    "PSJmIiBjeD0iNjEuNTE5IiBjeT0iMTMyLjI4NiIgcj0iMjkuMDM3IiBmeD0iNjEuNTE5IiBmeT0i\n",
    "MTMyLjI4NiIgZ3JhZGllbnRUcmFuc2Zvcm09Im1hdHJpeCgwIC0uMjM5OTUgMS4wNTQ2NyAwIC04\n",
    "My43IDE0Mi40NjIpIiBncmFkaWVudFVuaXRzPSJ1c2VyU3BhY2VPblVzZSIvPjwvZGVmcz48cGF0\n",
    "aCBkPSJNNTQuOTE5IDBjLTQuNTg0LjAyMi04Ljk2MS40MTMtMTIuODEzIDEuMDk1QzMwLjc2IDMu\n",
    "MDk5IDI4LjcgNy4yOTUgMjguNyAxNS4wMzJ2MTAuMjE5aDI2LjgxM3YzLjQwNkgxOC42MzhjLTcu\n",
    "NzkzIDAtMTQuNjE2IDQuNjg0LTE2Ljc1IDEzLjU5NC0yLjQ2MiAxMC4yMTMtMi41NzEgMTYuNTg2\n",
    "IDAgMjcuMjUgMS45MDUgNy45MzggNi40NTcgMTMuNTk0IDE0LjI1IDEzLjU5NGg5LjIxOHYtMTIu\n",
    "MjVjMC04Ljg1IDcuNjU3LTE2LjY1NyAxNi43NS0xNi42NTdoMjYuNzgyYzcuNDU0IDAgMTMuNDA2\n",
    "LTYuMTM4IDEzLjQwNi0xMy42MjV2LTI1LjUzYzAtNy4yNjctNi4xMy0xMi43MjYtMTMuNDA2LTEz\n",
    "LjkzOEM2NC4yODIuMzI4IDU5LjUwMi0uMDIgNTQuOTE4IDBtLTE0LjUgOC4yMmMyLjc3IDAgNS4w\n",
    "MzEgMi4yOTggNS4wMzEgNS4xMjUgMCAyLjgxNi0yLjI2MiA1LjA5My01LjAzMSA1LjA5My0yLjc4\n",
    "IDAtNS4wMzEtMi4yNzctNS4wMzEtNS4wOTMgMC0yLjgyNyAyLjI1MS01LjEyNSA1LjAzLTUuMTI1\n",
    "IiBzdHlsZT0iZmlsbDp1cmwoI2QpO2ZpbGwtb3BhY2l0eToxIi8+PHBhdGggZD0iTTg1LjYzOCAy\n",
    "OC42NTd2MTEuOTA2YzAgOS4yMzEtNy44MjYgMTctMTYuNzUgMTdINDIuMTA2Yy03LjMzNiAwLTEz\n",
    "LjQwNiA2LjI3OS0xMy40MDYgMTMuNjI1Vjk2LjcyYzAgNy4yNjYgNi4zMTkgMTEuNTQgMTMuNDA2\n",
    "IDEzLjYyNSA4LjQ4OCAyLjQ5NSAxNi42MjcgMi45NDYgMjYuNzgyIDAgNi43NS0xLjk1NSAxMy40\n",
    "MDYtNS44ODggMTMuNDA2LTEzLjYyNVY4Ni41SDU1LjUxM3YtMy40MDVIOTUuN2M3Ljc5MyAwIDEw\n",
    "LjY5Ni01LjQzNiAxMy40MDYtMTMuNTk0IDIuOC04LjM5OSAyLjY4LTE2LjQ3NiAwLTI3LjI1LTEu\n",
    "OTI1LTcuNzU4LTUuNjA0LTEzLjU5NC0xMy40MDYtMTMuNTk0ek03MC41NzUgOTMuMzEzYzIuNzgg\n",
    "MCA1LjAzMSAyLjI3OCA1LjAzMSA1LjA5NCAwIDIuODI3LTIuMjUxIDUuMTI1LTUuMDMxIDUuMTI1\n",
    "LTIuNzcgMC01LjAzMS0yLjI5OC01LjAzMS01LjEyNSAwLTIuODE2IDIuMjYxLTUuMDk0IDUuMDMx\n",
    "LTUuMDk0IiBzdHlsZT0iZmlsbDp1cmwoI2UpO2ZpbGwtb3BhY2l0eToxIi8+PGVsbGlwc2UgY3g9\n",
    "IjU1LjgxNyIgY3k9IjEyNy43MDEiIHJ4PSIzNS45MzEiIHJ5PSI2Ljk2NyIgc3R5bGU9Im9wYWNp\n",
    "dHk6LjQ0MzgyO2ZpbGw6dXJsKCNmKTtmaWxsLW9wYWNpdHk6MTtmaWxsLXJ1bGU6bm9uemVybztz\n",
    "dHJva2U6bm9uZTtzdHJva2Utd2lkdGg6MTUuNDE3NDtzdHJva2UtbWl0ZXJsaW1pdDo0O3N0cm9r\n",
    "ZS1kYXNoYXJyYXk6bm9uZTtzdHJva2Utb3BhY2l0eToxIi8+PC9zdmc+\n",
    "\"\n",
    "     style=\"display:block;margin:auto;width:10%\" alt=\"Python Logo\"/>\n",
    "<br>\n",
    "\n",
    "<div style=\"text-align:center; font-size:200%;\">\n",
    " <b>Einführung ins Maschinelle Lernen</b>\n",
    "</div>\n",
    "<br/>\n",
    "<div style=\"text-align:center;\">Dr. Matthias Hölzl</div>\n",
    "<br/>"
   ]
  },
  {
   "cell_type": "markdown",
   "id": "8b347b60735d71c1",
   "metadata": {
    "slideshow": {
     "slide_type": "subslide"
    },
    "tags": [
     "subslide"
    ]
   },
   "source": [
    "\n",
    "<img src=\"img/robots-playing-checkers.png\"\n",
    "     style=\"width: 90%; margin-left: auto; margin-right: auto; display: block;\">"
   ]
  },
  {
   "cell_type": "markdown",
   "id": "35a8d6de6d15631c",
   "metadata": {
    "lang": "de",
    "slideshow": {
     "slide_type": "slide"
    },
    "tags": [
     "slide"
    ]
   },
   "source": [
    "\n",
    "### Was ist Maschinelles Lernen (ML)?\n",
    "\n",
    "Entwicklung von Systemen, die aus Daten lernen können"
   ]
  },
  {
   "cell_type": "markdown",
   "id": "eb69af3dc7b1b6a3",
   "metadata": {
    "lang": "de",
    "slideshow": {
     "slide_type": "subslide"
    },
    "tags": [
     "subslide"
    ]
   },
   "source": [
    "\n",
    "### Warum?\n",
    "\n",
    "- Viele reale Probleme sind zu komplex, um sie mit traditionellen\n",
    "  Programmiertechniken zu lösen.\n",
    "- Die Funktionsweise eines Programms kann verbessert/angepasst werden,\n",
    "  indem wir ihm mehr Daten geben."
   ]
  },
  {
   "cell_type": "markdown",
   "id": "4060fae56840b494",
   "metadata": {
    "lang": "de",
    "slideshow": {
     "slide_type": "subslide"
    },
    "tags": [
     "subslide"
    ]
   },
   "source": [
    "\n",
    "### Wie funktioniert das?\n",
    "\n",
    "- Wir erstellen ein **Modell**\n",
    "  - Programm, das mehrere ähnliche Probleme lösen kann\n",
    "- Wir **trainieren** das Modell\n",
    "  - Indem wir ihm Daten zeigen, lernt es unser konkretes Problem zu lösen\n",
    "- Wir **evaluieren** das Modell\n",
    "  - Wir testen, wie gut es unser konkretes Problem löst"
   ]
  },
  {
   "cell_type": "markdown",
   "id": "ce333dcf3c839db0",
   "metadata": {
    "lang": "de",
    "slideshow": {
     "slide_type": "subslide"
    },
    "tags": [
     "subslide"
    ]
   },
   "source": [
    "\n",
    "### Beispiel: Preis eines Pizzas\n",
    "\n",
    "- Preis einer Pizza bestimmt durch\n",
    "  - Grundpreis\n",
    "  - Anzahl der Beläge (jeder Belag kostet gleich viel)\n",
    "- Ist das ein Problem, für das sich ML anbietet?"
   ]
  },
  {
   "cell_type": "markdown",
   "id": "cc6ad3657f683893",
   "metadata": {
    "lang": "de",
    "slideshow": {
     "slide_type": "subslide"
    },
    "tags": [
     "subslide"
    ]
   },
   "source": [
    "\n",
    "### Programm zur Berechnung des Pizza-Preises"
   ]
  },
  {
   "cell_type": "code",
   "execution_count": null,
   "id": "3186f3da3457cdcb",
   "metadata": {},
   "outputs": [],
   "source": []
  },
  {
   "cell_type": "code",
   "execution_count": null,
   "id": "100bcee7b70c1916",
   "metadata": {},
   "outputs": [],
   "source": []
  },
  {
   "cell_type": "markdown",
   "id": "e1507e07a8b8ead7",
   "metadata": {
    "lang": "de",
    "slideshow": {
     "slide_type": "subslide"
    },
    "tags": [
     "subslide"
    ]
   },
   "source": [
    "\n",
    "- Was ist, wenn wir das Programm für verschiedene Pizzerien verwenden wollen?\n",
    "  - Unterschiedliche Grundpreise\n",
    "  - Unterschiedliche Preise pro Belag\n",
    "- Wir können ein Programm schreiben, das für beliebige Preise funktioniert"
   ]
  },
  {
   "cell_type": "code",
   "execution_count": null,
   "id": "27bc966ac38bf01b",
   "metadata": {},
   "outputs": [],
   "source": []
  },
  {
   "cell_type": "code",
   "execution_count": null,
   "id": "4d8f50daa7e94f2f",
   "metadata": {},
   "outputs": [],
   "source": []
  },
  {
   "cell_type": "code",
   "execution_count": null,
   "id": "d1b176e836748a1b",
   "metadata": {},
   "outputs": [],
   "source": []
  },
  {
   "cell_type": "code",
   "execution_count": null,
   "id": "31df0bbfd4b28238",
   "metadata": {},
   "outputs": [],
   "source": []
  },
  {
   "cell_type": "code",
   "execution_count": null,
   "id": "a3b0a2fe86b2568a",
   "metadata": {},
   "outputs": [],
   "source": []
  },
  {
   "cell_type": "markdown",
   "id": "14a395f92605b4ff",
   "metadata": {
    "lang": "de",
    "slideshow": {
     "slide_type": "subslide"
    },
    "tags": [
     "subslide"
    ]
   },
   "source": [
    "\n",
    "- Unser `PizzaCalculator` kann \"verschiedene Probleme\" lösen\n",
    "- Aber er kann nicht \"lernen\""
   ]
  },
  {
   "cell_type": "markdown",
   "id": "c559d070e03fb2c5",
   "metadata": {
    "lang": "de",
    "slideshow": {
     "slide_type": "subslide"
    },
    "tags": [
     "subslide"
    ]
   },
   "source": [
    "\n",
    "### Beispiel: Catering-Service\n",
    "\n",
    "- Wir wollen einen Catering-Service starten\n",
    "- Wie viel sollen wir für ein Event verlangen?\n",
    "- Vermutung: Konkurrenzpreise bestehen aus\n",
    "  - Grundpreis\n",
    "  - Preis pro Person\n",
    "- Aber wir bekommen von der Konkurrenz nur Angebote für komplette Events,\n",
    "  nicht die Komponenten dahinter\n",
    "- Wie können wir vorgehen?\n",
    "  - Ist das ein Problem, für das sich ML anbietet?"
   ]
  },
  {
   "cell_type": "markdown",
   "id": "6c5b3c240148d62f",
   "metadata": {
    "lang": "de",
    "slideshow": {
     "slide_type": "subslide"
    },
    "tags": [
     "subslide"
    ]
   },
   "source": [
    "\n",
    "### Vorgehensweise\n",
    "\n",
    "- Wir holen uns von Konkurrenten Angebote für Events mit verschiedenen\n",
    "  Personenzahlen\n",
    "- Daraus versuchen wir, den Grundpreis und den Preis pro Person zu\n",
    "  schätzen\n",
    "  - Werte ausprobieren\n",
    "  - Mathematisch: Lineare Regression\n",
    "  - Graphisch: Gerade durch Punktewolke legen"
   ]
  },
  {
   "cell_type": "markdown",
   "id": "35126048a3c8a1c9",
   "metadata": {
    "lang": "de",
    "slideshow": {
     "slide_type": "subslide"
    },
    "tags": [
     "subslide"
    ]
   },
   "source": [
    "\n",
    "### Daten von Anbieter A\n",
    "\n",
    "| Anzahl Personen | Angebotspreis |\n",
    "|-----------------|---------------|\n",
    "| 10              | 400 €         |\n",
    "| 20              | 700 €         |\n",
    "| 30              | 1000 €        |"
   ]
  },
  {
   "cell_type": "markdown",
   "id": "6cb45c65e05ef9c8",
   "metadata": {
    "lang": "de",
    "slideshow": {
     "slide_type": "subslide"
    },
    "tags": [
     "subslide"
    ]
   },
   "source": [
    "\n",
    "### Visualisierung der Preise"
   ]
  },
  {
   "cell_type": "code",
   "execution_count": null,
   "id": "b2169c37a252a357",
   "metadata": {
    "tags": [
     "keep"
    ]
   },
   "outputs": [],
   "source": [
    "import matplotlib.pyplot as plt"
   ]
  },
  {
   "cell_type": "code",
   "execution_count": null,
   "id": "d41b380d7c0fe1ec",
   "metadata": {},
   "outputs": [],
   "source": []
  },
  {
   "cell_type": "code",
   "execution_count": null,
   "id": "688dc5015761962d",
   "metadata": {},
   "outputs": [],
   "source": []
  },
  {
   "cell_type": "code",
   "execution_count": null,
   "id": "bcb324543bdf89b4",
   "metadata": {
    "slideshow": {
     "slide_type": "subslide"
    },
    "tags": [
     "subslide"
    ]
   },
   "outputs": [],
   "source": []
  },
  {
   "cell_type": "markdown",
   "id": "1465786f11a0cf52",
   "metadata": {
    "lang": "de",
    "slideshow": {
     "slide_type": "subslide"
    },
    "tags": [
     "subslide"
    ]
   },
   "source": [
    "\n",
    "### Interaktive Visualisierung des Catering-Preismodells"
   ]
  },
  {
   "cell_type": "code",
   "execution_count": null,
   "id": "47d2c15fb921d6ff",
   "metadata": {
    "tags": [
     "keep"
    ]
   },
   "outputs": [],
   "source": [
    "from ipywidgets import interact, FloatSlider"
   ]
  },
  {
   "cell_type": "code",
   "execution_count": null,
   "id": "23457d101fee13d5",
   "metadata": {
    "tags": [
     "keep"
    ]
   },
   "outputs": [],
   "source": [
    "def plot_catering_model(base_price=100.0, price_per_person=30.0):\n",
    "    x_values = list(range(0, 41))\n",
    "\n",
    "    model = CateringPriceModel(base_price, price_per_person)\n",
    "    y_values = [model.predict_price(x) for x in x_values]\n",
    "\n",
    "    plt.figure(figsize=(10, 6))\n",
    "    plt.plot(x_values, y_values, \"r-\", linewidth=2, label=\"Model Prediction\")\n",
    "    plt.scatter(num_people, offered_prices, s=100, zorder=5, label=\"Provider A Data\")\n",
    "    plt.title(\n",
    "        f\"Catering Price Model (Base: €{base_price:.2f}, Per Person: €{price_per_person:.2f})\"\n",
    "    )\n",
    "    plt.xlabel(\"Number of People\")\n",
    "    plt.ylabel(\"Price (€)\")\n",
    "    plt.grid(True, alpha=0.6)\n",
    "    plt.legend()\n",
    "    plt.xlim(0, 40)\n",
    "    plt.ylim(0, max(max(y_values), max(offered_prices)) * 1.1)\n",
    "    plt.show()"
   ]
  },
  {
   "cell_type": "code",
   "execution_count": null,
   "id": "5fd393b57179bbf0",
   "metadata": {
    "slideshow": {
     "slide_type": "subslide"
    },
    "tags": [
     "keep",
     "subslide"
    ]
   },
   "outputs": [],
   "source": [
    "interact(\n",
    "    plot_catering_model,\n",
    "    base_price=FloatSlider(\n",
    "        min=0, max=500, step=10, value=400, description=\"Base Price (€)\"\n",
    "    ),\n",
    "    price_per_person=FloatSlider(\n",
    "        min=0, max=100, step=5, value=10, description=\"Price/Person (€)\"\n",
    "    ),\n",
    ")"
   ]
  },
  {
   "cell_type": "markdown",
   "id": "b285462124d8214d",
   "metadata": {
    "lang": "de",
    "slideshow": {
     "slide_type": "subslide"
    },
    "tags": [
     "subslide"
    ]
   },
   "source": [
    "\n",
    "Können wir das Berechnen von `base_price` und `price_per_person`\n",
    "automatisieren?"
   ]
  },
  {
   "cell_type": "code",
   "execution_count": null,
   "id": "88f05fc9ba68831c",
   "metadata": {
    "slideshow": {
     "slide_type": "subslide"
    },
    "tags": [
     "subslide"
    ]
   },
   "outputs": [],
   "source": []
  },
  {
   "cell_type": "markdown",
   "id": "144fdd700173d0b3",
   "metadata": {
    "lang": "de",
    "slideshow": {
     "slide_type": "subslide"
    },
    "tags": [
     "subslide"
    ]
   },
   "source": [
    "\n",
    "### Trainieren des Modells"
   ]
  },
  {
   "cell_type": "code",
   "execution_count": null,
   "id": "56c2c029e124131f",
   "metadata": {},
   "outputs": [],
   "source": []
  },
  {
   "cell_type": "code",
   "execution_count": null,
   "id": "e7342bc13031884d",
   "metadata": {},
   "outputs": [],
   "source": []
  },
  {
   "cell_type": "code",
   "execution_count": null,
   "id": "d3d65141c6dfc07c",
   "metadata": {},
   "outputs": [],
   "source": []
  },
  {
   "cell_type": "markdown",
   "id": "8b1a6f54fbf9934b",
   "metadata": {
    "lang": "de",
    "slideshow": {
     "slide_type": "subslide"
    },
    "tags": [
     "subslide"
    ]
   },
   "source": [
    "\n",
    "### Verwenden des trainierten Modells\n",
    "\n",
    "Für Werte, die das Modell bereits gesehen hat:"
   ]
  },
  {
   "cell_type": "code",
   "execution_count": null,
   "id": "085d6c61e1672fb8",
   "metadata": {},
   "outputs": [],
   "source": []
  },
  {
   "cell_type": "markdown",
   "id": "0b12cd0679d2f08e",
   "metadata": {
    "lang": "de"
   },
   "source": [
    "\n",
    "Für Werte, die das Modell noch nie gesehen hat:"
   ]
  },
  {
   "cell_type": "code",
   "execution_count": null,
   "id": "4d250f6a4a8db630",
   "metadata": {},
   "outputs": [],
   "source": []
  },
  {
   "cell_type": "markdown",
   "id": "aef8c96bab09e66f",
   "metadata": {
    "lang": "de",
    "slideshow": {
     "slide_type": "subslide"
    },
    "tags": [
     "subslide"
    ]
   },
   "source": [
    "\n",
    "### Verwenden von Scikit-Learn Modellen\n",
    "\n",
    "- Unser Modell hat nicht wirklich etwas mit \"Catering\" zu tun\n",
    "  - Es lässt sich auf jedes Problem anwenden, bei dem eine lineare Beziehung\n",
    "    zwischen Eingabe und Ausgabe besteht\n",
    "- Die Implementierung ist sehr einfach und nicht sehr robust\n",
    "  - Es ignoriert beim Training alle Punkte außer den ersten und letzten\n",
    "  - Es kann nicht mit Daten umgehen, die \"Rauschen\" enthalten\n",
    "- Die Bibliothek [Scikit-Learn](https://scikit-learn.org/) bietet\n",
    "  viele vorgefertigte Modelle, die wir verwenden können\n",
    "- Unser Modell nennt man eine **lineare Regression**"
   ]
  },
  {
   "cell_type": "code",
   "execution_count": null,
   "id": "d92764017119a249",
   "metadata": {
    "slideshow": {
     "slide_type": "subslide"
    },
    "tags": [
     "subslide"
    ]
   },
   "outputs": [],
   "source": []
  },
  {
   "cell_type": "code",
   "execution_count": null,
   "id": "7d20a6d42e11ce7a",
   "metadata": {},
   "outputs": [],
   "source": []
  },
  {
   "cell_type": "code",
   "execution_count": null,
   "id": "c94b461a5ac1d850",
   "metadata": {},
   "outputs": [],
   "source": []
  },
  {
   "cell_type": "code",
   "execution_count": null,
   "id": "ced68870bba257d5",
   "metadata": {},
   "outputs": [],
   "source": []
  },
  {
   "cell_type": "code",
   "execution_count": null,
   "id": "77e60b06d7b2b6f1",
   "metadata": {},
   "outputs": [],
   "source": []
  },
  {
   "cell_type": "code",
   "execution_count": null,
   "id": "929d032280ac4526",
   "metadata": {},
   "outputs": [],
   "source": []
  },
  {
   "cell_type": "code",
   "execution_count": null,
   "id": "4b2cdea09c0e0cd3",
   "metadata": {},
   "outputs": [],
   "source": []
  },
  {
   "cell_type": "markdown",
   "id": "39ff05de89c0654a",
   "metadata": {
    "lang": "de",
    "slideshow": {
     "slide_type": "subslide"
    },
    "tags": [
     "subslide"
    ]
   },
   "source": [
    "\n",
    "### Verwenden des Scikit-Learn Modells\n",
    "\n",
    "Für Werte, die das Modell bereits gesehen hat:"
   ]
  },
  {
   "cell_type": "code",
   "execution_count": null,
   "id": "6a17df094bcfc108",
   "metadata": {},
   "outputs": [],
   "source": []
  },
  {
   "cell_type": "markdown",
   "id": "cb1bd4cb36e0537a",
   "metadata": {
    "lang": "de"
   },
   "source": [
    "\n",
    "Für Werte, die das Modell noch nie gesehen hat:"
   ]
  },
  {
   "cell_type": "code",
   "execution_count": null,
   "id": "d015d7dc1c8c55f5",
   "metadata": {},
   "outputs": [],
   "source": []
  },
  {
   "cell_type": "markdown",
   "id": "73c3f8a2fe04cd87",
   "metadata": {
    "lang": "de"
   },
   "source": [
    "\n",
    "Für mehrere Werte"
   ]
  },
  {
   "cell_type": "code",
   "execution_count": null,
   "id": "a282a915da7fdf55",
   "metadata": {},
   "outputs": [],
   "source": []
  },
  {
   "cell_type": "markdown",
   "id": "a370dc6eaf571bb6",
   "metadata": {
    "lang": "de",
    "slideshow": {
     "slide_type": "subslide"
    },
    "tags": [
     "subslide"
    ]
   },
   "source": [
    "\n",
    "## Programm vs. trainiertes Modell\n",
    "\n",
    "<img src=\"img/program-vs-model-01.png\"\n",
    "     style=\"width: 80%; margin-left: auto; margin-right: auto;\"/>"
   ]
  },
  {
   "cell_type": "markdown",
   "id": "d27a6e2c66f73370",
   "metadata": {
    "lang": "de",
    "slideshow": {
     "slide_type": "subslide"
    },
    "tags": [
     "subslide"
    ]
   },
   "source": [
    "\n",
    "## Programm vs. trainiertes Modell\n",
    "\n",
    "<img src=\"img/program-vs-model-02.png\"\n",
    "     style=\"width: 80%; margin-left: auto; margin-right: auto;\"/>"
   ]
  },
  {
   "cell_type": "markdown",
   "id": "f2c80a3b1b3ce0f0",
   "metadata": {
    "lang": "de",
    "slideshow": {
     "slide_type": "subslide"
    },
    "tags": [
     "subslide"
    ]
   },
   "source": [
    "\n",
    "## Programm vs. Modell (Erstellung)\n",
    "\n",
    "<img src=\"img/program-vs-model-03.png\"\n",
    "     style=\"width: 50%; margin-left: auto; margin-right: auto;\"/>"
   ]
  },
  {
   "cell_type": "markdown",
   "id": "4601a92ad1c10135",
   "metadata": {
    "lang": "de",
    "slideshow": {
     "slide_type": "subslide"
    },
    "tags": [
     "subslide"
    ]
   },
   "source": [
    "\n",
    "## Programm vs. Modell (Erstellung)\n",
    "\n",
    "<img src=\"img/program-vs-model-04.png\"\n",
    "     style=\"width: 60%; margin-left: auto; margin-right: auto;\"/>"
   ]
  },
  {
   "cell_type": "markdown",
   "id": "3a4ace27f12ab594",
   "metadata": {
    "lang": "de",
    "slideshow": {
     "slide_type": "subslide"
    },
    "tags": [
     "subslide"
    ]
   },
   "source": [
    "\n",
    "## Workshop: Fremdenführer\n",
    "\n",
    "Sie wollen einen Service starten, der Touristen durch Ihre Stadt führt. Um die\n",
    "Preise für Ihre Führungen festzulegen, haben Sie die Preise von Wettbewerbern\n",
    "in der Nähe recherchiert und die folgenden Daten gesammelt:\n",
    "\n",
    "| Anzahl Personen | Angebotspreis |\n",
    "|-----------------|---------------|\n",
    "| 5               | 150 €         |\n",
    "| 10              | 250 €         |\n",
    "| 30              | 650 €         |\n",
    "\n",
    "- Erstellen Sie ein Modell, das den Angebotspreis Ihres Wettbewerbers in\n",
    "  Abhängigkeit von der Anzahl der Personen vorhersagt.\n",
    "- Sagt dieses Modell die bekannten Datenpunkte korrekt voraus?\n",
    "- Was sind die geschätzten Werte für Grundpreis und Preis pro Person?"
   ]
  },
  {
   "cell_type": "code",
   "execution_count": null,
   "id": "9d0d67c7c716bf91",
   "metadata": {
    "slideshow": {
     "slide_type": "subslide"
    },
    "tags": [
     "subslide"
    ]
   },
   "outputs": [],
   "source": []
  },
  {
   "cell_type": "markdown",
   "id": "97ee1925edd38dc6",
   "metadata": {
    "lang": "de",
    "lines_to_next_cell": 2,
    "slideshow": {
     "slide_type": "subslide"
    },
    "tags": [
     "subslide"
    ]
   },
   "source": [
    "\n",
    "Angenommen, Ihr Wettbewerber hätte Ihnen stattdessen die folgenden Preise\n",
    "genannt:\n",
    "\n",
    "| Anzahl Personen | Angebotspreis |\n",
    "|-----------------|---------------|\n",
    "| 5               | 150 €         |\n",
    "| 10              | 250 €         |\n",
    "| 30              | 500 €         |\n",
    "\n",
    "Könnten Sie die Preise mit dem gleichen Modell vorhersagen, oder gibt es dabei\n",
    "Probleme?\n",
    "\n",
    "Versuchen Sie, die Preise mit dem gleichen Modell vorherzusagen. Was fällt\n",
    "Ihnen auf? Können Sie das Problem erklären?"
   ]
  },
  {
   "cell_type": "code",
   "execution_count": null,
   "id": "22ee1a5f85e96226",
   "metadata": {
    "lines_to_next_cell": 2
   },
   "outputs": [],
   "source": []
  }
 ],
 "metadata": {
  "jupytext": {
   "cell_metadata_filter": "lang,tags,-all",
   "main_language": "python",
   "notebook_metadata_filter": "-all"
  },
  "kernelspec": {
   "display_name": "Python 3 (ipykernel)",
   "language": "python",
   "name": "python3"
  },
  "language_info": {
   "codemirror_mode": {
    "name": "ipython",
    "version": 3
   },
   "file_extension": ".py",
   "mimetype": "text/x-python",
   "name": "python",
   "nbconvert_exporter": "python",
   "pygments_lexer": "ipython3"
  }
 },
 "nbformat": 4,
 "nbformat_minor": 5
}
