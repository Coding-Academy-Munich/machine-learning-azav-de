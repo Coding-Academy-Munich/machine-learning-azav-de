{
 "cells": [
  {
   "cell_type": "markdown",
   "id": "bb7504efd853c06f",
   "metadata": {
    "lang": "de",
    "slideshow": {
     "slide_type": "slide"
    },
    "tags": [
     "slide"
    ]
   },
   "source": [
    "\n",
    "<img src=\"data:image/svg+xml;base64,PHN2ZyB4bWxucz0iaHR0cDovL3d3dy53My5vcmcvMjAwMC9zdmciIHhtbG5zOnhsaW5rPSJodHRw\n",
    "Oi8vd3d3LnczLm9yZy8xOTk5L3hsaW5rIiB3aWR0aD0iMTExLjE2MSIgaGVpZ2h0PSIxMzQuNjY4\n",
    "IiB2ZXJzaW9uPSIxLjAiPjxkZWZzPjxsaW5lYXJHcmFkaWVudCBpZD0iYyI+PHN0b3Agb2Zmc2V0\n",
    "PSIwIiBzdHlsZT0ic3RvcC1jb2xvcjojYjhiOGI4O3N0b3Atb3BhY2l0eTouNDk4MDM5MjIiLz48\n",
    "c3RvcCBvZmZzZXQ9IjEiIHN0eWxlPSJzdG9wLWNvbG9yOiM3ZjdmN2Y7c3RvcC1vcGFjaXR5OjAi\n",
    "Lz48L2xpbmVhckdyYWRpZW50PjxsaW5lYXJHcmFkaWVudCBpZD0iYSI+PHN0b3Agb2Zmc2V0PSIw\n",
    "IiBzdHlsZT0ic3RvcC1jb2xvcjojZmZkNDNiO3N0b3Atb3BhY2l0eToxIi8+PHN0b3Agb2Zmc2V0\n",
    "PSIxIiBzdHlsZT0ic3RvcC1jb2xvcjojZmZlODczO3N0b3Atb3BhY2l0eToxIi8+PC9saW5lYXJH\n",
    "cmFkaWVudD48bGluZWFyR3JhZGllbnQgaWQ9ImIiPjxzdG9wIG9mZnNldD0iMCIgc3R5bGU9InN0\n",
    "b3AtY29sb3I6IzVhOWZkNDtzdG9wLW9wYWNpdHk6MSIvPjxzdG9wIG9mZnNldD0iMSIgc3R5bGU9\n",
    "InN0b3AtY29sb3I6IzMwNjk5ODtzdG9wLW9wYWNpdHk6MSIvPjwvbGluZWFyR3JhZGllbnQ+PGxp\n",
    "bmVhckdyYWRpZW50IHhsaW5rOmhyZWY9IiNhIiBpZD0iZSIgeDE9IjE1MC45NjEiIHgyPSIxMTIu\n",
    "MDMxIiB5MT0iMTkyLjM1MiIgeTI9IjEzNy4yNzMiIGdyYWRpZW50VHJhbnNmb3JtPSJtYXRyaXgo\n",
    "LjU2MjU0IDAgMCAuNTY3OTcgLTE0Ljk5MSAtMTEuNzAyKSIgZ3JhZGllbnRVbml0cz0idXNlclNw\n",
    "YWNlT25Vc2UiLz48bGluZWFyR3JhZGllbnQgeGxpbms6aHJlZj0iI2IiIGlkPSJkIiB4MT0iMjYu\n",
    "NjQ5IiB4Mj0iMTM1LjY2NSIgeTE9IjIwLjYwNCIgeTI9IjExNC4zOTgiIGdyYWRpZW50VHJhbnNm\n",
    "b3JtPSJtYXRyaXgoLjU2MjU0IDAgMCAuNTY3OTcgLTE0Ljk5MSAtMTEuNzAyKSIgZ3JhZGllbnRV\n",
    "bml0cz0idXNlclNwYWNlT25Vc2UiLz48cmFkaWFsR3JhZGllbnQgeGxpbms6aHJlZj0iI2MiIGlk\n",
    "PSJmIiBjeD0iNjEuNTE5IiBjeT0iMTMyLjI4NiIgcj0iMjkuMDM3IiBmeD0iNjEuNTE5IiBmeT0i\n",
    "MTMyLjI4NiIgZ3JhZGllbnRUcmFuc2Zvcm09Im1hdHJpeCgwIC0uMjM5OTUgMS4wNTQ2NyAwIC04\n",
    "My43IDE0Mi40NjIpIiBncmFkaWVudFVuaXRzPSJ1c2VyU3BhY2VPblVzZSIvPjwvZGVmcz48cGF0\n",
    "aCBkPSJNNTQuOTE5IDBjLTQuNTg0LjAyMi04Ljk2MS40MTMtMTIuODEzIDEuMDk1QzMwLjc2IDMu\n",
    "MDk5IDI4LjcgNy4yOTUgMjguNyAxNS4wMzJ2MTAuMjE5aDI2LjgxM3YzLjQwNkgxOC42MzhjLTcu\n",
    "NzkzIDAtMTQuNjE2IDQuNjg0LTE2Ljc1IDEzLjU5NC0yLjQ2MiAxMC4yMTMtMi41NzEgMTYuNTg2\n",
    "IDAgMjcuMjUgMS45MDUgNy45MzggNi40NTcgMTMuNTk0IDE0LjI1IDEzLjU5NGg5LjIxOHYtMTIu\n",
    "MjVjMC04Ljg1IDcuNjU3LTE2LjY1NyAxNi43NS0xNi42NTdoMjYuNzgyYzcuNDU0IDAgMTMuNDA2\n",
    "LTYuMTM4IDEzLjQwNi0xMy42MjV2LTI1LjUzYzAtNy4yNjctNi4xMy0xMi43MjYtMTMuNDA2LTEz\n",
    "LjkzOEM2NC4yODIuMzI4IDU5LjUwMi0uMDIgNTQuOTE4IDBtLTE0LjUgOC4yMmMyLjc3IDAgNS4w\n",
    "MzEgMi4yOTggNS4wMzEgNS4xMjUgMCAyLjgxNi0yLjI2MiA1LjA5My01LjAzMSA1LjA5My0yLjc4\n",
    "IDAtNS4wMzEtMi4yNzctNS4wMzEtNS4wOTMgMC0yLjgyNyAyLjI1MS01LjEyNSA1LjAzLTUuMTI1\n",
    "IiBzdHlsZT0iZmlsbDp1cmwoI2QpO2ZpbGwtb3BhY2l0eToxIi8+PHBhdGggZD0iTTg1LjYzOCAy\n",
    "OC42NTd2MTEuOTA2YzAgOS4yMzEtNy44MjYgMTctMTYuNzUgMTdINDIuMTA2Yy03LjMzNiAwLTEz\n",
    "LjQwNiA2LjI3OS0xMy40MDYgMTMuNjI1Vjk2LjcyYzAgNy4yNjYgNi4zMTkgMTEuNTQgMTMuNDA2\n",
    "IDEzLjYyNSA4LjQ4OCAyLjQ5NSAxNi42MjcgMi45NDYgMjYuNzgyIDAgNi43NS0xLjk1NSAxMy40\n",
    "MDYtNS44ODggMTMuNDA2LTEzLjYyNVY4Ni41SDU1LjUxM3YtMy40MDVIOTUuN2M3Ljc5MyAwIDEw\n",
    "LjY5Ni01LjQzNiAxMy40MDYtMTMuNTk0IDIuOC04LjM5OSAyLjY4LTE2LjQ3NiAwLTI3LjI1LTEu\n",
    "OTI1LTcuNzU4LTUuNjA0LTEzLjU5NC0xMy40MDYtMTMuNTk0ek03MC41NzUgOTMuMzEzYzIuNzgg\n",
    "MCA1LjAzMSAyLjI3OCA1LjAzMSA1LjA5NCAwIDIuODI3LTIuMjUxIDUuMTI1LTUuMDMxIDUuMTI1\n",
    "LTIuNzcgMC01LjAzMS0yLjI5OC01LjAzMS01LjEyNSAwLTIuODE2IDIuMjYxLTUuMDk0IDUuMDMx\n",
    "LTUuMDk0IiBzdHlsZT0iZmlsbDp1cmwoI2UpO2ZpbGwtb3BhY2l0eToxIi8+PGVsbGlwc2UgY3g9\n",
    "IjU1LjgxNyIgY3k9IjEyNy43MDEiIHJ4PSIzNS45MzEiIHJ5PSI2Ljk2NyIgc3R5bGU9Im9wYWNp\n",
    "dHk6LjQ0MzgyO2ZpbGw6dXJsKCNmKTtmaWxsLW9wYWNpdHk6MTtmaWxsLXJ1bGU6bm9uemVybztz\n",
    "dHJva2U6bm9uZTtzdHJva2Utd2lkdGg6MTUuNDE3NDtzdHJva2UtbWl0ZXJsaW1pdDo0O3N0cm9r\n",
    "ZS1kYXNoYXJyYXk6bm9uZTtzdHJva2Utb3BhY2l0eToxIi8+PC9zdmc+\n",
    "\"\n",
    "     style=\"display:block;margin:auto;width:10%\" alt=\"Python Logo\"/>\n",
    "<br>\n",
    "\n",
    "<div style=\"text-align:center; font-size:200%;\">\n",
    " <b>Klassifizierung von ML-Ansätzen</b>\n",
    "</div>\n",
    "<br/>\n",
    "<div style=\"text-align:center;\">Dr. Matthias Hölzl</div>\n",
    "<br/>"
   ]
  },
  {
   "cell_type": "markdown",
   "id": "a57e68647879407b",
   "metadata": {
    "lang": "de",
    "slideshow": {
     "slide_type": "slide"
    },
    "tags": [
     "slide"
    ]
   },
   "source": [
    "\n",
    "## Klassifizierung von ML-Ansätzen\n",
    "\n",
    "Es gibt verschiedene Möglichkeiten, ML-Ansätze zu klassifizieren:\n",
    "\n",
    "- Nach der verwendeten Technik\n",
    "- Nach der Art des Problems\n",
    "- Nach der Art des Lernens\n",
    "- Nach der Ebene der Arbeit am ML-Stack"
   ]
  },
  {
   "cell_type": "markdown",
   "id": "f16ac251abfdb144",
   "metadata": {
    "lang": "de",
    "slideshow": {
     "slide_type": "slide"
    },
    "tags": [
     "slide"
    ]
   },
   "source": [
    "\n",
    "## ML-Techniken\n",
    "\n",
    "- **Klassisches ML**\n",
    "  - Traditionelle Algorithmen (z.B. Lineare Regression, Decision Trees, SVM)\n",
    "  - Meist für strukturierte Daten\n",
    "  - Interpretierbar und gut verstanden\n",
    "- **Deep Learning / Neuronale Netze**\n",
    "  - Mehrschichtige neuronale Netze\n",
    "  - Besonders gut für unstrukturierte Daten (Bilder, Text, Audio)\n",
    "  - Benötigt oft große Datenmengen\n",
    "- **Ensemble-Methoden**\n",
    "  - Kombination mehrerer Modelle (z.B. Random Forests, Gradient Boosting)\n",
    "  - Oft sehr gute Performance"
   ]
  },
  {
   "cell_type": "markdown",
   "id": "eb1dd7d5e8d9ffdc",
   "metadata": {
    "lang": "de",
    "slideshow": {
     "slide_type": "slide"
    },
    "tags": [
     "slide"
    ]
   },
   "source": [
    "\n",
    "## Probleme, die ML lösen kann\n",
    "\n",
    "- **Klassifikation**\n",
    "  - Zuordnung von Eingaben zu Kategorien\n",
    "  - Beispiel: Spam-Erkennung, Bilderkennung\n",
    "- **Regression**\n",
    "  - Vorhersage von kontinuierlichen Werten\n",
    "  - Beispiel: Preisvorhersage, Wettervorhersage\n",
    "- **Clustering**\n",
    "  - Gruppierung ähnlicher Datenpunkte\n",
    "  - Beispiel: Kundensegmentierung"
   ]
  },
  {
   "cell_type": "markdown",
   "id": "7e5ef4293de87799",
   "metadata": {
    "lang": "de",
    "slideshow": {
     "slide_type": "subslide"
    },
    "tags": [
     "subslide"
    ]
   },
   "source": [
    "\n",
    "## Weitere ML-Probleme\n",
    "\n",
    "- **Generierung**\n",
    "  - Erzeugung neuer Daten ähnlich den Trainingsdaten\n",
    "  - Beispiel: Textgenerierung, Bildsynthese, Musikkomposition\n",
    "- **Dimensionsreduktion**\n",
    "  - Reduzierung der Anzahl der Merkmale\n",
    "  - Beispiel: Visualisierung hochdimensionaler Daten\n",
    "- **Anomalieerkennung**\n",
    "  - Identifikation ungewöhnlicher Datenpunkte\n",
    "  - Beispiel: Betrugserkennung, Fehlerdiagnose"
   ]
  },
  {
   "cell_type": "markdown",
   "id": "f9298922879dae9d",
   "metadata": {
    "lang": "de",
    "slideshow": {
     "slide_type": "slide"
    },
    "tags": [
     "slide"
    ]
   },
   "source": [
    "\n",
    "## Ansätze zum Lernen\n",
    "\n",
    "- **Überwachtes Lernen (Supervised Learning)**\n",
    "  - Modell lernt aus gelabelten Daten\n",
    "  - Eingabe-Ausgabe-Paare sind bekannt\n",
    "  - Beispiel: Bilderkennung mit gelabelten Bildern\n",
    "- **Unüberwachtes Lernen (Unsupervised Learning)**\n",
    "  - Modell lernt Muster ohne Labels\n",
    "  - Nur Eingabedaten sind verfügbar\n",
    "  - Beispiel: Clustering, Dimensionsreduktion"
   ]
  },
  {
   "cell_type": "markdown",
   "id": "bd81b5b4226bc92f",
   "metadata": {
    "lang": "de",
    "slideshow": {
     "slide_type": "subslide"
    },
    "tags": [
     "subslide"
    ]
   },
   "source": [
    "\n",
    "## Weitere Lernansätze\n",
    "\n",
    "- **Semi-Supervised Learning**\n",
    "  - Kombination aus gelabelten und ungelabelten Daten\n",
    "  - Wenige Labels, viele unlabelte Daten\n",
    "  - Beispiel: Webseiten-Klassifikation\n",
    "- **Reinforcement Learning (Verstärkendes Lernen)**\n",
    "  - Modell lernt durch Interaktion mit einer Umgebung\n",
    "  - Belohnungen für gute Aktionen, Bestrafungen für schlechte\n",
    "  - Beispiel: Spielende KI, Robotersteuerung"
   ]
  },
  {
   "cell_type": "markdown",
   "id": "1a4e98ef5d458806",
   "metadata": {
    "lang": "de",
    "slideshow": {
     "slide_type": "slide"
    },
    "tags": [
     "slide"
    ]
   },
   "source": [
    "\n",
    "## Ebenen der ML-Arbeit\n",
    "\n",
    "Je nach Anwendungsfall und Expertise können wir auf verschiedenen Ebenen mit\n",
    "ML arbeiten:\n",
    "\n",
    "- Entwicklung neuer Modellarchitekturen\n",
    "- Training von Modellen\n",
    "- Arbeit mit vortrainierten Modellen\n",
    "- Finetuning vortrainierter Modelle\n",
    "- Aufbau von Systemen, die Modelle enthalten\n",
    "- Verwendung von LLMs für Programmierung/andere Aufgaben"
   ]
  },
  {
   "cell_type": "markdown",
   "id": "7b801299a7c4407e",
   "metadata": {
    "lang": "de",
    "slideshow": {
     "slide_type": "subslide"
    },
    "tags": [
     "subslide"
    ]
   },
   "source": [
    "\n",
    "## Entwicklung von Modellarchitekturen\n",
    "\n",
    "- **Höchste Komplexität**\n",
    "- Erfordert tiefes Verständnis von:\n",
    "  - Mathematik (lineare Algebra, Statistik, Optimierung)\n",
    "  - ML-Theorie\n",
    "  - Programmierung\n",
    "- Beispiele:\n",
    "  - Entwicklung neuer Netzwerkarchitekturen\n",
    "  - Forschung an neuen Lernalgorithmen\n",
    "- Typischerweise in der Forschung oder bei großen Tech-Unternehmen"
   ]
  },
  {
   "cell_type": "markdown",
   "id": "d728335e13f9c2de",
   "metadata": {
    "lang": "de",
    "slideshow": {
     "slide_type": "subslide"
    },
    "tags": [
     "subslide"
    ]
   },
   "source": [
    "\n",
    "## Training von Modellen\n",
    "\n",
    "- Training eines Modells von Grund auf\n",
    "- Erfordert:\n",
    "  - Große Datenmengen\n",
    "  - Rechenressourcen\n",
    "  - Verständnis von Hyperparameter-Tuning\n",
    "- Beispiele:\n",
    "  - Training eines Bildklassifikators auf eigenen Daten\n",
    "  - Training eines Sprachmodells\n",
    "- Oft zeitaufwendig und kostspielig"
   ]
  },
  {
   "cell_type": "markdown",
   "id": "6043873fd09b0950",
   "metadata": {
    "lang": "de",
    "slideshow": {
     "slide_type": "subslide"
    },
    "tags": [
     "subslide"
    ]
   },
   "source": [
    "\n",
    "## Arbeit mit vortrainierten Modellen\n",
    "\n",
    "- Verwendung eines bereits trainierten Modells\n",
    "- Keine oder minimale Anpassung erforderlich\n",
    "- Beispiele:\n",
    "  - Verwendung von GPT-5 über API\n",
    "  - Verwendung von YOLO für Objekterkennung\n",
    "  - Verwendung von BERT für Textklassifikation\n",
    "- **Vorteil**: Schneller Einstieg, geringe Kosten\n",
    "- **Nachteil**: Weniger Flexibilität"
   ]
  },
  {
   "cell_type": "markdown",
   "id": "760d9fefdf77270e",
   "metadata": {
    "lang": "de",
    "slideshow": {
     "slide_type": "subslide"
    },
    "tags": [
     "subslide"
    ]
   },
   "source": [
    "\n",
    "## Finetuning vortrainierter Modelle\n",
    "\n",
    "- Anpassung eines vortrainierten Modells an eine spezifische Aufgabe\n",
    "- Erfordert:\n",
    "  - Weniger Daten als Training von Grund auf\n",
    "  - Verständnis von Transfer Learning\n",
    "  - Moderate Rechenressourcen\n",
    "- Beispiele:\n",
    "  - Anpassung eines Sprachmodells an eine bestimmte Domäne\n",
    "  - Anpassung eines Bildklassifikators an eigene Kategorien\n",
    "- **Balance**: Gute Performance mit moderatem Aufwand"
   ]
  },
  {
   "cell_type": "markdown",
   "id": "d859d04b1d8c31a6",
   "metadata": {
    "lang": "de",
    "slideshow": {
     "slide_type": "subslide"
    },
    "tags": [
     "subslide"
    ]
   },
   "source": [
    "\n",
    "## Aufbau von Systemen mit ML-Modellen\n",
    "\n",
    "- Integration von ML-Modellen in größere Systeme\n",
    "- Erfordert:\n",
    "  - Software-Engineering-Kenntnisse\n",
    "  - Verständnis von ML-Operations (MLOps)\n",
    "  - Systemarchitektur-Kenntnisse\n",
    "- Beispiele:\n",
    "  - Empfehlungssystem für E-Commerce\n",
    "  - Chatbot mit Sprachverständnis\n",
    "  - Automatisierte Qualitätskontrolle\n",
    "- **Fokus**: Produktivierung und Wartung"
   ]
  },
  {
   "cell_type": "markdown",
   "id": "a2527e931cafa877",
   "metadata": {
    "lang": "de",
    "slideshow": {
     "slide_type": "subslide"
    },
    "tags": [
     "subslide"
    ]
   },
   "source": [
    "\n",
    "## Verwendung von LLMs als Werkzeug\n",
    "\n",
    "- Nutzung von Large Language Models für alltägliche Aufgaben\n",
    "- Keine ML-Kenntnisse erforderlich\n",
    "- Beispiele:\n",
    "  - Code-Generierung mit GitHub Copilot\n",
    "  - Texterstellung mit ChatGPT\n",
    "  - Datenanalyse mit LLM-Unterstützung\n",
    "- **Einstiegshürde**: Sehr niedrig\n",
    "- **Wichtig**: Verständnis der Limitationen und ethischen Aspekte"
   ]
  },
  {
   "cell_type": "markdown",
   "id": "d73c104c0fa0e9e8",
   "metadata": {
    "lang": "de",
    "slideshow": {
     "slide_type": "slide"
    },
    "tags": [
     "slide"
    ]
   },
   "source": [
    "\n",
    "## Übersicht: Ebenen der ML-Arbeit\n",
    "\n",
    "| Ebene                 | Komplexität  | Ressourcen   | Flexibilität |\n",
    "|-----------------------|--------------|--------------|--------------|\n",
    "| Modellarchitekturen   | Sehr hoch    | Sehr hoch    | Sehr hoch    |\n",
    "| Training              | Hoch         | Hoch         | Hoch         |\n",
    "| Finetuning            | Mittel       | Mittel       | Mittel       |\n",
    "| Vortrainierte Modelle | Niedrig      | Niedrig      | Niedrig      |\n",
    "| Systembau             | Mittel       | Mittel       | Hoch         |\n",
    "| LLM-Nutzung           | Sehr niedrig | Sehr niedrig | Niedrig      |"
   ]
  },
  {
   "cell_type": "markdown",
   "id": "5dadee04f1cfc11c",
   "metadata": {
    "lang": "de",
    "slideshow": {
     "slide_type": "slide"
    },
    "tags": [
     "slide"
    ]
   },
   "source": [
    "\n",
    "## Welche Ebene ist die richtige?\n",
    "\n",
    "Die Wahl der Ebene hängt ab von:\n",
    "\n",
    "- **Verfügbaren Ressourcen**\n",
    "  - Zeit, Budget, Rechenleistung\n",
    "- **Expertise**\n",
    "  - ML-Kenntnisse, Programmierkenntnisse\n",
    "- **Anforderungen**\n",
    "  - Genauigkeit, Anpassbarkeit, Geschwindigkeit\n",
    "- **Daten**\n",
    "  - Menge und Qualität der verfügbaren Daten"
   ]
  },
  {
   "cell_type": "markdown",
   "id": "3f450835ee2e06f7",
   "metadata": {
    "lang": "de",
    "slideshow": {
     "slide_type": "subslide"
    },
    "tags": [
     "subslide"
    ]
   },
   "source": [
    "\n",
    "## Empfehlungen für Einsteiger\n",
    "\n",
    "- **Beginnen Sie mit LLM-Nutzung**\n",
    "  - Verstehen Sie die Möglichkeiten und Grenzen\n",
    "- **Arbeiten Sie mit vortrainierten Modellen**\n",
    "  - Lernen Sie, wie man sie effektiv einsetzt\n",
    "- **Experimentieren Sie mit Finetuning**\n",
    "  - Wenn Sie spezifische Anforderungen haben\n",
    "- **Lernen Sie die Grundlagen**\n",
    "  - Verstehen Sie, wie ML funktioniert\n",
    "- **Bauen Sie schrittweise Expertise auf**\n",
    "  - Von einfachen zu komplexeren Aufgaben"
   ]
  },
  {
   "cell_type": "markdown",
   "id": "6eaab4f9bb6f3cf7",
   "metadata": {
    "lang": "de",
    "slideshow": {
     "slide_type": "slide"
    },
    "tags": [
     "slide"
    ]
   },
   "source": [
    "\n",
    "## Zusammenfassung\n",
    "\n",
    "- ML kann nach verschiedenen Kriterien klassifiziert werden\n",
    "- Verschiedene Techniken für verschiedene Probleme\n",
    "- Unterschiedliche Lernansätze je nach verfügbaren Daten\n",
    "- Verschiedene Ebenen der ML-Arbeit je nach Expertise und Anforderungen\n",
    "- Wählen Sie die Ebene, die zu Ihren Ressourcen und Zielen passt"
   ]
  }
 ],
 "metadata": {
  "jupytext": {
   "cell_metadata_filter": "lang,tags,-all",
   "main_language": "python",
   "notebook_metadata_filter": "-all"
  },
  "kernelspec": {
   "display_name": "Python 3 (ipykernel)",
   "language": "python",
   "name": "python3"
  },
  "language_info": {
   "codemirror_mode": {
    "name": "ipython",
    "version": 3
   },
   "file_extension": ".py",
   "mimetype": "text/x-python",
   "name": "python",
   "nbconvert_exporter": "python",
   "pygments_lexer": "ipython3"
  }
 },
 "nbformat": 4,
 "nbformat_minor": 5
}
