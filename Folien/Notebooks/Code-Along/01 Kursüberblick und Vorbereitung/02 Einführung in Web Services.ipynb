{
 "cells": [
  {
   "cell_type": "markdown",
   "id": "1061a57007bed3ad",
   "metadata": {
    "lang": "de",
    "slideshow": {
     "slide_type": "slide"
    },
    "tags": [
     "slide"
    ]
   },
   "source": [
    "\n",
    "<img src=\"data:image/svg+xml;base64,PHN2ZyB4bWxucz0iaHR0cDovL3d3dy53My5vcmcvMjAwMC9zdmciIHhtbG5zOnhsaW5rPSJodHRw\n",
    "Oi8vd3d3LnczLm9yZy8xOTk5L3hsaW5rIiB3aWR0aD0iMTExLjE2MSIgaGVpZ2h0PSIxMzQuNjY4\n",
    "IiB2ZXJzaW9uPSIxLjAiPjxkZWZzPjxsaW5lYXJHcmFkaWVudCBpZD0iYyI+PHN0b3Agb2Zmc2V0\n",
    "PSIwIiBzdHlsZT0ic3RvcC1jb2xvcjojYjhiOGI4O3N0b3Atb3BhY2l0eTouNDk4MDM5MjIiLz48\n",
    "c3RvcCBvZmZzZXQ9IjEiIHN0eWxlPSJzdG9wLWNvbG9yOiM3ZjdmN2Y7c3RvcC1vcGFjaXR5OjAi\n",
    "Lz48L2xpbmVhckdyYWRpZW50PjxsaW5lYXJHcmFkaWVudCBpZD0iYSI+PHN0b3Agb2Zmc2V0PSIw\n",
    "IiBzdHlsZT0ic3RvcC1jb2xvcjojZmZkNDNiO3N0b3Atb3BhY2l0eToxIi8+PHN0b3Agb2Zmc2V0\n",
    "PSIxIiBzdHlsZT0ic3RvcC1jb2xvcjojZmZlODczO3N0b3Atb3BhY2l0eToxIi8+PC9saW5lYXJH\n",
    "cmFkaWVudD48bGluZWFyR3JhZGllbnQgaWQ9ImIiPjxzdG9wIG9mZnNldD0iMCIgc3R5bGU9InN0\n",
    "b3AtY29sb3I6IzVhOWZkNDtzdG9wLW9wYWNpdHk6MSIvPjxzdG9wIG9mZnNldD0iMSIgc3R5bGU9\n",
    "InN0b3AtY29sb3I6IzMwNjk5ODtzdG9wLW9wYWNpdHk6MSIvPjwvbGluZWFyR3JhZGllbnQ+PGxp\n",
    "bmVhckdyYWRpZW50IHhsaW5rOmhyZWY9IiNhIiBpZD0iZSIgeDE9IjE1MC45NjEiIHgyPSIxMTIu\n",
    "MDMxIiB5MT0iMTkyLjM1MiIgeTI9IjEzNy4yNzMiIGdyYWRpZW50VHJhbnNmb3JtPSJtYXRyaXgo\n",
    "LjU2MjU0IDAgMCAuNTY3OTcgLTE0Ljk5MSAtMTEuNzAyKSIgZ3JhZGllbnRVbml0cz0idXNlclNw\n",
    "YWNlT25Vc2UiLz48bGluZWFyR3JhZGllbnQgeGxpbms6aHJlZj0iI2IiIGlkPSJkIiB4MT0iMjYu\n",
    "NjQ5IiB4Mj0iMTM1LjY2NSIgeTE9IjIwLjYwNCIgeTI9IjExNC4zOTgiIGdyYWRpZW50VHJhbnNm\n",
    "b3JtPSJtYXRyaXgoLjU2MjU0IDAgMCAuNTY3OTcgLTE0Ljk5MSAtMTEuNzAyKSIgZ3JhZGllbnRV\n",
    "bml0cz0idXNlclNwYWNlT25Vc2UiLz48cmFkaWFsR3JhZGllbnQgeGxpbms6aHJlZj0iI2MiIGlk\n",
    "PSJmIiBjeD0iNjEuNTE5IiBjeT0iMTMyLjI4NiIgcj0iMjkuMDM3IiBmeD0iNjEuNTE5IiBmeT0i\n",
    "MTMyLjI4NiIgZ3JhZGllbnRUcmFuc2Zvcm09Im1hdHJpeCgwIC0uMjM5OTUgMS4wNTQ2NyAwIC04\n",
    "My43IDE0Mi40NjIpIiBncmFkaWVudFVuaXRzPSJ1c2VyU3BhY2VPblVzZSIvPjwvZGVmcz48cGF0\n",
    "aCBkPSJNNTQuOTE5IDBjLTQuNTg0LjAyMi04Ljk2MS40MTMtMTIuODEzIDEuMDk1QzMwLjc2IDMu\n",
    "MDk5IDI4LjcgNy4yOTUgMjguNyAxNS4wMzJ2MTAuMjE5aDI2LjgxM3YzLjQwNkgxOC42MzhjLTcu\n",
    "NzkzIDAtMTQuNjE2IDQuNjg0LTE2Ljc1IDEzLjU5NC0yLjQ2MiAxMC4yMTMtMi41NzEgMTYuNTg2\n",
    "IDAgMjcuMjUgMS45MDUgNy45MzggNi40NTcgMTMuNTk0IDE0LjI1IDEzLjU5NGg5LjIxOHYtMTIu\n",
    "MjVjMC04Ljg1IDcuNjU3LTE2LjY1NyAxNi43NS0xNi42NTdoMjYuNzgyYzcuNDU0IDAgMTMuNDA2\n",
    "LTYuMTM4IDEzLjQwNi0xMy42MjV2LTI1LjUzYzAtNy4yNjctNi4xMy0xMi43MjYtMTMuNDA2LTEz\n",
    "LjkzOEM2NC4yODIuMzI4IDU5LjUwMi0uMDIgNTQuOTE4IDBtLTE0LjUgOC4yMmMyLjc3IDAgNS4w\n",
    "MzEgMi4yOTggNS4wMzEgNS4xMjUgMCAyLjgxNi0yLjI2MiA1LjA5My01LjAzMSA1LjA5My0yLjc4\n",
    "IDAtNS4wMzEtMi4yNzctNS4wMzEtNS4wOTMgMC0yLjgyNyAyLjI1MS01LjEyNSA1LjAzLTUuMTI1\n",
    "IiBzdHlsZT0iZmlsbDp1cmwoI2QpO2ZpbGwtb3BhY2l0eToxIi8+PHBhdGggZD0iTTg1LjYzOCAy\n",
    "OC42NTd2MTEuOTA2YzAgOS4yMzEtNy44MjYgMTctMTYuNzUgMTdINDIuMTA2Yy03LjMzNiAwLTEz\n",
    "LjQwNiA2LjI3OS0xMy40MDYgMTMuNjI1Vjk2LjcyYzAgNy4yNjYgNi4zMTkgMTEuNTQgMTMuNDA2\n",
    "IDEzLjYyNSA4LjQ4OCAyLjQ5NSAxNi42MjcgMi45NDYgMjYuNzgyIDAgNi43NS0xLjk1NSAxMy40\n",
    "MDYtNS44ODggMTMuNDA2LTEzLjYyNVY4Ni41SDU1LjUxM3YtMy40MDVIOTUuN2M3Ljc5MyAwIDEw\n",
    "LjY5Ni01LjQzNiAxMy40MDYtMTMuNTk0IDIuOC04LjM5OSAyLjY4LTE2LjQ3NiAwLTI3LjI1LTEu\n",
    "OTI1LTcuNzU4LTUuNjA0LTEzLjU5NC0xMy40MDYtMTMuNTk0ek03MC41NzUgOTMuMzEzYzIuNzgg\n",
    "MCA1LjAzMSAyLjI3OCA1LjAzMSA1LjA5NCAwIDIuODI3LTIuMjUxIDUuMTI1LTUuMDMxIDUuMTI1\n",
    "LTIuNzcgMC01LjAzMS0yLjI5OC01LjAzMS01LjEyNSAwLTIuODE2IDIuMjYxLTUuMDk0IDUuMDMx\n",
    "LTUuMDk0IiBzdHlsZT0iZmlsbDp1cmwoI2UpO2ZpbGwtb3BhY2l0eToxIi8+PGVsbGlwc2UgY3g9\n",
    "IjU1LjgxNyIgY3k9IjEyNy43MDEiIHJ4PSIzNS45MzEiIHJ5PSI2Ljk2NyIgc3R5bGU9Im9wYWNp\n",
    "dHk6LjQ0MzgyO2ZpbGw6dXJsKCNmKTtmaWxsLW9wYWNpdHk6MTtmaWxsLXJ1bGU6bm9uemVybztz\n",
    "dHJva2U6bm9uZTtzdHJva2Utd2lkdGg6MTUuNDE3NDtzdHJva2UtbWl0ZXJsaW1pdDo0O3N0cm9r\n",
    "ZS1kYXNoYXJyYXk6bm9uZTtzdHJva2Utb3BhY2l0eToxIi8+PC9zdmc+\n",
    "\"\n",
    "     style=\"display:block;margin:auto;width:10%\" alt=\"Python Logo\"/>\n",
    "<br>\n",
    "\n",
    "<div style=\"text-align:center; font-size:200%;\">\n",
    " <b>Einführung in Web Services</b>\n",
    "</div>\n",
    "<br/>\n",
    "<div style=\"text-align:center;\">Dr. Matthias Hölzl</div>\n",
    "<br/>"
   ]
  },
  {
   "cell_type": "markdown",
   "id": "240a42c5c22942b1",
   "metadata": {
    "lang": "de",
    "slideshow": {
     "slide_type": "slide"
    },
    "tags": [
     "slide"
    ]
   },
   "source": [
    "\n",
    "## Was sind Web Services?\n",
    "\n",
    "- Programme, die über das Internet miteinander kommunizieren\n",
    "- Ein Programm (der **Client**) fragt Daten an\n",
    "- Ein anderes Programm (der **Server**) antwortet mit den Daten\n",
    "- Ähnlich wie ein Restaurantbesuch:\n",
    "  - Sie (Client) bestellen beim Kellner\n",
    "  - Die Küche (Server) bereitet das Essen zu\n",
    "  - Der Kellner bringt Ihnen das Essen"
   ]
  },
  {
   "cell_type": "markdown",
   "id": "f11609481c657461",
   "metadata": {
    "lang": "de",
    "slideshow": {
     "slide_type": "subslide"
    },
    "tags": [
     "subslide"
    ]
   },
   "source": [
    "\n",
    "## Beispiele für Web Services\n",
    "\n",
    "- **Wetter-Apps:** Fragen Wetterdaten von einem Server ab\n",
    "- **Social Media:** Laden Posts, Bilder, Kommentare\n",
    "- **Online-Shopping:** Produktinformationen, Preise, Verfügbarkeit\n",
    "- **Navigationsdienste:** Google Maps fragt Kartendaten ab\n",
    "- **KI-Services:** ChatGPT, DALL-E, Übersetzungsdienste"
   ]
  },
  {
   "cell_type": "markdown",
   "id": "4db4a71908839990",
   "metadata": {
    "lang": "de",
    "slideshow": {
     "slide_type": "subslide"
    },
    "tags": [
     "subslide"
    ]
   },
   "source": [
    "\n",
    "## Wie funktioniert das Internet? (Vereinfacht)\n",
    "\n",
    "- Jeder Computer im Internet hat eine **Adresse** (wie eine Postadresse)\n",
    "- Diese Adresse heißt **URL** (Uniform Resource Locator)\n",
    "- Beispiel: `https://www.example.com/users/123`\n",
    "  - `https://` - Das Protokoll (wie die Sprache)\n",
    "  - `www.example.com` - Die Serveradresse\n",
    "  - `/users/123` - Der Pfad (die Route) zur Ressource (welche Daten Sie wollen)"
   ]
  },
  {
   "cell_type": "markdown",
   "id": "49a5be700a5bd7f9",
   "metadata": {
    "lang": "de",
    "slideshow": {
     "slide_type": "subslide"
    },
    "tags": [
     "subslide"
    ]
   },
   "source": [
    "\n",
    "## HTTP: Die Sprache des Internets\n",
    "\n",
    "- **HTTP** = HyperText Transfer Protocol\n",
    "- Das \"Protokoll\" für die Kommunikation zwischen Client und Server\n",
    "- Wie ein Formular mit verschiedenen Feldern:\n",
    "  - **Methode:** Was möchten Sie tun?\n",
    "  - **URL:** Wo sind die Daten?\n",
    "  - **Header:** Zusätzliche Informationen\n",
    "  - **Body:** Daten, die Sie senden (optional)"
   ]
  },
  {
   "cell_type": "markdown",
   "id": "17b7765c189f129f",
   "metadata": {
    "lang": "de",
    "slideshow": {
     "slide_type": "subslide"
    },
    "tags": [
     "subslide"
    ]
   },
   "source": [
    "\n",
    "## HTTP-Methoden: Was möchten Sie tun?\n",
    "\n",
    "- **GET:** Daten abrufen (wie ein Buch aus der Bibliothek ausleihen)\n",
    "  - \"Gib mir die Benutzerdaten\"\n",
    "  - \"Zeig mir die Produktliste\"\n",
    "- **POST:** Neue Daten erstellen (wie einen Brief abschicken)\n",
    "  - \"Erstelle einen neuen Benutzer\"\n",
    "  - \"Sende diese Nachricht\"\n",
    "- **PUT/PATCH:** Daten aktualisieren (wie einen Text korrigieren)\n",
    "- **DELETE:** Daten löschen (wie etwas in den Papierkorb werfen)"
   ]
  },
  {
   "cell_type": "markdown",
   "id": "f699e3c88eae7ba0",
   "metadata": {
    "lang": "de",
    "slideshow": {
     "slide_type": "subslide"
    },
    "tags": [
     "subslide"
    ]
   },
   "source": [
    "\n",
    "## HTTP Status Codes: Hat es funktioniert?\n",
    "\n",
    "Der Server antwortet immer mit einem **Status Code:**\n",
    "\n",
    "- **200 OK:** Alles gut! Hier sind Ihre Daten\n",
    "- **201 Created:** Erfolgreich erstellt\n",
    "- **400 Bad Request:** Ihre Anfrage war fehlerhaft\n",
    "- **401 Unauthorized:** Sie müssen sich anmelden\n",
    "- **404 Not Found:** Diese Daten existieren nicht\n",
    "- **500 Internal Server Error:** Problem auf dem Server"
   ]
  },
  {
   "cell_type": "markdown",
   "id": "550506773e37282d",
   "metadata": {
    "lang": "de",
    "slideshow": {
     "slide_type": "slide"
    },
    "tags": [
     "slide"
    ]
   },
   "source": [
    "\n",
    "## Was ist eine API?\n",
    "\n",
    "- **API** = Application Programming Interface\n",
    "- Eine \"Schnittstelle\" für Programme, um miteinander zu kommunizieren\n",
    "- Ähnlich wie das Bestellen in einem Restaurant:\n",
    "  - Sie müssen nicht wissen, wie die Küche funktioniert\n",
    "  - Sie sagen dem Kellner einfach, welches Gericht Sie möchten\n",
    "    - \"Ich hätte gerne die Spaghetti Bolognese.\"\n",
    "    - \"Nummer 32 bitte.\"\n",
    "  - Der Kellner bringt Ihnen das Essen\n",
    "- Anders als in einem Restaurant müssen Sie sich bei einer API an eine strikte\n",
    "  Spezifikation halten"
   ]
  },
  {
   "cell_type": "markdown",
   "id": "b2161414ecc00dcc",
   "metadata": {
    "lang": "de",
    "slideshow": {
     "slide_type": "subslide"
    },
    "tags": [
     "subslide"
    ]
   },
   "source": [
    "\n",
    "## APIs in der Praxis\n",
    "\n",
    "- **Web APIs:** Ermöglichen Zugriff auf Web-Dienste\n",
    "- Definieren:\n",
    "  - Welche Daten verfügbar sind\n",
    "  - Wie Sie diese Daten anfordern\n",
    "  - Welches Format die Antwort hat\n",
    "- Beispiel: Die OpenAI API ermöglicht Zugriff auf ChatGPT"
   ]
  },
  {
   "cell_type": "markdown",
   "id": "2954191e632e6b83",
   "metadata": {
    "lang": "de",
    "slideshow": {
     "slide_type": "subslide"
    },
    "tags": [
     "subslide"
    ]
   },
   "source": [
    "\n",
    "## REST APIs: Ein beliebtes Design-Muster\n",
    "\n",
    "- **REST** = Representational State Transfer\n",
    "- Ein Stil für das Design von Web Services\n",
    "- Hauptmerkmale:\n",
    "  - API zur Verwaltung von \"Ressourcen\" (Daten wie Benutzer, Produkte, etc.)\n",
    "  - Jede Ressource hat eine URL\n",
    "  - Abrufen/Erzeugen/Löschen/... von Ressourcen mit Standard-HTTP-Methoden\n",
    "  - Daten meist im JSON-Format\n",
    "  - Zustandslos (jede Anfrage ist unabhängig)"
   ]
  },
  {
   "cell_type": "markdown",
   "id": "055a6aeb0ba59629",
   "metadata": {
    "lang": "de",
    "slideshow": {
     "slide_type": "subslide"
    },
    "tags": [
     "subslide"
    ]
   },
   "source": [
    "\n",
    "## JSON: Das Datenformat\n",
    "\n",
    "- **JSON** = JavaScript Object Notation\n",
    "- Das am häufigsten verwendete Format für Web Services\n",
    "- Ähnlich wie Python-Dictionaries und -Listen\n",
    "- Beispiel:\n",
    "\n",
    "```json\n",
    "{\n",
    "  \"name\": \"Max Mustermann\",\n",
    "  \"age\": 30,\n",
    "  \"hobbies\": [\"Lesen\", \"Wandern\"]\n",
    "}\n",
    "```"
   ]
  }
 ],
 "metadata": {
  "jupytext": {
   "cell_metadata_filter": "lang,tags,-all",
   "main_language": "python",
   "notebook_metadata_filter": "-all"
  },
  "kernelspec": {
   "display_name": "Python 3 (ipykernel)",
   "language": "python",
   "name": "python3"
  },
  "language_info": {
   "codemirror_mode": {
    "name": "ipython",
    "version": 3
   },
   "file_extension": ".py",
   "mimetype": "text/x-python",
   "name": "python",
   "nbconvert_exporter": "python",
   "pygments_lexer": "ipython3"
  }
 },
 "nbformat": 4,
 "nbformat_minor": 5
}
