{
 "cells": [
  {
   "cell_type": "markdown",
   "id": "b35fbc5babb1d02e",
   "metadata": {
    "lang": "de",
    "slideshow": {
     "slide_type": "slide"
    },
    "tags": [
     "slide"
    ]
   },
   "source": [
    "\n",
    "<img src=\"data:image/svg+xml;base64,PHN2ZyB4bWxucz0iaHR0cDovL3d3dy53My5vcmcvMjAwMC9zdmciIHhtbG5zOnhsaW5rPSJodHRw\n",
    "Oi8vd3d3LnczLm9yZy8xOTk5L3hsaW5rIiB3aWR0aD0iMTExLjE2MSIgaGVpZ2h0PSIxMzQuNjY4\n",
    "IiB2ZXJzaW9uPSIxLjAiPjxkZWZzPjxsaW5lYXJHcmFkaWVudCBpZD0iYyI+PHN0b3Agb2Zmc2V0\n",
    "PSIwIiBzdHlsZT0ic3RvcC1jb2xvcjojYjhiOGI4O3N0b3Atb3BhY2l0eTouNDk4MDM5MjIiLz48\n",
    "c3RvcCBvZmZzZXQ9IjEiIHN0eWxlPSJzdG9wLWNvbG9yOiM3ZjdmN2Y7c3RvcC1vcGFjaXR5OjAi\n",
    "Lz48L2xpbmVhckdyYWRpZW50PjxsaW5lYXJHcmFkaWVudCBpZD0iYSI+PHN0b3Agb2Zmc2V0PSIw\n",
    "IiBzdHlsZT0ic3RvcC1jb2xvcjojZmZkNDNiO3N0b3Atb3BhY2l0eToxIi8+PHN0b3Agb2Zmc2V0\n",
    "PSIxIiBzdHlsZT0ic3RvcC1jb2xvcjojZmZlODczO3N0b3Atb3BhY2l0eToxIi8+PC9saW5lYXJH\n",
    "cmFkaWVudD48bGluZWFyR3JhZGllbnQgaWQ9ImIiPjxzdG9wIG9mZnNldD0iMCIgc3R5bGU9InN0\n",
    "b3AtY29sb3I6IzVhOWZkNDtzdG9wLW9wYWNpdHk6MSIvPjxzdG9wIG9mZnNldD0iMSIgc3R5bGU9\n",
    "InN0b3AtY29sb3I6IzMwNjk5ODtzdG9wLW9wYWNpdHk6MSIvPjwvbGluZWFyR3JhZGllbnQ+PGxp\n",
    "bmVhckdyYWRpZW50IHhsaW5rOmhyZWY9IiNhIiBpZD0iZSIgeDE9IjE1MC45NjEiIHgyPSIxMTIu\n",
    "MDMxIiB5MT0iMTkyLjM1MiIgeTI9IjEzNy4yNzMiIGdyYWRpZW50VHJhbnNmb3JtPSJtYXRyaXgo\n",
    "LjU2MjU0IDAgMCAuNTY3OTcgLTE0Ljk5MSAtMTEuNzAyKSIgZ3JhZGllbnRVbml0cz0idXNlclNw\n",
    "YWNlT25Vc2UiLz48bGluZWFyR3JhZGllbnQgeGxpbms6aHJlZj0iI2IiIGlkPSJkIiB4MT0iMjYu\n",
    "NjQ5IiB4Mj0iMTM1LjY2NSIgeTE9IjIwLjYwNCIgeTI9IjExNC4zOTgiIGdyYWRpZW50VHJhbnNm\n",
    "b3JtPSJtYXRyaXgoLjU2MjU0IDAgMCAuNTY3OTcgLTE0Ljk5MSAtMTEuNzAyKSIgZ3JhZGllbnRV\n",
    "bml0cz0idXNlclNwYWNlT25Vc2UiLz48cmFkaWFsR3JhZGllbnQgeGxpbms6aHJlZj0iI2MiIGlk\n",
    "PSJmIiBjeD0iNjEuNTE5IiBjeT0iMTMyLjI4NiIgcj0iMjkuMDM3IiBmeD0iNjEuNTE5IiBmeT0i\n",
    "MTMyLjI4NiIgZ3JhZGllbnRUcmFuc2Zvcm09Im1hdHJpeCgwIC0uMjM5OTUgMS4wNTQ2NyAwIC04\n",
    "My43IDE0Mi40NjIpIiBncmFkaWVudFVuaXRzPSJ1c2VyU3BhY2VPblVzZSIvPjwvZGVmcz48cGF0\n",
    "aCBkPSJNNTQuOTE5IDBjLTQuNTg0LjAyMi04Ljk2MS40MTMtMTIuODEzIDEuMDk1QzMwLjc2IDMu\n",
    "MDk5IDI4LjcgNy4yOTUgMjguNyAxNS4wMzJ2MTAuMjE5aDI2LjgxM3YzLjQwNkgxOC42MzhjLTcu\n",
    "NzkzIDAtMTQuNjE2IDQuNjg0LTE2Ljc1IDEzLjU5NC0yLjQ2MiAxMC4yMTMtMi41NzEgMTYuNTg2\n",
    "IDAgMjcuMjUgMS45MDUgNy45MzggNi40NTcgMTMuNTk0IDE0LjI1IDEzLjU5NGg5LjIxOHYtMTIu\n",
    "MjVjMC04Ljg1IDcuNjU3LTE2LjY1NyAxNi43NS0xNi42NTdoMjYuNzgyYzcuNDU0IDAgMTMuNDA2\n",
    "LTYuMTM4IDEzLjQwNi0xMy42MjV2LTI1LjUzYzAtNy4yNjctNi4xMy0xMi43MjYtMTMuNDA2LTEz\n",
    "LjkzOEM2NC4yODIuMzI4IDU5LjUwMi0uMDIgNTQuOTE4IDBtLTE0LjUgOC4yMmMyLjc3IDAgNS4w\n",
    "MzEgMi4yOTggNS4wMzEgNS4xMjUgMCAyLjgxNi0yLjI2MiA1LjA5My01LjAzMSA1LjA5My0yLjc4\n",
    "IDAtNS4wMzEtMi4yNzctNS4wMzEtNS4wOTMgMC0yLjgyNyAyLjI1MS01LjEyNSA1LjAzLTUuMTI1\n",
    "IiBzdHlsZT0iZmlsbDp1cmwoI2QpO2ZpbGwtb3BhY2l0eToxIi8+PHBhdGggZD0iTTg1LjYzOCAy\n",
    "OC42NTd2MTEuOTA2YzAgOS4yMzEtNy44MjYgMTctMTYuNzUgMTdINDIuMTA2Yy03LjMzNiAwLTEz\n",
    "LjQwNiA2LjI3OS0xMy40MDYgMTMuNjI1Vjk2LjcyYzAgNy4yNjYgNi4zMTkgMTEuNTQgMTMuNDA2\n",
    "IDEzLjYyNSA4LjQ4OCAyLjQ5NSAxNi42MjcgMi45NDYgMjYuNzgyIDAgNi43NS0xLjk1NSAxMy40\n",
    "MDYtNS44ODggMTMuNDA2LTEzLjYyNVY4Ni41SDU1LjUxM3YtMy40MDVIOTUuN2M3Ljc5MyAwIDEw\n",
    "LjY5Ni01LjQzNiAxMy40MDYtMTMuNTk0IDIuOC04LjM5OSAyLjY4LTE2LjQ3NiAwLTI3LjI1LTEu\n",
    "OTI1LTcuNzU4LTUuNjA0LTEzLjU5NC0xMy40MDYtMTMuNTk0ek03MC41NzUgOTMuMzEzYzIuNzgg\n",
    "MCA1LjAzMSAyLjI3OCA1LjAzMSA1LjA5NCAwIDIuODI3LTIuMjUxIDUuMTI1LTUuMDMxIDUuMTI1\n",
    "LTIuNzcgMC01LjAzMS0yLjI5OC01LjAzMS01LjEyNSAwLTIuODE2IDIuMjYxLTUuMDk0IDUuMDMx\n",
    "LTUuMDk0IiBzdHlsZT0iZmlsbDp1cmwoI2UpO2ZpbGwtb3BhY2l0eToxIi8+PGVsbGlwc2UgY3g9\n",
    "IjU1LjgxNyIgY3k9IjEyNy43MDEiIHJ4PSIzNS45MzEiIHJ5PSI2Ljk2NyIgc3R5bGU9Im9wYWNp\n",
    "dHk6LjQ0MzgyO2ZpbGw6dXJsKCNmKTtmaWxsLW9wYWNpdHk6MTtmaWxsLXJ1bGU6bm9uemVybztz\n",
    "dHJva2U6bm9uZTtzdHJva2Utd2lkdGg6MTUuNDE3NDtzdHJva2UtbWl0ZXJsaW1pdDo0O3N0cm9r\n",
    "ZS1kYXNoYXJyYXk6bm9uZTtzdHJva2Utb3BhY2l0eToxIi8+PC9zdmc+\n",
    "\"\n",
    "     style=\"display:block;margin:auto;width:10%\" alt=\"Python Logo\"/>\n",
    "<br>\n",
    "\n",
    "<div style=\"text-align:center; font-size:200%;\">\n",
    " <b>Spezialisierte API Bibliotheken</b>\n",
    "</div>\n",
    "<br/>\n",
    "<div style=\"text-align:center;\">Dr. Matthias Hölzl</div>\n",
    "<br/>"
   ]
  },
  {
   "cell_type": "markdown",
   "id": "1fca4312f6f8944d",
   "metadata": {
    "lang": "de",
    "slideshow": {
     "slide_type": "slide"
    },
    "tags": [
     "slide"
    ]
   },
   "source": [
    "\n",
    "## Spezialisierte API Bibliotheken\n",
    "\n",
    "- Viele Web Services bieten eigene Python-Bibliotheken an\n",
    "- Diese **vereinfachen** die Kommunikation mit dem Service\n",
    "- Sie kümmern sich um:\n",
    "  - Die korrekte Formatierung der Anfragen\n",
    "  - Die Verarbeitung der Antworten\n",
    "  - Fehlerbehandlung\n",
    "  - Authentifizierung\n",
    "- **Vorteil:** Sie müssen die API-Details nicht kennen"
   ]
  },
  {
   "cell_type": "markdown",
   "id": "df3adae187b9e1c0",
   "metadata": {
    "lang": "de",
    "slideshow": {
     "slide_type": "subslide"
    },
    "tags": [
     "subslide"
    ]
   },
   "source": [
    "\n",
    "## Beispiel: Wikipedia\n",
    "\n",
    "- Wikipedia bietet eine API für den Zugriff auf Daten\n",
    "- Die **MediaWiki API** ist komplex und umfangreich\n",
    "- Die `pymediawiki`-Bibliothek macht den Zugriff einfach\n",
    "\n",
    "**Installation:**\n",
    "```bash\n",
    "pip install pymediawiki\n",
    "```"
   ]
  },
  {
   "cell_type": "markdown",
   "id": "9a9f3d36bd6283a3",
   "metadata": {
    "lang": "de",
    "slideshow": {
     "slide_type": "slide"
    },
    "tags": [
     "slide"
    ]
   },
   "source": [
    "\n",
    "## Der direkte Weg: Mit `requests`\n",
    "\n",
    "Lassen Sie uns zunächst versuchen, Daten von Wikipedia mit `requests`\n",
    "abzurufen."
   ]
  },
  {
   "cell_type": "code",
   "execution_count": null,
   "id": "aa49aa623ee737aa",
   "metadata": {
    "tags": [
     "keep"
    ]
   },
   "outputs": [],
   "source": [
    "!pip install requests --root-user-action ignore"
   ]
  },
  {
   "cell_type": "code",
   "execution_count": null,
   "id": "cd7033f913593e0c",
   "metadata": {
    "tags": [
     "keep"
    ]
   },
   "outputs": [],
   "source": [
    "import requests"
   ]
  },
  {
   "cell_type": "markdown",
   "id": "93c3a4350d8a3e80",
   "metadata": {
    "lang": "de",
    "slideshow": {
     "slide_type": "subslide"
    },
    "tags": [
     "subslide"
    ]
   },
   "source": [
    "\n",
    "### Wikipedia-Suche mit `requests`"
   ]
  },
  {
   "cell_type": "code",
   "execution_count": null,
   "id": "7bb2b593a144aeea",
   "metadata": {
    "lines_to_next_cell": 2,
    "tags": [
     "keep"
    ]
   },
   "outputs": [],
   "source": [
    "def search_wikipedia_raw(search_term):\n",
    "    \"\"\"Search Wikipedia articles with the MediaWiki API\"\"\"\n",
    "    api_url = \"https://en.wikipedia.org/w/api.php\"\n",
    "\n",
    "    # Parameters are complex!\n",
    "    params = {\n",
    "        \"action\": \"query\",\n",
    "        \"list\": \"search\",\n",
    "        \"srsearch\": search_term,\n",
    "        \"format\": \"json\",\n",
    "        \"srlimit\": 5,\n",
    "    }\n",
    "\n",
    "    # Add User-Agent header to comply with Wikipedia's robot policy\n",
    "    headers = {\"User-Agent\": \"PythonCourse/1.0 (Educational purposes)\"}\n",
    "\n",
    "    response = requests.get(api_url, params=params, headers=headers)\n",
    "    response.raise_for_status()\n",
    "    return response.json()"
   ]
  },
  {
   "cell_type": "markdown",
   "id": "4d3723446212204d",
   "metadata": {
    "lang": "de",
    "slideshow": {
     "slide_type": "subslide"
    },
    "tags": [
     "subslide"
    ]
   },
   "source": [
    "\n",
    "### Suche nach 'Python'"
   ]
  },
  {
   "cell_type": "code",
   "execution_count": null,
   "id": "7196fd560d32b98f",
   "metadata": {},
   "outputs": [],
   "source": []
  },
  {
   "cell_type": "markdown",
   "id": "d49d887f501aa7a5",
   "metadata": {
    "lang": "de",
    "slideshow": {
     "slide_type": "subslide"
    },
    "tags": [
     "subslide"
    ]
   },
   "source": [
    "\n",
    "### Das Ergebnis ist komplex verschachtelt"
   ]
  },
  {
   "cell_type": "code",
   "execution_count": null,
   "id": "6a81d250fa33f690",
   "metadata": {},
   "outputs": [],
   "source": []
  },
  {
   "cell_type": "markdown",
   "id": "0794fcba67f99564",
   "metadata": {
    "lang": "de",
    "slideshow": {
     "slide_type": "subslide"
    },
    "tags": [
     "subslide"
    ]
   },
   "source": [
    "\n",
    "### Die Daten extrahieren\n",
    "\n",
    "Wir müssen tief in die verschachtelte Struktur eintauchen"
   ]
  },
  {
   "cell_type": "code",
   "execution_count": null,
   "id": "dabea132a7f375ef",
   "metadata": {},
   "outputs": [],
   "source": []
  },
  {
   "cell_type": "code",
   "execution_count": null,
   "id": "5b15c11ac75dfb4c",
   "metadata": {},
   "outputs": [],
   "source": []
  },
  {
   "cell_type": "markdown",
   "id": "c846680b5fa9a6f3",
   "metadata": {
    "lang": "de",
    "slideshow": {
     "slide_type": "subslide"
    },
    "tags": [
     "subslide"
    ]
   },
   "source": [
    "\n",
    "### Einen Artikel-Zusammenfassung abrufen"
   ]
  },
  {
   "cell_type": "code",
   "execution_count": null,
   "id": "95084ae108090da7",
   "metadata": {
    "tags": [
     "keep"
    ]
   },
   "outputs": [],
   "source": [
    "def get_wikipedia_summary_raw(title):\n",
    "    \"\"\"Ruft die Zusammenfassung eines Wikipedia-Artikels ab\"\"\"\n",
    "    api_url = \"https://en.wikipedia.org/w/api.php\"\n",
    "\n",
    "    # Even more complex parameters!\n",
    "    params = {\n",
    "        \"action\": \"query\",\n",
    "        \"prop\": \"extracts\",\n",
    "        \"exintro\": True,\n",
    "        \"explaintext\": True,\n",
    "        \"titles\": title,\n",
    "        \"format\": \"json\",\n",
    "    }\n",
    "\n",
    "    # Add User-Agent header to comply with Wikipedia's robot policy\n",
    "    headers = {\"User-Agent\": \"PythonCourse/1.0 (Educational purposes)\"}\n",
    "\n",
    "    response = requests.get(api_url, params=params, headers=headers)\n",
    "    response.raise_for_status()\n",
    "    return response.json()"
   ]
  },
  {
   "cell_type": "code",
   "execution_count": null,
   "id": "274795b7c7562388",
   "metadata": {
    "slideshow": {
     "slide_type": "subslide"
    },
    "tags": [
     "subslide"
    ]
   },
   "outputs": [],
   "source": []
  },
  {
   "cell_type": "code",
   "execution_count": null,
   "id": "8f54dcab9d2ce043",
   "metadata": {},
   "outputs": [],
   "source": []
  },
  {
   "cell_type": "markdown",
   "id": "9a79642de40c82b1",
   "metadata": {
    "lang": "de",
    "slideshow": {
     "slide_type": "subslide"
    },
    "tags": [
     "subslide"
    ]
   },
   "source": [
    "\n",
    "### Die Zusammenfassung extrahieren\n",
    "\n",
    "Die Struktur ist noch komplizierter!"
   ]
  },
  {
   "cell_type": "code",
   "execution_count": null,
   "id": "5eff863c4b0fb13e",
   "metadata": {},
   "outputs": [],
   "source": []
  },
  {
   "cell_type": "markdown",
   "id": "feeae41dac8856fb",
   "metadata": {
    "lang": "de"
   },
   "source": [
    "\n",
    "Die Seiten-ID ist dynamisch - wir müssen sie finden"
   ]
  },
  {
   "cell_type": "code",
   "execution_count": null,
   "id": "db095cd5fb12099d",
   "metadata": {},
   "outputs": [],
   "source": []
  },
  {
   "cell_type": "markdown",
   "id": "fb5d91a0e4110214",
   "metadata": {
    "lang": "de"
   },
   "source": [
    "\n",
    "Dann können wir damit in `pages` indizieren"
   ]
  },
  {
   "cell_type": "code",
   "execution_count": null,
   "id": "adabafec4a81e4d9",
   "metadata": {},
   "outputs": [],
   "source": []
  },
  {
   "cell_type": "code",
   "execution_count": null,
   "id": "2242f97b65638ced",
   "metadata": {},
   "outputs": [],
   "source": []
  },
  {
   "cell_type": "markdown",
   "id": "a17ded918290f2b9",
   "metadata": {
    "lang": "de",
    "slideshow": {
     "slide_type": "slide"
    },
    "tags": [
     "slide"
    ]
   },
   "source": [
    "\n",
    "## Das Problem mit dem direkten Ansatz\n",
    "\n",
    "- Die API-Parameter sind **komplex** und schwer zu merken\n",
    "- Die Antwort-Struktur ist **verschachtelt** und umständlich\n",
    "- Man muss die **API-Dokumentation** ständig konsultieren\n",
    "- **Fehleranfällig:** Kleine Fehler in Parametern führen zu Problemen\n",
    "- Viel **Boilerplate-Code** nötig"
   ]
  },
  {
   "cell_type": "markdown",
   "id": "c44182c81a274648",
   "metadata": {
    "lang": "de",
    "slideshow": {
     "slide_type": "slide"
    },
    "tags": [
     "slide"
    ]
   },
   "source": [
    "\n",
    "## Der einfache Weg: Die `pymediawiki` Bibliothek\n",
    "\n",
    "Die `pymediawiki`-Bibliothek vereinfacht alles!\n",
    "\n",
    "```bash\n",
    "pip install pymediawiki\n",
    "```"
   ]
  },
  {
   "cell_type": "code",
   "execution_count": null,
   "id": "700f9234e22a45bf",
   "metadata": {
    "slideshow": {
     "slide_type": "subslide"
    },
    "tags": [
     "subslide",
     "keep"
    ]
   },
   "outputs": [],
   "source": [
    "!pip install pymediawiki --root-user-action ignore"
   ]
  },
  {
   "cell_type": "code",
   "execution_count": null,
   "id": "99aa6da90c2d4343",
   "metadata": {
    "tags": [
     "keep"
    ]
   },
   "outputs": [],
   "source": [
    "from mediawiki import MediaWiki"
   ]
  },
  {
   "cell_type": "markdown",
   "id": "c69e05ca1f69c5ca",
   "metadata": {
    "lang": "de",
    "slideshow": {
     "slide_type": "subslide"
    },
    "tags": [
     "subslide"
    ]
   },
   "source": [
    "\n",
    "### MediaWiki-Objekt erstellen"
   ]
  },
  {
   "cell_type": "code",
   "execution_count": null,
   "id": "54a3dbeb05589f39",
   "metadata": {
    "tags": [
     "keep"
    ]
   },
   "outputs": [],
   "source": [
    "api_url = \"https://en.wikipedia.org/w/api.php\""
   ]
  },
  {
   "cell_type": "code",
   "execution_count": null,
   "id": "37a05640b4eb24e9",
   "metadata": {},
   "outputs": [],
   "source": []
  },
  {
   "cell_type": "markdown",
   "id": "3c7747ac91d260a6",
   "metadata": {
    "lang": "de",
    "slideshow": {
     "slide_type": "subslide"
    },
    "tags": [
     "subslide"
    ]
   },
   "source": [
    "\n",
    "### Suchen - viel einfacher!\n",
    "\n",
    "Einfach eine Liste von Titeln"
   ]
  },
  {
   "cell_type": "code",
   "execution_count": null,
   "id": "a30925b963ead034",
   "metadata": {},
   "outputs": [],
   "source": []
  },
  {
   "cell_type": "code",
   "execution_count": null,
   "id": "850559fd958ba85c",
   "metadata": {},
   "outputs": [],
   "source": []
  },
  {
   "cell_type": "code",
   "execution_count": null,
   "id": "51b5a1908d062c19",
   "metadata": {},
   "outputs": [],
   "source": []
  },
  {
   "cell_type": "markdown",
   "id": "d4d061778576bb9b",
   "metadata": {
    "lang": "de",
    "slideshow": {
     "slide_type": "subslide"
    },
    "tags": [
     "subslide"
    ]
   },
   "source": [
    "\n",
    "### Zusammenfassung abrufen - noch einfacher!\n",
    "\n",
    "Direkt der Text, keine verschachtelte Struktur!"
   ]
  },
  {
   "cell_type": "code",
   "execution_count": null,
   "id": "09d6cf0f4720bb64",
   "metadata": {},
   "outputs": [],
   "source": []
  },
  {
   "cell_type": "code",
   "execution_count": null,
   "id": "626c6e376f3125bd",
   "metadata": {},
   "outputs": [],
   "source": []
  },
  {
   "cell_type": "markdown",
   "id": "5df050f7d3b035d2",
   "metadata": {
    "lang": "de",
    "slideshow": {
     "slide_type": "subslide"
    },
    "tags": [
     "subslide"
    ]
   },
   "source": [
    "\n",
    "## Vergleich: Direkt vs. Bibliothek\n",
    "\n",
    "**Mit `requests` (direkt):**\n",
    "```python\n",
    "# Viele Parameter, komplexe Struktur\n",
    "result = requests.get(api_url, params={\n",
    "    \"action\": \"query\",\n",
    "    \"list\": \"search\",\n",
    "    \"srsearch\": search_term,\n",
    "    \"format\": \"json\",\n",
    "    \"srlimit\": 5,\n",
    "})\n",
    "titles = result[\"query\"][\"search\"]  # Verschachtelt!\n",
    "```\n",
    "\n",
    "**Mit `pymediawiki`:**\n",
    "```python\n",
    "# Einfach und klar\n",
    "titles = mediawiki.search(\"Python\")\n",
    "```"
   ]
  },
  {
   "cell_type": "markdown",
   "id": "9cadae056c322436",
   "metadata": {
    "lang": "de",
    "slideshow": {
     "slide_type": "slide"
    },
    "tags": [
     "slide"
    ]
   },
   "source": [
    "\n",
    "### Vollständigen Seiteninhalt abrufen"
   ]
  },
  {
   "cell_type": "code",
   "execution_count": null,
   "id": "8eedcb5b1f624938",
   "metadata": {},
   "outputs": [],
   "source": []
  },
  {
   "cell_type": "markdown",
   "id": "6c8da39a894bcaf0",
   "metadata": {
    "lang": "de",
    "slideshow": {
     "slide_type": "subslide"
    },
    "tags": [
     "subslide"
    ]
   },
   "source": [
    "\n",
    "Verschieden Informationen sind abrufbar:"
   ]
  },
  {
   "cell_type": "code",
   "execution_count": null,
   "id": "6231ee43a2fa4295",
   "metadata": {},
   "outputs": [],
   "source": []
  },
  {
   "cell_type": "code",
   "execution_count": null,
   "id": "b8248407581278d3",
   "metadata": {},
   "outputs": [],
   "source": []
  },
  {
   "cell_type": "code",
   "execution_count": null,
   "id": "83798baedba2f096",
   "metadata": {},
   "outputs": [],
   "source": []
  },
  {
   "cell_type": "markdown",
   "id": "9a4decca5b683a34",
   "metadata": {
    "lang": "de",
    "slideshow": {
     "slide_type": "subslide"
    },
    "tags": [
     "subslide"
    ]
   },
   "source": [
    "\n",
    "Die ersten 4 Links"
   ]
  },
  {
   "cell_type": "code",
   "execution_count": null,
   "id": "9e827cd13b543e3d",
   "metadata": {},
   "outputs": [],
   "source": []
  },
  {
   "cell_type": "markdown",
   "id": "9190ba014d3a6af2",
   "metadata": {
    "lang": "de"
   },
   "source": [
    "\n",
    "Die ersten 4 Kategorien"
   ]
  },
  {
   "cell_type": "code",
   "execution_count": null,
   "id": "3c8f92b7bdc77dc9",
   "metadata": {},
   "outputs": [],
   "source": []
  },
  {
   "cell_type": "markdown",
   "id": "0b5b1c7559577141",
   "metadata": {
    "lang": "de"
   },
   "source": [
    "\n",
    "Die ersten 4 Abschnitte"
   ]
  },
  {
   "cell_type": "code",
   "execution_count": null,
   "id": "e8aa5a02d9560a82",
   "metadata": {},
   "outputs": [],
   "source": []
  },
  {
   "cell_type": "markdown",
   "id": "56e4a29cce354213",
   "metadata": {
    "lang": "de",
    "slideshow": {
     "slide_type": "slide"
    },
    "tags": [
     "slide"
    ]
   },
   "source": [
    "\n",
    "## Andere Beispiele für Custom API Libraries\n",
    "\n",
    "Viele beliebte Services bieten eigene Libraries:\n",
    "\n",
    "- **OpenAI:** `openai` - für ChatGPT, DALL-E, etc.\n",
    "- **Google:** `google-cloud-*` - für Google Cloud Services\n",
    "- **AWS:** `boto3` - für Amazon Web Services\n",
    "- **Twitter:** `tweepy` - für Twitter API\n",
    "- **Stripe:** `stripe` - für Zahlungsabwicklung\n",
    "- **GitHub:** `PyGithub` - für GitHub API\n",
    "- **Spotify:** `spotipy` - für Spotify API"
   ]
  },
  {
   "cell_type": "markdown",
   "id": "373af8796a9b577b",
   "metadata": {
    "lang": "de",
    "slideshow": {
     "slide_type": "subslide"
    },
    "tags": [
     "subslide"
    ]
   },
   "source": [
    "\n",
    "## Wann sollten Sie Custom Libraries verwenden?\n",
    "\n",
    "**Vorteile:**\n",
    "- ✅ **Einfacher zu benutzen** - weniger Code, klare API\n",
    "- ✅ **Weniger Fehler** - Library kümmert sich um Details\n",
    "- ✅ **Bessere Dokumentation** - meist gut dokumentiert\n",
    "- ✅ **Wartung** - Updates werden von den Entwicklern gemacht\n",
    "\n",
    "**Nachteile:**\n",
    "- ❌ **Zusätzliche Abhängigkeit** - ein weiteres Package\n",
    "- ❌ **Lernkurve** - Sie müssen die Library lernen\n",
    "- ❌ **Mögliche Limitierungen** - Library bietet vielleicht nicht alles"
   ]
  },
  {
   "cell_type": "markdown",
   "id": "6abdb13156353c1e",
   "metadata": {
    "lang": "de",
    "slideshow": {
     "slide_type": "slide"
    },
    "tags": [
     "slide"
    ]
   },
   "source": [
    "\n",
    "## Zusammenfassung\n",
    "\n",
    "### Custom API Libraries\n",
    "- Vereinfachen die Arbeit mit komplexen APIs\n",
    "- Kümmern sich um technische Details\n",
    "- Bieten eine klare, pythonische Schnittstelle\n",
    "\n",
    "### Empfehlung\n",
    "- Prüfen Sie immer, ob eine offizielle Library existiert\n",
    "- Bei LLM-Services: Nutzen Sie die offiziellen SDKs (z.B. `openai`)"
   ]
  },
  {
   "cell_type": "markdown",
   "id": "db00d59db8cdf8fc",
   "metadata": {
    "lang": "de",
    "lines_to_next_cell": 2,
    "slideshow": {
     "slide_type": "subslide"
    },
    "tags": [
     "subslide"
    ]
   },
   "source": [
    "\n",
    "### `pymediawiki` Beispiel\n",
    "\n",
    "- `mediawiki.search(term)` - Suche nach Artikeln\n",
    "- `mediawiki.summary(title)` - Zusammenfassung abrufen\n",
    "- `mediawiki.page(title)` - Vollständige Seite mit allen Details"
   ]
  },
  {
   "cell_type": "markdown",
   "id": "10acff9ad4d91f4f",
   "metadata": {
    "lang": "de",
    "slideshow": {
     "slide_type": "slide"
    },
    "tags": [
     "slide"
    ]
   },
   "source": [
    "\n",
    "## Mini-Workshop: Wikipedia Explorer\n",
    "\n",
    "Erstellen Sie ein Programm, das:\n",
    "1. Nach einem Begriff sucht\n",
    "2. Alle gefundenen Artikel auflistet\n",
    "3. Für den ersten Artikel:\n",
    "   - Die Zusammenfassung ausgibt\n",
    "   - Die ersten 5 Links auflistet\n",
    "   - Die ersten 5 Kategorien auflistet"
   ]
  },
  {
   "cell_type": "code",
   "execution_count": null,
   "id": "0c9990adee8edf30",
   "metadata": {
    "slideshow": {
     "slide_type": "subslide"
    },
    "tags": [
     "subslide"
    ]
   },
   "outputs": [],
   "source": []
  },
  {
   "cell_type": "code",
   "execution_count": null,
   "id": "de3ad930320f57dc",
   "metadata": {},
   "outputs": [],
   "source": []
  },
  {
   "cell_type": "code",
   "execution_count": null,
   "id": "43a2b5ae19fb69e3",
   "metadata": {},
   "outputs": [],
   "source": []
  },
  {
   "cell_type": "code",
   "execution_count": null,
   "id": "87f814dfacf3718b",
   "metadata": {},
   "outputs": [],
   "source": []
  },
  {
   "cell_type": "code",
   "execution_count": null,
   "id": "3105835cd5012b77",
   "metadata": {},
   "outputs": [],
   "source": []
  },
  {
   "cell_type": "code",
   "execution_count": null,
   "id": "bff00b119c47eeb8",
   "metadata": {},
   "outputs": [],
   "source": []
  },
  {
   "cell_type": "code",
   "execution_count": null,
   "id": "f7c36f1460853134",
   "metadata": {},
   "outputs": [],
   "source": []
  },
  {
   "cell_type": "code",
   "execution_count": null,
   "id": "a714bf205e68d5e0",
   "metadata": {},
   "outputs": [],
   "source": []
  },
  {
   "cell_type": "code",
   "execution_count": null,
   "id": "dff631cff92f0348",
   "metadata": {},
   "outputs": [],
   "source": []
  },
  {
   "cell_type": "code",
   "execution_count": null,
   "id": "7afea322c3bfb570",
   "metadata": {},
   "outputs": [],
   "source": []
  },
  {
   "cell_type": "code",
   "execution_count": null,
   "id": "4aa76a0222cf4dd2",
   "metadata": {},
   "outputs": [],
   "source": []
  },
  {
   "cell_type": "code",
   "execution_count": null,
   "id": "6b4e03423667dbb7",
   "metadata": {},
   "outputs": [],
   "source": []
  }
 ],
 "metadata": {
  "jupytext": {
   "cell_metadata_filter": "lang,tags,-all",
   "main_language": "python",
   "notebook_metadata_filter": "-all"
  },
  "kernelspec": {
   "display_name": "Python 3 (ipykernel)",
   "language": "python",
   "name": "python3"
  },
  "language_info": {
   "codemirror_mode": {
    "name": "ipython",
    "version": 3
   },
   "file_extension": ".py",
   "mimetype": "text/x-python",
   "name": "python",
   "nbconvert_exporter": "python",
   "pygments_lexer": "ipython3"
  }
 },
 "nbformat": 4,
 "nbformat_minor": 5
}
