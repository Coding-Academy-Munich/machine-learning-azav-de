{
 "cells": [
  {
   "cell_type": "markdown",
   "id": "ba31604838350051",
   "metadata": {
    "lang": "de",
    "slideshow": {
     "slide_type": "slide"
    },
    "tags": [
     "slide"
    ]
   },
   "source": [
    "\n",
    "<img src=\"data:image/svg+xml;base64,PHN2ZyB4bWxucz0iaHR0cDovL3d3dy53My5vcmcvMjAwMC9zdmciIHhtbG5zOnhsaW5rPSJodHRw\n",
    "Oi8vd3d3LnczLm9yZy8xOTk5L3hsaW5rIiB3aWR0aD0iMTExLjE2MSIgaGVpZ2h0PSIxMzQuNjY4\n",
    "IiB2ZXJzaW9uPSIxLjAiPjxkZWZzPjxsaW5lYXJHcmFkaWVudCBpZD0iYyI+PHN0b3Agb2Zmc2V0\n",
    "PSIwIiBzdHlsZT0ic3RvcC1jb2xvcjojYjhiOGI4O3N0b3Atb3BhY2l0eTouNDk4MDM5MjIiLz48\n",
    "c3RvcCBvZmZzZXQ9IjEiIHN0eWxlPSJzdG9wLWNvbG9yOiM3ZjdmN2Y7c3RvcC1vcGFjaXR5OjAi\n",
    "Lz48L2xpbmVhckdyYWRpZW50PjxsaW5lYXJHcmFkaWVudCBpZD0iYSI+PHN0b3Agb2Zmc2V0PSIw\n",
    "IiBzdHlsZT0ic3RvcC1jb2xvcjojZmZkNDNiO3N0b3Atb3BhY2l0eToxIi8+PHN0b3Agb2Zmc2V0\n",
    "PSIxIiBzdHlsZT0ic3RvcC1jb2xvcjojZmZlODczO3N0b3Atb3BhY2l0eToxIi8+PC9saW5lYXJH\n",
    "cmFkaWVudD48bGluZWFyR3JhZGllbnQgaWQ9ImIiPjxzdG9wIG9mZnNldD0iMCIgc3R5bGU9InN0\n",
    "b3AtY29sb3I6IzVhOWZkNDtzdG9wLW9wYWNpdHk6MSIvPjxzdG9wIG9mZnNldD0iMSIgc3R5bGU9\n",
    "InN0b3AtY29sb3I6IzMwNjk5ODtzdG9wLW9wYWNpdHk6MSIvPjwvbGluZWFyR3JhZGllbnQ+PGxp\n",
    "bmVhckdyYWRpZW50IHhsaW5rOmhyZWY9IiNhIiBpZD0iZSIgeDE9IjE1MC45NjEiIHgyPSIxMTIu\n",
    "MDMxIiB5MT0iMTkyLjM1MiIgeTI9IjEzNy4yNzMiIGdyYWRpZW50VHJhbnNmb3JtPSJtYXRyaXgo\n",
    "LjU2MjU0IDAgMCAuNTY3OTcgLTE0Ljk5MSAtMTEuNzAyKSIgZ3JhZGllbnRVbml0cz0idXNlclNw\n",
    "YWNlT25Vc2UiLz48bGluZWFyR3JhZGllbnQgeGxpbms6aHJlZj0iI2IiIGlkPSJkIiB4MT0iMjYu\n",
    "NjQ5IiB4Mj0iMTM1LjY2NSIgeTE9IjIwLjYwNCIgeTI9IjExNC4zOTgiIGdyYWRpZW50VHJhbnNm\n",
    "b3JtPSJtYXRyaXgoLjU2MjU0IDAgMCAuNTY3OTcgLTE0Ljk5MSAtMTEuNzAyKSIgZ3JhZGllbnRV\n",
    "bml0cz0idXNlclNwYWNlT25Vc2UiLz48cmFkaWFsR3JhZGllbnQgeGxpbms6aHJlZj0iI2MiIGlk\n",
    "PSJmIiBjeD0iNjEuNTE5IiBjeT0iMTMyLjI4NiIgcj0iMjkuMDM3IiBmeD0iNjEuNTE5IiBmeT0i\n",
    "MTMyLjI4NiIgZ3JhZGllbnRUcmFuc2Zvcm09Im1hdHJpeCgwIC0uMjM5OTUgMS4wNTQ2NyAwIC04\n",
    "My43IDE0Mi40NjIpIiBncmFkaWVudFVuaXRzPSJ1c2VyU3BhY2VPblVzZSIvPjwvZGVmcz48cGF0\n",
    "aCBkPSJNNTQuOTE5IDBjLTQuNTg0LjAyMi04Ljk2MS40MTMtMTIuODEzIDEuMDk1QzMwLjc2IDMu\n",
    "MDk5IDI4LjcgNy4yOTUgMjguNyAxNS4wMzJ2MTAuMjE5aDI2LjgxM3YzLjQwNkgxOC42MzhjLTcu\n",
    "NzkzIDAtMTQuNjE2IDQuNjg0LTE2Ljc1IDEzLjU5NC0yLjQ2MiAxMC4yMTMtMi41NzEgMTYuNTg2\n",
    "IDAgMjcuMjUgMS45MDUgNy45MzggNi40NTcgMTMuNTk0IDE0LjI1IDEzLjU5NGg5LjIxOHYtMTIu\n",
    "MjVjMC04Ljg1IDcuNjU3LTE2LjY1NyAxNi43NS0xNi42NTdoMjYuNzgyYzcuNDU0IDAgMTMuNDA2\n",
    "LTYuMTM4IDEzLjQwNi0xMy42MjV2LTI1LjUzYzAtNy4yNjctNi4xMy0xMi43MjYtMTMuNDA2LTEz\n",
    "LjkzOEM2NC4yODIuMzI4IDU5LjUwMi0uMDIgNTQuOTE4IDBtLTE0LjUgOC4yMmMyLjc3IDAgNS4w\n",
    "MzEgMi4yOTggNS4wMzEgNS4xMjUgMCAyLjgxNi0yLjI2MiA1LjA5My01LjAzMSA1LjA5My0yLjc4\n",
    "IDAtNS4wMzEtMi4yNzctNS4wMzEtNS4wOTMgMC0yLjgyNyAyLjI1MS01LjEyNSA1LjAzLTUuMTI1\n",
    "IiBzdHlsZT0iZmlsbDp1cmwoI2QpO2ZpbGwtb3BhY2l0eToxIi8+PHBhdGggZD0iTTg1LjYzOCAy\n",
    "OC42NTd2MTEuOTA2YzAgOS4yMzEtNy44MjYgMTctMTYuNzUgMTdINDIuMTA2Yy03LjMzNiAwLTEz\n",
    "LjQwNiA2LjI3OS0xMy40MDYgMTMuNjI1Vjk2LjcyYzAgNy4yNjYgNi4zMTkgMTEuNTQgMTMuNDA2\n",
    "IDEzLjYyNSA4LjQ4OCAyLjQ5NSAxNi42MjcgMi45NDYgMjYuNzgyIDAgNi43NS0xLjk1NSAxMy40\n",
    "MDYtNS44ODggMTMuNDA2LTEzLjYyNVY4Ni41SDU1LjUxM3YtMy40MDVIOTUuN2M3Ljc5MyAwIDEw\n",
    "LjY5Ni01LjQzNiAxMy40MDYtMTMuNTk0IDIuOC04LjM5OSAyLjY4LTE2LjQ3NiAwLTI3LjI1LTEu\n",
    "OTI1LTcuNzU4LTUuNjA0LTEzLjU5NC0xMy40MDYtMTMuNTk0ek03MC41NzUgOTMuMzEzYzIuNzgg\n",
    "MCA1LjAzMSAyLjI3OCA1LjAzMSA1LjA5NCAwIDIuODI3LTIuMjUxIDUuMTI1LTUuMDMxIDUuMTI1\n",
    "LTIuNzcgMC01LjAzMS0yLjI5OC01LjAzMS01LjEyNSAwLTIuODE2IDIuMjYxLTUuMDk0IDUuMDMx\n",
    "LTUuMDk0IiBzdHlsZT0iZmlsbDp1cmwoI2UpO2ZpbGwtb3BhY2l0eToxIi8+PGVsbGlwc2UgY3g9\n",
    "IjU1LjgxNyIgY3k9IjEyNy43MDEiIHJ4PSIzNS45MzEiIHJ5PSI2Ljk2NyIgc3R5bGU9Im9wYWNp\n",
    "dHk6LjQ0MzgyO2ZpbGw6dXJsKCNmKTtmaWxsLW9wYWNpdHk6MTtmaWxsLXJ1bGU6bm9uemVybztz\n",
    "dHJva2U6bm9uZTtzdHJva2Utd2lkdGg6MTUuNDE3NDtzdHJva2UtbWl0ZXJsaW1pdDo0O3N0cm9r\n",
    "ZS1kYXNoYXJyYXk6bm9uZTtzdHJva2Utb3BhY2l0eToxIi8+PC9zdmc+\n",
    "\"\n",
    "     style=\"display:block;margin:auto;width:10%\" alt=\"Python Logo\"/>\n",
    "<br>\n",
    "\n",
    "<div style=\"text-align:center; font-size:200%;\">\n",
    " <b>Multivariate Vorhersagen verstehen</b>\n",
    "</div>\n",
    "<br/>\n",
    "<div style=\"text-align:center;\">Dr. Matthias Hölzl</div>\n",
    "<br/>"
   ]
  },
  {
   "cell_type": "markdown",
   "id": "88d22594f495bc75",
   "metadata": {
    "lang": "de",
    "slideshow": {
     "slide_type": "slide"
    },
    "tags": [
     "slide"
    ]
   },
   "source": [
    "\n",
    "## Was wir bereits wissen\n",
    "\n",
    "- Univariate Regression: Eine Eingabe → Eine Ausgabe\n",
    "- Beispiel: `Lieferzeit = 2 × Entfernung + 10`\n",
    "- Wir haben bereits multivariate Modelle mit Scikit-Learn trainiert\n",
    "- Aber wie funktionieren sie wirklich?"
   ]
  },
  {
   "cell_type": "markdown",
   "id": "f6f63523a59b84fa",
   "metadata": {
    "lang": "de",
    "slideshow": {
     "slide_type": "subslide"
    },
    "tags": [
     "subslide"
    ]
   },
   "source": [
    "\n",
    "## Erinnerung: Univariate Regression\n",
    "\n",
    "Pizza-Lieferzeit basierend auf Entfernung: Einfaches univariates Modell"
   ]
  },
  {
   "cell_type": "code",
   "execution_count": null,
   "id": "c7ac25d53660344e",
   "metadata": {
    "tags": [
     "keep"
    ]
   },
   "outputs": [],
   "source": [
    "distance = 5.0  # km\n",
    "coefficient = 2.0  # minutes per km\n",
    "intercept = 10.0  # base time in minutes"
   ]
  },
  {
   "cell_type": "code",
   "execution_count": null,
   "id": "96683e3d4a423be2",
   "metadata": {
    "tags": [
     "keep"
    ]
   },
   "outputs": [],
   "source": [
    "delivery_time = coefficient * distance + intercept"
   ]
  },
  {
   "cell_type": "markdown",
   "id": "a7926f52864e33b9",
   "metadata": {
    "lang": "de"
   },
   "source": [
    "\n",
    "Entfernung ist das einzige Feature:"
   ]
  },
  {
   "cell_type": "code",
   "execution_count": null,
   "id": "70165fb490ff1565",
   "metadata": {
    "tags": [
     "keep"
    ]
   },
   "outputs": [],
   "source": [
    "distance"
   ]
  },
  {
   "cell_type": "markdown",
   "id": "f29803c0d13528e6",
   "metadata": {
    "lang": "de"
   },
   "source": [
    "\n",
    "Als Ergebnis erhalten wir die vorhergesagte Lieferzeit:"
   ]
  },
  {
   "cell_type": "code",
   "execution_count": null,
   "id": "b8840bc8033d3d7f",
   "metadata": {
    "tags": [
     "keep"
    ]
   },
   "outputs": [],
   "source": [
    "delivery_time"
   ]
  },
  {
   "cell_type": "markdown",
   "id": "8aa8c863a85cab59",
   "metadata": {
    "lang": "de",
    "slideshow": {
     "slide_type": "subslide"
    },
    "tags": [
     "subslide"
    ]
   },
   "source": [
    "\n",
    "## Von einem zu mehreren Features\n",
    "\n",
    "Was beeinflusst die Lieferzeit noch?\n",
    "- Entfernung (km)\n",
    "- Verkehrslage (0-10 Skala)\n",
    "- Anzahl der Pizzen\n",
    "Wir haben jetzt mehrere Features!"
   ]
  },
  {
   "cell_type": "code",
   "execution_count": null,
   "id": "27906d554d4b1f96",
   "metadata": {
    "tags": [
     "keep"
    ]
   },
   "outputs": [],
   "source": [
    "distance = 5.0\n",
    "traffic = 7.0  # heavy traffic\n",
    "num_pizzas = 3"
   ]
  },
  {
   "cell_type": "markdown",
   "id": "c57b296cb8119487",
   "metadata": {
    "lang": "de"
   },
   "source": [
    "\n",
    "Wie kombinieren wir diese?"
   ]
  },
  {
   "cell_type": "markdown",
   "id": "39a768476116969b",
   "metadata": {
    "lang": "de",
    "slideshow": {
     "slide_type": "slide"
    },
    "tags": [
     "slide"
    ]
   },
   "source": [
    "\n",
    "## Multivariate Vorhersage: Die Idee\n",
    "\n",
    "Jedes Feature trägt zur Vorhersage bei:\n",
    "- Jedes Feature hat einen eigenen Koeffizienten\n",
    "- Wir multiplizieren Feature × Koeffizient\n",
    "- Dann addieren wir alle Beiträge"
   ]
  },
  {
   "cell_type": "markdown",
   "id": "34e76acf3049b2ac",
   "metadata": {
    "lang": "de",
    "slideshow": {
     "slide_type": "subslide"
    },
    "tags": [
     "subslide"
    ]
   },
   "source": [
    "\n",
    "## Beispiel: Pizza-Lieferzeit mit 3 Features"
   ]
  },
  {
   "cell_type": "markdown",
   "id": "ac301fdbdb0428b3",
   "metadata": {
    "lang": "de"
   },
   "source": [
    "\n",
    "Gegebene Modellkoeffizienten (bereits trainiert)"
   ]
  },
  {
   "cell_type": "code",
   "execution_count": null,
   "id": "73fbc43ca5feb363",
   "metadata": {
    "tags": [
     "keep"
    ]
   },
   "outputs": [],
   "source": [
    "coef_distance = 2.0    # minutes per km\n",
    "coef_traffic = 1.5     # minutes per traffic unit\n",
    "coef_pizzas = 0.5      # minutes per pizza\n",
    "intercept = 8.0        # base time"
   ]
  },
  {
   "cell_type": "markdown",
   "id": "575f9aefc6f70fa9",
   "metadata": {
    "lang": "de"
   },
   "source": [
    "\n",
    "Features für eine Bestellung"
   ]
  },
  {
   "cell_type": "code",
   "execution_count": null,
   "id": "420a9e9a4e3f837f",
   "metadata": {
    "tags": [
     "keep"
    ]
   },
   "outputs": [],
   "source": [
    "distance = 5.0\n",
    "traffic = 7.0\n",
    "num_pizzas = 3"
   ]
  },
  {
   "cell_type": "markdown",
   "id": "2b82a612b5716031",
   "metadata": {
    "lang": "de",
    "slideshow": {
     "slide_type": "subslide"
    },
    "tags": [
     "subslide"
    ]
   },
   "source": [
    "\n",
    "Berechne Vorhersage Schritt für Schritt"
   ]
  },
  {
   "cell_type": "code",
   "execution_count": null,
   "id": "6e79a180534b2276",
   "metadata": {
    "tags": [
     "keep"
    ]
   },
   "outputs": [],
   "source": [
    "contribution_distance = coef_distance * distance\n",
    "contribution_traffic = coef_traffic * traffic\n",
    "contribution_pizzas = coef_pizzas * num_pizzas"
   ]
  },
  {
   "cell_type": "code",
   "execution_count": null,
   "id": "474350439bf1dff0",
   "metadata": {
    "tags": [
     "keep"
    ]
   },
   "outputs": [],
   "source": [
    "print(f\"Distance contribution: {coef_distance} × {distance} = {contribution_distance} min\")\n",
    "print(f\"Traffic contribution: {coef_traffic} × {traffic} = {contribution_traffic} min\")\n",
    "print(f\"Pizza contribution: {coef_pizzas} × {num_pizzas} = {contribution_pizzas} min\")\n",
    "print(f\"Base time (intercept): {intercept} min\")"
   ]
  },
  {
   "cell_type": "code",
   "execution_count": null,
   "id": "e70c74ef9dbbf705",
   "metadata": {
    "tags": [
     "keep"
    ]
   },
   "outputs": [],
   "source": [
    "total_time = contribution_distance + contribution_traffic + contribution_pizzas + intercept"
   ]
  },
  {
   "cell_type": "code",
   "execution_count": null,
   "id": "6a1955c140ea1c2a",
   "metadata": {
    "tags": [
     "keep"
    ]
   },
   "outputs": [],
   "source": [
    "print(f\"\\nTotal predicted time: {total_time} minutes\")"
   ]
  },
  {
   "cell_type": "markdown",
   "id": "eb822427220246af",
   "metadata": {
    "lang": "de",
    "slideshow": {
     "slide_type": "slide"
    },
    "tags": [
     "slide"
    ]
   },
   "source": [
    "\n",
    "## Das Muster erkennen\n",
    "\n",
    "Die Berechnung folgt immer dem gleichen Muster:\n",
    "1. Multipliziere jedes Feature mit seinem Koeffizienten\n",
    "2. Addiere alle Produkte\n",
    "3. Addiere den Intercept"
   ]
  },
  {
   "cell_type": "markdown",
   "id": "c479abc1a47f61f5",
   "metadata": {
    "lang": "de",
    "slideshow": {
     "slide_type": "subslide"
    },
    "tags": [
     "subslide"
    ]
   },
   "source": [
    "\n",
    "## Mit Listen organisieren\n",
    "\n",
    "- Organisiere Features und Koeffizienten als Listen"
   ]
  },
  {
   "cell_type": "code",
   "execution_count": null,
   "id": "bd392bfe5930da19",
   "metadata": {
    "tags": [
     "keep"
    ]
   },
   "outputs": [],
   "source": [
    "features = [distance, traffic, num_pizzas]\n",
    "coefficients = [coef_distance, coef_traffic, coef_pizzas]  # corresponding coefficients\n",
    "intercept = 8.0"
   ]
  },
  {
   "cell_type": "code",
   "execution_count": null,
   "id": "714ea304637009a6",
   "metadata": {
    "tags": [
     "keep"
    ]
   },
   "outputs": [],
   "source": [
    "feature_names = [\"distance_km\", \"traffic_level\", \"num_pizzas\"]"
   ]
  },
  {
   "cell_type": "markdown",
   "id": "00fc6f54412ba50b",
   "metadata": {
    "lang": "de",
    "slideshow": {
     "slide_type": "subslide"
    },
    "tags": [
     "subslide"
    ]
   },
   "source": [
    "\n",
    "Berechne mit Listen"
   ]
  },
  {
   "cell_type": "code",
   "execution_count": null,
   "id": "7bd907497dc527dc",
   "metadata": {
    "tags": [
     "keep"
    ]
   },
   "outputs": [],
   "source": [
    "prediction = 0\n",
    "for i in range(len(features)):\n",
    "    contribution = features[i] * coefficients[i]\n",
    "    prediction += contribution\n",
    "    print(f\"Feature {i}: {features[i]} × {coefficients[i]} = {contribution}\")"
   ]
  },
  {
   "cell_type": "code",
   "execution_count": null,
   "id": "1681aa7e6efbc132",
   "metadata": {
    "tags": [
     "keep"
    ]
   },
   "outputs": [],
   "source": [
    "prediction += intercept\n",
    "print(f\"Plus intercept: {intercept}\")\n",
    "print(f\"Total prediction: {prediction}\")"
   ]
  },
  {
   "cell_type": "markdown",
   "id": "843ee4e7265059b2",
   "metadata": {
    "lang": "de",
    "slideshow": {
     "slide_type": "subslide"
    },
    "tags": [
     "subslide"
    ]
   },
   "source": [
    "\n",
    "## Kompaktere Schreibweise\n",
    "\n",
    "- Verwende zip um Features mit Koeffizienten zu paaren"
   ]
  },
  {
   "cell_type": "code",
   "execution_count": null,
   "id": "669929961d23ac6d",
   "metadata": {
    "tags": [
     "keep"
    ]
   },
   "outputs": [],
   "source": [
    "prediction = sum(f * c for f, c in zip(features, coefficients)) + intercept"
   ]
  },
  {
   "cell_type": "code",
   "execution_count": null,
   "id": "135abf15f14aa97b",
   "metadata": {
    "tags": [
     "keep"
    ]
   },
   "outputs": [],
   "source": [
    "print(f\"Prediction: {prediction} minutes\")"
   ]
  },
  {
   "cell_type": "markdown",
   "id": "7e7b0c3a04a1102f",
   "metadata": {
    "lang": "de",
    "slideshow": {
     "slide_type": "subslide"
    },
    "tags": [
     "subslide"
    ]
   },
   "source": [
    "\n",
    "Welches Feature hat den größten Einfluss?"
   ]
  },
  {
   "cell_type": "code",
   "execution_count": null,
   "id": "c473eebdc0a3e03f",
   "metadata": {
    "tags": [
     "keep"
    ]
   },
   "outputs": [],
   "source": [
    "contributions = [f * c for f, c in zip(features, coefficients)]"
   ]
  },
  {
   "cell_type": "code",
   "execution_count": null,
   "id": "3668d039c7232c76",
   "metadata": {},
   "outputs": [],
   "source": []
  },
  {
   "cell_type": "code",
   "execution_count": null,
   "id": "5251c0663438b5b2",
   "metadata": {},
   "outputs": [],
   "source": []
  },
  {
   "cell_type": "code",
   "execution_count": null,
   "id": "7f13304f020a9a8c",
   "metadata": {},
   "outputs": [],
   "source": []
  },
  {
   "cell_type": "code",
   "execution_count": null,
   "id": "31c6bdd3899a0e58",
   "metadata": {},
   "outputs": [],
   "source": []
  },
  {
   "cell_type": "markdown",
   "id": "d5653c5992d1145a",
   "metadata": {
    "lang": "de",
    "slideshow": {
     "slide_type": "subslide"
    },
    "tags": [
     "subslide"
    ]
   },
   "source": [
    "\n",
    "Wie können wir den Einfluss der Features visualisieren?"
   ]
  },
  {
   "cell_type": "code",
   "execution_count": null,
   "id": "b2169c37a252a357",
   "metadata": {
    "tags": [
     "keep"
    ]
   },
   "outputs": [],
   "source": [
    "import matplotlib.pyplot as plt"
   ]
  },
  {
   "cell_type": "code",
   "execution_count": null,
   "id": "ef8f274a48cd495d",
   "metadata": {
    "tags": [
     "keep"
    ]
   },
   "outputs": [],
   "source": [
    "plt.bar(range(len(features)), contributions)\n",
    "plt.xticks(range(len(features)), [f\"{name}\" for name in feature_names])\n",
    "plt.ylabel(\"Contribution to Prediction\")\n",
    "plt.title(\"Feature Contributions to Prediction\")\n",
    "plt.show()"
   ]
  },
  {
   "cell_type": "markdown",
   "id": "48076960b0ddb500",
   "metadata": {
    "lang": "de",
    "slideshow": {
     "slide_type": "slide"
    },
    "tags": [
     "slide"
    ]
   },
   "source": [
    "\n",
    "## Beispiel: Hauspreise\n",
    "\n",
    "Ein komplexeres Beispiel mit mehr Features:\n",
    "Hauspreismodell (Koeffizienten in Tausend Euro)"
   ]
  },
  {
   "cell_type": "code",
   "execution_count": null,
   "id": "2a9b564a5521bad6",
   "metadata": {
    "tags": [
     "keep"
    ]
   },
   "outputs": [],
   "source": [
    "feature_names = [\"size_sqm\", \"bedrooms\", \"bathrooms\", \"age_years\", \"garage\"]\n",
    "coefficients = [0.3, 20.0, 15.0, -2.0, 25.0]\n",
    "intercept = 50.0  # base price in thousands"
   ]
  },
  {
   "cell_type": "code",
   "execution_count": null,
   "id": "d4ac2ec39036be75",
   "metadata": {
    "tags": [
     "keep"
    ]
   },
   "outputs": [],
   "source": [
    "print(\"House Price Model:\")\n",
    "print(\"-\" * 40)\n",
    "for name, coef in zip(feature_names, coefficients):\n",
    "    print(f\"{name:15} : {coef:+8.1f}k€\")\n",
    "print(f\"{'Base price':15} : {intercept:8.1f}k€\")"
   ]
  },
  {
   "cell_type": "markdown",
   "id": "f7774e20e196ec58",
   "metadata": {
    "lang": "de",
    "slideshow": {
     "slide_type": "subslide"
    },
    "tags": [
     "subslide"
    ]
   },
   "source": [
    "\n",
    "### Vorhersage für ein konkretes Haus"
   ]
  },
  {
   "cell_type": "code",
   "execution_count": null,
   "id": "f611475d44b8423e",
   "metadata": {
    "tags": [
     "keep"
    ]
   },
   "outputs": [],
   "source": [
    "house_features = [120, 3, 2, 10, 1]  # 120sqm, 3 bed, 2 bath, 10 years old, 1 garage"
   ]
  },
  {
   "cell_type": "code",
   "execution_count": null,
   "id": "672a242f0bfbd9f0",
   "metadata": {
    "tags": [
     "keep"
    ]
   },
   "outputs": [],
   "source": [
    "print(\"House characteristics:\")\n",
    "for name, value in zip(feature_names, house_features):\n",
    "    print(f\"{name:15} : {value}\")"
   ]
  },
  {
   "cell_type": "markdown",
   "id": "f7bfe4d508d26b1c",
   "metadata": {
    "lang": "de",
    "slideshow": {
     "slide_type": "subslide"
    },
    "tags": [
     "subslide"
    ]
   },
   "source": [
    "\n",
    "Berechne Preis"
   ]
  },
  {
   "cell_type": "code",
   "execution_count": null,
   "id": "e154021b7b567efe",
   "metadata": {
    "tags": [
     "keep"
    ]
   },
   "outputs": [],
   "source": [
    "price = 0\n",
    "print(\"\\nPrice calculation:\")\n",
    "for name, feature, coef in zip(feature_names, house_features, coefficients):\n",
    "    contribution = feature * coef\n",
    "    price += contribution\n",
    "    print(f\"{name:15} : {feature:3} × {coef:+6.1f} = {contribution:+7.1f}k€\")"
   ]
  },
  {
   "cell_type": "code",
   "execution_count": null,
   "id": "b952a87a66c7b6df",
   "metadata": {
    "tags": [
     "keep"
    ]
   },
   "outputs": [],
   "source": [
    "price += intercept\n",
    "print(f\"{'Base price':15} :              = {intercept:+7.1f}k€\")\n",
    "print(\"-\" * 45)\n",
    "print(f\"{'Total price':15} :              = {price:7.1f}k€\")"
   ]
  },
  {
   "cell_type": "markdown",
   "id": "3af2bbe2849f5fee",
   "metadata": {
    "lang": "de",
    "slideshow": {
     "slide_type": "slide"
    },
    "tags": [
     "slide"
    ]
   },
   "source": [
    "\n",
    "## Zusammenfassung\n",
    "\n",
    "- Multivariate Regression: Mehrere Features → Eine Vorhersage\n",
    "- Jedes Feature hat einen Koeffizienten (Gewicht)\n",
    "- Vorhersage = Summe(Feature × Koeffizient) + Intercept\n",
    "- Das ist die Grundlage für komplexere Modelle!"
   ]
  },
  {
   "cell_type": "markdown",
   "id": "cf837bb7d9220855",
   "metadata": {
    "lang": "de",
    "slideshow": {
     "slide_type": "subslide"
    },
    "tags": [
     "subslide"
    ]
   },
   "source": [
    "\n",
    "## Nächste Schritte\n",
    "\n",
    "- Diese Berechnungen werden schnell mühsam\n",
    "- Mit vielen Features und Datenpunkten brauchen wir bessere Tools\n",
    "- NumPy macht diese Berechnungen einfach und schnell\n",
    "- Als Nächstes: Einführung in NumPy und Vektoren"
   ]
  },
  {
   "cell_type": "markdown",
   "id": "12b1dea6f98510db",
   "metadata": {
    "lang": "de",
    "slideshow": {
     "slide_type": "slide"
    },
    "tags": [
     "slide"
    ]
   },
   "source": [
    "\n",
    "## Workshop: Autopreise vorhersagen\n",
    "\n",
    "Sie arbeiten für einen Gebrauchtwagenhändler und haben ein Modell\n",
    "zur Preisvorhersage mit folgenden Features:"
   ]
  },
  {
   "cell_type": "markdown",
   "id": "31a914b2b2024820",
   "metadata": {
    "lang": "de"
   },
   "source": [
    "\n",
    "### Autopreismodell"
   ]
  },
  {
   "cell_type": "code",
   "execution_count": null,
   "id": "fe9ce2a04680fb85",
   "metadata": {
    "tags": [
     "keep"
    ]
   },
   "outputs": [],
   "source": [
    "car_features = [\"age_years\", \"mileage_1000km\", \"engine_liters\", \"num_owners\", \"is_diesel\"]\n",
    "car_coefficients = [-2.5, -0.15, 8.0, -1.5, 3.0]  # in thousands of euros\n",
    "car_intercept = 25.0  # base price in thousands"
   ]
  },
  {
   "cell_type": "code",
   "execution_count": null,
   "id": "815ca21794be5148",
   "metadata": {
    "tags": [
     "keep"
    ]
   },
   "outputs": [],
   "source": [
    "print(\"Car Price Model (coefficients in k€):\")\n",
    "for feature, coef in zip(car_features, car_coefficients):\n",
    "    print(f\"{feature:20} : {coef:+6.2f}\")\n",
    "print(f\"{'Base price':20} : {car_intercept:6.2f}\")"
   ]
  },
  {
   "cell_type": "markdown",
   "id": "b18d7df543426fa0",
   "metadata": {
    "lang": "de",
    "slideshow": {
     "slide_type": "subslide"
    },
    "tags": [
     "subslide"
    ]
   },
   "source": [
    "\n",
    "### Aufgabe 1: Einzelne Vorhersage\n",
    "\n",
    "Berechnen Sie den Preis für folgendes Auto:\n",
    "- 3 Jahre alt\n",
    "- 45.000 km (= 45 in Tausend km)\n",
    "- 2.0 Liter Motor\n",
    "- 1 Vorbesitzer\n",
    "- Diesel (1 = ja, 0 = nein)"
   ]
  },
  {
   "cell_type": "code",
   "execution_count": null,
   "id": "0a22e0e4308040b0",
   "metadata": {},
   "outputs": [],
   "source": []
  },
  {
   "cell_type": "markdown",
   "id": "19336add75b3c291",
   "metadata": {
    "lang": "de",
    "slideshow": {
     "slide_type": "subslide"
    },
    "tags": [
     "subslide"
    ]
   },
   "source": [
    "\n",
    "### Aufgabe 2: Mehrere Vorhersagen\n",
    "\n",
    "Berechnen Sie die Preise für diese drei Autos:"
   ]
  },
  {
   "cell_type": "code",
   "execution_count": null,
   "id": "c29727dadcbd4e0b",
   "metadata": {
    "tags": [
     "keep"
    ]
   },
   "outputs": [],
   "source": [
    "cars = [\n",
    "    [5, 80, 1.6, 2, 0],  # Car A: 5 years, 80k km, 1.6L, 2 owners, petrol\n",
    "    [1, 10, 3.0, 0, 1],  # Car B: 1 year, 10k km, 3.0L, 0 owners (new), diesel\n",
    "    [8, 120, 1.4, 3, 0], # Car C: 8 years, 120k km, 1.4L, 3 owners, petrol\n",
    "]"
   ]
  },
  {
   "cell_type": "code",
   "execution_count": null,
   "id": "e35efee9bece42c1",
   "metadata": {
    "tags": [
     "keep"
    ]
   },
   "outputs": [],
   "source": [
    "car_names = [\"Car A\", \"Car B\", \"Car C\"]"
   ]
  },
  {
   "cell_type": "code",
   "execution_count": null,
   "id": "cebb0b72876604f3",
   "metadata": {
    "lines_to_next_cell": 1
   },
   "outputs": [],
   "source": []
  },
  {
   "cell_type": "markdown",
   "id": "0484fe869dfa57e6",
   "metadata": {
    "lang": "de",
    "slideshow": {
     "slide_type": "subslide"
    },
    "tags": [
     "subslide"
    ]
   },
   "source": [
    "\n",
    "### Aufgabe 3: Feature-Analyse\n",
    "\n",
    "Welches Feature hat den größten Einfluss auf den Preis?\n",
    "\n",
    "Berechnen Sie für Car B, welches Feature am meisten zum Preis beiträgt."
   ]
  },
  {
   "cell_type": "code",
   "execution_count": null,
   "id": "69ebe5e45d4d4a35",
   "metadata": {},
   "outputs": [],
   "source": []
  },
  {
   "cell_type": "code",
   "execution_count": null,
   "id": "6b4e03423667dbb7",
   "metadata": {},
   "outputs": [],
   "source": []
  }
 ],
 "metadata": {
  "jupytext": {
   "cell_metadata_filter": "lang,tags,-all",
   "main_language": "python",
   "notebook_metadata_filter": "-all"
  },
  "kernelspec": {
   "display_name": "Python 3 (ipykernel)",
   "language": "python",
   "name": "python3"
  },
  "language_info": {
   "codemirror_mode": {
    "name": "ipython",
    "version": 3
   },
   "file_extension": ".py",
   "mimetype": "text/x-python",
   "name": "python",
   "nbconvert_exporter": "python",
   "pygments_lexer": "ipython3"
  }
 },
 "nbformat": 4,
 "nbformat_minor": 5
}
