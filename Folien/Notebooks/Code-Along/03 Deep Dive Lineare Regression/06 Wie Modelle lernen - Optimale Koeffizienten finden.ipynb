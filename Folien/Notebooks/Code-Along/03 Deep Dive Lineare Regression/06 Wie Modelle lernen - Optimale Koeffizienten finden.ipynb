{
 "cells": [
  {
   "cell_type": "markdown",
   "id": "d74984465a284326",
   "metadata": {
    "lang": "de",
    "slideshow": {
     "slide_type": "slide"
    },
    "tags": [
     "slide"
    ]
   },
   "source": [
    "\n",
    "<img src=\"data:image/svg+xml;base64,PHN2ZyB4bWxucz0iaHR0cDovL3d3dy53My5vcmcvMjAwMC9zdmciIHhtbG5zOnhsaW5rPSJodHRw\n",
    "Oi8vd3d3LnczLm9yZy8xOTk5L3hsaW5rIiB3aWR0aD0iMTExLjE2MSIgaGVpZ2h0PSIxMzQuNjY4\n",
    "IiB2ZXJzaW9uPSIxLjAiPjxkZWZzPjxsaW5lYXJHcmFkaWVudCBpZD0iYyI+PHN0b3Agb2Zmc2V0\n",
    "PSIwIiBzdHlsZT0ic3RvcC1jb2xvcjojYjhiOGI4O3N0b3Atb3BhY2l0eTouNDk4MDM5MjIiLz48\n",
    "c3RvcCBvZmZzZXQ9IjEiIHN0eWxlPSJzdG9wLWNvbG9yOiM3ZjdmN2Y7c3RvcC1vcGFjaXR5OjAi\n",
    "Lz48L2xpbmVhckdyYWRpZW50PjxsaW5lYXJHcmFkaWVudCBpZD0iYSI+PHN0b3Agb2Zmc2V0PSIw\n",
    "IiBzdHlsZT0ic3RvcC1jb2xvcjojZmZkNDNiO3N0b3Atb3BhY2l0eToxIi8+PHN0b3Agb2Zmc2V0\n",
    "PSIxIiBzdHlsZT0ic3RvcC1jb2xvcjojZmZlODczO3N0b3Atb3BhY2l0eToxIi8+PC9saW5lYXJH\n",
    "cmFkaWVudD48bGluZWFyR3JhZGllbnQgaWQ9ImIiPjxzdG9wIG9mZnNldD0iMCIgc3R5bGU9InN0\n",
    "b3AtY29sb3I6IzVhOWZkNDtzdG9wLW9wYWNpdHk6MSIvPjxzdG9wIG9mZnNldD0iMSIgc3R5bGU9\n",
    "InN0b3AtY29sb3I6IzMwNjk5ODtzdG9wLW9wYWNpdHk6MSIvPjwvbGluZWFyR3JhZGllbnQ+PGxp\n",
    "bmVhckdyYWRpZW50IHhsaW5rOmhyZWY9IiNhIiBpZD0iZSIgeDE9IjE1MC45NjEiIHgyPSIxMTIu\n",
    "MDMxIiB5MT0iMTkyLjM1MiIgeTI9IjEzNy4yNzMiIGdyYWRpZW50VHJhbnNmb3JtPSJtYXRyaXgo\n",
    "LjU2MjU0IDAgMCAuNTY3OTcgLTE0Ljk5MSAtMTEuNzAyKSIgZ3JhZGllbnRVbml0cz0idXNlclNw\n",
    "YWNlT25Vc2UiLz48bGluZWFyR3JhZGllbnQgeGxpbms6aHJlZj0iI2IiIGlkPSJkIiB4MT0iMjYu\n",
    "NjQ5IiB4Mj0iMTM1LjY2NSIgeTE9IjIwLjYwNCIgeTI9IjExNC4zOTgiIGdyYWRpZW50VHJhbnNm\n",
    "b3JtPSJtYXRyaXgoLjU2MjU0IDAgMCAuNTY3OTcgLTE0Ljk5MSAtMTEuNzAyKSIgZ3JhZGllbnRV\n",
    "bml0cz0idXNlclNwYWNlT25Vc2UiLz48cmFkaWFsR3JhZGllbnQgeGxpbms6aHJlZj0iI2MiIGlk\n",
    "PSJmIiBjeD0iNjEuNTE5IiBjeT0iMTMyLjI4NiIgcj0iMjkuMDM3IiBmeD0iNjEuNTE5IiBmeT0i\n",
    "MTMyLjI4NiIgZ3JhZGllbnRUcmFuc2Zvcm09Im1hdHJpeCgwIC0uMjM5OTUgMS4wNTQ2NyAwIC04\n",
    "My43IDE0Mi40NjIpIiBncmFkaWVudFVuaXRzPSJ1c2VyU3BhY2VPblVzZSIvPjwvZGVmcz48cGF0\n",
    "aCBkPSJNNTQuOTE5IDBjLTQuNTg0LjAyMi04Ljk2MS40MTMtMTIuODEzIDEuMDk1QzMwLjc2IDMu\n",
    "MDk5IDI4LjcgNy4yOTUgMjguNyAxNS4wMzJ2MTAuMjE5aDI2LjgxM3YzLjQwNkgxOC42MzhjLTcu\n",
    "NzkzIDAtMTQuNjE2IDQuNjg0LTE2Ljc1IDEzLjU5NC0yLjQ2MiAxMC4yMTMtMi41NzEgMTYuNTg2\n",
    "IDAgMjcuMjUgMS45MDUgNy45MzggNi40NTcgMTMuNTk0IDE0LjI1IDEzLjU5NGg5LjIxOHYtMTIu\n",
    "MjVjMC04Ljg1IDcuNjU3LTE2LjY1NyAxNi43NS0xNi42NTdoMjYuNzgyYzcuNDU0IDAgMTMuNDA2\n",
    "LTYuMTM4IDEzLjQwNi0xMy42MjV2LTI1LjUzYzAtNy4yNjctNi4xMy0xMi43MjYtMTMuNDA2LTEz\n",
    "LjkzOEM2NC4yODIuMzI4IDU5LjUwMi0uMDIgNTQuOTE4IDBtLTE0LjUgOC4yMmMyLjc3IDAgNS4w\n",
    "MzEgMi4yOTggNS4wMzEgNS4xMjUgMCAyLjgxNi0yLjI2MiA1LjA5My01LjAzMSA1LjA5My0yLjc4\n",
    "IDAtNS4wMzEtMi4yNzctNS4wMzEtNS4wOTMgMC0yLjgyNyAyLjI1MS01LjEyNSA1LjAzLTUuMTI1\n",
    "IiBzdHlsZT0iZmlsbDp1cmwoI2QpO2ZpbGwtb3BhY2l0eToxIi8+PHBhdGggZD0iTTg1LjYzOCAy\n",
    "OC42NTd2MTEuOTA2YzAgOS4yMzEtNy44MjYgMTctMTYuNzUgMTdINDIuMTA2Yy03LjMzNiAwLTEz\n",
    "LjQwNiA2LjI3OS0xMy40MDYgMTMuNjI1Vjk2LjcyYzAgNy4yNjYgNi4zMTkgMTEuNTQgMTMuNDA2\n",
    "IDEzLjYyNSA4LjQ4OCAyLjQ5NSAxNi42MjcgMi45NDYgMjYuNzgyIDAgNi43NS0xLjk1NSAxMy40\n",
    "MDYtNS44ODggMTMuNDA2LTEzLjYyNVY4Ni41SDU1LjUxM3YtMy40MDVIOTUuN2M3Ljc5MyAwIDEw\n",
    "LjY5Ni01LjQzNiAxMy40MDYtMTMuNTk0IDIuOC04LjM5OSAyLjY4LTE2LjQ3NiAwLTI3LjI1LTEu\n",
    "OTI1LTcuNzU4LTUuNjA0LTEzLjU5NC0xMy40MDYtMTMuNTk0ek03MC41NzUgOTMuMzEzYzIuNzgg\n",
    "MCA1LjAzMSAyLjI3OCA1LjAzMSA1LjA5NCAwIDIuODI3LTIuMjUxIDUuMTI1LTUuMDMxIDUuMTI1\n",
    "LTIuNzcgMC01LjAzMS0yLjI5OC01LjAzMS01LjEyNSAwLTIuODE2IDIuMjYxLTUuMDk0IDUuMDMx\n",
    "LTUuMDk0IiBzdHlsZT0iZmlsbDp1cmwoI2UpO2ZpbGwtb3BhY2l0eToxIi8+PGVsbGlwc2UgY3g9\n",
    "IjU1LjgxNyIgY3k9IjEyNy43MDEiIHJ4PSIzNS45MzEiIHJ5PSI2Ljk2NyIgc3R5bGU9Im9wYWNp\n",
    "dHk6LjQ0MzgyO2ZpbGw6dXJsKCNmKTtmaWxsLW9wYWNpdHk6MTtmaWxsLXJ1bGU6bm9uemVybztz\n",
    "dHJva2U6bm9uZTtzdHJva2Utd2lkdGg6MTUuNDE3NDtzdHJva2UtbWl0ZXJsaW1pdDo0O3N0cm9r\n",
    "ZS1kYXNoYXJyYXk6bm9uZTtzdHJva2Utb3BhY2l0eToxIi8+PC9zdmc+\n",
    "\"\n",
    "     style=\"display:block;margin:auto;width:10%\" alt=\"Python Logo\"/>\n",
    "<br>\n",
    "\n",
    "<div style=\"text-align:center; font-size:200%;\">\n",
    " <b>Wie Modelle lernen - Optimale Koeffizienten finden</b>\n",
    "</div>\n",
    "<br/>\n",
    "<div style=\"text-align:center;\">Dr. Matthias Hölzl</div>\n",
    "<br/>"
   ]
  },
  {
   "cell_type": "markdown",
   "id": "8f0ba2d3a1fc2e77",
   "metadata": {
    "lang": "de",
    "slideshow": {
     "slide_type": "slide"
    },
    "tags": [
     "slide"
    ]
   },
   "source": [
    "\n",
    "## Das Lernproblem\n",
    "\n",
    "Gegeben:\n",
    "- Trainingsdaten X (Features)\n",
    "- Zielwerte y (was wir vorhersagen wollen)\n",
    "\n",
    "Gesucht:\n",
    "- Koeffizienten und Intercept\n",
    "- Die die Fehler minimieren"
   ]
  },
  {
   "cell_type": "code",
   "execution_count": null,
   "id": "cb9d084e9d4b9444",
   "metadata": {
    "tags": [
     "keep"
    ]
   },
   "outputs": [],
   "source": [
    "import numpy as np\n",
    "import matplotlib.pyplot as plt\n",
    "from sklearn.linear_model import LinearRegression"
   ]
  },
  {
   "cell_type": "markdown",
   "id": "e9880e5477a9a629",
   "metadata": {
    "lang": "de",
    "slideshow": {
     "slide_type": "subslide"
    },
    "tags": [
     "subslide"
    ]
   },
   "source": [
    "\n",
    "## Ein einfaches Beispiel"
   ]
  },
  {
   "cell_type": "markdown",
   "id": "22f28bde1b8059a0",
   "metadata": {
    "lang": "de",
    "tags": []
   },
   "source": [
    "\n",
    "Einfache Trainingsdaten"
   ]
  },
  {
   "cell_type": "code",
   "execution_count": null,
   "id": "45652ba160a8f2ef",
   "metadata": {
    "tags": [
     "keep"
    ]
   },
   "outputs": [],
   "source": [
    "X_simple = np.array([[1], [2], [3], [4], [5]])\n",
    "y_simple = np.array([3, 5, 7, 9, 11])"
   ]
  },
  {
   "cell_type": "markdown",
   "id": "4bdbdf2f3f496f62",
   "metadata": {
    "lang": "de",
    "tags": []
   },
   "source": [
    "\n",
    "Visualisiere"
   ]
  },
  {
   "cell_type": "code",
   "execution_count": null,
   "id": "6d9a203d06621d73",
   "metadata": {
    "tags": [
     "keep"
    ]
   },
   "outputs": [],
   "source": [
    "plt.figure(figsize=(8, 5))\n",
    "plt.scatter(X_simple, y_simple, s=100, alpha=0.7)\n",
    "plt.xlabel(\"X (Feature)\")\n",
    "plt.ylabel(\"y (Target)\")\n",
    "plt.title(\"Training Data\")\n",
    "plt.grid(True, alpha=0.3)\n",
    "plt.show()"
   ]
  },
  {
   "cell_type": "markdown",
   "id": "7d1a4bf54be2b329",
   "metadata": {
    "lang": "de",
    "slideshow": {
     "slide_type": "subslide"
    },
    "tags": [
     "subslide"
    ]
   },
   "source": [
    "\n",
    "## Was sind \"gute\" Koeffizienten?\n",
    "\n",
    "Wir wollen eine Linie, die:\n",
    "- Möglichst nah an allen Punkten ist\n",
    "- Die Fehler minimiert\n",
    "- Gut generalisiert"
   ]
  },
  {
   "cell_type": "markdown",
   "id": "d3bd1519c43f2ec1",
   "metadata": {
    "lang": "de",
    "tags": []
   },
   "source": [
    "\n",
    "Probiere verschiedene Koeffizienten"
   ]
  },
  {
   "cell_type": "code",
   "execution_count": null,
   "id": "e6e7daf580ccff67",
   "metadata": {
    "tags": [
     "keep"
    ]
   },
   "outputs": [],
   "source": [
    "from plot_utils import plot_coefficients_effect"
   ]
  },
  {
   "cell_type": "code",
   "execution_count": null,
   "id": "070bc4171d66be4f",
   "metadata": {
    "tags": [
     "keep"
    ]
   },
   "outputs": [],
   "source": [
    "coefficients_to_try = [1.5, 2.0, 2.5]\n",
    "intercepts_to_try = [1.5, 1.0, 0.5]"
   ]
  },
  {
   "cell_type": "code",
   "execution_count": null,
   "id": "cdffa1331f5b0d4b",
   "metadata": {
    "lines_to_next_cell": 0,
    "tags": [
     "keep"
    ]
   },
   "outputs": [],
   "source": [
    "plot_coefficients_effect(X_simple, y_simple, coefficients_to_try, intercepts_to_try)"
   ]
  },
  {
   "cell_type": "markdown",
   "id": "0e74a83207c32287",
   "metadata": {
    "lang": "de",
    "slideshow": {
     "slide_type": "slide"
    },
    "tags": [
     "slide"
    ]
   },
   "source": [
    "\n",
    "## Die Kosten von Fehlern\n",
    "\n",
    "**Mean Squared Error (MSE)**:\n",
    "- Misst durchschnittliche quadratische Abweichung\n",
    "- Bestraft große Fehler stärker\n",
    "- MSE = $(1/n) × \\sum(y_{\\textrm{true}} - y_{\\textrm{pred}})²$"
   ]
  },
  {
   "cell_type": "markdown",
   "id": "8d30e70ee323b040",
   "metadata": {
    "lang": "de",
    "slideshow": {
     "slide_type": "subslide"
    },
    "tags": [
     "subslide"
    ]
   },
   "source": [
    "\n",
    "## Visualisierung der Fehleroberfläche"
   ]
  },
  {
   "cell_type": "markdown",
   "id": "26f78fe5f900afd6",
   "metadata": {
    "lang": "de",
    "tags": []
   },
   "source": [
    "\n",
    "Plotte Fehleroberfläche\n",
    "\n",
    "- 3D-Oberfläche\n",
    "- Konturplot"
   ]
  },
  {
   "cell_type": "code",
   "execution_count": null,
   "id": "17b0e40c33887e59",
   "metadata": {},
   "outputs": [],
   "source": []
  },
  {
   "cell_type": "code",
   "execution_count": null,
   "id": "51105ec46a1fb7ab",
   "metadata": {
    "tags": [
     "keep"
    ]
   },
   "outputs": [],
   "source": [
    "best_coef, best_intercept, min_mse = plot_error_surface(X_simple, y_simple)"
   ]
  },
  {
   "cell_type": "code",
   "execution_count": null,
   "id": "b4469458b34d8184",
   "metadata": {
    "tags": [
     "keep"
    ]
   },
   "outputs": [],
   "source": [
    "print(f\"Best coefficient: {best_coef:.3f}\")\n",
    "print(f\"Best intercept: {best_intercept:.3f}\")\n",
    "print(f\"Minimum MSE: {min_mse:.3f}\")"
   ]
  },
  {
   "cell_type": "markdown",
   "id": "70ed1fb947ce8b23",
   "metadata": {
    "lang": "de",
    "slideshow": {
     "slide_type": "slide"
    },
    "tags": [
     "slide"
    ]
   },
   "source": [
    "\n",
    "## Die mathematische Lösung\n",
    "\n",
    "Es gibt eine Formel für die optimalen Koeffizienten!\n",
    "\n",
    "**Normalgleichung** (vereinfacht):\n",
    "- Koeffizienten = $(X^T × X)^{-1} × X^T × y$\n",
    "- $X^T$ = Transponierte von $X$\n",
    "- $M^{-1}$ = Inverse von $M$"
   ]
  },
  {
   "cell_type": "markdown",
   "id": "7faf4fc39fff07bf",
   "metadata": {
    "lang": "de",
    "slideshow": {
     "slide_type": "subslide"
    },
    "tags": [
     "subslide"
    ]
   },
   "source": [
    "\n",
    "## Warum funktioniert das?\n",
    "\n",
    "- Die Normalgleichung findet das Minimum der Fehleroberfläche\n",
    "- Mathematisch: Setzt die Ableitung der Kostenfunktion auf 0\n",
    "- Resultat: Optimale Koeffizienten in einem Schritt!\n",
    "\n",
    "(Die Herleitung ist komplex, aber die Anwendung ist einfach!)"
   ]
  },
  {
   "cell_type": "markdown",
   "id": "2a3f493b106b14f8",
   "metadata": {
    "lang": "de",
    "slideshow": {
     "slide_type": "slide"
    },
    "tags": [
     "slide"
    ]
   },
   "source": [
    "\n",
    "## Schritt 1: Daten vorbereiten\n",
    "\n",
    "Für den Intercept fügen wir eine Spalte mit Einsen hinzu:"
   ]
  },
  {
   "cell_type": "code",
   "execution_count": null,
   "id": "67f07341f730627c",
   "metadata": {},
   "outputs": [],
   "source": []
  },
  {
   "cell_type": "code",
   "execution_count": null,
   "id": "bf22e23663880884",
   "metadata": {},
   "outputs": [],
   "source": []
  },
  {
   "cell_type": "code",
   "execution_count": null,
   "id": "af9a7738dd014e65",
   "metadata": {},
   "outputs": [],
   "source": []
  },
  {
   "cell_type": "markdown",
   "id": "2371ea029da43b7f",
   "metadata": {
    "lang": "de",
    "slideshow": {
     "slide_type": "subslide"
    },
    "tags": [
     "subslide"
    ]
   },
   "source": [
    "\n",
    "## Schritt 2: Normalgleichung anwenden"
   ]
  },
  {
   "cell_type": "markdown",
   "id": "823d070723147d4d",
   "metadata": {
    "lang": "de",
    "slideshow": {
     "slide_type": "subslide"
    },
    "tags": [
     "subslide"
    ]
   },
   "source": [
    "\n",
    "Normalgleichung: $θ = (X^T X)^{-1} X^T y$"
   ]
  },
  {
   "cell_type": "code",
   "execution_count": null,
   "id": "5f30a58287b46886",
   "metadata": {},
   "outputs": [],
   "source": []
  },
  {
   "cell_type": "code",
   "execution_count": null,
   "id": "cc02d9717a17c888",
   "metadata": {},
   "outputs": [],
   "source": []
  },
  {
   "cell_type": "code",
   "execution_count": null,
   "id": "2305a9d045651b53",
   "metadata": {},
   "outputs": [],
   "source": []
  },
  {
   "cell_type": "markdown",
   "id": "09ffb986c9899de4",
   "metadata": {
    "lang": "de",
    "slideshow": {
     "slide_type": "subslide"
    },
    "tags": [
     "subslide"
    ]
   },
   "source": [
    "\n",
    "Berechne $X^T × X$"
   ]
  },
  {
   "cell_type": "code",
   "execution_count": null,
   "id": "e6230d9b92a515ee",
   "metadata": {},
   "outputs": [],
   "source": []
  },
  {
   "cell_type": "code",
   "execution_count": null,
   "id": "e96bba4895aca0fd",
   "metadata": {},
   "outputs": [],
   "source": []
  },
  {
   "cell_type": "markdown",
   "id": "6c8562180306316b",
   "metadata": {
    "lang": "de",
    "slideshow": {
     "slide_type": "subslide"
    },
    "tags": [
     "subslide"
    ]
   },
   "source": [
    "\n",
    "Berechne Inverse"
   ]
  },
  {
   "cell_type": "code",
   "execution_count": null,
   "id": "ec16a06394d7fd60",
   "metadata": {},
   "outputs": [],
   "source": []
  },
  {
   "cell_type": "code",
   "execution_count": null,
   "id": "c126e2a67d386894",
   "metadata": {},
   "outputs": [],
   "source": []
  },
  {
   "cell_type": "code",
   "execution_count": null,
   "id": "7f3b0163daf070c3",
   "metadata": {},
   "outputs": [],
   "source": []
  },
  {
   "cell_type": "code",
   "execution_count": null,
   "id": "0f438a0400751e4d",
   "metadata": {},
   "outputs": [],
   "source": []
  },
  {
   "cell_type": "markdown",
   "id": "a6d0307a3b6ebfd8",
   "metadata": {
    "lang": "de",
    "slideshow": {
     "slide_type": "subslide"
    },
    "tags": [
     "subslide"
    ]
   },
   "source": [
    "\n",
    "Berechne X^T × y"
   ]
  },
  {
   "cell_type": "code",
   "execution_count": null,
   "id": "963ca904c95fd1ca",
   "metadata": {},
   "outputs": [],
   "source": []
  },
  {
   "cell_type": "code",
   "execution_count": null,
   "id": "2dfa624b526366c3",
   "metadata": {},
   "outputs": [],
   "source": []
  },
  {
   "cell_type": "markdown",
   "id": "a798adbc6bb65622",
   "metadata": {
    "lang": "de",
    "slideshow": {
     "slide_type": "subslide"
    },
    "tags": [
     "subslide"
    ]
   },
   "source": [
    "\n",
    "Finale Berechnung: $θ = (X^T × X)^{-1} × X^T × y$"
   ]
  },
  {
   "cell_type": "code",
   "execution_count": null,
   "id": "6933bc48c7c544b1",
   "metadata": {},
   "outputs": [],
   "source": []
  },
  {
   "cell_type": "markdown",
   "id": "39da09a9942cdda4",
   "metadata": {
    "lang": "de"
   },
   "source": [
    "\n",
    "Optimale Parameter:\n",
    "- Intercept (Y-Abschnitt): $\\theta[0]$\n",
    "- Koeffizient: $\\theta[1]$"
   ]
  },
  {
   "cell_type": "code",
   "execution_count": null,
   "id": "e5309d48d988c97f",
   "metadata": {},
   "outputs": [],
   "source": []
  },
  {
   "cell_type": "code",
   "execution_count": null,
   "id": "78f9b52c193754f2",
   "metadata": {},
   "outputs": [],
   "source": []
  },
  {
   "cell_type": "markdown",
   "id": "4d6dd072fe61db86",
   "metadata": {
    "lang": "de",
    "slideshow": {
     "slide_type": "subslide"
    },
    "tags": [
     "subslide"
    ]
   },
   "source": [
    "\n",
    "## Vergleich mit Scikit-Learn"
   ]
  },
  {
   "cell_type": "markdown",
   "id": "fa0c742abf89aab6",
   "metadata": {
    "lang": "de",
    "tags": []
   },
   "source": [
    "\n",
    "Trainiere Scikit-Learn-Modell"
   ]
  },
  {
   "cell_type": "code",
   "execution_count": null,
   "id": "9e4581510a759b52",
   "metadata": {
    "tags": [
     "keep"
    ]
   },
   "outputs": [],
   "source": [
    "sklearn_model = LinearRegression()\n",
    "sklearn_model.fit(X_simple, y_simple)"
   ]
  },
  {
   "cell_type": "code",
   "execution_count": null,
   "id": "35ab848523b3db52",
   "metadata": {
    "incorrectly_encoded_metadata": "tags=[\"keep\", subslide\"]"
   },
   "outputs": [],
   "source": []
  },
  {
   "cell_type": "markdown",
   "id": "3f39d30940818c2f",
   "metadata": {
    "lang": "de",
    "slideshow": {
     "slide_type": "slide"
    },
    "tags": [
     "slide"
    ]
   },
   "source": [
    "\n",
    "## NumPy's eingebaute Lösung\n",
    "\n",
    "NumPy hat eine Funktion dafür: `np.linalg.lstsq()`"
   ]
  },
  {
   "cell_type": "markdown",
   "id": "1112c01d2f8b4cf7",
   "metadata": {
    "lang": "de"
   },
   "source": [
    "\n",
    "Verwende NumPys Least-Squares-Solver"
   ]
  },
  {
   "cell_type": "code",
   "execution_count": null,
   "id": "6c30cb19f85b4b65",
   "metadata": {},
   "outputs": [],
   "source": []
  },
  {
   "cell_type": "code",
   "execution_count": null,
   "id": "9513c7c1783b0d53",
   "metadata": {},
   "outputs": [],
   "source": []
  },
  {
   "cell_type": "markdown",
   "id": "fba5b8d608bfc616",
   "metadata": {
    "lang": "de",
    "tags": []
   },
   "source": [
    "\n",
    "Zusätzliche Informationen"
   ]
  },
  {
   "cell_type": "code",
   "execution_count": null,
   "id": "85b7c7f2f2c6e974",
   "metadata": {},
   "outputs": [],
   "source": []
  },
  {
   "cell_type": "markdown",
   "id": "344ad3789780db65",
   "metadata": {
    "lang": "de",
    "slideshow": {
     "slide_type": "slide"
    },
    "tags": [
     "slide"
    ]
   },
   "source": [
    "\n",
    "## Implementierung der fit() Methode"
   ]
  },
  {
   "cell_type": "code",
   "execution_count": null,
   "id": "3154295dce44e4d6",
   "metadata": {},
   "outputs": [],
   "source": []
  },
  {
   "cell_type": "markdown",
   "id": "ff1f604147b718b5",
   "metadata": {
    "lang": "de",
    "slideshow": {
     "slide_type": "subslide"
    },
    "tags": [
     "subslide"
    ]
   },
   "source": [
    "\n",
    "## Unser Modell testen\n",
    "\n",
    "Erstelle und trainiere unser Modell"
   ]
  },
  {
   "cell_type": "code",
   "execution_count": null,
   "id": "86cb4537acbae50f",
   "metadata": {},
   "outputs": [],
   "source": []
  },
  {
   "cell_type": "code",
   "execution_count": null,
   "id": "9a88adad95d42607",
   "metadata": {},
   "outputs": [],
   "source": []
  },
  {
   "cell_type": "code",
   "execution_count": null,
   "id": "49f749e18069ce80",
   "metadata": {},
   "outputs": [],
   "source": []
  },
  {
   "cell_type": "markdown",
   "id": "6889080d8cebc8ee",
   "metadata": {
    "lang": "de",
    "slideshow": {
     "slide_type": "subslide"
    },
    "tags": [
     "subslide"
    ]
   },
   "source": [
    "\n",
    "Berechne Vorhersagen"
   ]
  },
  {
   "cell_type": "code",
   "execution_count": null,
   "id": "662b71b6a7e84be9",
   "metadata": {},
   "outputs": [],
   "source": []
  },
  {
   "cell_type": "code",
   "execution_count": null,
   "id": "bf10681bb46835ad",
   "metadata": {},
   "outputs": [],
   "source": []
  },
  {
   "cell_type": "markdown",
   "id": "5a8df71b0c573b25",
   "metadata": {
    "lang": "de",
    "slideshow": {
     "slide_type": "subslide"
    },
    "tags": [
     "subslide"
    ]
   },
   "source": [
    "\n",
    "### Berechne den Fehler"
   ]
  },
  {
   "cell_type": "code",
   "execution_count": null,
   "id": "5b3f7f040c4c5331",
   "metadata": {},
   "outputs": [],
   "source": []
  },
  {
   "cell_type": "code",
   "execution_count": null,
   "id": "3c710f0d1bbafd48",
   "metadata": {},
   "outputs": [],
   "source": []
  },
  {
   "cell_type": "markdown",
   "id": "7467b45e7909fe2d",
   "metadata": {
    "lang": "de",
    "slideshow": {
     "slide_type": "subslide"
    },
    "tags": [
     "subslide"
    ]
   },
   "source": [
    "\n",
    "## Visualisierung der gelernten Funktion\n",
    "\n",
    "- Plotte Trainingsdaten\n",
    "- Plotte gelernte Linie"
   ]
  },
  {
   "cell_type": "code",
   "execution_count": null,
   "id": "345e559a70fa1814",
   "metadata": {
    "tags": [
     "keep"
    ]
   },
   "outputs": [],
   "source": [
    "x_line = np.linspace(0, 6, 100).reshape(-1, 1)\n",
    "y_line = our_model.predict(x_line)"
   ]
  },
  {
   "cell_type": "code",
   "execution_count": null,
   "id": "11f6ad0f78c57212",
   "metadata": {
    "tags": [
     "keep"
    ]
   },
   "outputs": [],
   "source": [
    "coef = our_model.coef_[0]\n",
    "intercept = our_model.intercept_"
   ]
  },
  {
   "cell_type": "code",
   "execution_count": null,
   "id": "82f0e27c080d8fc8",
   "metadata": {
    "tags": [
     "keep"
    ]
   },
   "outputs": [],
   "source": [
    "model_label = f\"y = {coef:.2f}x + {intercept:.2f}\""
   ]
  },
  {
   "cell_type": "code",
   "execution_count": null,
   "id": "8e5f04e166b7c596",
   "metadata": {
    "slideshow": {
     "slide_type": "subslide"
    },
    "tags": [
     "keep",
     "subslide"
    ]
   },
   "outputs": [],
   "source": [
    "plt.figure(figsize=(8, 5))\n",
    "plt.scatter(X_simple, y_simple, s=100, alpha=0.7, label=\"Training data\")\n",
    "plt.plot(x_line, y_line, \"r-\", linewidth=2, label=model_label)\n",
    "\n",
    "plt.xlabel(\"X\")\n",
    "plt.ylabel(\"y\")\n",
    "plt.title(\"Learned Linear Regression\")\n",
    "plt.legend()\n",
    "plt.grid(True, alpha=0.3)\n",
    "plt.show()"
   ]
  },
  {
   "cell_type": "markdown",
   "id": "dba015dce50e1614",
   "metadata": {
    "lang": "de",
    "slideshow": {
     "slide_type": "slide"
    },
    "tags": [
     "slide"
    ]
   },
   "source": [
    "\n",
    "## Multivariate Regression\n",
    "\n",
    "Komplexeres Beispiel mit mehreren Features"
   ]
  },
  {
   "cell_type": "code",
   "execution_count": null,
   "id": "909a324856acd328",
   "metadata": {
    "tags": [
     "keep"
    ]
   },
   "outputs": [],
   "source": [
    "np.random.seed(42)\n",
    "n_samples = 100\n",
    "n_features = 3"
   ]
  },
  {
   "cell_type": "code",
   "execution_count": null,
   "id": "9badacd6571f7ae4",
   "metadata": {
    "tags": [
     "keep"
    ]
   },
   "outputs": [],
   "source": [
    "X_multi = np.random.randn(n_samples, n_features)"
   ]
  },
  {
   "cell_type": "code",
   "execution_count": null,
   "id": "63f7aea44870a7ca",
   "metadata": {
    "tags": [
     "keep"
    ]
   },
   "outputs": [],
   "source": [
    "true_coef = np.array([2.5, -1.5, 3.0])\n",
    "true_intercept = 5.0"
   ]
  },
  {
   "cell_type": "code",
   "execution_count": null,
   "id": "c334a90400c19f42",
   "metadata": {
    "tags": [
     "keep"
    ]
   },
   "outputs": [],
   "source": [
    "noise = np.random.randn(n_samples) * 0.25"
   ]
  },
  {
   "cell_type": "code",
   "execution_count": null,
   "id": "0b99a2e114668aca",
   "metadata": {
    "tags": [
     "keep"
    ]
   },
   "outputs": [],
   "source": [
    "y_multi = X_multi @ true_coef + true_intercept + noise"
   ]
  },
  {
   "cell_type": "markdown",
   "id": "c2785aa65461f632",
   "metadata": {
    "lang": "de",
    "slideshow": {
     "slide_type": "subslide"
    },
    "tags": [
     "subslide"
    ]
   },
   "source": [
    "\n",
    "Trainiere unser Modell"
   ]
  },
  {
   "cell_type": "code",
   "execution_count": null,
   "id": "8b6ca633e8513b34",
   "metadata": {},
   "outputs": [],
   "source": []
  },
  {
   "cell_type": "code",
   "execution_count": null,
   "id": "aa5f91cea04eb947",
   "metadata": {
    "slideshow": {
     "slide_type": "subslide"
    },
    "tags": [
     "keep",
     "subslide"
    ]
   },
   "outputs": [],
   "source": [
    "print(f\"Dataset: {n_samples} samples, {n_features} features\")\n",
    "print(\"True parameters:\")\n",
    "print(f\"  True coefficients: {true_coef}\")\n",
    "print(f\"  True intercept: {true_intercept}\")\n",
    "print()\n",
    "print(\"Learned parameters:\")\n",
    "print(f\"  Coefficients: {multi_model.coef_}\")\n",
    "print(f\"  Intercept: {multi_model.intercept_:.3f}\")"
   ]
  },
  {
   "cell_type": "code",
   "execution_count": null,
   "id": "f976bf49b7151faa",
   "metadata": {
    "lines_to_next_cell": 2
   },
   "outputs": [],
   "source": []
  },
  {
   "cell_type": "markdown",
   "id": "42280ed4820a641b",
   "metadata": {
    "lang": "de",
    "slideshow": {
     "slide_type": "slide"
    },
    "tags": [
     "slide"
    ]
   },
   "source": [
    "\n",
    "## Grenzen der Normalgleichung\n",
    "\n",
    "**Vorteile:**\n",
    "- Exakte Lösung in einem Schritt\n",
    "- Keine Hyperparameter\n",
    "- Schnell für kleine Datensätze\n",
    "\n",
    "**Nachteile:**\n",
    "- Langsam für große Datensätze (Matrix-Inversion ist O(n³))\n",
    "- Funktioniert nicht wenn X^T×X nicht invertierbar ist\n",
    "- Speicherintensiv für viele Features"
   ]
  },
  {
   "cell_type": "markdown",
   "id": "b926dcd2c46932e7",
   "metadata": {
    "lang": "de",
    "slideshow": {
     "slide_type": "subslide"
    },
    "tags": [
     "subslide"
    ]
   },
   "source": [
    "\n",
    "## Alternative: Gradient Descent\n",
    "\n",
    "Für große Datensätze verwendet man iterative Methoden:\n",
    "- Starte mit zufälligen Koeffizienten\n",
    "- Verbessere schrittweise\n",
    "- Folge dem Gradienten bergab\n",
    "- Basis für neuronale Netze!"
   ]
  },
  {
   "cell_type": "markdown",
   "id": "b3a1d00704e1b0a9",
   "metadata": {
    "lang": "de",
    "tags": []
   },
   "source": [
    "\n",
    "Visualisiere Gradient-Descent-Konzept\n",
    "\n",
    "- Fehleroberfläche (1D zur Visualisierung)\n",
    "- Schritte zum Minimum"
   ]
  },
  {
   "cell_type": "code",
   "execution_count": null,
   "id": "4455ef43852f2834",
   "metadata": {
    "tags": [
     "keep"
    ]
   },
   "outputs": [],
   "source": [
    "from plot_utils import plot_gradient_descent_concept"
   ]
  },
  {
   "cell_type": "code",
   "execution_count": null,
   "id": "78f477255dcf0c14",
   "metadata": {
    "tags": [
     "keep"
    ]
   },
   "outputs": [],
   "source": [
    "plot_gradient_descent_concept()"
   ]
  },
  {
   "cell_type": "markdown",
   "id": "9b17d5b8150ff5ba",
   "metadata": {
    "lang": "de",
    "slideshow": {
     "slide_type": "slide"
    },
    "tags": [
     "slide"
    ]
   },
   "source": [
    "\n",
    "## Zusammenfassung\n",
    "\n",
    "- Modelle lernen durch Minimierung der Fehler\n",
    "- Die Normalgleichung findet optimale Koeffizienten direkt\n",
    "- $θ = (X^T × X)^{-1} × X^T × y$\n",
    "- NumPy's `lstsq()` macht die Berechnung einfach\n",
    "- Grundlage für komplexere Lernalgorithmen!"
   ]
  },
  {
   "cell_type": "markdown",
   "id": "599216bea53e9682",
   "metadata": {
    "lang": "de",
    "slideshow": {
     "slide_type": "subslide"
    },
    "tags": [
     "subslide"
    ]
   },
   "source": [
    "\n",
    "## Was haben wir gelernt?\n",
    "\n",
    "1. **Vektoren und Matrizen** - Die Sprache des ML\n",
    "2. **Skalarprodukt** - Kernoperation für Vorhersagen\n",
    "3. **Matrix-Multiplikation** - Batch-Vorhersagen\n",
    "4. **Modellarchitektur** - Koeffizienten + Intercept\n",
    "5. **Lernen aus Daten** - Normalgleichung\n",
    "\n",
    "**Bereit für neuronale Netze!**"
   ]
  },
  {
   "cell_type": "markdown",
   "id": "f6f885c604d20570",
   "metadata": {
    "lang": "de",
    "slideshow": {
     "slide_type": "slide"
    },
    "tags": [
     "slide"
    ]
   },
   "source": [
    "\n",
    "## Workshop: Vollständiges Modell\n",
    "\n",
    "Wohnungsdaten für den  Workshop:"
   ]
  },
  {
   "cell_type": "code",
   "execution_count": null,
   "id": "f8fa2979c82dbfdf",
   "metadata": {
    "tags": [
     "keep"
    ]
   },
   "outputs": [],
   "source": [
    "from sklearn.datasets import make_regression"
   ]
  },
  {
   "cell_type": "code",
   "execution_count": null,
   "id": "ca98e079b2a0e2b3",
   "metadata": {
    "tags": [
     "keep"
    ]
   },
   "outputs": [],
   "source": [
    "X_housing, y_housing = make_regression(\n",
    "    n_samples=50, n_features=4, noise=10, random_state=42\n",
    ")"
   ]
  },
  {
   "cell_type": "code",
   "execution_count": null,
   "id": "07443c46f3b9eaa0",
   "metadata": {
    "tags": [
     "keep"
    ]
   },
   "outputs": [],
   "source": [
    "feature_names = [\"Size\", \"Bedrooms\", \"Location\", \"Age\"]"
   ]
  },
  {
   "cell_type": "code",
   "execution_count": null,
   "id": "230195d990e0037b",
   "metadata": {
    "tags": [
     "keep"
    ]
   },
   "outputs": [],
   "source": [
    "print(f\"Housing dataset: {X_housing.shape[0]} houses, {X_housing.shape[1]} features\")"
   ]
  },
  {
   "cell_type": "markdown",
   "id": "f4294a809775bfd5",
   "metadata": {
    "lang": "de",
    "slideshow": {
     "slide_type": "subslide"
    },
    "tags": [
     "subslide"
    ]
   },
   "source": [
    "\n",
    "### Aufgabe 1: Modell trainieren\n",
    "\n",
    "Trainieren Sie ein Modell auf den Wohnungsdaten:"
   ]
  },
  {
   "cell_type": "code",
   "execution_count": null,
   "id": "2112b735d114a0ee",
   "metadata": {},
   "outputs": [],
   "source": []
  },
  {
   "cell_type": "markdown",
   "id": "430ecc53a1f0a87d",
   "metadata": {
    "lang": "de",
    "slideshow": {
     "slide_type": "subslide"
    },
    "tags": [
     "subslide"
    ]
   },
   "source": [
    "\n",
    "### Aufgabe 2: Modellqualität bewerten\n",
    "\n",
    "Bewerten Sie die Qualität des Modells."
   ]
  },
  {
   "cell_type": "code",
   "execution_count": null,
   "id": "52bcb71f6ac0f73b",
   "metadata": {},
   "outputs": [],
   "source": []
  }
 ],
 "metadata": {
  "jupytext": {
   "cell_metadata_filter": "incorrectly_encoded_metadata,lang,tags,-all",
   "main_language": "python",
   "notebook_metadata_filter": "-all"
  },
  "kernelspec": {
   "display_name": "Python 3 (ipykernel)",
   "language": "python",
   "name": "python3"
  },
  "language_info": {
   "codemirror_mode": {
    "name": "ipython",
    "version": 3
   },
   "file_extension": ".py",
   "mimetype": "text/x-python",
   "name": "python",
   "nbconvert_exporter": "python",
   "pygments_lexer": "ipython3"
  }
 },
 "nbformat": 4,
 "nbformat_minor": 5
}
