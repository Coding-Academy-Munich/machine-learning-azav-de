{
 "cells": [
  {
   "cell_type": "markdown",
   "id": "a0ef6370ac212ab6",
   "metadata": {
    "lang": "de",
    "slideshow": {
     "slide_type": "slide"
    },
    "tags": [
     "slide"
    ]
   },
   "source": [
    "\n",
    "<img src=\"data:image/svg+xml;base64,PHN2ZyB4bWxucz0iaHR0cDovL3d3dy53My5vcmcvMjAwMC9zdmciIHhtbG5zOnhsaW5rPSJodHRw\n",
    "Oi8vd3d3LnczLm9yZy8xOTk5L3hsaW5rIiB3aWR0aD0iMTExLjE2MSIgaGVpZ2h0PSIxMzQuNjY4\n",
    "IiB2ZXJzaW9uPSIxLjAiPjxkZWZzPjxsaW5lYXJHcmFkaWVudCBpZD0iYyI+PHN0b3Agb2Zmc2V0\n",
    "PSIwIiBzdHlsZT0ic3RvcC1jb2xvcjojYjhiOGI4O3N0b3Atb3BhY2l0eTouNDk4MDM5MjIiLz48\n",
    "c3RvcCBvZmZzZXQ9IjEiIHN0eWxlPSJzdG9wLWNvbG9yOiM3ZjdmN2Y7c3RvcC1vcGFjaXR5OjAi\n",
    "Lz48L2xpbmVhckdyYWRpZW50PjxsaW5lYXJHcmFkaWVudCBpZD0iYSI+PHN0b3Agb2Zmc2V0PSIw\n",
    "IiBzdHlsZT0ic3RvcC1jb2xvcjojZmZkNDNiO3N0b3Atb3BhY2l0eToxIi8+PHN0b3Agb2Zmc2V0\n",
    "PSIxIiBzdHlsZT0ic3RvcC1jb2xvcjojZmZlODczO3N0b3Atb3BhY2l0eToxIi8+PC9saW5lYXJH\n",
    "cmFkaWVudD48bGluZWFyR3JhZGllbnQgaWQ9ImIiPjxzdG9wIG9mZnNldD0iMCIgc3R5bGU9InN0\n",
    "b3AtY29sb3I6IzVhOWZkNDtzdG9wLW9wYWNpdHk6MSIvPjxzdG9wIG9mZnNldD0iMSIgc3R5bGU9\n",
    "InN0b3AtY29sb3I6IzMwNjk5ODtzdG9wLW9wYWNpdHk6MSIvPjwvbGluZWFyR3JhZGllbnQ+PGxp\n",
    "bmVhckdyYWRpZW50IHhsaW5rOmhyZWY9IiNhIiBpZD0iZSIgeDE9IjE1MC45NjEiIHgyPSIxMTIu\n",
    "MDMxIiB5MT0iMTkyLjM1MiIgeTI9IjEzNy4yNzMiIGdyYWRpZW50VHJhbnNmb3JtPSJtYXRyaXgo\n",
    "LjU2MjU0IDAgMCAuNTY3OTcgLTE0Ljk5MSAtMTEuNzAyKSIgZ3JhZGllbnRVbml0cz0idXNlclNw\n",
    "YWNlT25Vc2UiLz48bGluZWFyR3JhZGllbnQgeGxpbms6aHJlZj0iI2IiIGlkPSJkIiB4MT0iMjYu\n",
    "NjQ5IiB4Mj0iMTM1LjY2NSIgeTE9IjIwLjYwNCIgeTI9IjExNC4zOTgiIGdyYWRpZW50VHJhbnNm\n",
    "b3JtPSJtYXRyaXgoLjU2MjU0IDAgMCAuNTY3OTcgLTE0Ljk5MSAtMTEuNzAyKSIgZ3JhZGllbnRV\n",
    "bml0cz0idXNlclNwYWNlT25Vc2UiLz48cmFkaWFsR3JhZGllbnQgeGxpbms6aHJlZj0iI2MiIGlk\n",
    "PSJmIiBjeD0iNjEuNTE5IiBjeT0iMTMyLjI4NiIgcj0iMjkuMDM3IiBmeD0iNjEuNTE5IiBmeT0i\n",
    "MTMyLjI4NiIgZ3JhZGllbnRUcmFuc2Zvcm09Im1hdHJpeCgwIC0uMjM5OTUgMS4wNTQ2NyAwIC04\n",
    "My43IDE0Mi40NjIpIiBncmFkaWVudFVuaXRzPSJ1c2VyU3BhY2VPblVzZSIvPjwvZGVmcz48cGF0\n",
    "aCBkPSJNNTQuOTE5IDBjLTQuNTg0LjAyMi04Ljk2MS40MTMtMTIuODEzIDEuMDk1QzMwLjc2IDMu\n",
    "MDk5IDI4LjcgNy4yOTUgMjguNyAxNS4wMzJ2MTAuMjE5aDI2LjgxM3YzLjQwNkgxOC42MzhjLTcu\n",
    "NzkzIDAtMTQuNjE2IDQuNjg0LTE2Ljc1IDEzLjU5NC0yLjQ2MiAxMC4yMTMtMi41NzEgMTYuNTg2\n",
    "IDAgMjcuMjUgMS45MDUgNy45MzggNi40NTcgMTMuNTk0IDE0LjI1IDEzLjU5NGg5LjIxOHYtMTIu\n",
    "MjVjMC04Ljg1IDcuNjU3LTE2LjY1NyAxNi43NS0xNi42NTdoMjYuNzgyYzcuNDU0IDAgMTMuNDA2\n",
    "LTYuMTM4IDEzLjQwNi0xMy42MjV2LTI1LjUzYzAtNy4yNjctNi4xMy0xMi43MjYtMTMuNDA2LTEz\n",
    "LjkzOEM2NC4yODIuMzI4IDU5LjUwMi0uMDIgNTQuOTE4IDBtLTE0LjUgOC4yMmMyLjc3IDAgNS4w\n",
    "MzEgMi4yOTggNS4wMzEgNS4xMjUgMCAyLjgxNi0yLjI2MiA1LjA5My01LjAzMSA1LjA5My0yLjc4\n",
    "IDAtNS4wMzEtMi4yNzctNS4wMzEtNS4wOTMgMC0yLjgyNyAyLjI1MS01LjEyNSA1LjAzLTUuMTI1\n",
    "IiBzdHlsZT0iZmlsbDp1cmwoI2QpO2ZpbGwtb3BhY2l0eToxIi8+PHBhdGggZD0iTTg1LjYzOCAy\n",
    "OC42NTd2MTEuOTA2YzAgOS4yMzEtNy44MjYgMTctMTYuNzUgMTdINDIuMTA2Yy03LjMzNiAwLTEz\n",
    "LjQwNiA2LjI3OS0xMy40MDYgMTMuNjI1Vjk2LjcyYzAgNy4yNjYgNi4zMTkgMTEuNTQgMTMuNDA2\n",
    "IDEzLjYyNSA4LjQ4OCAyLjQ5NSAxNi42MjcgMi45NDYgMjYuNzgyIDAgNi43NS0xLjk1NSAxMy40\n",
    "MDYtNS44ODggMTMuNDA2LTEzLjYyNVY4Ni41SDU1LjUxM3YtMy40MDVIOTUuN2M3Ljc5MyAwIDEw\n",
    "LjY5Ni01LjQzNiAxMy40MDYtMTMuNTk0IDIuOC04LjM5OSAyLjY4LTE2LjQ3NiAwLTI3LjI1LTEu\n",
    "OTI1LTcuNzU4LTUuNjA0LTEzLjU5NC0xMy40MDYtMTMuNTk0ek03MC41NzUgOTMuMzEzYzIuNzgg\n",
    "MCA1LjAzMSAyLjI3OCA1LjAzMSA1LjA5NCAwIDIuODI3LTIuMjUxIDUuMTI1LTUuMDMxIDUuMTI1\n",
    "LTIuNzcgMC01LjAzMS0yLjI5OC01LjAzMS01LjEyNSAwLTIuODE2IDIuMjYxLTUuMDk0IDUuMDMx\n",
    "LTUuMDk0IiBzdHlsZT0iZmlsbDp1cmwoI2UpO2ZpbGwtb3BhY2l0eToxIi8+PGVsbGlwc2UgY3g9\n",
    "IjU1LjgxNyIgY3k9IjEyNy43MDEiIHJ4PSIzNS45MzEiIHJ5PSI2Ljk2NyIgc3R5bGU9Im9wYWNp\n",
    "dHk6LjQ0MzgyO2ZpbGw6dXJsKCNmKTtmaWxsLW9wYWNpdHk6MTtmaWxsLXJ1bGU6bm9uemVybztz\n",
    "dHJva2U6bm9uZTtzdHJva2Utd2lkdGg6MTUuNDE3NDtzdHJva2UtbWl0ZXJsaW1pdDo0O3N0cm9r\n",
    "ZS1kYXNoYXJyYXk6bm9uZTtzdHJva2Utb3BhY2l0eToxIi8+PC9zdmc+\n",
    "\"\n",
    "     style=\"display:block;margin:auto;width:10%\" alt=\"Python Logo\"/>\n",
    "<br>\n",
    "\n",
    "<div style=\"text-align:center; font-size:200%;\">\n",
    " <b>Unser eigenes lineares Regressionsmodell</b>\n",
    "</div>\n",
    "<br/>\n",
    "<div style=\"text-align:center;\">Dr. Matthias Hölzl</div>\n",
    "<br/>"
   ]
  },
  {
   "cell_type": "markdown",
   "id": "5c719c0d3ac7a597",
   "metadata": {
    "lang": "de",
    "slideshow": {
     "slide_type": "slide"
    },
    "tags": [
     "slide"
    ]
   },
   "source": [
    "\n",
    "## Was macht ein Modell aus?\n",
    "\n",
    "Ein lineares Regressionsmodell braucht:\n",
    "- **Koeffizienten** (Gewichte für Features)\n",
    "- **Intercept** (Basiswert)\n",
    "- **predict()** Methode für Vorhersagen\n",
    "- **fit()** Methode zum Lernen (kommt später)"
   ]
  },
  {
   "cell_type": "code",
   "execution_count": null,
   "id": "d596315fe775c87d",
   "metadata": {
    "tags": [
     "keep"
    ]
   },
   "outputs": [],
   "source": [
    "import numpy as np\n",
    "from sklearn.linear_model import LinearRegression\n",
    "import matplotlib.pyplot as plt"
   ]
  },
  {
   "cell_type": "markdown",
   "id": "f9cc951b34d7ddfc",
   "metadata": {
    "lang": "de",
    "slideshow": {
     "slide_type": "subslide"
    },
    "tags": [
     "subslide"
    ]
   },
   "source": [
    "\n",
    "## Scikit-Learn's Modellstruktur\n",
    "\n",
    "Wir trainieren ein einfaches Scikit-Learn-Modell"
   ]
  },
  {
   "cell_type": "code",
   "execution_count": null,
   "id": "f6b09853df0bd8bc",
   "metadata": {
    "tags": [
     "keep"
    ]
   },
   "outputs": [],
   "source": [
    "X_train = np.array([[1, 2], [2, 3], [3, 4], [4, 5], [5, 6]])\n",
    "y_train = np.array([5, 7, 9, 11, 13])"
   ]
  },
  {
   "cell_type": "code",
   "execution_count": null,
   "id": "05d91ae4b3e86ea1",
   "metadata": {
    "tags": [
     "keep"
    ]
   },
   "outputs": [],
   "source": [
    "sklearn_model = LinearRegression()\n",
    "sklearn_model.fit(X_train, y_train)"
   ]
  },
  {
   "cell_type": "code",
   "execution_count": null,
   "id": "71cfe2341be31246",
   "metadata": {
    "tags": [
     "keep"
    ]
   },
   "outputs": [],
   "source": [
    "print(f\"Coefficients: {sklearn_model.coef_}\")\n",
    "print(f\"Intercept: {sklearn_model.intercept_}\")"
   ]
  },
  {
   "cell_type": "markdown",
   "id": "3507980c309a8075",
   "metadata": {
    "lang": "de",
    "slideshow": {
     "slide_type": "subslide"
    },
    "tags": [
     "subslide"
    ]
   },
   "source": [
    "\n",
    "Vorhersagen mit dem trainierten Modell"
   ]
  },
  {
   "cell_type": "code",
   "execution_count": null,
   "id": "4031f9247f0c7044",
   "metadata": {
    "tags": [
     "keep"
    ]
   },
   "outputs": [],
   "source": [
    "X_test = np.array([[6, 7], [7, 8]])"
   ]
  },
  {
   "cell_type": "code",
   "execution_count": null,
   "id": "e2a220702b073fb4",
   "metadata": {},
   "outputs": [],
   "source": []
  },
  {
   "cell_type": "code",
   "execution_count": null,
   "id": "7ec7706d5c51ae62",
   "metadata": {
    "lines_to_next_cell": 1
   },
   "outputs": [],
   "source": []
  },
  {
   "cell_type": "markdown",
   "id": "a8380b511322848a",
   "metadata": {
    "lang": "de",
    "slideshow": {
     "slide_type": "slide"
    },
    "tags": [
     "slide"
    ]
   },
   "source": [
    "\n",
    "## Unsere erste Modellklasse\n",
    "\n",
    "Wir wollen eine eigene Klasse implementieren, die ähnlich funktioniert"
   ]
  },
  {
   "cell_type": "code",
   "execution_count": null,
   "id": "d1fe7857ff69a14c",
   "metadata": {
    "lines_to_next_cell": 1
   },
   "outputs": [],
   "source": []
  },
  {
   "cell_type": "markdown",
   "id": "6087935b6fbe884a",
   "metadata": {
    "lang": "de",
    "slideshow": {
     "slide_type": "subslide"
    },
    "tags": [
     "subslide"
    ]
   },
   "source": [
    "\n",
    "## Modell mit bekannten Parametern erstellen\n",
    "\n",
    "Erstelle das Modell mit Scikit-Learns gelernten Parametern"
   ]
  },
  {
   "cell_type": "code",
   "execution_count": null,
   "id": "a68b5a8277ea299f",
   "metadata": {},
   "outputs": [],
   "source": []
  },
  {
   "cell_type": "code",
   "execution_count": null,
   "id": "2e6195168af4d3f5",
   "metadata": {
    "lines_to_next_cell": 1
   },
   "outputs": [],
   "source": []
  },
  {
   "cell_type": "markdown",
   "id": "b0e687a490ac0cfb",
   "metadata": {
    "lang": "de",
    "slideshow": {
     "slide_type": "slide"
    },
    "tags": [
     "slide"
    ]
   },
   "source": [
    "\n",
    "## Die predict() Methode implementieren"
   ]
  },
  {
   "cell_type": "code",
   "execution_count": null,
   "id": "1b84ade6226e76d7",
   "metadata": {
    "lines_to_next_cell": 1
   },
   "outputs": [],
   "source": []
  },
  {
   "cell_type": "markdown",
   "id": "60868798c63d466a",
   "metadata": {
    "lang": "de",
    "slideshow": {
     "slide_type": "subslide"
    },
    "tags": [
     "subslide"
    ]
   },
   "source": [
    "\n",
    "## Testen unseres Modells\n",
    "\n",
    "- Erstelle Modell mit bekannten Parametern\n",
    "- Teste Vorhersagen"
   ]
  },
  {
   "cell_type": "code",
   "execution_count": null,
   "id": "ab8723c0f0e4d6e5",
   "metadata": {
    "tags": [
     "keep"
    ]
   },
   "outputs": [],
   "source": [
    "our_model = SimpleLinearRegression(\n",
    "    coefficients=sklearn_model.coef_,\n",
    "    intercept=sklearn_model.intercept_\n",
    ")"
   ]
  },
  {
   "cell_type": "markdown",
   "id": "6dd2fe98e637a0b9",
   "metadata": {
    "lang": "de",
    "slideshow": {
     "slide_type": "subslide"
    },
    "tags": [
     "subslide"
    ]
   },
   "source": [
    "\n",
    "Teste Vorhersagen"
   ]
  },
  {
   "cell_type": "code",
   "execution_count": null,
   "id": "9ae8d4dd9490e489",
   "metadata": {},
   "outputs": [],
   "source": []
  },
  {
   "cell_type": "code",
   "execution_count": null,
   "id": "ccccf7911b738fce",
   "metadata": {},
   "outputs": [],
   "source": []
  },
  {
   "cell_type": "code",
   "execution_count": null,
   "id": "7c568ce0c5b7422a",
   "metadata": {
    "lines_to_next_cell": 1
   },
   "outputs": [],
   "source": []
  },
  {
   "cell_type": "markdown",
   "id": "6ffc0a1cbd2623ed",
   "metadata": {
    "lang": "de",
    "slideshow": {
     "slide_type": "slide"
    },
    "tags": [
     "slide"
    ]
   },
   "source": [
    "\n",
    "## Modell mit Zusatzfunktionen"
   ]
  },
  {
   "cell_type": "code",
   "execution_count": null,
   "id": "fc74472484f56de9",
   "metadata": {
    "lines_to_next_cell": 1,
    "tags": [
     "keep"
    ]
   },
   "outputs": [],
   "source": [
    "class SimpleLinearRegression:\n",
    "    \"\"\"A simple linear regression model with additional features.\"\"\"\n",
    "\n",
    "    def __init__(self, coefficients=None, intercept=0.0):\n",
    "        self.coef_ = np.array(coefficients) if coefficients is not None else None\n",
    "        self.intercept_ = intercept\n",
    "        self.n_features_ = len(self.coef_) if self.coef_ is not None else None\n",
    "\n",
    "    def predict(self, X):\n",
    "        \"\"\"Make predictions for input data.\"\"\"\n",
    "        X = np.array(X)\n",
    "\n",
    "        if self.coef_ is None:\n",
    "            raise ValueError(\"Model has not been fitted yet!\")\n",
    "\n",
    "        if X.shape[1] != len(self.coef_):\n",
    "            raise ValueError(\n",
    "                f\"Feature count mismatch: input has {X.shape[1]} features, \"\n",
    "                f\"model expects {len(self.coef_)}\"\n",
    "            )\n",
    "\n",
    "        return X @ self.coef_ + self.intercept_\n",
    "\n",
    "    def get_params(self):\n",
    "        \"\"\"Get model parameters.\"\"\"\n",
    "        return {\n",
    "            'coefficients': self.coef_,\n",
    "            'intercept': self.intercept_,\n",
    "            'n_features': self.n_features_\n",
    "        }\n",
    "\n",
    "    def score_sample(self, x):\n",
    "        \"\"\"\n",
    "        Score a single sample (show contribution of each feature).\n",
    "\n",
    "        Parameters:\n",
    "        - x: 1D array of features\n",
    "\n",
    "        Returns:\n",
    "        - dict with feature contributions\n",
    "        \"\"\"\n",
    "        x = np.array(x)\n",
    "        if x.ndim != 1:\n",
    "            raise ValueError(\"Expected 1D array for single sample\")\n",
    "\n",
    "        if len(x) != len(self.coef_):\n",
    "            raise ValueError(f\"Expected {len(self.coef_)} features, got {len(x)}\")\n",
    "\n",
    "        contributions = x * self.coef_\n",
    "\n",
    "        return {\n",
    "            'features': x,\n",
    "            'coefficients': self.coef_,\n",
    "            'contributions': contributions,\n",
    "            'intercept': self.intercept_,\n",
    "            'total': contributions.sum() + self.intercept_\n",
    "        }"
   ]
  },
  {
   "cell_type": "markdown",
   "id": "0948b17516aa3879",
   "metadata": {
    "lang": "de",
    "slideshow": {
     "slide_type": "subslide"
    },
    "tags": [
     "subslide"
    ]
   },
   "source": [
    "\n",
    "## Feature-Beiträge analysieren\n",
    "\n",
    "- Erstelle Modell\n",
    "- Analysiere ein Sample"
   ]
  },
  {
   "cell_type": "code",
   "execution_count": null,
   "id": "84a6b636ace96c52",
   "metadata": {
    "tags": [
     "keep"
    ]
   },
   "outputs": [],
   "source": [
    "model = SimpleLinearRegression(\n",
    "    coefficients=[2.0, 1.5, -0.5],\n",
    "    intercept=10.0\n",
    ")"
   ]
  },
  {
   "cell_type": "code",
   "execution_count": null,
   "id": "e315616fd7985312",
   "metadata": {},
   "outputs": [],
   "source": []
  },
  {
   "cell_type": "code",
   "execution_count": null,
   "id": "c74a640d2e808af8",
   "metadata": {},
   "outputs": [],
   "source": []
  },
  {
   "cell_type": "code",
   "execution_count": null,
   "id": "cf6afe6ffcfab9b7",
   "metadata": {
    "lines_to_next_cell": 2,
    "slideshow": {
     "slide_type": "subslide"
    },
    "tags": [
     "keep",
     "subslide"
    ]
   },
   "outputs": [],
   "source": [
    "print(\"Feature Analysis:\")\n",
    "print(\"-\" * 40)\n",
    "for i in range(len(sample)):\n",
    "    print(f\"Feature {i}: {analysis['features'][i]:6.1f} × {analysis['coefficients'][i]:+6.2f} = {analysis['contributions'][i]:+7.2f}\")\n",
    "print(f\"Intercept:                 = {analysis['intercept']:+7.2f}\")\n",
    "print(\"-\" * 40)\n",
    "print(f\"Total prediction:          = {analysis['total']:7.2f}\")"
   ]
  },
  {
   "cell_type": "markdown",
   "id": "d95ce973f16c28de",
   "metadata": {
    "lang": "de",
    "slideshow": {
     "slide_type": "slide"
    },
    "tags": [
     "slide"
    ]
   },
   "source": [
    "\n",
    "## Zusammenfassung\n",
    "\n",
    "- Wir haben unser eigenes Regressionsmodell gebaut!\n",
    "- Kernkomponenten: Koeffizienten, Intercept, predict()\n",
    "- Nutzt Matrix-Multiplikation für effiziente Vorhersagen\n",
    "- Kann erweitert werden mit Analyse- und Visualisierungsmethoden\n",
    "- Verhält sich wie Scikit-Learn's LinearRegression"
   ]
  },
  {
   "cell_type": "markdown",
   "id": "be6e770c76866d35",
   "metadata": {
    "lang": "de",
    "slideshow": {
     "slide_type": "subslide"
    },
    "tags": [
     "subslide"
    ]
   },
   "source": [
    "\n",
    "## Nächste Schritte\n",
    "\n",
    "- Unser Modell kann vorhersagen, aber noch nicht lernen\n",
    "- Wie findet man die optimalen Koeffizienten?\n",
    "- Nächstes Thema: Die fit() Methode implementieren\n",
    "- Lernen aus Daten mit der Normalgleichung!"
   ]
  },
  {
   "cell_type": "markdown",
   "id": "a99c441367568d3b",
   "metadata": {
    "lang": "de",
    "slideshow": {
     "slide_type": "slide"
    },
    "tags": [
     "slide"
    ]
   },
   "source": [
    "\n",
    "## Workshop: Erweiterte Modellklasse"
   ]
  },
  {
   "cell_type": "markdown",
   "id": "6c3c37679eaae58d",
   "metadata": {
    "lang": "de",
    "tags": []
   },
   "source": [
    "\n",
    "Autopreismodell für Workshop"
   ]
  },
  {
   "cell_type": "code",
   "execution_count": null,
   "id": "7d20703cdb083f89",
   "metadata": {
    "tags": [
     "keep"
    ]
   },
   "outputs": [],
   "source": [
    "car_features = [\"age\", \"mileage\", \"engine_size\", \"num_owners\"]\n",
    "car_coefficients = [-2.5, -0.08, 12.0, -3.0]  # in thousands\n",
    "car_intercept = 35.0"
   ]
  },
  {
   "cell_type": "markdown",
   "id": "c3540b2d9eb18fd1",
   "metadata": {
    "lang": "de",
    "tags": []
   },
   "source": [
    "\n",
    "Testdaten"
   ]
  },
  {
   "cell_type": "code",
   "execution_count": null,
   "id": "65cc028d64bdf560",
   "metadata": {
    "tags": [
     "keep"
    ]
   },
   "outputs": [],
   "source": [
    "cars = np.array([\n",
    "    [3, 45, 2.0, 1],   # 3 years, 45k km, 2.0L, 1 owner\n",
    "    [5, 80, 1.6, 2],   # 5 years, 80k km, 1.6L, 2 owners\n",
    "    [1, 10, 3.0, 0],   # 1 year, 10k km, 3.0L, new\n",
    "    [8, 120, 1.4, 3],  # 8 years, 120k km, 1.4L, 3 owners\n",
    "])"
   ]
  },
  {
   "cell_type": "markdown",
   "id": "ab8adf3aca15823d",
   "metadata": {
    "lang": "de",
    "slideshow": {
     "slide_type": "subslide"
    },
    "tags": [
     "subslide"
    ]
   },
   "source": [
    "\n",
    "### Aufgabe 1: Modell erstellen und testen\n",
    "\n",
    "Erstellen Sie ein Modell für Autopreise und machen Sie Vorhersagen:"
   ]
  },
  {
   "cell_type": "code",
   "execution_count": null,
   "id": "3f08c901b952f52a",
   "metadata": {},
   "outputs": [],
   "source": []
  },
  {
   "cell_type": "markdown",
   "id": "0b50cc35a2367c47",
   "metadata": {
    "lang": "de",
    "slideshow": {
     "slide_type": "subslide"
    },
    "tags": [
     "subslide"
    ]
   },
   "source": [
    "\n",
    "### Aufgabe 2: Detailanalyse\n",
    "\n",
    "Analysieren Sie, welches Feature den größten Einfluss auf den Preis von Auto 3 hat:"
   ]
  },
  {
   "cell_type": "code",
   "execution_count": null,
   "id": "d701e575c9f8ae15",
   "metadata": {},
   "outputs": [],
   "source": []
  }
 ],
 "metadata": {
  "jupytext": {
   "cell_metadata_filter": "tags,lang,-all",
   "main_language": "python",
   "notebook_metadata_filter": "-all"
  },
  "kernelspec": {
   "display_name": "Python 3 (ipykernel)",
   "language": "python",
   "name": "python3"
  },
  "language_info": {
   "codemirror_mode": {
    "name": "ipython",
    "version": 3
   },
   "file_extension": ".py",
   "mimetype": "text/x-python",
   "name": "python",
   "nbconvert_exporter": "python",
   "pygments_lexer": "ipython3"
  }
 },
 "nbformat": 4,
 "nbformat_minor": 5
}
