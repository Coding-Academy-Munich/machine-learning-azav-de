{
 "cells": [
  {
   "cell_type": "markdown",
   "id": "bb0f7826f496ad4e",
   "metadata": {
    "lang": "de",
    "slideshow": {
     "slide_type": "slide"
    },
    "tags": [
     "slide"
    ]
   },
   "source": [
    "\n",
    "<img src=\"data:image/svg+xml;base64,PHN2ZyB4bWxucz0iaHR0cDovL3d3dy53My5vcmcvMjAwMC9zdmciIHhtbG5zOnhsaW5rPSJodHRw\n",
    "Oi8vd3d3LnczLm9yZy8xOTk5L3hsaW5rIiB3aWR0aD0iMTExLjE2MSIgaGVpZ2h0PSIxMzQuNjY4\n",
    "IiB2ZXJzaW9uPSIxLjAiPjxkZWZzPjxsaW5lYXJHcmFkaWVudCBpZD0iYyI+PHN0b3Agb2Zmc2V0\n",
    "PSIwIiBzdHlsZT0ic3RvcC1jb2xvcjojYjhiOGI4O3N0b3Atb3BhY2l0eTouNDk4MDM5MjIiLz48\n",
    "c3RvcCBvZmZzZXQ9IjEiIHN0eWxlPSJzdG9wLWNvbG9yOiM3ZjdmN2Y7c3RvcC1vcGFjaXR5OjAi\n",
    "Lz48L2xpbmVhckdyYWRpZW50PjxsaW5lYXJHcmFkaWVudCBpZD0iYSI+PHN0b3Agb2Zmc2V0PSIw\n",
    "IiBzdHlsZT0ic3RvcC1jb2xvcjojZmZkNDNiO3N0b3Atb3BhY2l0eToxIi8+PHN0b3Agb2Zmc2V0\n",
    "PSIxIiBzdHlsZT0ic3RvcC1jb2xvcjojZmZlODczO3N0b3Atb3BhY2l0eToxIi8+PC9saW5lYXJH\n",
    "cmFkaWVudD48bGluZWFyR3JhZGllbnQgaWQ9ImIiPjxzdG9wIG9mZnNldD0iMCIgc3R5bGU9InN0\n",
    "b3AtY29sb3I6IzVhOWZkNDtzdG9wLW9wYWNpdHk6MSIvPjxzdG9wIG9mZnNldD0iMSIgc3R5bGU9\n",
    "InN0b3AtY29sb3I6IzMwNjk5ODtzdG9wLW9wYWNpdHk6MSIvPjwvbGluZWFyR3JhZGllbnQ+PGxp\n",
    "bmVhckdyYWRpZW50IHhsaW5rOmhyZWY9IiNhIiBpZD0iZSIgeDE9IjE1MC45NjEiIHgyPSIxMTIu\n",
    "MDMxIiB5MT0iMTkyLjM1MiIgeTI9IjEzNy4yNzMiIGdyYWRpZW50VHJhbnNmb3JtPSJtYXRyaXgo\n",
    "LjU2MjU0IDAgMCAuNTY3OTcgLTE0Ljk5MSAtMTEuNzAyKSIgZ3JhZGllbnRVbml0cz0idXNlclNw\n",
    "YWNlT25Vc2UiLz48bGluZWFyR3JhZGllbnQgeGxpbms6aHJlZj0iI2IiIGlkPSJkIiB4MT0iMjYu\n",
    "NjQ5IiB4Mj0iMTM1LjY2NSIgeTE9IjIwLjYwNCIgeTI9IjExNC4zOTgiIGdyYWRpZW50VHJhbnNm\n",
    "b3JtPSJtYXRyaXgoLjU2MjU0IDAgMCAuNTY3OTcgLTE0Ljk5MSAtMTEuNzAyKSIgZ3JhZGllbnRV\n",
    "bml0cz0idXNlclNwYWNlT25Vc2UiLz48cmFkaWFsR3JhZGllbnQgeGxpbms6aHJlZj0iI2MiIGlk\n",
    "PSJmIiBjeD0iNjEuNTE5IiBjeT0iMTMyLjI4NiIgcj0iMjkuMDM3IiBmeD0iNjEuNTE5IiBmeT0i\n",
    "MTMyLjI4NiIgZ3JhZGllbnRUcmFuc2Zvcm09Im1hdHJpeCgwIC0uMjM5OTUgMS4wNTQ2NyAwIC04\n",
    "My43IDE0Mi40NjIpIiBncmFkaWVudFVuaXRzPSJ1c2VyU3BhY2VPblVzZSIvPjwvZGVmcz48cGF0\n",
    "aCBkPSJNNTQuOTE5IDBjLTQuNTg0LjAyMi04Ljk2MS40MTMtMTIuODEzIDEuMDk1QzMwLjc2IDMu\n",
    "MDk5IDI4LjcgNy4yOTUgMjguNyAxNS4wMzJ2MTAuMjE5aDI2LjgxM3YzLjQwNkgxOC42MzhjLTcu\n",
    "NzkzIDAtMTQuNjE2IDQuNjg0LTE2Ljc1IDEzLjU5NC0yLjQ2MiAxMC4yMTMtMi41NzEgMTYuNTg2\n",
    "IDAgMjcuMjUgMS45MDUgNy45MzggNi40NTcgMTMuNTk0IDE0LjI1IDEzLjU5NGg5LjIxOHYtMTIu\n",
    "MjVjMC04Ljg1IDcuNjU3LTE2LjY1NyAxNi43NS0xNi42NTdoMjYuNzgyYzcuNDU0IDAgMTMuNDA2\n",
    "LTYuMTM4IDEzLjQwNi0xMy42MjV2LTI1LjUzYzAtNy4yNjctNi4xMy0xMi43MjYtMTMuNDA2LTEz\n",
    "LjkzOEM2NC4yODIuMzI4IDU5LjUwMi0uMDIgNTQuOTE4IDBtLTE0LjUgOC4yMmMyLjc3IDAgNS4w\n",
    "MzEgMi4yOTggNS4wMzEgNS4xMjUgMCAyLjgxNi0yLjI2MiA1LjA5My01LjAzMSA1LjA5My0yLjc4\n",
    "IDAtNS4wMzEtMi4yNzctNS4wMzEtNS4wOTMgMC0yLjgyNyAyLjI1MS01LjEyNSA1LjAzLTUuMTI1\n",
    "IiBzdHlsZT0iZmlsbDp1cmwoI2QpO2ZpbGwtb3BhY2l0eToxIi8+PHBhdGggZD0iTTg1LjYzOCAy\n",
    "OC42NTd2MTEuOTA2YzAgOS4yMzEtNy44MjYgMTctMTYuNzUgMTdINDIuMTA2Yy03LjMzNiAwLTEz\n",
    "LjQwNiA2LjI3OS0xMy40MDYgMTMuNjI1Vjk2LjcyYzAgNy4yNjYgNi4zMTkgMTEuNTQgMTMuNDA2\n",
    "IDEzLjYyNSA4LjQ4OCAyLjQ5NSAxNi42MjcgMi45NDYgMjYuNzgyIDAgNi43NS0xLjk1NSAxMy40\n",
    "MDYtNS44ODggMTMuNDA2LTEzLjYyNVY4Ni41SDU1LjUxM3YtMy40MDVIOTUuN2M3Ljc5MyAwIDEw\n",
    "LjY5Ni01LjQzNiAxMy40MDYtMTMuNTk0IDIuOC04LjM5OSAyLjY4LTE2LjQ3NiAwLTI3LjI1LTEu\n",
    "OTI1LTcuNzU4LTUuNjA0LTEzLjU5NC0xMy40MDYtMTMuNTk0ek03MC41NzUgOTMuMzEzYzIuNzgg\n",
    "MCA1LjAzMSAyLjI3OCA1LjAzMSA1LjA5NCAwIDIuODI3LTIuMjUxIDUuMTI1LTUuMDMxIDUuMTI1\n",
    "LTIuNzcgMC01LjAzMS0yLjI5OC01LjAzMS01LjEyNSAwLTIuODE2IDIuMjYxLTUuMDk0IDUuMDMx\n",
    "LTUuMDk0IiBzdHlsZT0iZmlsbDp1cmwoI2UpO2ZpbGwtb3BhY2l0eToxIi8+PGVsbGlwc2UgY3g9\n",
    "IjU1LjgxNyIgY3k9IjEyNy43MDEiIHJ4PSIzNS45MzEiIHJ5PSI2Ljk2NyIgc3R5bGU9Im9wYWNp\n",
    "dHk6LjQ0MzgyO2ZpbGw6dXJsKCNmKTtmaWxsLW9wYWNpdHk6MTtmaWxsLXJ1bGU6bm9uemVybztz\n",
    "dHJva2U6bm9uZTtzdHJva2Utd2lkdGg6MTUuNDE3NDtzdHJva2UtbWl0ZXJsaW1pdDo0O3N0cm9r\n",
    "ZS1kYXNoYXJyYXk6bm9uZTtzdHJva2Utb3BhY2l0eToxIi8+PC9zdmc+\n",
    "\"\n",
    "     style=\"display:block;margin:auto;width:10%\" alt=\"Python Logo\"/>\n",
    "<br>\n",
    "\n",
    "<div style=\"text-align:center; font-size:200%;\">\n",
    " <b>Das Skalarprodukt - Herz der Linearen Regression</b>\n",
    "</div>\n",
    "<br/>\n",
    "<div style=\"text-align:center;\">Dr. Matthias Hölzl</div>\n",
    "<br/>"
   ]
  },
  {
   "cell_type": "markdown",
   "id": "f1b2735ce989eb20",
   "metadata": {
    "lang": "de",
    "slideshow": {
     "slide_type": "slide"
    },
    "tags": [
     "slide"
    ]
   },
   "source": [
    "\n",
    "## Unser Muster wiederholen\n",
    "\n",
    "Erinnern Sie sich an unsere Vorhersageberechnung:\n",
    "1. Feature × Koeffizient für jedes Feature\n",
    "2. Alle Produkte addieren\n",
    "3. Intercept addieren"
   ]
  },
  {
   "cell_type": "code",
   "execution_count": null,
   "id": "9189f60d213fe786",
   "metadata": {
    "slideshow": {
     "slide_type": "subslide"
    },
    "tags": [
     "keep",
     "subslide"
    ]
   },
   "outputs": [],
   "source": [
    "import numpy as np"
   ]
  },
  {
   "cell_type": "markdown",
   "id": "aa99408fce1f739e",
   "metadata": {
    "lang": "de",
    "tags": []
   },
   "source": [
    "\n",
    "Unser vertrautes Beispiel"
   ]
  },
  {
   "cell_type": "code",
   "execution_count": null,
   "id": "1ea9b758d73b463f",
   "metadata": {
    "tags": [
     "keep"
    ]
   },
   "outputs": [],
   "source": [
    "features = [5.0, 7.0, 3.0]  # distance, traffic, pizzas\n",
    "coefficients = [2.0, 1.5, 0.5]"
   ]
  },
  {
   "cell_type": "markdown",
   "id": "031de62364c8e117",
   "metadata": {
    "lang": "de",
    "tags": []
   },
   "source": [
    "\n",
    "Manuelle Berechnung"
   ]
  },
  {
   "cell_type": "code",
   "execution_count": null,
   "id": "2efb81804d10453f",
   "metadata": {
    "tags": [
     "keep"
    ]
   },
   "outputs": [],
   "source": [
    "result = 0\n",
    "for f, c in zip(features, coefficients):\n",
    "    result += f * c\n",
    "    print(f\"{f} × {c} = {f * c}\")"
   ]
  },
  {
   "cell_type": "markdown",
   "id": "874c8d889889fe79",
   "metadata": {
    "lang": "de"
   },
   "source": [
    "\n",
    "Summe:"
   ]
  },
  {
   "cell_type": "code",
   "execution_count": null,
   "id": "6a81d250fa33f690",
   "metadata": {
    "tags": [
     "keep"
    ]
   },
   "outputs": [],
   "source": [
    "result"
   ]
  },
  {
   "cell_type": "markdown",
   "id": "5930ba1617b29b02",
   "metadata": {
    "lang": "de",
    "slideshow": {
     "slide_type": "subslide"
    },
    "tags": [
     "subslide"
    ]
   },
   "source": [
    "\n",
    "## Dieses Muster hat einen Namen!\n",
    "\n",
    "**Skalarprodukt** (Dot Product):\n",
    "- Multipliziere entsprechende Elemente\n",
    "- Addiere alle Produkte\n",
    "- Ergebnis ist eine einzelne Zahl (Skalar)"
   ]
  },
  {
   "cell_type": "markdown",
   "id": "e13c05f4ff104bc5",
   "metadata": {
    "lang": "de",
    "slideshow": {
     "slide_type": "slide"
    },
    "tags": [
     "slide"
    ]
   },
   "source": [
    "\n",
    "## Das Skalarprodukt verstehen\n",
    "\n",
    "Für zwei Vektoren a und b:\n",
    "- a = [a₁, a₂, a₃]\n",
    "- b = [b₁, b₂, b₃]\n",
    "- a · b = a₁×b₁ + a₂×b₂ + a₃×b₃"
   ]
  },
  {
   "cell_type": "markdown",
   "id": "1345902d5ddb9753",
   "metadata": {
    "lang": "de",
    "slideshow": {
     "slide_type": "subslide"
    },
    "tags": [
     "subslide"
    ]
   },
   "source": [
    "\n",
    "## Beispiel: Schritt für Schritt"
   ]
  },
  {
   "cell_type": "markdown",
   "id": "609429188ab87291",
   "metadata": {
    "lang": "de",
    "tags": []
   },
   "source": [
    "\n",
    "Zwei Vektoren"
   ]
  },
  {
   "cell_type": "code",
   "execution_count": null,
   "id": "e021dbd82e706ede",
   "metadata": {
    "tags": [
     "keep"
    ]
   },
   "outputs": [],
   "source": [
    "a = [2, 3, 4]\n",
    "b = [5, 1, 2]"
   ]
  },
  {
   "cell_type": "markdown",
   "id": "cfdffdb59d13317e",
   "metadata": {
    "lang": "de",
    "tags": []
   },
   "source": [
    "\n",
    "Berechne Skalarprodukt manuell"
   ]
  },
  {
   "cell_type": "code",
   "execution_count": null,
   "id": "5e274e43de277cd5",
   "metadata": {
    "tags": [
     "keep"
    ]
   },
   "outputs": [],
   "source": [
    "dot_product = 0\n",
    "print(\"Calculating dot product:\")\n",
    "for i in range(len(a)):\n",
    "    product = a[i] * b[i]\n",
    "    dot_product += product\n",
    "    print(f\"Position {i}: {a[i]} × {b[i]} = {product}\")"
   ]
  },
  {
   "cell_type": "code",
   "execution_count": null,
   "id": "987d263f45fba9d3",
   "metadata": {
    "tags": [
     "keep"
    ]
   },
   "outputs": [],
   "source": [
    "dot_product"
   ]
  },
  {
   "cell_type": "markdown",
   "id": "0ccff3d916975530",
   "metadata": {
    "lang": "de",
    "slideshow": {
     "slide_type": "subslide"
    },
    "tags": [
     "subslide"
    ]
   },
   "source": [
    "\n",
    "## Geometrische Bedeutung\n",
    "\n",
    "Das Skalarprodukt misst gleichzeitig:\n",
    "- Ob zwei Vektoren in ähnliche Richtung zeigen\n",
    "  - Größer wenn Vektoren in ähnliche Richtung zeigen\n",
    "  - Null wenn Vektoren senkrecht stehen\n",
    "  - Negativ wenn Vektoren entgegengesetzt zeigen\n",
    "- Wie lang die Vektoren sind\n",
    "  - Bei Vektoren in gleicher Richtung: je länger, desto größer das Skalarprodukt"
   ]
  },
  {
   "cell_type": "code",
   "execution_count": null,
   "id": "5090d699de666050",
   "metadata": {
    "slideshow": {
     "slide_type": "subslide"
    },
    "tags": [
     "keep",
     "subslide"
    ]
   },
   "outputs": [],
   "source": [
    "import matplotlib.pyplot as plt\n",
    "from plot_utils import plot_dot_product_relationship"
   ]
  },
  {
   "cell_type": "markdown",
   "id": "f22a93424f4cff8c",
   "metadata": {
    "lang": "de",
    "tags": []
   },
   "source": [
    "\n",
    "Visualisiere Skalarprodukt-Beziehung"
   ]
  },
  {
   "cell_type": "code",
   "execution_count": null,
   "id": "504212f10165a456",
   "metadata": {},
   "outputs": [],
   "source": []
  },
  {
   "cell_type": "markdown",
   "id": "ff2b273061cacded",
   "metadata": {
    "lang": "de",
    "slideshow": {
     "slide_type": "slide"
    },
    "tags": [
     "slide"
    ]
   },
   "source": [
    "\n",
    "## Skalarprodukt in NumPy\n",
    "\n",
    "NumPy macht das Skalarprodukt einfach:"
   ]
  },
  {
   "cell_type": "code",
   "execution_count": null,
   "id": "9a38bc8c3d27bbab",
   "metadata": {
    "tags": [
     "keep"
    ]
   },
   "outputs": [],
   "source": [
    "a = np.array([2, 3, 4])\n",
    "b = np.array([5, 1, 2])"
   ]
  },
  {
   "cell_type": "markdown",
   "id": "a632edbeaceca7cf",
   "metadata": {
    "lang": "de",
    "tags": []
   },
   "source": [
    "\n",
    "Methode 1: np.dot()"
   ]
  },
  {
   "cell_type": "code",
   "execution_count": null,
   "id": "81780efdcfb81bb6",
   "metadata": {},
   "outputs": [],
   "source": []
  },
  {
   "cell_type": "code",
   "execution_count": null,
   "id": "0379f14813887b48",
   "metadata": {},
   "outputs": [],
   "source": []
  },
  {
   "cell_type": "markdown",
   "id": "a5536d9b65bddea4",
   "metadata": {
    "lang": "de",
    "tags": []
   },
   "source": [
    "\n",
    "Methode 2: @ Operator (Python 3.5+)"
   ]
  },
  {
   "cell_type": "code",
   "execution_count": null,
   "id": "4c99168b44e6909c",
   "metadata": {},
   "outputs": [],
   "source": []
  },
  {
   "cell_type": "code",
   "execution_count": null,
   "id": "ec641ab797940444",
   "metadata": {
    "lines_to_next_cell": 2
   },
   "outputs": [],
   "source": []
  },
  {
   "cell_type": "markdown",
   "id": "665ca0d83a93a3b3",
   "metadata": {
    "lang": "de",
    "slideshow": {
     "slide_type": "subslide"
    },
    "tags": [
     "subslide"
    ]
   },
   "source": [
    "\n",
    "Vergleiche mit manueller Berechnung"
   ]
  },
  {
   "cell_type": "code",
   "execution_count": null,
   "id": "9e86ff69557ca95f",
   "metadata": {
    "tags": [
     "keep"
    ]
   },
   "outputs": [],
   "source": [
    "a"
   ]
  },
  {
   "cell_type": "code",
   "execution_count": null,
   "id": "8ec94b5ae7bae885",
   "metadata": {
    "tags": [
     "keep"
    ]
   },
   "outputs": [],
   "source": [
    "b"
   ]
  },
  {
   "cell_type": "code",
   "execution_count": null,
   "id": "9270c3bfdca973e4",
   "metadata": {},
   "outputs": [],
   "source": []
  },
  {
   "cell_type": "code",
   "execution_count": null,
   "id": "acf39f2f741dccc1",
   "metadata": {},
   "outputs": [],
   "source": []
  },
  {
   "cell_type": "markdown",
   "id": "b33d873aa3528928",
   "metadata": {
    "lang": "de",
    "slideshow": {
     "slide_type": "subslide"
    },
    "tags": [
     "subslide"
    ]
   },
   "source": [
    "\n",
    "## Warum ist das wichtig für ML?\n",
    "\n",
    "Lineare Regression ist ein riesiges Skalarprodukt!\n",
    "- Features = ein Vektor\n",
    "- Koeffizienten = ein anderer Vektor\n",
    "- Vorhersage = Skalarprodukt + Intercept"
   ]
  },
  {
   "cell_type": "markdown",
   "id": "de2e3f6878111174",
   "metadata": {
    "lang": "de",
    "slideshow": {
     "slide_type": "slide"
    },
    "tags": [
     "slide"
    ]
   },
   "source": [
    "\n",
    "## Vorhersagen mit dem Skalarprodukt\n",
    "\n",
    "Erinnern Sie sich an unser Pizza-Lieferbeispiel:\n",
    "- Features: [Entfernung, Verkehr, Anzahl Pizzen]\n",
    "- Koeffizienten: [2.0, 1.5, 0.5]\n",
    "- Intercept: 8.0"
   ]
  },
  {
   "cell_type": "code",
   "execution_count": null,
   "id": "47b0ebc94e17e838",
   "metadata": {
    "tags": [
     "keep"
    ]
   },
   "outputs": [],
   "source": [
    "features = np.array([5.0, 7.0, 3.0])  # distance, traffic, pizzas\n",
    "coefficients = np.array([2.0, 1.5, 0.5])\n",
    "intercept = 8.0"
   ]
  },
  {
   "cell_type": "markdown",
   "id": "00034304698c0177",
   "metadata": {
    "lang": "de",
    "slideshow": {
     "slide_type": "subslide"
    },
    "tags": [
     "subslide"
    ]
   },
   "source": [
    "\n",
    "Alte Methode mit Schleife"
   ]
  },
  {
   "cell_type": "code",
   "execution_count": null,
   "id": "16df30e6a26ceea5",
   "metadata": {
    "tags": [
     "keep"
    ]
   },
   "outputs": [],
   "source": [
    "prediction_loop = 0\n",
    "for f, c in zip(features, coefficients):\n",
    "    prediction_loop += f * c\n",
    "prediction_loop += intercept\n",
    "print(f\"Prediction (loop): {prediction_loop}\")"
   ]
  },
  {
   "cell_type": "markdown",
   "id": "0515324bb5f32daa",
   "metadata": {
    "lang": "de"
   },
   "source": [
    "\n",
    "Neue Methode mit Skalarprodukt"
   ]
  },
  {
   "cell_type": "code",
   "execution_count": null,
   "id": "1804e8c706d40f68",
   "metadata": {
    "tags": [
     "keep"
    ]
   },
   "outputs": [],
   "source": [
    "prediction_dot = np.dot(features, coefficients) + intercept\n",
    "print(f\"Prediction (dot product): {prediction_dot}\")"
   ]
  },
  {
   "cell_type": "markdown",
   "id": "e5bb90b98502ffa9",
   "metadata": {
    "lang": "de",
    "tags": []
   },
   "source": [
    "\n",
    "Noch kürzer mit @"
   ]
  },
  {
   "cell_type": "code",
   "execution_count": null,
   "id": "db71ae6d19850683",
   "metadata": {
    "lines_to_next_cell": 1,
    "tags": [
     "keep"
    ]
   },
   "outputs": [],
   "source": [
    "prediction_at = features @ coefficients + intercept\n",
    "print(f\"Prediction (@ operator): {prediction_at}\")"
   ]
  },
  {
   "cell_type": "markdown",
   "id": "af38c583ee5624cd",
   "metadata": {
    "lang": "de",
    "slideshow": {
     "slide_type": "subslide"
    },
    "tags": [
     "subslide"
    ]
   },
   "source": [
    "\n",
    "## Eine Vorhersagefunktion bauen"
   ]
  },
  {
   "cell_type": "code",
   "execution_count": null,
   "id": "e4f9592a6987c7ce",
   "metadata": {
    "lines_to_next_cell": 1
   },
   "outputs": [],
   "source": []
  },
  {
   "cell_type": "markdown",
   "id": "827dc59f2d3a7457",
   "metadata": {
    "lang": "de",
    "slideshow": {
     "slide_type": "subslide"
    },
    "tags": [
     "subslide"
    ]
   },
   "source": [
    "\n",
    "### Testen der Funktion"
   ]
  },
  {
   "cell_type": "code",
   "execution_count": null,
   "id": "b4151deab1b3ce44",
   "metadata": {
    "tags": [
     "keep"
    ]
   },
   "outputs": [],
   "source": [
    "test_features = [5.0, 7.0, 3.0]\n",
    "test_coef = [2.0, 1.5, 0.5]\n",
    "test_intercept = 8.0"
   ]
  },
  {
   "cell_type": "code",
   "execution_count": null,
   "id": "adcd165aa2ecdae3",
   "metadata": {},
   "outputs": [],
   "source": []
  },
  {
   "cell_type": "markdown",
   "id": "276035b4ffc1f555",
   "metadata": {
    "lang": "de",
    "slideshow": {
     "slide_type": "slide"
    },
    "tags": [
     "slide"
    ]
   },
   "source": [
    "\n",
    "## Das Skalarprodukt in der Praxis\n",
    "\n",
    "Warum ist das Skalarprodukt so wichtig?\n",
    "- **Effizienz**: Eine Operation statt einer Schleife\n",
    "- **Klarheit**: Mathematisch präzise\n",
    "- **Universell**: Funktioniert für beliebig viele Features\n",
    "- **Optimiert**: NumPy nutzt optimierte C-Bibliotheken"
   ]
  },
  {
   "cell_type": "markdown",
   "id": "f34315863a1f6e8c",
   "metadata": {
    "lang": "de",
    "slideshow": {
     "slide_type": "subslide"
    },
    "tags": [
     "subslide"
    ]
   },
   "source": [
    "\n",
    "## Geschwindigkeitsvergleich"
   ]
  },
  {
   "cell_type": "code",
   "execution_count": null,
   "id": "c3944ce674d5d4bc",
   "metadata": {
    "tags": [
     "keep"
    ]
   },
   "outputs": [],
   "source": [
    "import time"
   ]
  },
  {
   "cell_type": "markdown",
   "id": "b376a612d43ea3f5",
   "metadata": {
    "lang": "de",
    "tags": []
   },
   "source": [
    "\n",
    "Erstelle große Vektoren"
   ]
  },
  {
   "cell_type": "code",
   "execution_count": null,
   "id": "b7241f3ba4b0f61d",
   "metadata": {
    "tags": [
     "keep"
    ]
   },
   "outputs": [],
   "source": [
    "n = 1_000_000\n",
    "large_features = np.random.randn(n)\n",
    "large_coefficients = np.random.randn(n)"
   ]
  },
  {
   "cell_type": "markdown",
   "id": "4bfdf20012bf113c",
   "metadata": {
    "lang": "de",
    "slideshow": {
     "slide_type": "subslide"
    },
    "tags": [
     "subslide"
    ]
   },
   "source": [
    "\n",
    "Zeitmessung für Schleifenversion"
   ]
  },
  {
   "cell_type": "code",
   "execution_count": null,
   "id": "8af53009bc0139be",
   "metadata": {
    "tags": [
     "keep"
    ]
   },
   "outputs": [],
   "source": [
    "start = time.time()\n",
    "result_loop = 0\n",
    "for f, c in zip(large_features, large_coefficients):\n",
    "    result_loop += f * c\n",
    "time_loop = time.time() - start"
   ]
  },
  {
   "cell_type": "markdown",
   "id": "2c03dac9c682d7ec",
   "metadata": {
    "lang": "de",
    "slideshow": {
     "slide_type": "subslide"
    },
    "tags": [
     "subslide"
    ]
   },
   "source": [
    "\n",
    "Zeitmessung für Version mit Comprehension"
   ]
  },
  {
   "cell_type": "code",
   "execution_count": null,
   "id": "29e7f2fd3ee49049",
   "metadata": {
    "tags": [
     "keep"
    ]
   },
   "outputs": [],
   "source": [
    "start = time.time()\n",
    "result_comp = sum(f * c for f, c in zip(large_features, large_coefficients))\n",
    "time_comp = time.time() - start"
   ]
  },
  {
   "cell_type": "markdown",
   "id": "b0e0099a7904e532",
   "metadata": {
    "lang": "de"
   },
   "source": [
    "\n",
    "Zeitmessung für NumPy-Version"
   ]
  },
  {
   "cell_type": "code",
   "execution_count": null,
   "id": "0e8620d9d17a4929",
   "metadata": {
    "tags": [
     "keep"
    ]
   },
   "outputs": [],
   "source": [
    "start = time.time()\n",
    "result_numpy = np.dot(large_features, large_coefficients)\n",
    "time_numpy = time.time() - start"
   ]
  },
  {
   "cell_type": "code",
   "execution_count": null,
   "id": "d3dad3591721c622",
   "metadata": {
    "slideshow": {
     "slide_type": "subslide"
    },
    "tags": [
     "keep",
     "subslide"
    ]
   },
   "outputs": [],
   "source": [
    "print(f\"Loop version: {time_loop:.4f} seconds\")\n",
    "print(f\"Comprehension version: {time_comp:.4f} seconds\")\n",
    "print(f\"NumPy version: {time_numpy:.4f} seconds\")\n",
    "print(f\"NumPy is {time_loop/time_numpy:.1f}x faster than loop!\")\n",
    "print(f\"NumPy is {time_comp/time_numpy:.1f}x faster than comprehension!\")\n",
    "print(f\"Results match: {np.allclose(result_loop, result_numpy)}\")"
   ]
  },
  {
   "cell_type": "markdown",
   "id": "16803f7029cf8008",
   "metadata": {
    "lang": "de",
    "slideshow": {
     "slide_type": "slide"
    },
    "tags": [
     "slide"
    ]
   },
   "source": [
    "\n",
    "## Zusammenfassung\n",
    "\n",
    "- Das Skalarprodukt ist die Kernoperation der linearen Regression\n",
    "- Multipliziere entsprechende Elemente, dann summiere\n",
    "- NumPy: `np.dot(a, b)` oder `a @ b`\n",
    "- Vorhersage = features @ coefficients + intercept\n",
    "- Viel schneller und klarer als Schleifen!"
   ]
  },
  {
   "cell_type": "markdown",
   "id": "76d5decac5d7a61f",
   "metadata": {
    "lang": "de",
    "slideshow": {
     "slide_type": "subslide"
    },
    "tags": [
     "subslide"
    ]
   },
   "source": [
    "\n",
    "## Nächste Schritte\n",
    "\n",
    "- Wir können jetzt einzelne Vorhersagen effizient berechnen\n",
    "- Was ist mit vielen Vorhersagen gleichzeitig?\n",
    "- Nächstes Thema: Matrizen und Batch-Vorhersagen\n",
    "- Von Vektoren zu 2D-Arrays!"
   ]
  },
  {
   "cell_type": "markdown",
   "id": "7b7452fa4b191050",
   "metadata": {
    "lang": "de",
    "slideshow": {
     "slide_type": "slide"
    },
    "tags": [
     "slide"
    ]
   },
   "source": [
    "\n",
    "## Workshop: Hauspreisvorhersage mit Skalarprodukt\n",
    "\n",
    "### Modell für Hauspreise"
   ]
  },
  {
   "cell_type": "code",
   "execution_count": null,
   "id": "695d4c7df1d5494d",
   "metadata": {
    "tags": [
     "keep"
    ]
   },
   "outputs": [],
   "source": [
    "feature_names = [\"size_sqm\", \"bedrooms\", \"bathrooms\", \"age_years\", \"has_garage\"]\n",
    "model_coefficients = np.array([0.5, 25.0, 20.0, -1.5, 30.0])  # in thousands\n",
    "model_intercept = 100.0  # base price in thousands"
   ]
  },
  {
   "cell_type": "code",
   "execution_count": null,
   "id": "50b29f8f8700898d",
   "metadata": {
    "tags": [
     "keep"
    ]
   },
   "outputs": [],
   "source": [
    "print(\"House Price Model (in thousands €):\")\n",
    "for name, coef in zip(feature_names, model_coefficients):\n",
    "    print(f\"{name:15}: {coef:+8.1f}k€\")\n",
    "print(f\"{'Base price':15}: {model_intercept:8.1f}k€\")"
   ]
  },
  {
   "cell_type": "markdown",
   "id": "f31e1f852968a3e5",
   "metadata": {
    "lang": "de",
    "slideshow": {
     "slide_type": "subslide"
    },
    "tags": [
     "subslide"
    ]
   },
   "source": [
    "\n",
    "### Aufgabe 1: Einzelne Vorhersage\n",
    "\n",
    "Berechnen Sie den Preis für dieses Haus mit dem Skalarprodukt:\n",
    "- 150 m²\n",
    "- 4 Schlafzimmer\n",
    "- 2 Badezimmer\n",
    "- 5 Jahre alt\n",
    "- Hat Garage (1 = ja)"
   ]
  },
  {
   "cell_type": "code",
   "execution_count": null,
   "id": "bf19d824404a0c38",
   "metadata": {},
   "outputs": [],
   "source": []
  },
  {
   "cell_type": "markdown",
   "id": "f6bca776f93929ee",
   "metadata": {
    "lang": "de",
    "slideshow": {
     "slide_type": "subslide"
    },
    "tags": [
     "subslide"
    ]
   },
   "source": [
    "\n",
    "### Aufgabe 2: Mehrere Häuser vergleichen\n",
    "\n",
    "Vergleichen Sie drei verschiedene Häuser und finden Sie das beste Preis-Leistungs-Verhältnis\n",
    "(Vorhergesagter Preis pro m²)."
   ]
  },
  {
   "cell_type": "code",
   "execution_count": null,
   "id": "75a52e8f43ffb27d",
   "metadata": {
    "tags": [
     "keep"
    ]
   },
   "outputs": [],
   "source": [
    "houses = {\n",
    "    \"House A\": np.array([100, 3, 1, 10, 0]),  # 100m², 3 bed, 1 bath, 10 years, no garage\n",
    "    \"House B\": np.array([180, 4, 3, 2, 1]),   # 180m², 4 bed, 3 bath, 2 years, garage\n",
    "    \"House C\": np.array([120, 2, 2, 20, 1]),  # 120m², 2 bed, 2 bath, 20 years, garage\n",
    "}"
   ]
  },
  {
   "cell_type": "code",
   "execution_count": null,
   "id": "98da85e7e0ab494c",
   "metadata": {},
   "outputs": [],
   "source": []
  },
  {
   "cell_type": "markdown",
   "id": "03b36a6a379a4738",
   "metadata": {
    "lang": "de",
    "slideshow": {
     "slide_type": "subslide"
    },
    "tags": [
     "subslide"
    ]
   },
   "source": [
    "\n",
    "### Aufgabe 3: Feature-Wichtigkeit analysieren\n",
    "\n",
    "Welches Feature hat den größten Einfluss auf den Preis?\n",
    "\n",
    "**Tipp:** Schauen Sie sich die Koeffizienten an, aber bedenken Sie auch die\n",
    "Wertebereiche der Features!"
   ]
  },
  {
   "cell_type": "markdown",
   "id": "1ea827435189322e",
   "metadata": {
    "lang": "de",
    "tags": []
   },
   "source": [
    "\n",
    "Bereiche für Features"
   ]
  },
  {
   "cell_type": "code",
   "execution_count": null,
   "id": "f76f3e29594526ff",
   "metadata": {
    "tags": [
     "keep"
    ]
   },
   "outputs": [],
   "source": [
    "typical_ranges = {\n",
    "    \"size_sqm\": (100, 180),\n",
    "    \"bedrooms\": (2, 4),\n",
    "    \"bathrooms\": (1, 3),\n",
    "    \"age_years\": (2, 20),\n",
    "    \"has_garage\": (0, 1)\n",
    "}"
   ]
  },
  {
   "cell_type": "code",
   "execution_count": null,
   "id": "374b46eae34219e6",
   "metadata": {},
   "outputs": [],
   "source": []
  }
 ],
 "metadata": {
  "jupytext": {
   "cell_metadata_filter": "lang,tags,-all",
   "main_language": "python",
   "notebook_metadata_filter": "-all"
  },
  "kernelspec": {
   "display_name": "Python 3 (ipykernel)",
   "language": "python",
   "name": "python3"
  },
  "language_info": {
   "codemirror_mode": {
    "name": "ipython",
    "version": 3
   },
   "file_extension": ".py",
   "mimetype": "text/x-python",
   "name": "python",
   "nbconvert_exporter": "python",
   "pygments_lexer": "ipython3"
  }
 },
 "nbformat": 4,
 "nbformat_minor": 5
}
