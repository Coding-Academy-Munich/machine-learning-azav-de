{
 "cells": [
  {
   "cell_type": "markdown",
   "id": "919bf5c216512629",
   "metadata": {
    "lang": "de",
    "slideshow": {
     "slide_type": "slide"
    },
    "tags": [
     "slide"
    ]
   },
   "source": [
    "\n",
    "<img src=\"data:image/svg+xml;base64,PHN2ZyB4bWxucz0iaHR0cDovL3d3dy53My5vcmcvMjAwMC9zdmciIHhtbG5zOnhsaW5rPSJodHRw\n",
    "Oi8vd3d3LnczLm9yZy8xOTk5L3hsaW5rIiB3aWR0aD0iMTExLjE2MSIgaGVpZ2h0PSIxMzQuNjY4\n",
    "IiB2ZXJzaW9uPSIxLjAiPjxkZWZzPjxsaW5lYXJHcmFkaWVudCBpZD0iYyI+PHN0b3Agb2Zmc2V0\n",
    "PSIwIiBzdHlsZT0ic3RvcC1jb2xvcjojYjhiOGI4O3N0b3Atb3BhY2l0eTouNDk4MDM5MjIiLz48\n",
    "c3RvcCBvZmZzZXQ9IjEiIHN0eWxlPSJzdG9wLWNvbG9yOiM3ZjdmN2Y7c3RvcC1vcGFjaXR5OjAi\n",
    "Lz48L2xpbmVhckdyYWRpZW50PjxsaW5lYXJHcmFkaWVudCBpZD0iYSI+PHN0b3Agb2Zmc2V0PSIw\n",
    "IiBzdHlsZT0ic3RvcC1jb2xvcjojZmZkNDNiO3N0b3Atb3BhY2l0eToxIi8+PHN0b3Agb2Zmc2V0\n",
    "PSIxIiBzdHlsZT0ic3RvcC1jb2xvcjojZmZlODczO3N0b3Atb3BhY2l0eToxIi8+PC9saW5lYXJH\n",
    "cmFkaWVudD48bGluZWFyR3JhZGllbnQgaWQ9ImIiPjxzdG9wIG9mZnNldD0iMCIgc3R5bGU9InN0\n",
    "b3AtY29sb3I6IzVhOWZkNDtzdG9wLW9wYWNpdHk6MSIvPjxzdG9wIG9mZnNldD0iMSIgc3R5bGU9\n",
    "InN0b3AtY29sb3I6IzMwNjk5ODtzdG9wLW9wYWNpdHk6MSIvPjwvbGluZWFyR3JhZGllbnQ+PGxp\n",
    "bmVhckdyYWRpZW50IHhsaW5rOmhyZWY9IiNhIiBpZD0iZSIgeDE9IjE1MC45NjEiIHgyPSIxMTIu\n",
    "MDMxIiB5MT0iMTkyLjM1MiIgeTI9IjEzNy4yNzMiIGdyYWRpZW50VHJhbnNmb3JtPSJtYXRyaXgo\n",
    "LjU2MjU0IDAgMCAuNTY3OTcgLTE0Ljk5MSAtMTEuNzAyKSIgZ3JhZGllbnRVbml0cz0idXNlclNw\n",
    "YWNlT25Vc2UiLz48bGluZWFyR3JhZGllbnQgeGxpbms6aHJlZj0iI2IiIGlkPSJkIiB4MT0iMjYu\n",
    "NjQ5IiB4Mj0iMTM1LjY2NSIgeTE9IjIwLjYwNCIgeTI9IjExNC4zOTgiIGdyYWRpZW50VHJhbnNm\n",
    "b3JtPSJtYXRyaXgoLjU2MjU0IDAgMCAuNTY3OTcgLTE0Ljk5MSAtMTEuNzAyKSIgZ3JhZGllbnRV\n",
    "bml0cz0idXNlclNwYWNlT25Vc2UiLz48cmFkaWFsR3JhZGllbnQgeGxpbms6aHJlZj0iI2MiIGlk\n",
    "PSJmIiBjeD0iNjEuNTE5IiBjeT0iMTMyLjI4NiIgcj0iMjkuMDM3IiBmeD0iNjEuNTE5IiBmeT0i\n",
    "MTMyLjI4NiIgZ3JhZGllbnRUcmFuc2Zvcm09Im1hdHJpeCgwIC0uMjM5OTUgMS4wNTQ2NyAwIC04\n",
    "My43IDE0Mi40NjIpIiBncmFkaWVudFVuaXRzPSJ1c2VyU3BhY2VPblVzZSIvPjwvZGVmcz48cGF0\n",
    "aCBkPSJNNTQuOTE5IDBjLTQuNTg0LjAyMi04Ljk2MS40MTMtMTIuODEzIDEuMDk1QzMwLjc2IDMu\n",
    "MDk5IDI4LjcgNy4yOTUgMjguNyAxNS4wMzJ2MTAuMjE5aDI2LjgxM3YzLjQwNkgxOC42MzhjLTcu\n",
    "NzkzIDAtMTQuNjE2IDQuNjg0LTE2Ljc1IDEzLjU5NC0yLjQ2MiAxMC4yMTMtMi41NzEgMTYuNTg2\n",
    "IDAgMjcuMjUgMS45MDUgNy45MzggNi40NTcgMTMuNTk0IDE0LjI1IDEzLjU5NGg5LjIxOHYtMTIu\n",
    "MjVjMC04Ljg1IDcuNjU3LTE2LjY1NyAxNi43NS0xNi42NTdoMjYuNzgyYzcuNDU0IDAgMTMuNDA2\n",
    "LTYuMTM4IDEzLjQwNi0xMy42MjV2LTI1LjUzYzAtNy4yNjctNi4xMy0xMi43MjYtMTMuNDA2LTEz\n",
    "LjkzOEM2NC4yODIuMzI4IDU5LjUwMi0uMDIgNTQuOTE4IDBtLTE0LjUgOC4yMmMyLjc3IDAgNS4w\n",
    "MzEgMi4yOTggNS4wMzEgNS4xMjUgMCAyLjgxNi0yLjI2MiA1LjA5My01LjAzMSA1LjA5My0yLjc4\n",
    "IDAtNS4wMzEtMi4yNzctNS4wMzEtNS4wOTMgMC0yLjgyNyAyLjI1MS01LjEyNSA1LjAzLTUuMTI1\n",
    "IiBzdHlsZT0iZmlsbDp1cmwoI2QpO2ZpbGwtb3BhY2l0eToxIi8+PHBhdGggZD0iTTg1LjYzOCAy\n",
    "OC42NTd2MTEuOTA2YzAgOS4yMzEtNy44MjYgMTctMTYuNzUgMTdINDIuMTA2Yy03LjMzNiAwLTEz\n",
    "LjQwNiA2LjI3OS0xMy40MDYgMTMuNjI1Vjk2LjcyYzAgNy4yNjYgNi4zMTkgMTEuNTQgMTMuNDA2\n",
    "IDEzLjYyNSA4LjQ4OCAyLjQ5NSAxNi42MjcgMi45NDYgMjYuNzgyIDAgNi43NS0xLjk1NSAxMy40\n",
    "MDYtNS44ODggMTMuNDA2LTEzLjYyNVY4Ni41SDU1LjUxM3YtMy40MDVIOTUuN2M3Ljc5MyAwIDEw\n",
    "LjY5Ni01LjQzNiAxMy40MDYtMTMuNTk0IDIuOC04LjM5OSAyLjY4LTE2LjQ3NiAwLTI3LjI1LTEu\n",
    "OTI1LTcuNzU4LTUuNjA0LTEzLjU5NC0xMy40MDYtMTMuNTk0ek03MC41NzUgOTMuMzEzYzIuNzgg\n",
    "MCA1LjAzMSAyLjI3OCA1LjAzMSA1LjA5NCAwIDIuODI3LTIuMjUxIDUuMTI1LTUuMDMxIDUuMTI1\n",
    "LTIuNzcgMC01LjAzMS0yLjI5OC01LjAzMS01LjEyNSAwLTIuODE2IDIuMjYxLTUuMDk0IDUuMDMx\n",
    "LTUuMDk0IiBzdHlsZT0iZmlsbDp1cmwoI2UpO2ZpbGwtb3BhY2l0eToxIi8+PGVsbGlwc2UgY3g9\n",
    "IjU1LjgxNyIgY3k9IjEyNy43MDEiIHJ4PSIzNS45MzEiIHJ5PSI2Ljk2NyIgc3R5bGU9Im9wYWNp\n",
    "dHk6LjQ0MzgyO2ZpbGw6dXJsKCNmKTtmaWxsLW9wYWNpdHk6MTtmaWxsLXJ1bGU6bm9uemVybztz\n",
    "dHJva2U6bm9uZTtzdHJva2Utd2lkdGg6MTUuNDE3NDtzdHJva2UtbWl0ZXJsaW1pdDo0O3N0cm9r\n",
    "ZS1kYXNoYXJyYXk6bm9uZTtzdHJva2Utb3BhY2l0eToxIi8+PC9zdmc+\n",
    "\"\n",
    "     style=\"display:block;margin:auto;width:10%\" alt=\"Python Logo\"/>\n",
    "<br>\n",
    "\n",
    "<div style=\"text-align:center; font-size:200%;\">\n",
    " <b>Einführung in Vektoren und NumPy</b>\n",
    "</div>\n",
    "<br/>\n",
    "<div style=\"text-align:center;\">Dr. Matthias Hölzl</div>\n",
    "<br/>"
   ]
  },
  {
   "cell_type": "markdown",
   "id": "ca656f23b9e4bb24",
   "metadata": {
    "lang": "de",
    "slideshow": {
     "slide_type": "slide"
    },
    "tags": [
     "slide"
    ]
   },
   "source": [
    "\n",
    "## Warum NumPy?\n",
    "\n",
    "Erinnern Sie sich an unsere Berechnungen:\n",
    "- Viele Multiplikationen und Additionen\n",
    "- Schleifen über Listen\n",
    "- Fehleranfällig und langsam bei vielen Daten"
   ]
  },
  {
   "cell_type": "markdown",
   "id": "c448b79e2212e66d",
   "metadata": {
    "lang": "de",
    "slideshow": {
     "slide_type": "subslide"
    },
    "tags": [
     "subslide"
    ]
   },
   "source": [
    "\n",
    "Unser bisheriger Ansatz"
   ]
  },
  {
   "cell_type": "code",
   "execution_count": null,
   "id": "03fdf5416f136916",
   "metadata": {
    "tags": [
     "keep"
    ]
   },
   "outputs": [],
   "source": [
    "features = [120, 3, 2, 10, 1]\n",
    "coefficients = [0.3, 20.0, 15.0, -2.0, 25.0]"
   ]
  },
  {
   "cell_type": "markdown",
   "id": "031de62364c8e117",
   "metadata": {
    "lang": "de"
   },
   "source": [
    "\n",
    "Manuelle Berechnung"
   ]
  },
  {
   "cell_type": "code",
   "execution_count": null,
   "id": "e384c1608f0df6e6",
   "metadata": {
    "tags": [
     "keep"
    ]
   },
   "outputs": [],
   "source": [
    "sum(f * c for f, c in zip(features, coefficients))"
   ]
  },
  {
   "cell_type": "markdown",
   "id": "cb5175cdc86ed98c",
   "metadata": {
    "lang": "de",
    "slideshow": {
     "slide_type": "slide"
    },
    "tags": [
     "slide"
    ]
   },
   "source": [
    "\n",
    "## NumPy: Numerical Python\n",
    "\n",
    "- Bibliothek für numerische Berechnungen\n",
    "- Macht Mathematik mit vielen Zahlen einfach\n",
    "- Viel schneller als normale Python-Listen\n",
    "- Standard in Data Science und Machine Learning"
   ]
  },
  {
   "cell_type": "markdown",
   "id": "528e9b9f06d8d086",
   "metadata": {
    "lang": "de",
    "slideshow": {
     "slide_type": "subslide"
    },
    "tags": [
     "subslide"
    ]
   },
   "source": [
    "\n",
    "## NumPy installieren und importieren"
   ]
  },
  {
   "cell_type": "markdown",
   "id": "001272da41c119e4",
   "metadata": {
    "lang": "de"
   },
   "source": [
    "\n",
    "NumPy ist normalerweise in Data Science Umgebungen vorinstalliert. Falls nicht:"
   ]
  },
  {
   "cell_type": "code",
   "execution_count": null,
   "id": "6f8de9de13d836b0",
   "metadata": {
    "tags": [
     "keep"
    ]
   },
   "outputs": [],
   "source": [
    "!pip install numpy --root-user-action=ignore"
   ]
  },
  {
   "cell_type": "code",
   "execution_count": null,
   "id": "17acfab643e00a1c",
   "metadata": {
    "tags": [
     "keep"
    ]
   },
   "outputs": [],
   "source": [
    "import numpy as np  # 'np' is the standard abbreviation"
   ]
  },
  {
   "cell_type": "markdown",
   "id": "c59e0a16e6d15372",
   "metadata": {
    "lang": "de"
   },
   "source": [
    "\n",
    "NumPy Version:"
   ]
  },
  {
   "cell_type": "code",
   "execution_count": null,
   "id": "634359673aab8bd4",
   "metadata": {
    "tags": [
     "keep"
    ]
   },
   "outputs": [],
   "source": [
    "np.__version__"
   ]
  },
  {
   "cell_type": "markdown",
   "id": "f1a5f3edba59120f",
   "metadata": {
    "lang": "de",
    "slideshow": {
     "slide_type": "slide"
    },
    "tags": [
     "slide"
    ]
   },
   "source": [
    "\n",
    "## Ihr erstes NumPy Array\n",
    "\n",
    "- Ein Array ist wie eine Liste, aber optimiert für Mathematik\n",
    "- Kann aus Listen erstellt werden\n",
    "- Unterstützt viele mathematische Operationen direkt"
   ]
  },
  {
   "cell_type": "code",
   "execution_count": null,
   "id": "b434d9edfa0cb2c4",
   "metadata": {
    "tags": [
     "keep"
    ]
   },
   "outputs": [],
   "source": [
    "my_list = [1, 2, 3, 4, 5]"
   ]
  },
  {
   "cell_type": "code",
   "execution_count": null,
   "id": "c01b79b5ed54e81a",
   "metadata": {},
   "outputs": [],
   "source": []
  },
  {
   "cell_type": "code",
   "execution_count": null,
   "id": "c0da1cb932d0e9df",
   "metadata": {},
   "outputs": [],
   "source": []
  },
  {
   "cell_type": "code",
   "execution_count": null,
   "id": "fbef725735a22f8d",
   "metadata": {
    "tags": [
     "keep"
    ]
   },
   "outputs": [],
   "source": [
    "my_list"
   ]
  },
  {
   "cell_type": "code",
   "execution_count": null,
   "id": "2eecd131e2b17c9f",
   "metadata": {},
   "outputs": [],
   "source": []
  },
  {
   "cell_type": "code",
   "execution_count": null,
   "id": "4dec61a0e67bfa06",
   "metadata": {
    "tags": [
     "keep"
    ]
   },
   "outputs": [],
   "source": [
    "type(my_list)"
   ]
  },
  {
   "cell_type": "code",
   "execution_count": null,
   "id": "83198fec0743e7aa",
   "metadata": {},
   "outputs": [],
   "source": []
  },
  {
   "cell_type": "markdown",
   "id": "a488fdc1ccf9f529",
   "metadata": {
    "lang": "de",
    "slideshow": {
     "slide_type": "subslide"
    },
    "tags": [
     "subslide"
    ]
   },
   "source": [
    "\n",
    "## Arrays inspizieren"
   ]
  },
  {
   "cell_type": "code",
   "execution_count": null,
   "id": "32963a5c72bf507b",
   "metadata": {
    "tags": [
     "keep"
    ]
   },
   "outputs": [],
   "source": [
    "arr = np.array([10, 20, 30, 40, 50])"
   ]
  },
  {
   "cell_type": "code",
   "execution_count": null,
   "id": "990d489294efc86d",
   "metadata": {},
   "outputs": [],
   "source": []
  },
  {
   "cell_type": "code",
   "execution_count": null,
   "id": "38338d3cdffee630",
   "metadata": {},
   "outputs": [],
   "source": []
  },
  {
   "cell_type": "code",
   "execution_count": null,
   "id": "7fc56e727143629c",
   "metadata": {},
   "outputs": [],
   "source": []
  },
  {
   "cell_type": "code",
   "execution_count": null,
   "id": "7ca2f40d43b2f0e4",
   "metadata": {},
   "outputs": [],
   "source": []
  },
  {
   "cell_type": "code",
   "execution_count": null,
   "id": "8bfae9fc2b144e10",
   "metadata": {},
   "outputs": [],
   "source": []
  },
  {
   "cell_type": "markdown",
   "id": "fa7fc998785144e7",
   "metadata": {
    "lang": "de",
    "slideshow": {
     "slide_type": "subslide"
    },
    "tags": [
     "subslide"
    ]
   },
   "source": [
    "\n",
    "## Auf Elemente zugreifen"
   ]
  },
  {
   "cell_type": "code",
   "execution_count": null,
   "id": "b590df8e29b1a0de",
   "metadata": {
    "tags": [
     "keep"
    ]
   },
   "outputs": [],
   "source": [
    "arr = np.array([10, 20, 30, 40, 50])"
   ]
  },
  {
   "cell_type": "markdown",
   "id": "bfaa599e4b236dac",
   "metadata": {
    "lang": "de",
    "tags": []
   },
   "source": [
    "\n",
    "Genau wie Listen!"
   ]
  },
  {
   "cell_type": "code",
   "execution_count": null,
   "id": "a7a522147ffd1319",
   "metadata": {},
   "outputs": [],
   "source": []
  },
  {
   "cell_type": "code",
   "execution_count": null,
   "id": "433e652700eaf306",
   "metadata": {},
   "outputs": [],
   "source": []
  },
  {
   "cell_type": "code",
   "execution_count": null,
   "id": "f2676c6b379e2631",
   "metadata": {},
   "outputs": [],
   "source": []
  },
  {
   "cell_type": "markdown",
   "id": "a760fa8ca0cc16b3",
   "metadata": {
    "lang": "de",
    "slideshow": {
     "slide_type": "subslide"
    },
    "tags": [
     "subslide"
    ]
   },
   "source": [
    "\n",
    "Aber Vorsicht - Arrays haben einen festen Typ"
   ]
  },
  {
   "cell_type": "code",
   "execution_count": null,
   "id": "7471b0520b7911a5",
   "metadata": {},
   "outputs": [],
   "source": []
  },
  {
   "cell_type": "code",
   "execution_count": null,
   "id": "0a19bff59b68825d",
   "metadata": {},
   "outputs": [],
   "source": []
  },
  {
   "cell_type": "code",
   "execution_count": null,
   "id": "a1bb82bd09f6e9b7",
   "metadata": {},
   "outputs": [],
   "source": []
  },
  {
   "cell_type": "markdown",
   "id": "116a86631fff548d",
   "metadata": {
    "lang": "de",
    "slideshow": {
     "slide_type": "slide"
    },
    "tags": [
     "slide"
    ]
   },
   "source": [
    "\n",
    "## Vektoren: Listen mit Superkräften\n",
    "\n",
    "In der Mathematik ist ein Vektor eine geordnete Liste von Zahlen:\n",
    "- Kann Koordinaten im Raum darstellen\n",
    "- Kann Features eines Datenpunkts darstellen\n",
    "- Kann mit anderen Vektoren verrechnet werden"
   ]
  },
  {
   "cell_type": "markdown",
   "id": "92fb62ba53cd977b",
   "metadata": {
    "lang": "de",
    "slideshow": {
     "slide_type": "subslide"
    },
    "tags": [
     "subslide"
    ]
   },
   "source": [
    "\n",
    "## Vektoren visualisieren (2D)"
   ]
  },
  {
   "cell_type": "code",
   "execution_count": null,
   "id": "56219557ee946270",
   "metadata": {
    "tags": [
     "keep"
    ]
   },
   "outputs": [],
   "source": [
    "import matplotlib.pyplot as plt\n",
    "from plot_utils import plot_2d_vector, plot_vector_addition"
   ]
  },
  {
   "cell_type": "markdown",
   "id": "40459f29f70efa4e",
   "metadata": {
    "lang": "de",
    "tags": []
   },
   "source": [
    "\n",
    "Ein 2D-Vektor als Koordinaten"
   ]
  },
  {
   "cell_type": "code",
   "execution_count": null,
   "id": "405ca25803a4e075",
   "metadata": {
    "tags": [
     "keep"
    ]
   },
   "outputs": [],
   "source": [
    "vector_2d = np.array([3, 2])"
   ]
  },
  {
   "cell_type": "markdown",
   "id": "1025bc8d305f5ad5",
   "metadata": {
    "lang": "de",
    "slideshow": {
     "slide_type": "subslide"
    },
    "tags": [
     "subslide"
    ]
   },
   "source": [
    "\n",
    "Visualisiere als Pfeil vom Ursprung"
   ]
  },
  {
   "cell_type": "code",
   "execution_count": null,
   "id": "3e8b6017ec331b92",
   "metadata": {},
   "outputs": [],
   "source": []
  },
  {
   "cell_type": "markdown",
   "id": "398ded50593b7575",
   "metadata": {
    "lang": "de",
    "lines_to_next_cell": 2,
    "slideshow": {
     "slide_type": "subslide"
    },
    "tags": [
     "subslide"
    ]
   },
   "source": [
    "\n",
    "## Vektoren als Feature-Sammlungen\n",
    "\n",
    "In ML repräsentieren Vektoren oft Features:\n",
    "- Haus-Features als Vektor"
   ]
  },
  {
   "cell_type": "code",
   "execution_count": null,
   "id": "93da2a8dee6be514",
   "metadata": {
    "tags": [
     "keep"
    ]
   },
   "outputs": [],
   "source": [
    "house_vector = np.array([120, 3, 2, 10, 1])  # size, bedrooms, bathrooms, age, garage"
   ]
  },
  {
   "cell_type": "code",
   "execution_count": null,
   "id": "ee8705d86a2e0d1b",
   "metadata": {},
   "outputs": [],
   "source": []
  },
  {
   "cell_type": "code",
   "execution_count": null,
   "id": "8ec443fbc6469c4a",
   "metadata": {},
   "outputs": [],
   "source": []
  },
  {
   "cell_type": "markdown",
   "id": "c5bfa2e41e6ca59f",
   "metadata": {
    "lang": "de",
    "slideshow": {
     "slide_type": "subslide"
    },
    "tags": [
     "subslide"
    ]
   },
   "source": [
    "\n",
    "- Jede Position hat eine Bedeutung"
   ]
  },
  {
   "cell_type": "code",
   "execution_count": null,
   "id": "40b885029bbe37f9",
   "metadata": {
    "tags": [
     "keep"
    ]
   },
   "outputs": [],
   "source": [
    "feature_names = [\"size_sqm\", \"bedrooms\", \"bathrooms\", \"age_years\", \"garage\"]"
   ]
  },
  {
   "cell_type": "code",
   "execution_count": null,
   "id": "e1f3803c48f7afed",
   "metadata": {
    "tags": [
     "keep"
    ]
   },
   "outputs": [],
   "source": [
    "for i, (name, value) in enumerate(zip(feature_names, house_vector)):\n",
    "    print(f\"Position {i}: {name} = {value}\")"
   ]
  },
  {
   "cell_type": "markdown",
   "id": "3ad4161559a3e193",
   "metadata": {
    "lang": "de",
    "slideshow": {
     "slide_type": "slide"
    },
    "tags": [
     "slide"
    ]
   },
   "source": [
    "\n",
    "## Einfache Array-Operationen\n",
    "\n",
    "NumPy macht Mathematik mit Arrays einfach:"
   ]
  },
  {
   "cell_type": "markdown",
   "id": "e13c8bbbb8326c83",
   "metadata": {
    "lang": "de",
    "slideshow": {
     "slide_type": "subslide"
    },
    "tags": [
     "subslide"
    ]
   },
   "source": [
    "\n",
    "## Skalare Operationen\n",
    "\n",
    "Operationen mit einzelnen Zahlen:"
   ]
  },
  {
   "cell_type": "code",
   "execution_count": null,
   "id": "28030fbb075e2180",
   "metadata": {},
   "outputs": [],
   "source": []
  },
  {
   "cell_type": "code",
   "execution_count": null,
   "id": "4493d62c29b496e2",
   "metadata": {},
   "outputs": [],
   "source": []
  },
  {
   "cell_type": "markdown",
   "id": "e9aff408c7c16130",
   "metadata": {
    "lang": "de",
    "tags": []
   },
   "source": [
    "\n",
    "50 zu allen Preisen addieren"
   ]
  },
  {
   "cell_type": "code",
   "execution_count": null,
   "id": "d4e21f437056a3a2",
   "metadata": {},
   "outputs": [],
   "source": []
  },
  {
   "cell_type": "code",
   "execution_count": null,
   "id": "0317205ec9b15f43",
   "metadata": {},
   "outputs": [],
   "source": []
  },
  {
   "cell_type": "markdown",
   "id": "28267126da3a7680",
   "metadata": {
    "lang": "de",
    "tags": []
   },
   "source": [
    "\n",
    "10% Rabatt auf alle Preise"
   ]
  },
  {
   "cell_type": "code",
   "execution_count": null,
   "id": "c75fdc3bce1fb75e",
   "metadata": {},
   "outputs": [],
   "source": []
  },
  {
   "cell_type": "code",
   "execution_count": null,
   "id": "51a4be6fceeb9cc0",
   "metadata": {},
   "outputs": [],
   "source": []
  },
  {
   "cell_type": "markdown",
   "id": "c09237a2680566a6",
   "metadata": {
    "lang": "de",
    "slideshow": {
     "slide_type": "subslide"
    },
    "tags": [
     "subslide"
    ]
   },
   "source": [
    "\n",
    "## Vergleich: Listen vs. Arrays\n",
    "\n",
    "- Listen unterstützen keine direkten mathematischen Operationen\n",
    "  - Benötigen Schleifen oder List Comprehensions\n",
    "- NumPy Arrays unterstützen elementweise Operationen direkt"
   ]
  },
  {
   "cell_type": "code",
   "execution_count": null,
   "id": "ad88cc01471a7912",
   "metadata": {
    "slideshow": {
     "slide_type": "subslide"
    },
    "tags": [
     "keep",
     "subslide"
    ]
   },
   "outputs": [],
   "source": [
    "list_prices = [100, 200, 150, 300, 250]"
   ]
  },
  {
   "cell_type": "code",
   "execution_count": null,
   "id": "e6debcd411510dad",
   "metadata": {
    "slideshow": {
     "slide_type": "subslide"
    },
    "tags": [
     "keep",
     "subslide"
    ]
   },
   "outputs": [],
   "source": [
    "array_prices = np.array([100, 200, 150, 300, 250])"
   ]
  },
  {
   "cell_type": "markdown",
   "id": "12c6cb55b7a4bdeb",
   "metadata": {
    "lang": "de"
   },
   "source": [
    "\n",
    "Mit Listen - Comprehension ist nötig"
   ]
  },
  {
   "cell_type": "code",
   "execution_count": null,
   "id": "078d072da35ec7b9",
   "metadata": {},
   "outputs": [],
   "source": []
  },
  {
   "cell_type": "code",
   "execution_count": null,
   "id": "637372704e8eb72d",
   "metadata": {},
   "outputs": [],
   "source": []
  },
  {
   "cell_type": "markdown",
   "id": "6d254536c9f675d5",
   "metadata": {
    "lang": "de"
   },
   "source": [
    "\n",
    "Mit Arrays - einfach multiplizieren!"
   ]
  },
  {
   "cell_type": "code",
   "execution_count": null,
   "id": "e700c188779b6810",
   "metadata": {},
   "outputs": [],
   "source": []
  },
  {
   "cell_type": "code",
   "execution_count": null,
   "id": "81901aa4feb23500",
   "metadata": {},
   "outputs": [],
   "source": []
  },
  {
   "cell_type": "markdown",
   "id": "ceaf93abf65cb776",
   "metadata": {
    "lang": "de",
    "slideshow": {
     "slide_type": "subslide"
    },
    "tags": [
     "subslide"
    ]
   },
   "source": [
    "\n",
    "### Vorsicht: Listen und Multiplikation\n",
    "\n",
    "- Man kann auch Listen mit ganzen Zahlen multiplizieren\n",
    "- Das bedeutet etwas ganz anderes als in der Mathematik!"
   ]
  },
  {
   "cell_type": "code",
   "execution_count": null,
   "id": "4065a0e1f2b6a66b",
   "metadata": {},
   "outputs": [],
   "source": []
  },
  {
   "cell_type": "code",
   "execution_count": null,
   "id": "2c2d77a14034d7ed",
   "metadata": {
    "lines_to_next_cell": 2
   },
   "outputs": [],
   "source": []
  },
  {
   "cell_type": "markdown",
   "id": "d7b879e83f4478df",
   "metadata": {
    "lang": "de",
    "lines_to_next_cell": 2,
    "slideshow": {
     "slide_type": "slide"
    },
    "tags": [
     "slide"
    ]
   },
   "source": [
    "\n",
    "## Vektoraddition\n",
    "\n",
    "- Wir können Vektoren addieren\n",
    "- Addition erfolgt **elementweise**\n",
    "- Die Vektoren müssen die gleiche Länge haben"
   ]
  },
  {
   "cell_type": "markdown",
   "id": "a1e589eab44d1e00",
   "metadata": {
    "lang": "de",
    "slideshow": {
     "slide_type": "subslide"
    },
    "tags": [
     "subslide"
    ]
   },
   "source": [
    "\n",
    "### Beispiel\n",
    "\n",
    "- Monatliche Verkäufe für zwei Produkte\n",
    "- Die Summe ist der Gesamtverkauf pro Monat"
   ]
  },
  {
   "cell_type": "code",
   "execution_count": null,
   "id": "c738e1d4aef4da60",
   "metadata": {
    "tags": [
     "keep"
    ]
   },
   "outputs": [],
   "source": [
    "product_a = np.array([100, 120, 90, 110, 105])\n",
    "product_b = np.array([80, 85, 95, 90, 88])"
   ]
  },
  {
   "cell_type": "code",
   "execution_count": null,
   "id": "b91e2abfe418363f",
   "metadata": {},
   "outputs": [],
   "source": []
  },
  {
   "cell_type": "code",
   "execution_count": null,
   "id": "f5dc4cd53ba2591f",
   "metadata": {},
   "outputs": [],
   "source": []
  },
  {
   "cell_type": "markdown",
   "id": "0e078d0a9a3f8ff9",
   "metadata": {
    "lang": "de"
   },
   "source": [
    "\n",
    "Gesamtverkäufe pro Monat"
   ]
  },
  {
   "cell_type": "code",
   "execution_count": null,
   "id": "7f792f4c4419d36a",
   "metadata": {},
   "outputs": [],
   "source": []
  },
  {
   "cell_type": "code",
   "execution_count": null,
   "id": "447b19a4db2adc24",
   "metadata": {},
   "outputs": [],
   "source": []
  },
  {
   "cell_type": "markdown",
   "id": "5f51f09357492de2",
   "metadata": {
    "lang": "de",
    "slideshow": {
     "slide_type": "subslide"
    },
    "tags": [
     "subslide"
    ]
   },
   "source": [
    "\n",
    "## Visualisierung der Vektoraddition (2D)"
   ]
  },
  {
   "cell_type": "code",
   "execution_count": null,
   "id": "3bf7fc592be266df",
   "metadata": {
    "tags": [
     "keep"
    ]
   },
   "outputs": [],
   "source": [
    "v1 = np.array([3, 1])\n",
    "v2 = np.array([1, 2])"
   ]
  },
  {
   "cell_type": "code",
   "execution_count": null,
   "id": "ab11641d51ddcc4a",
   "metadata": {
    "tags": [
     "keep"
    ]
   },
   "outputs": [],
   "source": [
    "v_sum = v1 + v2"
   ]
  },
  {
   "cell_type": "markdown",
   "id": "4f3c098a638942e7",
   "metadata": {
    "lang": "de",
    "slideshow": {
     "slide_type": "subslide"
    },
    "tags": [
     "subslide"
    ]
   },
   "source": [
    "\n",
    "Zeichne Vektoren"
   ]
  },
  {
   "cell_type": "code",
   "execution_count": null,
   "id": "46c06eb6e73d8205",
   "metadata": {},
   "outputs": [],
   "source": []
  },
  {
   "cell_type": "markdown",
   "id": "3c693a2afa09bc51",
   "metadata": {
    "lang": "de",
    "slideshow": {
     "slide_type": "slide"
    },
    "tags": [
     "slide"
    ]
   },
   "source": [
    "\n",
    "## Methoden auf Vektoren\n",
    "\n",
    "- NumPy bietet eine Vielzahl von Methoden für Vektoren\n",
    "- Häufig verwendete Methoden sind:\n",
    "  - `np.sum()` für die Summe aller Elemente\n",
    "  - `np.mean()` für den Durchschnitt\n",
    "  - `np.max()` und `np.min()` für Maximum und Minimum\n",
    "  - `np.argmax()` und `np.argmin()` für die Indizes von Max/Min"
   ]
  },
  {
   "cell_type": "code",
   "execution_count": null,
   "id": "b3a59884c59a0516",
   "metadata": {
    "slideshow": {
     "slide_type": "subslide"
    },
    "tags": [
     "subslide"
    ]
   },
   "outputs": [],
   "source": []
  },
  {
   "cell_type": "markdown",
   "id": "f0e4ec0c08ca6685",
   "metadata": {
    "lang": "de"
   },
   "source": [
    "\n",
    "Summe aller Elemente"
   ]
  },
  {
   "cell_type": "code",
   "execution_count": null,
   "id": "17feb687464aeffc",
   "metadata": {},
   "outputs": [],
   "source": []
  },
  {
   "cell_type": "markdown",
   "id": "4484ae0f907bcb06",
   "metadata": {
    "lang": "de"
   },
   "source": [
    "\n",
    "Durchschnitt der Elemente"
   ]
  },
  {
   "cell_type": "code",
   "execution_count": null,
   "id": "46ca346f17304561",
   "metadata": {},
   "outputs": [],
   "source": []
  },
  {
   "cell_type": "code",
   "execution_count": null,
   "id": "1905fd96f3b7985a",
   "metadata": {},
   "outputs": [],
   "source": []
  },
  {
   "cell_type": "code",
   "execution_count": null,
   "id": "a71dadfcb06a7780",
   "metadata": {},
   "outputs": [],
   "source": []
  },
  {
   "cell_type": "markdown",
   "id": "6b36a07c998843f1",
   "metadata": {
    "lang": "de",
    "slideshow": {
     "slide_type": "subslide"
    },
    "tags": [
     "subslide"
    ]
   },
   "source": [
    "\n",
    "Maximum und Minimum der Elemente"
   ]
  },
  {
   "cell_type": "code",
   "execution_count": null,
   "id": "8a2db37d60fbacd8",
   "metadata": {},
   "outputs": [],
   "source": []
  },
  {
   "cell_type": "code",
   "execution_count": null,
   "id": "3184bce540a41511",
   "metadata": {},
   "outputs": [],
   "source": []
  },
  {
   "cell_type": "markdown",
   "id": "3a55081714603a94",
   "metadata": {
    "lang": "de"
   },
   "source": [
    "\n",
    "Index des Maximums"
   ]
  },
  {
   "cell_type": "code",
   "execution_count": null,
   "id": "909afacdd865899e",
   "metadata": {},
   "outputs": [],
   "source": []
  },
  {
   "cell_type": "markdown",
   "id": "0a291a391b65ed76",
   "metadata": {
    "lang": "de"
   },
   "source": [
    "\n",
    "Index des Minimums"
   ]
  },
  {
   "cell_type": "code",
   "execution_count": null,
   "id": "97b573abbcf96ec1",
   "metadata": {},
   "outputs": [],
   "source": []
  },
  {
   "cell_type": "markdown",
   "id": "ee8c44da4c5f81a5",
   "metadata": {
    "lang": "de",
    "slideshow": {
     "slide_type": "slide"
    },
    "tags": [
     "slide"
    ]
   },
   "source": [
    "\n",
    "## Logische Operationen auf Vektoren\n",
    "\n",
    "- Logische Operationen können **elementweise** auf NumPy Arrays angewendet werden.\n",
    "- Gängige Operationen sind:\n",
    "  - Größer als (`>`)\n",
    "  - Kleiner als (`<`)\n",
    "  - Gleich (`==`)\n",
    "  - Logisches UND (`&`)\n",
    "  - Logisches ODER (`|`)"
   ]
  },
  {
   "cell_type": "code",
   "execution_count": null,
   "id": "e71e57c2b64b59eb",
   "metadata": {
    "slideshow": {
     "slide_type": "subslide"
    },
    "tags": [
     "keep",
     "subslide"
    ]
   },
   "outputs": [],
   "source": [
    "data = np.array([10, 25, 30, 45, 50])"
   ]
  },
  {
   "cell_type": "markdown",
   "id": "8b3d451ef076a8be",
   "metadata": {
    "lang": "de"
   },
   "source": [
    "\n",
    "Ist der jeweilige Wert größer als 30?"
   ]
  },
  {
   "cell_type": "code",
   "execution_count": null,
   "id": "1419d912e992b587",
   "metadata": {},
   "outputs": [],
   "source": []
  },
  {
   "cell_type": "code",
   "execution_count": null,
   "id": "3a03c2ca5bd66a73",
   "metadata": {},
   "outputs": [],
   "source": []
  },
  {
   "cell_type": "code",
   "execution_count": null,
   "id": "efe2d9431a253b67",
   "metadata": {},
   "outputs": [],
   "source": []
  },
  {
   "cell_type": "markdown",
   "id": "c1f48cb6e96c353b",
   "metadata": {
    "lang": "de"
   },
   "source": [
    "\n",
    "Ist der jeweilige Wert gleich 25?"
   ]
  },
  {
   "cell_type": "code",
   "execution_count": null,
   "id": "e0177c70918baad4",
   "metadata": {},
   "outputs": [],
   "source": []
  },
  {
   "cell_type": "code",
   "execution_count": null,
   "id": "408c593fd011b3ee",
   "metadata": {},
   "outputs": [],
   "source": []
  },
  {
   "cell_type": "code",
   "execution_count": null,
   "id": "8bf5fb857e8edf23",
   "metadata": {},
   "outputs": [],
   "source": []
  },
  {
   "cell_type": "markdown",
   "id": "570c4714b1a425dc",
   "metadata": {
    "lang": "de",
    "slideshow": {
     "slide_type": "slide"
    },
    "tags": [
     "slide"
    ]
   },
   "source": [
    "\n",
    "## Fancy Indexing\n",
    "\n",
    "- Boolesche Arrays können als Indizes verwendet werden, um Elemente auszuwählen\n",
    "- Das Ergebnis enthält nur die Elemente, bei denen der Index `True` ist\n",
    "- Nützlich für Filterung und bedingte Auswahl"
   ]
  },
  {
   "cell_type": "code",
   "execution_count": null,
   "id": "e103133cd901b01f",
   "metadata": {
    "slideshow": {
     "slide_type": "subslide"
    },
    "tags": [
     "keep",
     "subslide"
    ]
   },
   "outputs": [],
   "source": [
    "data = np.array([10, 25, 30, 45, 50])\n",
    "data"
   ]
  },
  {
   "cell_type": "code",
   "execution_count": null,
   "id": "32a7e9bf6b9ed72a",
   "metadata": {
    "tags": [
     "keep"
    ]
   },
   "outputs": [],
   "source": [
    "mask = data > 30\n",
    "mask"
   ]
  },
  {
   "cell_type": "markdown",
   "id": "5b47b6d142f7a34e",
   "metadata": {
    "lang": "de"
   },
   "source": [
    "\n",
    "Werte größer als 30"
   ]
  },
  {
   "cell_type": "code",
   "execution_count": null,
   "id": "2bc599de736c08a0",
   "metadata": {},
   "outputs": [],
   "source": []
  },
  {
   "cell_type": "code",
   "execution_count": null,
   "id": "da55267069b5a1e9",
   "metadata": {},
   "outputs": [],
   "source": []
  },
  {
   "cell_type": "code",
   "execution_count": null,
   "id": "4516c726a95c8d5d",
   "metadata": {
    "slideshow": {
     "slide_type": "subslide"
    },
    "tags": [
     "subslide"
    ]
   },
   "outputs": [],
   "source": []
  },
  {
   "cell_type": "code",
   "execution_count": null,
   "id": "ee1e968063a482d0",
   "metadata": {},
   "outputs": [],
   "source": []
  },
  {
   "cell_type": "code",
   "execution_count": null,
   "id": "321f76fd9b0af8cb",
   "metadata": {},
   "outputs": [],
   "source": []
  },
  {
   "cell_type": "code",
   "execution_count": null,
   "id": "4f4085e02a64eeb3",
   "metadata": {},
   "outputs": [],
   "source": []
  },
  {
   "cell_type": "markdown",
   "id": "f2cb92faa8e0314e",
   "metadata": {
    "lang": "de",
    "slideshow": {
     "slide_type": "slide"
    },
    "tags": [
     "slide"
    ]
   },
   "source": [
    "\n",
    "## Zusammenfassung\n",
    "\n",
    "- NumPy Arrays sind optimierte Listen für numerische Berechnungen\n",
    "- Vektoren sind geordnete Zahlensammlungen\n",
    "- Arrays ermöglichen Operationen ohne Schleifen\n",
    "- Elementweise Operationen sind einfach und schnell\n",
    "- Perfekt für ML-Features und Koeffizienten!"
   ]
  },
  {
   "cell_type": "markdown",
   "id": "d84b18ad035bb4a1",
   "metadata": {
    "lang": "de",
    "slideshow": {
     "slide_type": "subslide"
    },
    "tags": [
     "subslide"
    ]
   },
   "source": [
    "\n",
    "## Nächste Schritte\n",
    "\n",
    "- Wir können Features und Koeffizienten als Vektoren darstellen\n",
    "- Aber wie berechnen wir effizient Vorhersagen?\n",
    "- Nächstes Thema: Das Skalarprodukt (Dot Product)\n",
    "- Die wichtigste Operation in linearer Regression!"
   ]
  },
  {
   "cell_type": "markdown",
   "id": "5daee04976519f3c",
   "metadata": {
    "lang": "de",
    "slideshow": {
     "slide_type": "slide"
    },
    "tags": [
     "slide"
    ]
   },
   "source": [
    "\n",
    "## Workshop: NumPy Grundlagen\n",
    "\n",
    "Üben wir den Umgang mit NumPy Arrays!"
   ]
  },
  {
   "cell_type": "markdown",
   "id": "edf2a695ee02e92c",
   "metadata": {
    "lang": "de",
    "slideshow": {
     "slide_type": "subslide"
    },
    "tags": [
     "subslide"
    ]
   },
   "source": [
    "\n",
    "### Aufgabe 1: Arrays erstellen\n",
    "\n",
    "Erstellen Sie NumPy Arrays für:\n",
    "1. Die Temperaturen einer Woche: [18, 20, 22, 19, 21, 23, 20]\n",
    "2. Die Preise von 5 Produkten: [9.99, 14.50, 7.25, 22.00, 18.75]"
   ]
  },
  {
   "cell_type": "code",
   "execution_count": null,
   "id": "71028c03b489f209",
   "metadata": {},
   "outputs": [],
   "source": []
  },
  {
   "cell_type": "markdown",
   "id": "4de2fac55fa03be1",
   "metadata": {
    "lang": "de",
    "slideshow": {
     "slide_type": "subslide"
    },
    "tags": [
     "subslide"
    ]
   },
   "source": [
    "\n",
    "### Aufgabe 2: Array-Operationen\n",
    "\n",
    "Mit den Temperatur-Daten:\n",
    "1. Konvertieren Sie alle Temperaturen von Celsius zu Fahrenheit (F = C × 1.8 + 32)\n",
    "2. Erzeugen Sie einen Vektor, der alle Celsius-Werte über 20°C enthält\n",
    "3. Erzeugen Sie einen Vektor, der alle Celsius-Werte für Tage mit über 70°F enthält"
   ]
  },
  {
   "cell_type": "code",
   "execution_count": null,
   "id": "3be3b96ae2ab28ce",
   "metadata": {
    "tags": [
     "keep"
    ]
   },
   "outputs": [],
   "source": [
    "temperatures = np.array([18, 20, 22, 19, 21, 23, 20])"
   ]
  },
  {
   "cell_type": "code",
   "execution_count": null,
   "id": "0b9ca011bad09b8f",
   "metadata": {},
   "outputs": [],
   "source": []
  },
  {
   "cell_type": "markdown",
   "id": "bfd956d90fd6fab9",
   "metadata": {
    "lang": "de",
    "slideshow": {
     "slide_type": "subslide"
    },
    "tags": [
     "subslide"
    ]
   },
   "source": [
    "\n",
    "### Aufgabe 3: Vektoroperationen\n",
    "\n",
    "Ein Geschäft verkauft 3 Produkte über 4 Wochen:"
   ]
  },
  {
   "cell_type": "code",
   "execution_count": null,
   "id": "67b1f776697e6c1b",
   "metadata": {
    "tags": [
     "keep"
    ]
   },
   "outputs": [],
   "source": [
    "# Sales data (units sold per week)\n",
    "week1 = np.array([10, 15, 8])\n",
    "week2 = np.array([12, 14, 10])\n",
    "week3 = np.array([8, 16, 12])\n",
    "week4 = np.array([15, 13, 9])"
   ]
  },
  {
   "cell_type": "markdown",
   "id": "82503e3dda867a88",
   "metadata": {
    "lang": "de"
   },
   "source": [
    "\n",
    "Berechnen Sie den Gesamtverkauf pro Produkt."
   ]
  },
  {
   "cell_type": "code",
   "execution_count": null,
   "id": "550e56258f286afa",
   "metadata": {},
   "outputs": [],
   "source": []
  },
  {
   "cell_type": "markdown",
   "id": "e78cb51ad5a3683c",
   "metadata": {
    "lang": "de",
    "slideshow": {
     "slide_type": "subslide"
    },
    "tags": [
     "subslide"
    ]
   },
   "source": [
    "\n",
    "Wie viele Produkte hätte das Geschäft verkauft, wenn der Umsatz 20% höher\n",
    "gewesen wäre?"
   ]
  },
  {
   "cell_type": "code",
   "execution_count": null,
   "id": "5f255d8bd77d4310",
   "metadata": {},
   "outputs": [],
   "source": []
  },
  {
   "cell_type": "markdown",
   "id": "53a48f8e8620dedb",
   "metadata": {
    "lang": "de",
    "slideshow": {
     "slide_type": "subslide"
    },
    "tags": [
     "subslide"
    ]
   },
   "source": [
    "\n",
    "Erzeugen Sie einen Vektor mit den Verkaufszahlen aller Produkte aus, von denen\n",
    "insgesamt weniger als 50 verkauft wurden."
   ]
  },
  {
   "cell_type": "code",
   "execution_count": null,
   "id": "819a57c0439c8d7f",
   "metadata": {},
   "outputs": [],
   "source": []
  }
 ],
 "metadata": {
  "jupytext": {
   "cell_metadata_filter": "lang,tags,-all",
   "main_language": "python",
   "notebook_metadata_filter": "-all"
  },
  "kernelspec": {
   "display_name": "Python 3 (ipykernel)",
   "language": "python",
   "name": "python3"
  },
  "language_info": {
   "codemirror_mode": {
    "name": "ipython",
    "version": 3
   },
   "file_extension": ".py",
   "mimetype": "text/x-python",
   "name": "python",
   "nbconvert_exporter": "python",
   "pygments_lexer": "ipython3"
  }
 },
 "nbformat": 4,
 "nbformat_minor": 5
}
