{
 "cells": [
  {
   "cell_type": "markdown",
   "id": "2a4705f1cc73c210",
   "metadata": {
    "lang": "de",
    "slideshow": {
     "slide_type": "slide"
    },
    "tags": [
     "slide"
    ]
   },
   "source": [
    "\n",
    "<img src=\"data:image/svg+xml;base64,PHN2ZyB4bWxucz0iaHR0cDovL3d3dy53My5vcmcvMjAwMC9zdmciIHhtbG5zOnhsaW5rPSJodHRw\n",
    "Oi8vd3d3LnczLm9yZy8xOTk5L3hsaW5rIiB3aWR0aD0iMTExLjE2MSIgaGVpZ2h0PSIxMzQuNjY4\n",
    "IiB2ZXJzaW9uPSIxLjAiPjxkZWZzPjxsaW5lYXJHcmFkaWVudCBpZD0iYyI+PHN0b3Agb2Zmc2V0\n",
    "PSIwIiBzdHlsZT0ic3RvcC1jb2xvcjojYjhiOGI4O3N0b3Atb3BhY2l0eTouNDk4MDM5MjIiLz48\n",
    "c3RvcCBvZmZzZXQ9IjEiIHN0eWxlPSJzdG9wLWNvbG9yOiM3ZjdmN2Y7c3RvcC1vcGFjaXR5OjAi\n",
    "Lz48L2xpbmVhckdyYWRpZW50PjxsaW5lYXJHcmFkaWVudCBpZD0iYSI+PHN0b3Agb2Zmc2V0PSIw\n",
    "IiBzdHlsZT0ic3RvcC1jb2xvcjojZmZkNDNiO3N0b3Atb3BhY2l0eToxIi8+PHN0b3Agb2Zmc2V0\n",
    "PSIxIiBzdHlsZT0ic3RvcC1jb2xvcjojZmZlODczO3N0b3Atb3BhY2l0eToxIi8+PC9saW5lYXJH\n",
    "cmFkaWVudD48bGluZWFyR3JhZGllbnQgaWQ9ImIiPjxzdG9wIG9mZnNldD0iMCIgc3R5bGU9InN0\n",
    "b3AtY29sb3I6IzVhOWZkNDtzdG9wLW9wYWNpdHk6MSIvPjxzdG9wIG9mZnNldD0iMSIgc3R5bGU9\n",
    "InN0b3AtY29sb3I6IzMwNjk5ODtzdG9wLW9wYWNpdHk6MSIvPjwvbGluZWFyR3JhZGllbnQ+PGxp\n",
    "bmVhckdyYWRpZW50IHhsaW5rOmhyZWY9IiNhIiBpZD0iZSIgeDE9IjE1MC45NjEiIHgyPSIxMTIu\n",
    "MDMxIiB5MT0iMTkyLjM1MiIgeTI9IjEzNy4yNzMiIGdyYWRpZW50VHJhbnNmb3JtPSJtYXRyaXgo\n",
    "LjU2MjU0IDAgMCAuNTY3OTcgLTE0Ljk5MSAtMTEuNzAyKSIgZ3JhZGllbnRVbml0cz0idXNlclNw\n",
    "YWNlT25Vc2UiLz48bGluZWFyR3JhZGllbnQgeGxpbms6aHJlZj0iI2IiIGlkPSJkIiB4MT0iMjYu\n",
    "NjQ5IiB4Mj0iMTM1LjY2NSIgeTE9IjIwLjYwNCIgeTI9IjExNC4zOTgiIGdyYWRpZW50VHJhbnNm\n",
    "b3JtPSJtYXRyaXgoLjU2MjU0IDAgMCAuNTY3OTcgLTE0Ljk5MSAtMTEuNzAyKSIgZ3JhZGllbnRV\n",
    "bml0cz0idXNlclNwYWNlT25Vc2UiLz48cmFkaWFsR3JhZGllbnQgeGxpbms6aHJlZj0iI2MiIGlk\n",
    "PSJmIiBjeD0iNjEuNTE5IiBjeT0iMTMyLjI4NiIgcj0iMjkuMDM3IiBmeD0iNjEuNTE5IiBmeT0i\n",
    "MTMyLjI4NiIgZ3JhZGllbnRUcmFuc2Zvcm09Im1hdHJpeCgwIC0uMjM5OTUgMS4wNTQ2NyAwIC04\n",
    "My43IDE0Mi40NjIpIiBncmFkaWVudFVuaXRzPSJ1c2VyU3BhY2VPblVzZSIvPjwvZGVmcz48cGF0\n",
    "aCBkPSJNNTQuOTE5IDBjLTQuNTg0LjAyMi04Ljk2MS40MTMtMTIuODEzIDEuMDk1QzMwLjc2IDMu\n",
    "MDk5IDI4LjcgNy4yOTUgMjguNyAxNS4wMzJ2MTAuMjE5aDI2LjgxM3YzLjQwNkgxOC42MzhjLTcu\n",
    "NzkzIDAtMTQuNjE2IDQuNjg0LTE2Ljc1IDEzLjU5NC0yLjQ2MiAxMC4yMTMtMi41NzEgMTYuNTg2\n",
    "IDAgMjcuMjUgMS45MDUgNy45MzggNi40NTcgMTMuNTk0IDE0LjI1IDEzLjU5NGg5LjIxOHYtMTIu\n",
    "MjVjMC04Ljg1IDcuNjU3LTE2LjY1NyAxNi43NS0xNi42NTdoMjYuNzgyYzcuNDU0IDAgMTMuNDA2\n",
    "LTYuMTM4IDEzLjQwNi0xMy42MjV2LTI1LjUzYzAtNy4yNjctNi4xMy0xMi43MjYtMTMuNDA2LTEz\n",
    "LjkzOEM2NC4yODIuMzI4IDU5LjUwMi0uMDIgNTQuOTE4IDBtLTE0LjUgOC4yMmMyLjc3IDAgNS4w\n",
    "MzEgMi4yOTggNS4wMzEgNS4xMjUgMCAyLjgxNi0yLjI2MiA1LjA5My01LjAzMSA1LjA5My0yLjc4\n",
    "IDAtNS4wMzEtMi4yNzctNS4wMzEtNS4wOTMgMC0yLjgyNyAyLjI1MS01LjEyNSA1LjAzLTUuMTI1\n",
    "IiBzdHlsZT0iZmlsbDp1cmwoI2QpO2ZpbGwtb3BhY2l0eToxIi8+PHBhdGggZD0iTTg1LjYzOCAy\n",
    "OC42NTd2MTEuOTA2YzAgOS4yMzEtNy44MjYgMTctMTYuNzUgMTdINDIuMTA2Yy03LjMzNiAwLTEz\n",
    "LjQwNiA2LjI3OS0xMy40MDYgMTMuNjI1Vjk2LjcyYzAgNy4yNjYgNi4zMTkgMTEuNTQgMTMuNDA2\n",
    "IDEzLjYyNSA4LjQ4OCAyLjQ5NSAxNi42MjcgMi45NDYgMjYuNzgyIDAgNi43NS0xLjk1NSAxMy40\n",
    "MDYtNS44ODggMTMuNDA2LTEzLjYyNVY4Ni41SDU1LjUxM3YtMy40MDVIOTUuN2M3Ljc5MyAwIDEw\n",
    "LjY5Ni01LjQzNiAxMy40MDYtMTMuNTk0IDIuOC04LjM5OSAyLjY4LTE2LjQ3NiAwLTI3LjI1LTEu\n",
    "OTI1LTcuNzU4LTUuNjA0LTEzLjU5NC0xMy40MDYtMTMuNTk0ek03MC41NzUgOTMuMzEzYzIuNzgg\n",
    "MCA1LjAzMSAyLjI3OCA1LjAzMSA1LjA5NCAwIDIuODI3LTIuMjUxIDUuMTI1LTUuMDMxIDUuMTI1\n",
    "LTIuNzcgMC01LjAzMS0yLjI5OC01LjAzMS01LjEyNSAwLTIuODE2IDIuMjYxLTUuMDk0IDUuMDMx\n",
    "LTUuMDk0IiBzdHlsZT0iZmlsbDp1cmwoI2UpO2ZpbGwtb3BhY2l0eToxIi8+PGVsbGlwc2UgY3g9\n",
    "IjU1LjgxNyIgY3k9IjEyNy43MDEiIHJ4PSIzNS45MzEiIHJ5PSI2Ljk2NyIgc3R5bGU9Im9wYWNp\n",
    "dHk6LjQ0MzgyO2ZpbGw6dXJsKCNmKTtmaWxsLW9wYWNpdHk6MTtmaWxsLXJ1bGU6bm9uemVybztz\n",
    "dHJva2U6bm9uZTtzdHJva2Utd2lkdGg6MTUuNDE3NDtzdHJva2UtbWl0ZXJsaW1pdDo0O3N0cm9r\n",
    "ZS1kYXNoYXJyYXk6bm9uZTtzdHJva2Utb3BhY2l0eToxIi8+PC9zdmc+\n",
    "\"\n",
    "     style=\"display:block;margin:auto;width:10%\" alt=\"Python Logo\"/>\n",
    "<br>\n",
    "\n",
    "<div style=\"text-align:center; font-size:200%;\">\n",
    " <b>Von Einem zu Vielen - Einführung in Matrizen</b>\n",
    "</div>\n",
    "<br/>\n",
    "<div style=\"text-align:center;\">Dr. Matthias Hölzl</div>\n",
    "<br/>"
   ]
  },
  {
   "cell_type": "markdown",
   "id": "f1a95ee8901ecdb6",
   "metadata": {
    "lang": "de",
    "slideshow": {
     "slide_type": "slide"
    },
    "tags": [
     "slide"
    ]
   },
   "source": [
    "\n",
    "## Das Problem: Viele Vorhersagen\n",
    "\n",
    "Bisher: Eine Vorhersage nach der anderen\n",
    "- Ein Feature-Vektor → Eine Vorhersage\n",
    "\n",
    "Realität: Wir brauchen oft viele Vorhersagen\n",
    "- 1000 Häuser bewerten\n",
    "- Alle Testdaten vorhersagen"
   ]
  },
  {
   "cell_type": "code",
   "execution_count": null,
   "id": "d2a36c3fa0fb743a",
   "metadata": {
    "slideshow": {
     "slide_type": "subslide"
    },
    "tags": [
     "keep",
     "subslide"
    ]
   },
   "outputs": [],
   "source": [
    "import numpy as np\n",
    "import time"
   ]
  },
  {
   "cell_type": "markdown",
   "id": "b28b5ca448e1de54",
   "metadata": {
    "lang": "de"
   },
   "source": [
    "\n",
    "Hauspreismodell"
   ]
  },
  {
   "cell_type": "code",
   "execution_count": null,
   "id": "5032f44a68555d5a",
   "metadata": {
    "tags": [
     "keep"
    ]
   },
   "outputs": [],
   "source": [
    "coefficients = np.array([0.5, 25.0, 20.0, -1.5, 30.0])\n",
    "intercept = 100.0"
   ]
  },
  {
   "cell_type": "markdown",
   "id": "6c7132afc25571f2",
   "metadata": {
    "lang": "de"
   },
   "source": [
    "\n",
    "Drei Häuser zum Vorhersagen"
   ]
  },
  {
   "cell_type": "code",
   "execution_count": null,
   "id": "50697b9ebbb85cfd",
   "metadata": {
    "tags": [
     "keep"
    ]
   },
   "outputs": [],
   "source": [
    "house1 = np.array([100, 3, 1, 10, 0])\n",
    "house2 = np.array([180, 4, 3, 2, 1])\n",
    "house3 = np.array([120, 2, 2, 20, 1])"
   ]
  },
  {
   "cell_type": "markdown",
   "id": "992b86a450b5b4bd",
   "metadata": {
    "lang": "de",
    "slideshow": {
     "slide_type": "subslide"
    },
    "tags": [
     "subslide"
    ]
   },
   "source": [
    "\n",
    "## Lösung 1: Schleife\n",
    "\n",
    "Wir könnten eine Schleife verwenden:"
   ]
  },
  {
   "cell_type": "code",
   "execution_count": null,
   "id": "5f2c1c9d31cb226f",
   "metadata": {
    "tags": [
     "keep"
    ]
   },
   "outputs": [],
   "source": [
    "houses = [house1, house2, house3]\n",
    "predictions = []"
   ]
  },
  {
   "cell_type": "code",
   "execution_count": null,
   "id": "ea81b9ebd6f78879",
   "metadata": {
    "tags": [
     "keep"
    ]
   },
   "outputs": [],
   "source": [
    "for house in houses:\n",
    "    pred = np.dot(house, coefficients) + intercept\n",
    "    predictions.append(pred)"
   ]
  },
  {
   "cell_type": "code",
   "execution_count": null,
   "id": "b0e0ae114d39fb13",
   "metadata": {},
   "outputs": [],
   "source": []
  },
  {
   "cell_type": "markdown",
   "id": "fc56fa9628f74d52",
   "metadata": {
    "lang": "de",
    "slideshow": {
     "slide_type": "subslide"
    },
    "tags": [
     "subslide"
    ]
   },
   "source": [
    "\n",
    "## Problem mit Schleifen\n",
    "\n",
    "- Langsam bei vielen Daten\n",
    "- Verliert einen Teil von NumPy's Geschwindigkeitsvorteil\n",
    "- Nicht elegant\n",
    "\n",
    "Es gibt einen besseren Weg!"
   ]
  },
  {
   "cell_type": "markdown",
   "id": "82646bd92ae8b364",
   "metadata": {
    "lang": "de",
    "slideshow": {
     "slide_type": "slide"
    },
    "tags": [
     "slide"
    ]
   },
   "source": [
    "\n",
    "## Matrizen: Tabellen von Zahlen\n",
    "\n",
    "Eine Matrix ist ein 2D-Array:\n",
    "- Zeilen und Spalten\n",
    "- Wie eine Tabelle oder Spreadsheet\n",
    "- Perfekt für mehrere Datenpunkte"
   ]
  },
  {
   "cell_type": "markdown",
   "id": "0b6f08cae81f67d3",
   "metadata": {
    "lang": "de",
    "lines_to_next_cell": 2,
    "slideshow": {
     "slide_type": "subslide"
    },
    "tags": [
     "subslide"
    ]
   },
   "source": [
    "\n",
    "## Unsere Häuser als Matrix\n",
    "\n",
    "- Stapele Häuser zu einer Matrix\n",
    "- Jede Zeile ist ein Haus\n",
    "- Jede Spalte ist ein Feature"
   ]
  },
  {
   "cell_type": "code",
   "execution_count": null,
   "id": "ec281987a8728883",
   "metadata": {
    "tags": [
     "keep"
    ]
   },
   "outputs": [],
   "source": [
    "houses_matrix = np.array(\n",
    "    [\n",
    "        [100, 3, 1, 10, 0],  # House 1\n",
    "        [180, 4, 3, 2, 1],  # House 2\n",
    "        [120, 2, 2, 20, 1],  # House 3\n",
    "    ]\n",
    ")"
   ]
  },
  {
   "cell_type": "code",
   "execution_count": null,
   "id": "6a1a47bff3790f0c",
   "metadata": {},
   "outputs": [],
   "source": []
  },
  {
   "cell_type": "code",
   "execution_count": null,
   "id": "d77a494a02e484dd",
   "metadata": {},
   "outputs": [],
   "source": []
  },
  {
   "cell_type": "markdown",
   "id": "79183c665ffb0ce9",
   "metadata": {
    "lang": "de",
    "slideshow": {
     "slide_type": "subslide"
    },
    "tags": [
     "subslide"
    ]
   },
   "source": [
    "\n",
    "Anzahl der Zeilen (Häuser)"
   ]
  },
  {
   "cell_type": "code",
   "execution_count": null,
   "id": "e5e27b27e106bf8d",
   "metadata": {},
   "outputs": [],
   "source": []
  },
  {
   "cell_type": "markdown",
   "id": "96a72ead52d355f7",
   "metadata": {
    "lang": "de"
   },
   "source": [
    "\n",
    "Anzahl der Spalten (Features)"
   ]
  },
  {
   "cell_type": "code",
   "execution_count": null,
   "id": "2e0a14dedbd0f293",
   "metadata": {},
   "outputs": [],
   "source": []
  },
  {
   "cell_type": "markdown",
   "id": "c8a6351b6b8d7300",
   "metadata": {
    "lang": "de",
    "slideshow": {
     "slide_type": "subslide"
    },
    "tags": [
     "subslide"
    ]
   },
   "source": [
    "\n",
    "## Matrix visualisieren"
   ]
  },
  {
   "cell_type": "code",
   "execution_count": null,
   "id": "6b80eca8801895d5",
   "metadata": {
    "tags": [
     "keep"
    ]
   },
   "outputs": [],
   "source": [
    "from plot_utils import plot_matrix"
   ]
  },
  {
   "cell_type": "code",
   "execution_count": null,
   "id": "754f496a29074e0c",
   "metadata": {
    "slideshow": {
     "slide_type": "subslide"
    },
    "tags": [
     "keep",
     "subslide"
    ]
   },
   "outputs": [],
   "source": [
    "plot_matrix(houses_matrix)"
   ]
  },
  {
   "cell_type": "markdown",
   "id": "36f8aa46e6f96a4e",
   "metadata": {
    "lang": "de",
    "slideshow": {
     "slide_type": "slide"
    },
    "tags": [
     "slide"
    ]
   },
   "source": [
    "\n",
    "## Auf Matrix-Elemente zugreifen\n",
    "\n",
    "- Matrizen haben zwei Indizes: [Zeile, Spalte]\n",
    "- Wir können einzelne Elemente, ganze Zeilen oder Spalten auswählen"
   ]
  },
  {
   "cell_type": "markdown",
   "id": "0ed082b34bc3a64e",
   "metadata": {
    "lang": "de",
    "slideshow": {
     "slide_type": "subslide"
    },
    "tags": [
     "subslide"
    ]
   },
   "source": [
    "\n",
    "### Zugriff auf spezifische Elemente\n",
    "\n",
    "Haus 1, Größe"
   ]
  },
  {
   "cell_type": "code",
   "execution_count": null,
   "id": "1a0c1c259c95cbb3",
   "metadata": {},
   "outputs": [],
   "source": []
  },
  {
   "cell_type": "markdown",
   "id": "c92f54cf97b5a901",
   "metadata": {
    "lang": "de"
   },
   "source": [
    "\n",
    "Haus 2, Schlafzimmer"
   ]
  },
  {
   "cell_type": "code",
   "execution_count": null,
   "id": "cbc0e92f4080a57b",
   "metadata": {},
   "outputs": [],
   "source": []
  },
  {
   "cell_type": "markdown",
   "id": "63a4015392f6b3b7",
   "metadata": {
    "lang": "de"
   },
   "source": [
    "\n",
    "Haus 3, Garage"
   ]
  },
  {
   "cell_type": "code",
   "execution_count": null,
   "id": "8fe423c11e7570cd",
   "metadata": {},
   "outputs": [],
   "source": []
  },
  {
   "cell_type": "markdown",
   "id": "e69ce3de4f025e0c",
   "metadata": {
    "lang": "de",
    "slideshow": {
     "slide_type": "subslide"
    },
    "tags": [
     "subslide"
    ]
   },
   "source": [
    "\n",
    "### Zugriff auf ganze Zeilen (Häuser)\n",
    "\n",
    "Features von Haus 1"
   ]
  },
  {
   "cell_type": "code",
   "execution_count": null,
   "id": "f1a284c610a8e613",
   "metadata": {},
   "outputs": [],
   "source": []
  },
  {
   "cell_type": "markdown",
   "id": "721a16664f3b05c0",
   "metadata": {
    "lang": "de"
   },
   "source": [
    "\n",
    "Features von Haus 2"
   ]
  },
  {
   "cell_type": "code",
   "execution_count": null,
   "id": "7098e876ab5324f7",
   "metadata": {},
   "outputs": [],
   "source": []
  },
  {
   "cell_type": "markdown",
   "id": "94156ec7e1a518c8",
   "metadata": {
    "lang": "de",
    "slideshow": {
     "slide_type": "subslide"
    },
    "tags": [
     "subslide"
    ]
   },
   "source": [
    "\n",
    "### Zugriff auf ganze Spalten (Features)\n",
    "\n",
    "Größe aller Häuser"
   ]
  },
  {
   "cell_type": "code",
   "execution_count": null,
   "id": "016c87dd0f01b843",
   "metadata": {},
   "outputs": [],
   "source": []
  },
  {
   "cell_type": "markdown",
   "id": "7cace8624af9329f",
   "metadata": {
    "lang": "de"
   },
   "source": [
    "\n",
    "Schlafzimmer aller Häuser"
   ]
  },
  {
   "cell_type": "code",
   "execution_count": null,
   "id": "13d4ab8e1991843c",
   "metadata": {},
   "outputs": [],
   "source": []
  },
  {
   "cell_type": "markdown",
   "id": "d05d50f4be05e85a",
   "metadata": {
    "lang": "de",
    "slideshow": {
     "slide_type": "subslide"
    },
    "tags": [
     "subslide"
    ]
   },
   "source": [
    "\n",
    "### Änderung von Zeilen oder Spalten\n",
    "\n",
    "- Wir können ganze Zeilen oder Spalten in der Matrix ändern!\n",
    "- Diese Änderungen sind destruktiv (ändern die Originalmatrix)"
   ]
  },
  {
   "cell_type": "code",
   "execution_count": null,
   "id": "202e5086fdfe3a75",
   "metadata": {
    "tags": [
     "keep"
    ]
   },
   "outputs": [],
   "source": [
    "matrix = np.array([[1, 2, 3], [4, 5, 6]])"
   ]
  },
  {
   "cell_type": "code",
   "execution_count": null,
   "id": "1ec1438acd6bf62f",
   "metadata": {
    "tags": [
     "keep"
    ]
   },
   "outputs": [],
   "source": [
    "matrix"
   ]
  },
  {
   "cell_type": "code",
   "execution_count": null,
   "id": "6f8ed1a1e951ebad",
   "metadata": {},
   "outputs": [],
   "source": []
  },
  {
   "cell_type": "code",
   "execution_count": null,
   "id": "c78dcaec57cd2285",
   "metadata": {
    "lines_to_next_cell": 0
   },
   "outputs": [],
   "source": []
  },
  {
   "cell_type": "code",
   "execution_count": null,
   "id": "108f6456150d2dc3",
   "metadata": {
    "slideshow": {
     "slide_type": "subslide"
    },
    "tags": [
     "keep",
     "subslide"
    ]
   },
   "outputs": [],
   "source": [
    "matrix = np.array([[1, 2, 3], [4, 5, 6]])"
   ]
  },
  {
   "cell_type": "code",
   "execution_count": null,
   "id": "2e2495b432fc040e",
   "metadata": {},
   "outputs": [],
   "source": []
  },
  {
   "cell_type": "code",
   "execution_count": null,
   "id": "7fbcb3c8a79cf23c",
   "metadata": {},
   "outputs": [],
   "source": []
  },
  {
   "cell_type": "code",
   "execution_count": null,
   "id": "fc94d40b886c8cc1",
   "metadata": {
    "slideshow": {
     "slide_type": "subslide"
    },
    "tags": [
     "keep",
     "subslide"
    ]
   },
   "outputs": [],
   "source": [
    "matrix = np.array([[1, 2, 3], [4, 5, 6]])  # Reset"
   ]
  },
  {
   "cell_type": "code",
   "execution_count": null,
   "id": "95271aea92f06844",
   "metadata": {},
   "outputs": [],
   "source": []
  },
  {
   "cell_type": "code",
   "execution_count": null,
   "id": "edc0955a3f220c86",
   "metadata": {},
   "outputs": [],
   "source": []
  },
  {
   "cell_type": "code",
   "execution_count": null,
   "id": "7678321464bec542",
   "metadata": {},
   "outputs": [],
   "source": []
  },
  {
   "cell_type": "code",
   "execution_count": null,
   "id": "e4ae5f853f575de9",
   "metadata": {
    "slideshow": {
     "slide_type": "subslide"
    },
    "tags": [
     "keep",
     "subslide"
    ]
   },
   "outputs": [],
   "source": [
    "matrix = np.array([[1, 2, 3], [4, 5, 6]])  # Reset"
   ]
  },
  {
   "cell_type": "code",
   "execution_count": null,
   "id": "da3f764e300a1570",
   "metadata": {},
   "outputs": [],
   "source": []
  },
  {
   "cell_type": "code",
   "execution_count": null,
   "id": "58d00428098244ee",
   "metadata": {},
   "outputs": [],
   "source": []
  },
  {
   "cell_type": "code",
   "execution_count": null,
   "id": "6824798817def2a3",
   "metadata": {},
   "outputs": [],
   "source": []
  },
  {
   "cell_type": "markdown",
   "id": "3c93c8b871e671d8",
   "metadata": {
    "lang": "de",
    "slideshow": {
     "slide_type": "subslide"
    },
    "tags": [
     "subslide"
    ]
   },
   "source": [
    "\n",
    "## Elementweise Operationen"
   ]
  },
  {
   "cell_type": "code",
   "execution_count": null,
   "id": "a30c2f4bdbca2156",
   "metadata": {
    "tags": [
     "keep"
    ]
   },
   "outputs": [],
   "source": [
    "matrix = np.array([[10, 20, 30], [40, 50, 60]])"
   ]
  },
  {
   "cell_type": "markdown",
   "id": "3b6d1116b572e711",
   "metadata": {
    "lang": "de"
   },
   "source": [
    "\n",
    "Addieren/Subtrahieren/Multiplizieren mit Skalar"
   ]
  },
  {
   "cell_type": "code",
   "execution_count": null,
   "id": "b9a843294dad065a",
   "metadata": {},
   "outputs": [],
   "source": []
  },
  {
   "cell_type": "code",
   "execution_count": null,
   "id": "53d0cc9057ded0b6",
   "metadata": {},
   "outputs": [],
   "source": []
  },
  {
   "cell_type": "code",
   "execution_count": null,
   "id": "ee7fe8b974b0a62a",
   "metadata": {},
   "outputs": [],
   "source": []
  },
  {
   "cell_type": "code",
   "execution_count": null,
   "id": "13756656d6ffaf4d",
   "metadata": {},
   "outputs": [],
   "source": []
  },
  {
   "cell_type": "markdown",
   "id": "968c83885687ea3e",
   "metadata": {
    "lang": "de",
    "slideshow": {
     "slide_type": "slide"
    },
    "tags": [
     "slide"
    ]
   },
   "source": [
    "\n",
    "## Matrix-Vektor-Multiplikation\n",
    "\n",
    "Die Magie: Wir können eine Matrix mit einem Vektor multiplizieren!\n",
    "- Jede Zeile wird mit dem Vektor skalar-multipliziert\n",
    "- Ergebnis: Ein Vektor mit allen Vorhersagen"
   ]
  },
  {
   "cell_type": "markdown",
   "id": "cad608c4604b8b17",
   "metadata": {
    "lang": "de",
    "slideshow": {
     "slide_type": "subslide"
    },
    "tags": [
     "subslide"
    ]
   },
   "source": [
    "\n",
    "## Visualisierung der Matrix-Vektor-Multiplikation\n",
    "\n",
    "Einfaches Beispiel zur Visualisierung"
   ]
  },
  {
   "cell_type": "code",
   "execution_count": null,
   "id": "c63e49c749dbed2d",
   "metadata": {
    "tags": [
     "keep"
    ]
   },
   "outputs": [],
   "source": [
    "simple_matrix = np.array([[1, 2], [3, 4], [5, 6]])"
   ]
  },
  {
   "cell_type": "code",
   "execution_count": null,
   "id": "fefb773f6342f4bc",
   "metadata": {
    "tags": [
     "keep"
    ]
   },
   "outputs": [],
   "source": [
    "simple_vector = np.array([10, 20])"
   ]
  },
  {
   "cell_type": "code",
   "execution_count": null,
   "id": "af521ee4fb0195e3",
   "metadata": {
    "tags": [
     "keep"
    ]
   },
   "outputs": [],
   "source": [
    "simple_matrix"
   ]
  },
  {
   "cell_type": "code",
   "execution_count": null,
   "id": "d4b32f13278d87f5",
   "metadata": {
    "tags": [
     "keep"
    ]
   },
   "outputs": [],
   "source": [
    "simple_vector"
   ]
  },
  {
   "cell_type": "markdown",
   "id": "031de62364c8e117",
   "metadata": {
    "lang": "de",
    "slideshow": {
     "slide_type": "subslide"
    },
    "tags": [
     "subslide"
    ]
   },
   "source": [
    "\n",
    "Manuelle Berechnung"
   ]
  },
  {
   "cell_type": "code",
   "execution_count": null,
   "id": "559511e3b4e8be11",
   "metadata": {
    "tags": [
     "keep"
    ]
   },
   "outputs": [],
   "source": [
    "print(\"\\nManual calculation:\")\n",
    "for i, row in enumerate(simple_matrix):\n",
    "    dot_product = np.dot(row, simple_vector)\n",
    "    print(\n",
    "        f\"Row {i}: {row} · {simple_vector} = {row[0]}×{simple_vector[0]} + {row[1]}×{simple_vector[1]} = {dot_product}\"\n",
    "    )"
   ]
  },
  {
   "cell_type": "markdown",
   "id": "0f6316eb884d3696",
   "metadata": {
    "lang": "de"
   },
   "source": [
    "\n",
    "NumPy-Berechnung"
   ]
  },
  {
   "cell_type": "code",
   "execution_count": null,
   "id": "9359eea2710027f6",
   "metadata": {
    "tags": [
     "keep"
    ]
   },
   "outputs": [],
   "source": [
    "simple_matrix @ simple_vector"
   ]
  },
  {
   "cell_type": "markdown",
   "id": "a44e253d1151d4f2",
   "metadata": {
    "lang": "de",
    "slideshow": {
     "slide_type": "subslide"
    },
    "tags": [
     "subslide"
    ]
   },
   "source": [
    "\n",
    "## Batch-Vorhersagen mit Matrix-Multiplikation\n",
    "\n",
    "- Wir können mehrere Vektoren in eine Matrix packen\n",
    "- Dann können wir alle Vorhersagen auf einmal berechnen!"
   ]
  },
  {
   "cell_type": "code",
   "execution_count": null,
   "id": "0a44aec4c32ca2a7",
   "metadata": {
    "slideshow": {
     "slide_type": "subslide"
    },
    "tags": [
     "keep",
     "subslide"
    ]
   },
   "outputs": [],
   "source": [
    "houses_matrix = np.array([[100, 3, 1, 10, 0], [180, 4, 3, 2, 1], [120, 2, 2, 20, 1]])\n",
    "coefficients = np.array([0.5, 25.0, 20.0, -1.5, 30.0])\n",
    "intercept = 100.0"
   ]
  },
  {
   "cell_type": "code",
   "execution_count": null,
   "id": "8f134ee4b91915d1",
   "metadata": {},
   "outputs": [],
   "source": []
  },
  {
   "cell_type": "code",
   "execution_count": null,
   "id": "4b3283420c8aefee",
   "metadata": {
    "slideshow": {
     "slide_type": "subslide"
    },
    "tags": [
     "subslide"
    ]
   },
   "outputs": [],
   "source": []
  },
  {
   "cell_type": "code",
   "execution_count": null,
   "id": "6bfd6231fdf362e3",
   "metadata": {},
   "outputs": [],
   "source": []
  },
  {
   "cell_type": "markdown",
   "id": "6e8691db4d4cb329",
   "metadata": {
    "lang": "de"
   },
   "source": [
    "\n",
    "Vergleiche mit Schleifen-Ergebnissen"
   ]
  },
  {
   "cell_type": "code",
   "execution_count": null,
   "id": "e7f09ea00fd2f902",
   "metadata": {},
   "outputs": [],
   "source": []
  },
  {
   "cell_type": "markdown",
   "id": "f34315863a1f6e8c",
   "metadata": {
    "lang": "de",
    "slideshow": {
     "slide_type": "slide"
    },
    "tags": [
     "slide"
    ]
   },
   "source": [
    "\n",
    "## Geschwindigkeitsvergleich"
   ]
  },
  {
   "cell_type": "markdown",
   "id": "5c6c521dcbc7690e",
   "metadata": {
    "lang": "de"
   },
   "source": [
    "\n",
    "Erstelle viele Häuser"
   ]
  },
  {
   "cell_type": "code",
   "execution_count": null,
   "id": "6974e05379b3b231",
   "metadata": {
    "tags": [
     "keep"
    ]
   },
   "outputs": [],
   "source": [
    "n_houses = 100_000\n",
    "n_features = 5"
   ]
  },
  {
   "cell_type": "markdown",
   "id": "b37065be81b34002",
   "metadata": {
    "lang": "de"
   },
   "source": [
    "\n",
    "Zufällige Hausdaten"
   ]
  },
  {
   "cell_type": "code",
   "execution_count": null,
   "id": "fa0e0de4bd8bdb61",
   "metadata": {
    "tags": [
     "keep"
    ]
   },
   "outputs": [],
   "source": [
    "large_houses_matrix = np.random.rand(n_houses, n_features) * 100"
   ]
  },
  {
   "cell_type": "code",
   "execution_count": null,
   "id": "78f5ca0ee9ecb805",
   "metadata": {},
   "outputs": [],
   "source": []
  },
  {
   "cell_type": "markdown",
   "id": "4bfdf20012bf113c",
   "metadata": {
    "lang": "de",
    "slideshow": {
     "slide_type": "subslide"
    },
    "tags": [
     "subslide"
    ]
   },
   "source": [
    "\n",
    "Zeitmessung für Schleifenversion"
   ]
  },
  {
   "cell_type": "code",
   "execution_count": null,
   "id": "ff452fd1982e2198",
   "metadata": {
    "tags": [
     "keep"
    ]
   },
   "outputs": [],
   "source": [
    "start = time.time()\n",
    "predictions_loop = []\n",
    "for i in range(n_houses):\n",
    "    pred = np.dot(large_houses_matrix[i], coefficients) + intercept\n",
    "    predictions_loop.append(pred)\n",
    "time_loop = time.time() - start"
   ]
  },
  {
   "cell_type": "markdown",
   "id": "1f24e3e3d3af93e4",
   "metadata": {
    "lang": "de",
    "slideshow": {
     "slide_type": "subslide"
    },
    "tags": [
     "subslide"
    ]
   },
   "source": [
    "\n",
    "Zeitmessung für Matrix-Version"
   ]
  },
  {
   "cell_type": "code",
   "execution_count": null,
   "id": "6b4b304eda35fe94",
   "metadata": {
    "tags": [
     "keep"
    ]
   },
   "outputs": [],
   "source": [
    "start = time.time()\n",
    "predictions_matrix = large_houses_matrix @ coefficients + intercept\n",
    "time_matrix = time.time() - start"
   ]
  },
  {
   "cell_type": "code",
   "execution_count": null,
   "id": "364cd9512a6f2320",
   "metadata": {
    "slideshow": {
     "slide_type": "subslide"
    },
    "tags": [
     "subslide"
    ]
   },
   "outputs": [],
   "source": []
  },
  {
   "cell_type": "markdown",
   "id": "4791c8e2367353db",
   "metadata": {
    "lang": "de",
    "slideshow": {
     "slide_type": "slide"
    },
    "tags": [
     "slide"
    ]
   },
   "source": [
    "\n",
    "## Weitere Matrix-Operationen"
   ]
  },
  {
   "cell_type": "markdown",
   "id": "28f869bf55aabcfb",
   "metadata": {
    "lang": "de",
    "slideshow": {
     "slide_type": "subslide"
    },
    "tags": [
     "subslide"
    ]
   },
   "source": [
    "\n",
    "## Transponieren\n",
    "\n",
    "Zeilen und Spalten vertauschen:"
   ]
  },
  {
   "cell_type": "code",
   "execution_count": null,
   "id": "9abfe517d32ba184",
   "metadata": {
    "tags": [
     "keep"
    ]
   },
   "outputs": [],
   "source": [
    "matrix = np.array([[1, 2, 3], [4, 5, 6]])"
   ]
  },
  {
   "cell_type": "code",
   "execution_count": null,
   "id": "6c73bab7c1501296",
   "metadata": {},
   "outputs": [],
   "source": []
  },
  {
   "cell_type": "code",
   "execution_count": null,
   "id": "0028fb6fc010111c",
   "metadata": {},
   "outputs": [],
   "source": []
  },
  {
   "cell_type": "code",
   "execution_count": null,
   "id": "c4109240dafcdeeb",
   "metadata": {},
   "outputs": [],
   "source": []
  },
  {
   "cell_type": "code",
   "execution_count": null,
   "id": "915f1771afa4c2e8",
   "metadata": {},
   "outputs": [],
   "source": []
  },
  {
   "cell_type": "code",
   "execution_count": null,
   "id": "3d696c1b91451978",
   "metadata": {},
   "outputs": [],
   "source": []
  },
  {
   "cell_type": "markdown",
   "id": "879f8876d301ab21",
   "metadata": {
    "lang": "de",
    "slideshow": {
     "slide_type": "slide"
    },
    "tags": [
     "slide"
    ]
   },
   "source": [
    "\n",
    "## Methoden auf Matrizen\n",
    "\n",
    "- Die uns bekannten NumPy-Methoden funktionieren auch auf Matrizen\n",
    "  - `.shape` für Dimensionen\n",
    "  - `.sum()` für Summen\n",
    "  - `.mean()` für Mittelwerte\n",
    "  - `.std()` für Standardabweichungen\n",
    "  - `.T` für Transponieren\n",
    "  - `.copy()` für Kopien"
   ]
  },
  {
   "cell_type": "code",
   "execution_count": null,
   "id": "fdf5ac2a384efc07",
   "metadata": {
    "slideshow": {
     "slide_type": "subslide"
    },
    "tags": [
     "keep",
     "subslide"
    ]
   },
   "outputs": [],
   "source": [
    "matrix = np.array([[1, 2, 3], [4, 5, 6]])"
   ]
  },
  {
   "cell_type": "markdown",
   "id": "f0e4ec0c08ca6685",
   "metadata": {
    "lang": "de"
   },
   "source": [
    "\n",
    "Summe aller Elemente"
   ]
  },
  {
   "cell_type": "code",
   "execution_count": null,
   "id": "74cd711a205ec767",
   "metadata": {},
   "outputs": [],
   "source": []
  },
  {
   "cell_type": "markdown",
   "id": "c2ec2647f2da5fed",
   "metadata": {
    "lang": "de",
    "slideshow": {
     "slide_type": "subslide"
    },
    "tags": [
     "subslide"
    ]
   },
   "source": [
    "\n",
    "Mittelwert aller Elemente"
   ]
  },
  {
   "cell_type": "code",
   "execution_count": null,
   "id": "e3f2064ac9ca3587",
   "metadata": {},
   "outputs": [],
   "source": []
  },
  {
   "cell_type": "markdown",
   "id": "05257de5a3ddbfa6",
   "metadata": {
    "lang": "de"
   },
   "source": [
    "\n",
    "Standardabweichung aller Elemente (Wie weit streuen die Werte?)"
   ]
  },
  {
   "cell_type": "code",
   "execution_count": null,
   "id": "6d2210ce2cc9ed95",
   "metadata": {},
   "outputs": [],
   "source": []
  },
  {
   "cell_type": "markdown",
   "id": "295c99404a19adce",
   "metadata": {
    "lang": "de",
    "slideshow": {
     "slide_type": "subslide"
    },
    "tags": [
     "subslide"
    ]
   },
   "source": [
    "\n",
    "Transponieren der Matrix"
   ]
  },
  {
   "cell_type": "code",
   "execution_count": null,
   "id": "06c6ca25683ded89",
   "metadata": {},
   "outputs": [],
   "source": []
  },
  {
   "cell_type": "code",
   "execution_count": null,
   "id": "04be21ea06818204",
   "metadata": {},
   "outputs": [],
   "source": []
  },
  {
   "cell_type": "markdown",
   "id": "1185f21f1afe9d4d",
   "metadata": {
    "lang": "de"
   },
   "source": [
    "\n",
    "Kopie der Matrix"
   ]
  },
  {
   "cell_type": "code",
   "execution_count": null,
   "id": "8cd27c50f5878bb3",
   "metadata": {},
   "outputs": [],
   "source": []
  },
  {
   "cell_type": "code",
   "execution_count": null,
   "id": "651e9f9100aedbb5",
   "metadata": {},
   "outputs": [],
   "source": []
  },
  {
   "cell_type": "code",
   "execution_count": null,
   "id": "0629588c01b11624",
   "metadata": {},
   "outputs": [],
   "source": []
  },
  {
   "cell_type": "code",
   "execution_count": null,
   "id": "4ca65c3e4fcff578",
   "metadata": {},
   "outputs": [],
   "source": []
  },
  {
   "cell_type": "code",
   "execution_count": null,
   "id": "574424f7b5fe153f",
   "metadata": {},
   "outputs": [],
   "source": []
  },
  {
   "cell_type": "markdown",
   "id": "0b74041aac91feaf",
   "metadata": {
    "lang": "de",
    "slideshow": {
     "slide_type": "subslide"
    },
    "tags": [
     "subslide"
    ]
   },
   "source": [
    "\n",
    "- Viele Operationen können entlang der Zeilen oder Spalten ausgeführt werden:\n",
    "  - .sum(axis=0) für Spaltensummen\n",
    "  - .sum(axis=1) für Zeilensummen"
   ]
  },
  {
   "cell_type": "code",
   "execution_count": null,
   "id": "d21f878b7eacf17d",
   "metadata": {
    "tags": [
     "keep"
    ]
   },
   "outputs": [],
   "source": [
    "matrix = np.array([[1, 2, 3], [4, 5, 6]])"
   ]
  },
  {
   "cell_type": "code",
   "execution_count": null,
   "id": "6bffc0c32c80771e",
   "metadata": {},
   "outputs": [],
   "source": []
  },
  {
   "cell_type": "markdown",
   "id": "ce9c64174cc95138",
   "metadata": {
    "lang": "de"
   },
   "source": [
    "\n",
    "Spaltensummen"
   ]
  },
  {
   "cell_type": "code",
   "execution_count": null,
   "id": "d98c0ee8c86afd95",
   "metadata": {},
   "outputs": [],
   "source": []
  },
  {
   "cell_type": "markdown",
   "id": "a6751fe2b8ed13c6",
   "metadata": {
    "lang": "de"
   },
   "source": [
    "\n",
    "Zeilensummen"
   ]
  },
  {
   "cell_type": "code",
   "execution_count": null,
   "id": "6f2af9246f6feffb",
   "metadata": {},
   "outputs": [],
   "source": []
  },
  {
   "cell_type": "markdown",
   "id": "1d233ffc9ab070dc",
   "metadata": {
    "lang": "de",
    "slideshow": {
     "slide_type": "subslide"
    },
    "tags": [
     "subslide"
    ]
   },
   "source": [
    "\n",
    "Spaltenmittelwert"
   ]
  },
  {
   "cell_type": "code",
   "execution_count": null,
   "id": "b5d435f4f00f3358",
   "metadata": {},
   "outputs": [],
   "source": []
  },
  {
   "cell_type": "markdown",
   "id": "dfe2c0bc669fbe2b",
   "metadata": {
    "lang": "de"
   },
   "source": [
    "\n",
    "Zeilenmittelwert"
   ]
  },
  {
   "cell_type": "code",
   "execution_count": null,
   "id": "99348dbf6881766e",
   "metadata": {
    "lines_to_next_cell": 2
   },
   "outputs": [],
   "source": []
  },
  {
   "cell_type": "markdown",
   "id": "1ae72b086838a8a1",
   "metadata": {
    "lang": "de",
    "slideshow": {
     "slide_type": "slide"
    },
    "tags": [
     "slide"
    ]
   },
   "source": [
    "\n",
    "## Zusammenfassung\n",
    "\n",
    "- Matrizen sind 2D-Arrays (Tabellen von Zahlen)\n",
    "- Jede Zeile = ein Datenpunkt\n",
    "- Jede Spalte = ein Feature\n",
    "- Matrix @ Vektor = Alle Vorhersagen auf einmal!\n",
    "- Viel schneller als Schleifen"
   ]
  },
  {
   "cell_type": "markdown",
   "id": "cde84be2871de5b7",
   "metadata": {
    "lang": "de",
    "slideshow": {
     "slide_type": "subslide"
    },
    "tags": [
     "subslide"
    ]
   },
   "source": [
    "\n",
    "## Nächste Schritte\n",
    "\n",
    "- Wir können jetzt effizient viele Vorhersagen machen\n",
    "- Zeit, unser eigenes Regressionsmodell zu bauen!\n",
    "- Nächstes Thema: Eine komplette LinearRegression-Klasse\n",
    "- Mit fit() und predict() wie Scikit-Learn!"
   ]
  },
  {
   "cell_type": "markdown",
   "id": "f1d6b759e9d509f0",
   "metadata": {
    "lang": "de",
    "slideshow": {
     "slide_type": "slide"
    },
    "tags": [
     "slide"
    ]
   },
   "source": [
    "\n",
    "## Workshop: Studentennoten-Vorhersage\n",
    "\n",
    "Wir werden folgendes Modell zur Vorhersage von Abschlussnoten verwenden:"
   ]
  },
  {
   "cell_type": "code",
   "execution_count": null,
   "id": "9641a82c32cd6ccd",
   "metadata": {
    "tags": [
     "keep"
    ]
   },
   "outputs": [],
   "source": [
    "feature_names = [\"Homework Average\", \"Midterm Score\", \"Attendance\", \"Study Hours\"]"
   ]
  },
  {
   "cell_type": "code",
   "execution_count": null,
   "id": "b042cc3efced454e",
   "metadata": {
    "tags": [
     "keep"
    ]
   },
   "outputs": [],
   "source": [
    "grade_coefficients = np.array([0.2, 0.4, 0.2, 0.05])\n",
    "grade_intercept = 10.0"
   ]
  },
  {
   "cell_type": "code",
   "execution_count": null,
   "id": "78bfd6b4cb4593e4",
   "metadata": {
    "tags": [
     "keep"
    ]
   },
   "outputs": [],
   "source": [
    "print(\"Grade Prediction Model:\")\n",
    "for name, coef in zip(feature_names, grade_coefficients):\n",
    "    print(f\"{name:17}: {coef}\")\n",
    "print(f\"{'Base':17}: {grade_intercept}\")"
   ]
  },
  {
   "cell_type": "markdown",
   "id": "29519ce0c311a434",
   "metadata": {
    "lang": "de",
    "slideshow": {
     "slide_type": "subslide"
    },
    "tags": [
     "subslide"
    ]
   },
   "source": [
    "\n",
    "### Aufgabe 1: Matrix erstellen\n",
    "\n",
    "Erstellen Sie eine Matrix für diese 5 Studenten:"
   ]
  },
  {
   "cell_type": "code",
   "execution_count": null,
   "id": "2af29786d9ca172a",
   "metadata": {
    "tags": [
     "keep"
    ]
   },
   "outputs": [],
   "source": [
    "student_data = [\n",
    "    [85, 78, 90, 20],  # Student A\n",
    "    [92, 88, 95, 30],  # Student B\n",
    "    [70, 65, 75, 10],  # Student C\n",
    "    [88, 82, 85, 25],  # Student D\n",
    "    [75, 70, 60, 15],  # Student E\n",
    "]"
   ]
  },
  {
   "cell_type": "code",
   "execution_count": null,
   "id": "9967ebd648466427",
   "metadata": {
    "tags": [
     "keep"
    ]
   },
   "outputs": [],
   "source": [
    "student_names = [\"Alice\", \"Bob\", \"Charlie\", \"Diana\", \"Eve\"]"
   ]
  },
  {
   "cell_type": "code",
   "execution_count": null,
   "id": "fe22348387d2301c",
   "metadata": {},
   "outputs": [],
   "source": []
  },
  {
   "cell_type": "markdown",
   "id": "eca231ada3ba608c",
   "metadata": {
    "lang": "de",
    "slideshow": {
     "slide_type": "subslide"
    },
    "tags": [
     "subslide"
    ]
   },
   "source": [
    "\n",
    "### Aufgabe 2: Batch-Vorhersagen\n",
    "\n",
    "Berechnen Sie alle Abschlussnoten auf einmal:"
   ]
  },
  {
   "cell_type": "code",
   "execution_count": null,
   "id": "919fe90ea1e8abaf",
   "metadata": {},
   "outputs": [],
   "source": []
  },
  {
   "cell_type": "code",
   "execution_count": null,
   "id": "e7464e55d58b34ac",
   "metadata": {},
   "outputs": [],
   "source": []
  },
  {
   "cell_type": "markdown",
   "id": "5e70f27a0c81c3a1",
   "metadata": {
    "lang": "de",
    "slideshow": {
     "slide_type": "subslide"
    },
    "tags": [
     "subslide"
    ]
   },
   "source": [
    "\n",
    "### Aufgabe 3: Feature-Statistiken\n",
    "\n",
    "Berechnen Sie Durchschnitt und Standardabweichung für jedes Feature:"
   ]
  },
  {
   "cell_type": "code",
   "execution_count": null,
   "id": "51aff43da88739ba",
   "metadata": {},
   "outputs": [],
   "source": []
  },
  {
   "cell_type": "markdown",
   "id": "7f0afdccf815b4e4",
   "metadata": {
    "lang": "de",
    "slideshow": {
     "slide_type": "subslide"
    },
    "tags": [
     "subslide"
    ]
   },
   "source": [
    "\n",
    "### Aufgabe 4: Was-wäre-wenn-Analyse\n",
    "\n",
    "Was passiert mit den Noten, wenn alle Studenten:\n",
    "1. 10 Punkte mehr bei der Zwischenprüfung hätten?\n",
    "2. Ihre Anwesenheit um 10% verbessern?"
   ]
  },
  {
   "cell_type": "code",
   "execution_count": null,
   "id": "3983d6fa54edd792",
   "metadata": {},
   "outputs": [],
   "source": []
  },
  {
   "cell_type": "markdown",
   "id": "4e8ef4900e1aa602",
   "metadata": {
    "lang": "de",
    "slideshow": {
     "slide_type": "subslide"
    },
    "tags": [
     "subslide"
    ]
   },
   "source": [
    "\n",
    "### Aufgabe 5: Batch-Vorhersagefunktion"
   ]
  },
  {
   "cell_type": "code",
   "execution_count": null,
   "id": "d5d3f926e1f18659",
   "metadata": {
    "tags": [
     "keep"
    ]
   },
   "outputs": [],
   "source": [
    "def predict_batch(features_matrix, coefficients, intercept):\n",
    "    \"\"\"\n",
    "    Make predictions for multiple samples.\n",
    "\n",
    "    Parameters:\n",
    "    - features_matrix: 2D array, each row is one sample\n",
    "    - coefficients: 1D array of model coefficients\n",
    "    - intercept: scalar intercept\n",
    "\n",
    "    Returns:\n",
    "    - predictions: 1D array of predictions\n",
    "    \"\"\"\n",
    "    # Your solution here\n",
    "    pass"
   ]
  },
  {
   "cell_type": "code",
   "execution_count": null,
   "id": "d1493b67d8b41696",
   "metadata": {},
   "outputs": [],
   "source": []
  },
  {
   "cell_type": "code",
   "execution_count": null,
   "id": "6b4e03423667dbb7",
   "metadata": {},
   "outputs": [],
   "source": []
  }
 ],
 "metadata": {
  "jupytext": {
   "cell_metadata_filter": "tags,lang,-all",
   "main_language": "python",
   "notebook_metadata_filter": "-all"
  },
  "kernelspec": {
   "display_name": "Python 3 (ipykernel)",
   "language": "python",
   "name": "python3"
  },
  "language_info": {
   "codemirror_mode": {
    "name": "ipython",
    "version": 3
   },
   "file_extension": ".py",
   "mimetype": "text/x-python",
   "name": "python",
   "nbconvert_exporter": "python",
   "pygments_lexer": "ipython3"
  }
 },
 "nbformat": 4,
 "nbformat_minor": 5
}
