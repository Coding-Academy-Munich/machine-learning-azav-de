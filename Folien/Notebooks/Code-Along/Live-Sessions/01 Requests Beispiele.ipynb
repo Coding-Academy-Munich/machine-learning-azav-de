{
 "cells": [
  {
   "cell_type": "markdown",
   "id": "728a1310b9d38c6c",
   "metadata": {
    "lang": "de",
    "slideshow": {
     "slide_type": "slide"
    },
    "tags": [
     "slide"
    ]
   },
   "source": [
    "\n",
    "<img src=\"data:image/svg+xml;base64,PHN2ZyB4bWxucz0iaHR0cDovL3d3dy53My5vcmcvMjAwMC9zdmciIHhtbG5zOnhsaW5rPSJodHRw\n",
    "Oi8vd3d3LnczLm9yZy8xOTk5L3hsaW5rIiB3aWR0aD0iMTExLjE2MSIgaGVpZ2h0PSIxMzQuNjY4\n",
    "IiB2ZXJzaW9uPSIxLjAiPjxkZWZzPjxsaW5lYXJHcmFkaWVudCBpZD0iYyI+PHN0b3Agb2Zmc2V0\n",
    "PSIwIiBzdHlsZT0ic3RvcC1jb2xvcjojYjhiOGI4O3N0b3Atb3BhY2l0eTouNDk4MDM5MjIiLz48\n",
    "c3RvcCBvZmZzZXQ9IjEiIHN0eWxlPSJzdG9wLWNvbG9yOiM3ZjdmN2Y7c3RvcC1vcGFjaXR5OjAi\n",
    "Lz48L2xpbmVhckdyYWRpZW50PjxsaW5lYXJHcmFkaWVudCBpZD0iYSI+PHN0b3Agb2Zmc2V0PSIw\n",
    "IiBzdHlsZT0ic3RvcC1jb2xvcjojZmZkNDNiO3N0b3Atb3BhY2l0eToxIi8+PHN0b3Agb2Zmc2V0\n",
    "PSIxIiBzdHlsZT0ic3RvcC1jb2xvcjojZmZlODczO3N0b3Atb3BhY2l0eToxIi8+PC9saW5lYXJH\n",
    "cmFkaWVudD48bGluZWFyR3JhZGllbnQgaWQ9ImIiPjxzdG9wIG9mZnNldD0iMCIgc3R5bGU9InN0\n",
    "b3AtY29sb3I6IzVhOWZkNDtzdG9wLW9wYWNpdHk6MSIvPjxzdG9wIG9mZnNldD0iMSIgc3R5bGU9\n",
    "InN0b3AtY29sb3I6IzMwNjk5ODtzdG9wLW9wYWNpdHk6MSIvPjwvbGluZWFyR3JhZGllbnQ+PGxp\n",
    "bmVhckdyYWRpZW50IHhsaW5rOmhyZWY9IiNhIiBpZD0iZSIgeDE9IjE1MC45NjEiIHgyPSIxMTIu\n",
    "MDMxIiB5MT0iMTkyLjM1MiIgeTI9IjEzNy4yNzMiIGdyYWRpZW50VHJhbnNmb3JtPSJtYXRyaXgo\n",
    "LjU2MjU0IDAgMCAuNTY3OTcgLTE0Ljk5MSAtMTEuNzAyKSIgZ3JhZGllbnRVbml0cz0idXNlclNw\n",
    "YWNlT25Vc2UiLz48bGluZWFyR3JhZGllbnQgeGxpbms6aHJlZj0iI2IiIGlkPSJkIiB4MT0iMjYu\n",
    "NjQ5IiB4Mj0iMTM1LjY2NSIgeTE9IjIwLjYwNCIgeTI9IjExNC4zOTgiIGdyYWRpZW50VHJhbnNm\n",
    "b3JtPSJtYXRyaXgoLjU2MjU0IDAgMCAuNTY3OTcgLTE0Ljk5MSAtMTEuNzAyKSIgZ3JhZGllbnRV\n",
    "bml0cz0idXNlclNwYWNlT25Vc2UiLz48cmFkaWFsR3JhZGllbnQgeGxpbms6aHJlZj0iI2MiIGlk\n",
    "PSJmIiBjeD0iNjEuNTE5IiBjeT0iMTMyLjI4NiIgcj0iMjkuMDM3IiBmeD0iNjEuNTE5IiBmeT0i\n",
    "MTMyLjI4NiIgZ3JhZGllbnRUcmFuc2Zvcm09Im1hdHJpeCgwIC0uMjM5OTUgMS4wNTQ2NyAwIC04\n",
    "My43IDE0Mi40NjIpIiBncmFkaWVudFVuaXRzPSJ1c2VyU3BhY2VPblVzZSIvPjwvZGVmcz48cGF0\n",
    "aCBkPSJNNTQuOTE5IDBjLTQuNTg0LjAyMi04Ljk2MS40MTMtMTIuODEzIDEuMDk1QzMwLjc2IDMu\n",
    "MDk5IDI4LjcgNy4yOTUgMjguNyAxNS4wMzJ2MTAuMjE5aDI2LjgxM3YzLjQwNkgxOC42MzhjLTcu\n",
    "NzkzIDAtMTQuNjE2IDQuNjg0LTE2Ljc1IDEzLjU5NC0yLjQ2MiAxMC4yMTMtMi41NzEgMTYuNTg2\n",
    "IDAgMjcuMjUgMS45MDUgNy45MzggNi40NTcgMTMuNTk0IDE0LjI1IDEzLjU5NGg5LjIxOHYtMTIu\n",
    "MjVjMC04Ljg1IDcuNjU3LTE2LjY1NyAxNi43NS0xNi42NTdoMjYuNzgyYzcuNDU0IDAgMTMuNDA2\n",
    "LTYuMTM4IDEzLjQwNi0xMy42MjV2LTI1LjUzYzAtNy4yNjctNi4xMy0xMi43MjYtMTMuNDA2LTEz\n",
    "LjkzOEM2NC4yODIuMzI4IDU5LjUwMi0uMDIgNTQuOTE4IDBtLTE0LjUgOC4yMmMyLjc3IDAgNS4w\n",
    "MzEgMi4yOTggNS4wMzEgNS4xMjUgMCAyLjgxNi0yLjI2MiA1LjA5My01LjAzMSA1LjA5My0yLjc4\n",
    "IDAtNS4wMzEtMi4yNzctNS4wMzEtNS4wOTMgMC0yLjgyNyAyLjI1MS01LjEyNSA1LjAzLTUuMTI1\n",
    "IiBzdHlsZT0iZmlsbDp1cmwoI2QpO2ZpbGwtb3BhY2l0eToxIi8+PHBhdGggZD0iTTg1LjYzOCAy\n",
    "OC42NTd2MTEuOTA2YzAgOS4yMzEtNy44MjYgMTctMTYuNzUgMTdINDIuMTA2Yy03LjMzNiAwLTEz\n",
    "LjQwNiA2LjI3OS0xMy40MDYgMTMuNjI1Vjk2LjcyYzAgNy4yNjYgNi4zMTkgMTEuNTQgMTMuNDA2\n",
    "IDEzLjYyNSA4LjQ4OCAyLjQ5NSAxNi42MjcgMi45NDYgMjYuNzgyIDAgNi43NS0xLjk1NSAxMy40\n",
    "MDYtNS44ODggMTMuNDA2LTEzLjYyNVY4Ni41SDU1LjUxM3YtMy40MDVIOTUuN2M3Ljc5MyAwIDEw\n",
    "LjY5Ni01LjQzNiAxMy40MDYtMTMuNTk0IDIuOC04LjM5OSAyLjY4LTE2LjQ3NiAwLTI3LjI1LTEu\n",
    "OTI1LTcuNzU4LTUuNjA0LTEzLjU5NC0xMy40MDYtMTMuNTk0ek03MC41NzUgOTMuMzEzYzIuNzgg\n",
    "MCA1LjAzMSAyLjI3OCA1LjAzMSA1LjA5NCAwIDIuODI3LTIuMjUxIDUuMTI1LTUuMDMxIDUuMTI1\n",
    "LTIuNzcgMC01LjAzMS0yLjI5OC01LjAzMS01LjEyNSAwLTIuODE2IDIuMjYxLTUuMDk0IDUuMDMx\n",
    "LTUuMDk0IiBzdHlsZT0iZmlsbDp1cmwoI2UpO2ZpbGwtb3BhY2l0eToxIi8+PGVsbGlwc2UgY3g9\n",
    "IjU1LjgxNyIgY3k9IjEyNy43MDEiIHJ4PSIzNS45MzEiIHJ5PSI2Ljk2NyIgc3R5bGU9Im9wYWNp\n",
    "dHk6LjQ0MzgyO2ZpbGw6dXJsKCNmKTtmaWxsLW9wYWNpdHk6MTtmaWxsLXJ1bGU6bm9uemVybztz\n",
    "dHJva2U6bm9uZTtzdHJva2Utd2lkdGg6MTUuNDE3NDtzdHJva2UtbWl0ZXJsaW1pdDo0O3N0cm9r\n",
    "ZS1kYXNoYXJyYXk6bm9uZTtzdHJva2Utb3BhY2l0eToxIi8+PC9zdmc+\n",
    "\"\n",
    "     style=\"display:block;margin:auto;width:10%\" alt=\"Python Logo\"/>\n",
    "<br>\n",
    "\n",
    "<div style=\"text-align:center; font-size:200%;\">\n",
    " <b>Requests Beispiele</b>\n",
    "</div>\n",
    "<br/>\n",
    "<div style=\"text-align:center;\">Dr. Matthias Hölzl</div>\n",
    "<br/>"
   ]
  },
  {
   "cell_type": "markdown",
   "id": "8f0e902e66c87ba3",
   "metadata": {
    "lang": "de",
    "slideshow": {
     "slide_type": "subslide"
    },
    "tags": [
     "subslide"
    ]
   },
   "source": [
    "\n",
    "- Dieses Notebook zeigt die Verwendung der Python-Bibliothek `requests`, um\n",
    "  mit verschiedenen freien und offenen Webdiensten zu interagieren.\n",
    "- Jeder Abschnitt stellt eine API vor, definiert ihre URL, führt eine Anfrage\n",
    "  durch und zeigt die JSON-Antwort."
   ]
  },
  {
   "cell_type": "code",
   "execution_count": null,
   "id": "aa49aa623ee737aa",
   "metadata": {
    "tags": [
     "keep"
    ]
   },
   "outputs": [],
   "source": [
    "!pip install requests --root-user-action ignore"
   ]
  },
  {
   "cell_type": "code",
   "execution_count": null,
   "id": "cd7033f913593e0c",
   "metadata": {
    "tags": [
     "keep"
    ]
   },
   "outputs": [],
   "source": [
    "import requests"
   ]
  },
  {
   "cell_type": "markdown",
   "id": "91450fd216a04feb",
   "metadata": {
    "lang": "de",
    "slideshow": {
     "slide_type": "subslide"
    },
    "tags": [
     "subslide"
    ]
   },
   "source": [
    "\n",
    "## 🌐 1. JSONPlaceholder\n",
    "\n",
    "- JSONPlaceholder ist eine Fake-Online-REST-API, die sich perfekt zum Testen\n",
    "  und Entwickeln von Prototypen eignet.\n",
    "- Sie bietet typische API-Endpunkte (wie `/users`, `/posts`, `/comments`) und\n",
    "  unterstützt alle gängigen HTTP-Methoden."
   ]
  },
  {
   "cell_type": "code",
   "execution_count": null,
   "id": "2e16995a8d57b790",
   "metadata": {
    "tags": [
     "keep"
    ]
   },
   "outputs": [],
   "source": [
    "# Define the base URL for the service\n",
    "jsonplaceholder_url = \"https://jsonplaceholder.typicode.com\""
   ]
  },
  {
   "cell_type": "markdown",
   "id": "f5a0662031922f20",
   "metadata": {
    "lang": "de"
   },
   "source": [
    "\n",
    "### Eine Liste von Ressourcen abrufen\n",
    "\n",
    "Hier rufen wir die ersten 5 Beiträge ab."
   ]
  },
  {
   "cell_type": "code",
   "execution_count": null,
   "id": "cf2f646a27f7eb86",
   "metadata": {},
   "outputs": [],
   "source": []
  },
  {
   "cell_type": "code",
   "execution_count": null,
   "id": "42d55d15f1ad928b",
   "metadata": {},
   "outputs": [],
   "source": []
  },
  {
   "cell_type": "markdown",
   "id": "bd21bbde060c0f81",
   "metadata": {
    "lang": "de"
   },
   "source": [
    "\n",
    "### Eine einzelne Ressource abrufen\n",
    "\n",
    "Nun rufen wir einen einzelnen Beitrag anhand seiner ID ab (in diesem Fall Beitrag #42)."
   ]
  },
  {
   "cell_type": "code",
   "execution_count": null,
   "id": "b8cbc7c5ea96db5f",
   "metadata": {
    "tags": [
     "keep"
    ]
   },
   "outputs": [],
   "source": [
    "post_id = 42"
   ]
  },
  {
   "cell_type": "code",
   "execution_count": null,
   "id": "8682398cfc58218e",
   "metadata": {},
   "outputs": [],
   "source": []
  },
  {
   "cell_type": "code",
   "execution_count": null,
   "id": "a5e07e2f70eb0025",
   "metadata": {},
   "outputs": [],
   "source": []
  },
  {
   "cell_type": "markdown",
   "id": "4491f8562f222963",
   "metadata": {
    "lang": "de",
    "slideshow": {
     "slide_type": "subslide"
    },
    "tags": [
     "subslide"
    ]
   },
   "source": [
    "\n",
    "### 📬 2. HTTPBin\n",
    "\n",
    "- HTTPBin ist ein Dienst für Anfragen und Antworten.\n",
    "- Es fungiert wie ein Spiegel und gibt Informationen über die gesendete\n",
    "  Anfrage zurück.\n",
    "- Es ist nützlich zum Debuggen und Verstehen, wie Ihre HTTP-Anfragen aussehen."
   ]
  },
  {
   "cell_type": "code",
   "execution_count": null,
   "id": "eff99fa11d63fc24",
   "metadata": {
    "tags": [
     "keep"
    ]
   },
   "outputs": [],
   "source": [
    "# Define the base URL for the service\n",
    "httpbin_url = \"https://httpbin.org\""
   ]
  },
  {
   "cell_type": "markdown",
   "id": "17b96566563462ac",
   "metadata": {
    "lang": "de"
   },
   "source": [
    "\n",
    "### Eine POST-Anfrage inspizieren\n",
    "\n",
    "- Wir senden eine JSON-Payload in einer POST-Anfrage.\n",
    "- HTTPBin gibt die gesendeten Daten in seiner Antwort zurück."
   ]
  },
  {
   "cell_type": "code",
   "execution_count": null,
   "id": "5204c28976e7b639",
   "metadata": {
    "tags": [
     "keep"
    ]
   },
   "outputs": [],
   "source": [
    "# The data we want to send\n",
    "payload = {\"student_name\": \"Alex\", \"grade\": \"A+\", \"course_id\": 101}"
   ]
  },
  {
   "cell_type": "code",
   "execution_count": null,
   "id": "5f57aa30ef716ba4",
   "metadata": {},
   "outputs": [],
   "source": []
  },
  {
   "cell_type": "code",
   "execution_count": null,
   "id": "cc067b19fb550d5d",
   "metadata": {},
   "outputs": [],
   "source": []
  },
  {
   "cell_type": "markdown",
   "id": "275e3ac16729b764",
   "metadata": {
    "lang": "de",
    "slideshow": {
     "slide_type": "subslide"
    },
    "tags": [
     "subslide"
    ]
   },
   "source": [
    "\n",
    "## 🛰️ 3. Open Notify (ISS-Standort)\n",
    "\n",
    "- Open Notify bietet eine einfache API für den Zugriff auf einige Daten von\n",
    "  NASA.\n",
    "- Der beliebteste Endpunkt gibt den Echtzeitstandort der Internationalen\n",
    "  Raumstation (ISS) zurück.\n",
    "- Das ist ein Beispiel für eine Live-Datenquelle."
   ]
  },
  {
   "cell_type": "code",
   "execution_count": null,
   "id": "7aa4fc28473533b1",
   "metadata": {
    "tags": [
     "keep"
    ]
   },
   "outputs": [],
   "source": [
    "# Define the full URL for the endpoint\n",
    "iss_now_url = \"http://api.open-notify.org/iss-now.json\""
   ]
  },
  {
   "cell_type": "code",
   "execution_count": null,
   "id": "cdbc2afd1d9b3260",
   "metadata": {},
   "outputs": [],
   "source": []
  },
  {
   "cell_type": "code",
   "execution_count": null,
   "id": "546f5b4aa03bc43a",
   "metadata": {},
   "outputs": [],
   "source": []
  },
  {
   "cell_type": "code",
   "execution_count": null,
   "id": "c3944ce674d5d4bc",
   "metadata": {},
   "outputs": [],
   "source": []
  },
  {
   "cell_type": "code",
   "execution_count": null,
   "id": "8d2ea5c393846455",
   "metadata": {
    "lines_to_next_cell": 2
   },
   "outputs": [],
   "source": []
  },
  {
   "cell_type": "markdown",
   "id": "dffe69256de80bb6",
   "metadata": {
    "lang": "de",
    "slideshow": {
     "slide_type": "subslide"
    },
    "tags": [
     "subslide"
    ]
   },
   "source": [
    "\n",
    "## 🎮 4. PokéAPI\n",
    "\n",
    "- Die PokéAPI ist eine unterhaltsame, kostenlose und umfassende RESTful-API\n",
    "  für alles rund um Pokémon.\n",
    "- Sie ist ein großartiges Beispiel für eine gut strukturierte API, die\n",
    "  Pfadparameter verwendet, um spezifische Ressourcen zu identifizieren."
   ]
  },
  {
   "cell_type": "code",
   "execution_count": null,
   "id": "dacf4a8332486034",
   "metadata": {
    "tags": [
     "keep"
    ]
   },
   "outputs": [],
   "source": [
    "# Define the base URL for the service\n",
    "pokeapi_url = \"https://pokeapi.co/api/v2\""
   ]
  },
  {
   "cell_type": "markdown",
   "id": "d1686dbf48aa4234",
   "metadata": {
    "lang": "de"
   },
   "source": [
    "\n",
    "### Daten für ein spezifisches Pokémon abrufen\n",
    "\n",
    "Wir können detaillierte Informationen über ein Pokémon abrufen, indem wir\n",
    "seinen Namen zum URL-Pfad hinzufügen."
   ]
  },
  {
   "cell_type": "code",
   "execution_count": null,
   "id": "0abb53f23aad1227",
   "metadata": {
    "tags": [
     "keep"
    ]
   },
   "outputs": [],
   "source": [
    "pokemon_name = \"ditto\""
   ]
  },
  {
   "cell_type": "code",
   "execution_count": null,
   "id": "d226b909f739846a",
   "metadata": {},
   "outputs": [],
   "source": []
  },
  {
   "cell_type": "code",
   "execution_count": null,
   "id": "ec4897df759bfaa9",
   "metadata": {},
   "outputs": [],
   "source": []
  },
  {
   "cell_type": "markdown",
   "id": "06972a84b34c9eeb",
   "metadata": {
    "lang": "de",
    "slideshow": {
     "slide_type": "subslide"
    },
    "tags": [
     "subslide"
    ]
   },
   "source": [
    "\n",
    "### Eine Liste von Pokémon abrufen (mit Paginierung)\n",
    "\n",
    "- Die API ermöglicht es auch, eine Liste aller Pokémon abzurufen.\n",
    "- Die Ergebnisse sind **paginierbar**, das heißt, sie werden in Seiten\n",
    "  geliefert.\n",
    "- Sie können die Parameter `limit` und `offset` verwenden, um zu steuern,\n",
    "  wie viele Sie erhalten und auf welcher Seite Sie beginnen möchten."
   ]
  },
  {
   "cell_type": "code",
   "execution_count": null,
   "id": "11550130959d15ab",
   "metadata": {
    "tags": [
     "keep"
    ]
   },
   "outputs": [],
   "source": [
    "# Let's get the first 10 Pokémon from the list.\n",
    "list_params = {'limit': 10}"
   ]
  },
  {
   "cell_type": "code",
   "execution_count": null,
   "id": "646222ed214ed6ad",
   "metadata": {},
   "outputs": [],
   "source": []
  },
  {
   "cell_type": "markdown",
   "id": "302be7b013438c31",
   "metadata": {
    "lang": "de",
    "slideshow": {
     "slide_type": "subslide"
    },
    "tags": [
     "subslide"
    ]
   },
   "source": [
    "\n",
    "- Achten Sie auf die Struktur der Antwort.\n",
    "- Die tatsächliche Liste der Pokémon befindet sich im Schlüssel\n",
    "  **`\"results\"`**.\n",
    "- Die API stellt auch\n",
    "  - die Gesamtanzahl **`\"count\"`** aller Pokémon und\n",
    "  - eine URL im Schlüssel **`\"next\"`** zur Verfügung, um die nächste Seite der\n",
    "    Ergebnisse abzurufen."
   ]
  },
  {
   "cell_type": "code",
   "execution_count": null,
   "id": "dbc4d2bf93d43cc5",
   "metadata": {
    "slideshow": {
     "slide_type": "subslide"
    },
    "tags": [
     "subslide"
    ]
   },
   "outputs": [],
   "source": []
  },
  {
   "cell_type": "markdown",
   "id": "bbff6ccfb2a325ef",
   "metadata": {
    "lang": "de",
    "slideshow": {
     "slide_type": "subslide"
    },
    "tags": [
     "subslide"
    ]
   },
   "source": [
    "\n",
    "Anfordern der nächsten Seite der Ergebnisse"
   ]
  },
  {
   "cell_type": "code",
   "execution_count": null,
   "id": "04cae4f30bd47438",
   "metadata": {},
   "outputs": [],
   "source": []
  },
  {
   "cell_type": "code",
   "execution_count": null,
   "id": "da05feaff1d85dbf",
   "metadata": {},
   "outputs": [],
   "source": []
  },
  {
   "cell_type": "code",
   "execution_count": null,
   "id": "70992d7a3172acae",
   "metadata": {},
   "outputs": [],
   "source": []
  },
  {
   "cell_type": "code",
   "execution_count": null,
   "id": "6b4e03423667dbb7",
   "metadata": {},
   "outputs": [],
   "source": []
  }
 ],
 "metadata": {
  "jupytext": {
   "cell_metadata_filter": "lang,tags,-all",
   "main_language": "python",
   "notebook_metadata_filter": "-all"
  },
  "kernelspec": {
   "display_name": "Python 3 (ipykernel)",
   "language": "python",
   "name": "python3"
  },
  "language_info": {
   "codemirror_mode": {
    "name": "ipython",
    "version": 3
   },
   "file_extension": ".py",
   "mimetype": "text/x-python",
   "name": "python",
   "nbconvert_exporter": "python",
   "pygments_lexer": "ipython3"
  }
 },
 "nbformat": 4,
 "nbformat_minor": 5
}
